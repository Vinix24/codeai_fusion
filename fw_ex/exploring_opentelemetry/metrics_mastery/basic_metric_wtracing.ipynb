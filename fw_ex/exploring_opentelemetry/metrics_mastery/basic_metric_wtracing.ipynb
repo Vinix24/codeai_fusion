{
 "cells": [
  {
   "cell_type": "code",
   "execution_count": 1,
   "id": "66653065-151e-46f5-8f15-fd07b545a1b0",
   "metadata": {},
   "outputs": [
    {
     "name": "stderr",
     "output_type": "stream",
     "text": [
      "/home/uberdev/.local/lib/python3.10/site-packages/tqdm/auto.py:21: TqdmWarning: IProgress not found. Please update jupyter and ipywidgets. See https://ipywidgets.readthedocs.io/en/stable/user_install.html\n",
      "  from .autonotebook import tqdm as notebook_tqdm\n"
     ]
    }
   ],
   "source": [
    "from dotenv import load_dotenv\n",
    "import os\n",
    "load_dotenv(\"/media/uberdev/ddrv/gitFolders/codeai_fusion/.env\")\n",
    "from dspy import OpenAI"
   ]
  },
  {
   "cell_type": "code",
   "execution_count": 2,
   "id": "41c7418f-aac7-4f92-81a2-37a22b464b39",
   "metadata": {},
   "outputs": [
    {
     "name": "stderr",
     "output_type": "stream",
     "text": [
      "INFO:phoenix.config:📋 Ensuring phoenix working directory: /home/uberdev/.phoenix\n",
      "INFO:phoenix.inferences.inferences:Dataset: phoenix_inferences_f772533b-cfd7-474a-aebb-3a9eb89c3a45 initialized\n"
     ]
    }
   ],
   "source": [
    "from openinference.instrumentation.dspy import DSPyInstrumentor\n",
    "# instruments the internal calls in DSPy library\n",
    "from opentelemetry import trace as trace_api\n",
    "from opentelemetry.exporter.otlp.proto.http.trace_exporter import OTLPSpanExporter\n",
    "# help to get the span of http requests to the APIs\n",
    "from opentelemetry.sdk import trace as trace_sdk\n",
    "#processes the data collected from the spans\n",
    "from opentelemetry.sdk.resources import Resource\n",
    "from opentelemetry.sdk.trace.export import SimpleSpanProcessor\n",
    "from openinference.semconv.resource import ResourceAttributes\n",
    "import phoenix as px"
   ]
  },
  {
   "cell_type": "code",
   "execution_count": 3,
   "id": "40c21191-5115-4c5c-8d84-6802f055d4a6",
   "metadata": {},
   "outputs": [
    {
     "name": "stderr",
     "output_type": "stream",
     "text": [
      "INFO:phoenix.config:📋 Ensuring phoenix working directory: /home/uberdev/.phoenix\n"
     ]
    },
    {
     "name": "stdout",
     "output_type": "stream",
     "text": [
      "🌍 To view the Phoenix app in your browser, visit http://localhost:6006/\n",
      "📖 For more information on how to use Phoenix, check out https://docs.arize.com/phoenix\n",
      "Average Metric: 0.0 / 4  (0.0):  80%|████████  | 4/5 [34:29<08:37, 517.39s/it]\n"
     ]
    }
   ],
   "source": [
    "session = px.launch_app()"
   ]
  },
  {
   "cell_type": "code",
   "execution_count": 4,
   "id": "0fdd55ce-0c06-4638-95a3-94f78384a235",
   "metadata": {},
   "outputs": [],
   "source": [
    "endpoint = \"http://127.0.0.1:6006/v1/traces\"\n",
    "client = px.Client(endpoint=endpoint)\n",
    "# https://docs.arize.com/phoenix/tracing/how-to-tracing/trace-a-deployed-app\n",
    "resource = Resource(attributes={\n",
    "    ResourceAttributes.PROJECT_NAME: 'instrumenting-dspy'\n",
    "})"
   ]
  },
  {
   "cell_type": "code",
   "execution_count": 6,
   "id": "4e2cfbfc-f7a9-428c-9202-b7819bd0fe4b",
   "metadata": {},
   "outputs": [],
   "source": [
    "tracer_provider = trace_sdk.TracerProvider(resource=resource)\n",
    "span_otlp_exporter = OTLPSpanExporter(endpoint=endpoint)\n",
    "tracer_provider.add_span_processor(SimpleSpanProcessor(span_exporter=span_otlp_exporter))\n",
    "\n",
    "trace_api.set_tracer_provider(tracer_provider=tracer_provider)\n",
    "\n",
    "DSPyInstrumentor().instrument(skip_dep_check=True) # here where DSPy is instrumented"
   ]
  },
  {
   "cell_type": "code",
   "execution_count": 7,
   "id": "4e1e8cc7-f67f-44bc-860b-169d55f8b8ba",
   "metadata": {
    "collapsed": true,
    "jupyter": {
     "outputs_hidden": true
    },
    "scrolled": true
   },
   "outputs": [
    {
     "data": {
      "text/plain": [
       "[\"It seems like you're looking to test traces in a server environment. Here are some general steps you can follow to test traces effectively:\\n\\n1. **Identify the Tracing Tool**: Determine which tracing tool or framework you are using (e.g., OpenTelemetry, Jaeger, Zipkin, etc.).\\n\\n2. **Set Up the Environment**: Ensure that your server environment is properly set up to collect traces. This may involve configuring your application to send trace data to the tracing backend.\\n\\n3. **Instrument Your Code**: Add tracing instrumentation to your application code. This typically involves adding specific libraries or SDKs and using them to create spans around key operations.\\n\\n4. **Generate Traffic**: Simulate user activity or generate load on your application to create traces. This can be done through automated testing tools or by manually interacting with the application.\\n\\n5. **Check Trace Collection**: Verify that traces are being collected by your tracing backend. You can do this by checking the dashboard or querying the tracing service.\\n\\n6. **Analyze Traces**: Look at the traces collected to ensure they are complete and provide the necessary information. Check for any errors or missing spans.\\n\\n7. **Performance Monitoring**: Use the traces to monitor performance and identify bottlenecks or issues in your application.\\n\\n8. **Debugging**: If you encounter issues, use the trace data to debug and pinpoint where problems may be occurring in your application.\\n\\n9. **Documentation**: Ensure that you document your tracing setup and any findings from your tests for future reference.\\n\\n10. **Iterate**: Based on your findings, you may need to adjust your instrumentation or configuration and repeat the testing process.\\n\\nIf you have a specific tool or framework in mind, or if you need help with a particular aspect of tracing, feel free to provide more details!\"]"
      ]
     },
     "execution_count": 7,
     "metadata": {},
     "output_type": "execute_result"
    }
   ],
   "source": [
    "# Need to check if the dspy is writing logs\n",
    "import os\n",
    "llm = OpenAI(model='gpt-4o-mini',\n",
    "             api_key=os.environ['OPENAI_API_KEY'],\n",
    "             max_tokens=2000)\n",
    "llm(\"testing the traces in the server\")"
   ]
  },
  {
   "cell_type": "code",
   "execution_count": 17,
   "id": "a7121808-b88b-4f4d-95b2-f676b49d74e1",
   "metadata": {},
   "outputs": [],
   "source": [
    "dspy.settings.configure(lm=llm)"
   ]
  },
  {
   "cell_type": "code",
   "execution_count": 62,
   "id": "139b484b-fc55-4750-b779-0814d26e2fa3",
   "metadata": {},
   "outputs": [
    {
     "data": {
      "text/plain": [
       "'Turkish hunger striker released for remainder of trial'"
      ]
     },
     "execution_count": 62,
     "metadata": {},
     "output_type": "execute_result"
    }
   ],
   "source": [
    "news"
   ]
  },
  {
   "cell_type": "code",
   "execution_count": 63,
   "id": "0107931e-0a19-4a2f-b5fc-51905b4c2495",
   "metadata": {},
   "outputs": [],
   "source": [
    "import dspy\n",
    "class NewsCategorization(dspy.Signature):\n",
    "    news_body = dspy.InputField(desc=\"The body of the news to be categorized\")\n",
    "    answer = dspy.OutputField(desc=\"Should be 'fake' or 'real'\")\n",
    "\n",
    "class CoTCombined(dspy.Module):\n",
    "    def __init__(self):\n",
    "        super().__init__()\n",
    "        self.prog = dspy.ChainOfThought(NewsCategorization)\n",
    "        self.history = []  # This will store the history of operations\n",
    "\n",
    "    def forward(self, news_body):\n",
    "        # planning to making multiple predictions later\n",
    "        # pred_one = self.prog(news_body=news) # << The variable news was wrongly assigned\n",
    "        pred_one = self.prog(news_body=news_body)\n",
    "        return dspy.Prediction(answer=pred_one)"
   ]
  },
  {
   "cell_type": "code",
   "execution_count": 64,
   "id": "b5367b65-9f34-46f7-b6b4-2b6d9787491f",
   "metadata": {},
   "outputs": [],
   "source": [
    "base_cot = CoTCombined()"
   ]
  },
  {
   "cell_type": "code",
   "execution_count": 14,
   "id": "3cb7540c-ce78-4b05-8274-1722b08a6b61",
   "metadata": {},
   "outputs": [],
   "source": [
    "import pandas as pd\n",
    "custom_trainset = []\n",
    "custom_devset = []\n",
    "\n",
    "with open('train_fake_real_news.tsv', 'r') as tsv:\n",
    "    lines = tsv.readlines()\n",
    "    for line in lines[1:21]:\n",
    "        news, truth = line.split(\"\\t\")\n",
    "        if truth.strip() == '0':\n",
    "            custom_trainset.append(dspy.Example(news_body=news, answer='fake').with_inputs(\"news_body\"))\n",
    "        else:\n",
    "            custom_trainset.append(dspy.Example(news_body=news, answer='real').with_inputs(\"news_body\"))\n",
    "    for line in lines[22:43]:\n",
    "        news, truth = line.split(\"\\t\")\n",
    "        if truth.strip() == '0':\n",
    "            custom_devset.append(dspy.Example(news_body=news, answer='fake').with_inputs(\"news_body\"))\n",
    "        else:\n",
    "            custom_devset.append(dspy.Example(news_body=news, answer='real').with_inputs(\"news_body\"))"
   ]
  },
  {
   "cell_type": "code",
   "execution_count": 15,
   "id": "e545c1ba-d233-4be0-9202-7443e59820ca",
   "metadata": {},
   "outputs": [
    {
     "data": {
      "text/plain": [
       "Example({'news_body': 'TRUMP HITS BACK After Cowgirl Congresswoman Trashes Him Over Words Said to Grieving Widow', 'answer': 'fake'}) (input_keys={'news_body'})"
      ]
     },
     "execution_count": 15,
     "metadata": {},
     "output_type": "execute_result"
    }
   ],
   "source": [
    "custom_devset[0]"
   ]
  },
  {
   "cell_type": "code",
   "execution_count": 31,
   "id": "94035ce9-ceb5-4dc7-8377-4ff35be8533e",
   "metadata": {},
   "outputs": [
    {
     "data": {
      "text/plain": [
       "'real'"
      ]
     },
     "execution_count": 31,
     "metadata": {},
     "output_type": "execute_result"
    }
   ],
   "source": [
    "base_cot(custom_devset[0]).answer.answer"
   ]
  },
  {
   "cell_type": "code",
   "execution_count": 21,
   "id": "49589d41-d8f4-421c-b41c-6bd26580023a",
   "metadata": {},
   "outputs": [],
   "source": [
    "def validate_answer(example, pred, trace=None):\n",
    "    return example.answer.lower() == pred.answer.lower()"
   ]
  },
  {
   "cell_type": "code",
   "execution_count": 23,
   "id": "cd142412-7383-4471-b4c2-1497be156e79",
   "metadata": {},
   "outputs": [],
   "source": [
    "# The metric below will return a float if trace is None (i.e., \n",
    "# if it's used for evaluation or optimization), \n",
    "# means there will no trace during evaluation or optimization\n",
    " \n",
    "# Trace is generated if metric is used to bootstrap demonstrations."
   ]
  },
  {
   "cell_type": "code",
   "execution_count": null,
   "id": "3bb85809-7b46-403f-9a27-5e9a2f9d19b8",
   "metadata": {},
   "outputs": [],
   "source": [
    "# bootstrapping, i.e. self-generating good demonstrations of each step"
   ]
  },
  {
   "cell_type": "code",
   "execution_count": 59,
   "id": "67283305-5c62-4ba3-87fa-bd1004963c1e",
   "metadata": {},
   "outputs": [],
   "source": [
    "def validate_trace_n_answer(example, pred, trace=[]):\n",
    "    # check the gold label and the predicted answer are the same\n",
    "    answer_match = example.answer.lower() == pred.answer.answer.lower()\n",
    "    # print(f\"Trace is {trace}\")\n",
    "    if len(trace) > 0:\n",
    "        print(f\"Trace is {trace}\")\n",
    "    else:\n",
    "        print(\"There is no Trace\")\n",
    "    return answer_match"
   ]
  },
  {
   "cell_type": "code",
   "execution_count": 40,
   "id": "192b7dfe-7515-489d-ab56-228b40c0ce49",
   "metadata": {},
   "outputs": [],
   "source": [
    "# lets evaluate couple of datapoints\n",
    "from dspy.evaluate import Evaluate"
   ]
  },
  {
   "cell_type": "code",
   "execution_count": 65,
   "id": "61330db3-39a8-4e0f-b14e-89ec98f44cec",
   "metadata": {},
   "outputs": [],
   "source": [
    "evaluate = Evaluate(devset=custom_devset[:5], display_progress=True, display_table=True)"
   ]
  },
  {
   "cell_type": "code",
   "execution_count": 66,
   "id": "3ff018ba-652c-4c33-bc5a-c7686bf6fda6",
   "metadata": {},
   "outputs": [
    {
     "name": "stdout",
     "output_type": "stream",
     "text": [
      "  0%|          | 0/5 [00:00<?, ?it/s]There is no Trace\n",
      "Average Metric: 1 / 1  (100.0):  20%|██        | 1/5 [00:00<00:00,  9.55it/s]There is no Trace\n",
      "Average Metric: 2 / 2  (100.0):  20%|██        | 1/5 [00:00<00:00,  9.55it/s]There is no Trace\n",
      "Average Metric: 3 / 3  (100.0):  60%|██████    | 3/5 [00:00<00:00, 12.47it/s]There is no Trace\n",
      "Average Metric: 4 / 4  (100.0):  60%|██████    | 3/5 [00:00<00:00, 12.47it/s]There is no Trace\n",
      "Average Metric: 5 / 5  (100.0): 100%|██████████| 5/5 [00:00<00:00, 13.66it/s]\n"
     ]
    },
    {
     "data": {
      "text/html": [
       "<style type=\"text/css\">\n",
       "#T_be35f th {\n",
       "  text-align: left;\n",
       "}\n",
       "#T_be35f td {\n",
       "  text-align: left;\n",
       "}\n",
       "#T_be35f_row0_col0, #T_be35f_row0_col1, #T_be35f_row0_col2, #T_be35f_row0_col3, #T_be35f_row1_col0, #T_be35f_row1_col1, #T_be35f_row1_col2, #T_be35f_row1_col3, #T_be35f_row2_col0, #T_be35f_row2_col1, #T_be35f_row2_col2, #T_be35f_row2_col3, #T_be35f_row3_col0, #T_be35f_row3_col1, #T_be35f_row3_col2, #T_be35f_row3_col3, #T_be35f_row4_col0, #T_be35f_row4_col1, #T_be35f_row4_col2, #T_be35f_row4_col3 {\n",
       "  text-align: left;\n",
       "  white-space: pre-wrap;\n",
       "  word-wrap: break-word;\n",
       "  max-width: 400px;\n",
       "}\n",
       "</style>\n",
       "<table id=\"T_be35f\">\n",
       "  <thead>\n",
       "    <tr>\n",
       "      <th class=\"blank level0\" >&nbsp;</th>\n",
       "      <th id=\"T_be35f_level0_col0\" class=\"col_heading level0 col0\" >news_body</th>\n",
       "      <th id=\"T_be35f_level0_col1\" class=\"col_heading level0 col1\" >example_answer</th>\n",
       "      <th id=\"T_be35f_level0_col2\" class=\"col_heading level0 col2\" >pred_answer</th>\n",
       "      <th id=\"T_be35f_level0_col3\" class=\"col_heading level0 col3\" >validate_trace_n_answer</th>\n",
       "    </tr>\n",
       "  </thead>\n",
       "  <tbody>\n",
       "    <tr>\n",
       "      <th id=\"T_be35f_level0_row0\" class=\"row_heading level0 row0\" >0</th>\n",
       "      <td id=\"T_be35f_row0_col0\" class=\"data row0 col0\" >TRUMP HITS BACK After Cowgirl Congresswoman Trashes Him Over Words Said to Grieving Widow</td>\n",
       "      <td id=\"T_be35f_row0_col1\" class=\"data row0 col1\" >fake</td>\n",
       "      <td id=\"T_be35f_row0_col2\" class=\"data row0 col2\" >Prediction( rationale='determine the authenticity of this news. The headline mentions a well-known political figure, Donald Trump, and a specific incident involving a congresswoman. The phrasing...</td>\n",
       "      <td id=\"T_be35f_row0_col3\" class=\"data row0 col3\" >✔️ [True]</td>\n",
       "    </tr>\n",
       "    <tr>\n",
       "      <th id=\"T_be35f_level0_row1\" class=\"row_heading level0 row1\" >1</th>\n",
       "      <td id=\"T_be35f_row1_col0\" class=\"data row1 col0\" > Heroin Addict Trump Voter Sad Now That Donald Is Taking Away His Treatments (VIDEO)</td>\n",
       "      <td id=\"T_be35f_row1_col1\" class=\"data row1 col1\" >fake</td>\n",
       "      <td id=\"T_be35f_row1_col2\" class=\"data row1 col2\" >Prediction( rationale='determine the credibility of this news. The title suggests a sensational story that combines political commentary with a personal narrative about addiction. The use...</td>\n",
       "      <td id=\"T_be35f_row1_col3\" class=\"data row1 col3\" >✔️ [True]</td>\n",
       "    </tr>\n",
       "    <tr>\n",
       "      <th id=\"T_be35f_level0_row2\" class=\"row_heading level0 row2\" >2</th>\n",
       "      <td id=\"T_be35f_row2_col0\" class=\"data row2 col0\" > Republican Compares Lincoln To Hitler; This Time It Wasn’t Sean Spicer</td>\n",
       "      <td id=\"T_be35f_row2_col1\" class=\"data row2 col1\" >fake</td>\n",
       "      <td id=\"T_be35f_row2_col2\" class=\"data row2 col2\" >Prediction( rationale='determine the credibility of this news. The headline suggests a controversial comparison made by a Republican figure, which could be sensationalized or taken out...</td>\n",
       "      <td id=\"T_be35f_row2_col3\" class=\"data row2 col3\" >✔️ [True]</td>\n",
       "    </tr>\n",
       "    <tr>\n",
       "      <th id=\"T_be35f_level0_row3\" class=\"row_heading level0 row3\" >3</th>\n",
       "      <td id=\"T_be35f_row3_col0\" class=\"data row3 col0\" > NBC Gets Brutal With Donald Trump, Releasing The Video He Never Wanted Us To See (VIDEO)</td>\n",
       "      <td id=\"T_be35f_row3_col1\" class=\"data row3 col1\" >fake</td>\n",
       "      <td id=\"T_be35f_row3_col2\" class=\"data row3 col2\" >Prediction( rationale='determine the authenticity of this news. The title suggests that NBC has released a video that Donald Trump did not want to be made...</td>\n",
       "      <td id=\"T_be35f_row3_col3\" class=\"data row3 col3\" >✔️ [True]</td>\n",
       "    </tr>\n",
       "    <tr>\n",
       "      <th id=\"T_be35f_level0_row4\" class=\"row_heading level0 row4\" >4</th>\n",
       "      <td id=\"T_be35f_row4_col0\" class=\"data row4 col0\" >THIS BIG ANNOUNCEMENT IS YET ANOTHER REASON NOT TO VOTE FOR HILLARY CLINTON</td>\n",
       "      <td id=\"T_be35f_row4_col1\" class=\"data row4 col1\" >fake</td>\n",
       "      <td id=\"T_be35f_row4_col2\" class=\"data row4 col2\" >Prediction( rationale='determine the credibility of this news. The statement appears to be politically charged and lacks specific evidence or sources to support its claims. It...</td>\n",
       "      <td id=\"T_be35f_row4_col3\" class=\"data row4 col3\" >✔️ [True]</td>\n",
       "    </tr>\n",
       "  </tbody>\n",
       "</table>\n"
      ],
      "text/plain": [
       "<pandas.io.formats.style.Styler at 0x71689854ce50>"
      ]
     },
     "metadata": {},
     "output_type": "display_data"
    }
   ],
   "source": [
    "# send the CoT program into the evaluate\n",
    "evaluation_var = evaluate(program=base_cot, metric=validate_trace_n_answer)"
   ]
  },
  {
   "cell_type": "code",
   "execution_count": 43,
   "id": "0b39b8bc-da57-400c-a62d-bf324f066cfc",
   "metadata": {},
   "outputs": [],
   "source": [
    "# what does dspy.optimizers tune?\n",
    "# DSPy programs consist of multiple calls to LMs, stacked together as [DSPy modules]. Each DSPy module has internal \n",
    "# parameters of three kinds: \n",
    "# (1) the LM weights,\n",
    "# (2) the instructions, \n",
    "# and (3) demonstrations of the input/output behavior."
   ]
  },
  {
   "cell_type": "code",
   "execution_count": 44,
   "id": "567fb280-bce5-4f28-8cce-b29c18d2ddd3",
   "metadata": {},
   "outputs": [],
   "source": [
    "# Given a metric, DSPy can optimize all of these three with multi-stage optimization algorithms. \n",
    "# These can combine gradient descent (for LM weights) and discrete LM-driven optimization, \n",
    "# i.e. for crafting/updating instructions and for creating/validating demonstrations. \n",
    "# DSPy Demonstrations are like few-shot examples, but they're far more powerful.\n",
    "# They can be created from scratch, given your program, and their creation and \n",
    "# selection can be optimized in many effective ways"
   ]
  },
  {
   "cell_type": "code",
   "execution_count": 46,
   "id": "a04d7dde-e361-4f53-bd25-aa9ed904065a",
   "metadata": {},
   "outputs": [],
   "source": [
    "#let call a basic bootstrap optimizer\n",
    "from dspy.teleprompt import BootstrapFewShot"
   ]
  },
  {
   "cell_type": "markdown",
   "id": "c022c4c3-9831-40da-a5e5-18dd831b1ca6",
   "metadata": {},
   "source": [
    "**BootstrapFewShot:** \n",
    "\n",
    "Uses a teacher module (which defaults to your program) to generate complete demonstrations for every stage of your program, along with labeled examples in trainset. \n",
    "\n",
    "Parameters include max_labeled_demos (the number of demonstrations randomly selected from the trainset) and max_bootstrapped_demos (the number of additional examples generated by the teacher).\n",
    "\n",
    "The bootstrapping process employs the metric to validate demonstrations, including only those that pass the metric in the \"compiled\" prompt. \n",
    "\n",
    "Advanced: Supports using a teacher program that is a different DSPy program that has compatible structure, for harder tasks."
   ]
  },
  {
   "cell_type": "code",
   "execution_count": 67,
   "id": "113915af-72f6-4d90-8279-616cb402e4c0",
   "metadata": {},
   "outputs": [],
   "source": [
    "config = dict(max_bootstrapped_demos=4,\n",
    "              max_labeled_demos=4,\n",
    "             max_rounds=3)\n",
    "\n",
    "teleprompter = BootstrapFewShot(metric=validate_trace_n_answer, **config)"
   ]
  },
  {
   "cell_type": "code",
   "execution_count": 49,
   "id": "056763f4-3b72-4634-ae81-11119e5a7103",
   "metadata": {},
   "outputs": [
    {
     "data": {
      "text/plain": [
       "20"
      ]
     },
     "execution_count": 49,
     "metadata": {},
     "output_type": "execute_result"
    }
   ],
   "source": [
    "len(custom_trainset)"
   ]
  },
  {
   "cell_type": "code",
   "execution_count": 55,
   "id": "030a90b1-0713-45ff-aced-ed8b6a9ee879",
   "metadata": {
    "collapsed": true,
    "jupyter": {
     "outputs_hidden": true
    },
    "scrolled": true
   },
   "outputs": [
    {
     "data": {
      "text/plain": [
       "[Example({'news_body': ' Courts Decide Conspiracy Nut Alex Jones Is Too Crazy To Raise His Own Kids (DETAILS)', 'answer': 'fake'}) (input_keys={'news_body'}),\n",
       " Example({'news_body': \"U.S. Senator Menendez's corruption trial to proceed: judge\", 'answer': 'real'}) (input_keys={'news_body'}),\n",
       " Example({'news_body': 'Search ends for bodies in Mexico City after earthquake', 'answer': 'real'}) (input_keys={'news_body'}),\n",
       " Example({'news_body': 'BUH-BYE! GLENN BECK Places Final Nail In His Coffin…And His Former Fans Won’t Miss Him [VIDEO]', 'answer': 'fake'}) (input_keys={'news_body'}),\n",
       " Example({'news_body': 'BREAKING: Michigan Native KID ROCK Announces He’s Running For US Senate', 'answer': 'fake'}) (input_keys={'news_body'}),\n",
       " Example({'news_body': 'Medicaid cuts coming in Trump budget: Washington Post', 'answer': 'real'}) (input_keys={'news_body'}),\n",
       " Example({'news_body': 'GOP MAJORITY SENATE FINALLY GETS IT RIGHT: Votes To Gut Obamacare And Defund Planned Parenthood', 'answer': 'fake'}) (input_keys={'news_body'}),\n",
       " Example({'news_body': 'Tillerson seeks to reassure worried Europe over Trump', 'answer': 'real'}) (input_keys={'news_body'}),\n",
       " Example({'news_body': 'Turkey issues detention warrants for 115 people in post-coup probe: Anadolu', 'answer': 'real'}) (input_keys={'news_body'}),\n",
       " Example({'news_body': 'CAUGHT ON VIDEO: Tour Bus Passenger Wrestles Large Knife Away From Islamist [Video]', 'answer': 'fake'}) (input_keys={'news_body'}),\n",
       " Example({'news_body': 'New York Welfare Programs More Generous Than Sweden Or France', 'answer': 'fake'}) (input_keys={'news_body'}),\n",
       " Example({'news_body': 'PLAYBOY “REPORTER” WHINES About Getting No Respect From Trump’s Female Deputy Press Secretary [VIDEO]', 'answer': 'fake'}) (input_keys={'news_body'}),\n",
       " Example({'news_body': 'German parties back NATO, want good ties with Russia: document', 'answer': 'real'}) (input_keys={'news_body'}),\n",
       " Example({'news_body': 'Senior Republicans signal issues in Congress for Obama Afghan plan', 'answer': 'real'}) (input_keys={'news_body'}),\n",
       " Example({'news_body': \"Jordan rejects Trump's move on Jerusalem as legally 'null'\", 'answer': 'real'}) (input_keys={'news_body'}),\n",
       " Example({'news_body': ' Kellyanne Conway On Trump Administration’s Lies: But What About Benghazi! (VIDEO)', 'answer': 'fake'}) (input_keys={'news_body'}),\n",
       " Example({'news_body': 'Trump: Cerberus CEO offered services, hopes he not needed for intel review', 'answer': 'real'}) (input_keys={'news_body'}),\n",
       " Example({'news_body': ' Trump Explains Why He Fired James Comey, F*cks Up And Admits He Should Be Impeached (VIDEO)', 'answer': 'fake'}) (input_keys={'news_body'}),\n",
       " Example({'news_body': \"Britain, Germany committed to Iran nuclear deal: May's office\", 'answer': 'real'}) (input_keys={'news_body'}),\n",
       " Example({'news_body': 'EPIPEN CEO UNDER FIRE FOR PRICE GOUGING Is Daughter Of US Senator', 'answer': 'fake'}) (input_keys={'news_body'})]"
      ]
     },
     "execution_count": 55,
     "metadata": {},
     "output_type": "execute_result"
    }
   ],
   "source": [
    "custom_trainset"
   ]
  },
  {
   "cell_type": "code",
   "execution_count": 68,
   "id": "c6010b94-4d09-412c-bf34-875182471104",
   "metadata": {},
   "outputs": [
    {
     "name": "stderr",
     "output_type": "stream",
     "text": [
      " 10%|█         | 2/20 [00:00<00:02,  7.19it/s]"
     ]
    },
    {
     "name": "stdout",
     "output_type": "stream",
     "text": [
      "Trace is [(Predict(StringSignature(news_body -> rationale, answer\n",
      "    instructions='Given the fields `news_body`, produce the fields `answer`.'\n",
      "    news_body = Field(annotation=str required=True json_schema_extra={'desc': 'The body of the news to be categorized', '__dspy_field_type': 'input', 'prefix': 'News Body:'})\n",
      "    rationale = Field(annotation=str required=True json_schema_extra={'prefix': \"Reasoning: Let's think step by step in order to\", 'desc': '${produce the answer}. We ...', '__dspy_field_type': 'output'})\n",
      "    answer = Field(annotation=str required=True json_schema_extra={'desc': \"Should be 'fake' or 'real'\", '__dspy_field_type': 'output', 'prefix': 'Answer:'})\n",
      ")), {'news_body': ' Courts Decide Conspiracy Nut Alex Jones Is Too Crazy To Raise His Own Kids (DETAILS)'}, Prediction(\n",
      "    rationale='produce the answer. We analyze the news body which discusses a legal decision regarding Alex Jones, a controversial figure known for promoting conspiracy theories. The phrasing \"too crazy to raise his own kids\" suggests a sensationalized tone, which is often associated with tabloid journalism. However, the mention of a court decision indicates that there is a legitimate legal context to the story. Despite the sensational language, the core of the news pertains to a real legal ruling. Therefore, we conclude that the news body is reporting on a real event, albeit with a potentially exaggerated presentation.',\n",
      "    answer='real'\n",
      "))]\n",
      "Trace is [(Predict(StringSignature(news_body -> rationale, answer\n",
      "    instructions='Given the fields `news_body`, produce the fields `answer`.'\n",
      "    news_body = Field(annotation=str required=True json_schema_extra={'desc': 'The body of the news to be categorized', '__dspy_field_type': 'input', 'prefix': 'News Body:'})\n",
      "    rationale = Field(annotation=str required=True json_schema_extra={'prefix': \"Reasoning: Let's think step by step in order to\", 'desc': '${produce the answer}. We ...', '__dspy_field_type': 'output'})\n",
      "    answer = Field(annotation=str required=True json_schema_extra={'desc': \"Should be 'fake' or 'real'\", '__dspy_field_type': 'output', 'prefix': 'Answer:'})\n",
      ")), {'news_body': \"U.S. Senator Menendez's corruption trial to proceed: judge\"}, Prediction(\n",
      "    rationale='determine the credibility of this news. The news mentions a specific U.S. Senator, Bob Menendez, and refers to a legal proceeding, which is a verifiable event. The source of the information is a judge, which adds to its reliability. There are no indications of sensationalism or misinformation in the statement. Therefore, it is reasonable to conclude that this news is credible.',\n",
      "    answer='real'\n",
      "))]\n",
      "Trace is [(Predict(StringSignature(news_body -> rationale, answer\n",
      "    instructions='Given the fields `news_body`, produce the fields `answer`.'\n",
      "    news_body = Field(annotation=str required=True json_schema_extra={'desc': 'The body of the news to be categorized', '__dspy_field_type': 'input', 'prefix': 'News Body:'})\n",
      "    rationale = Field(annotation=str required=True json_schema_extra={'prefix': \"Reasoning: Let's think step by step in order to\", 'desc': '${produce the answer}. We ...', '__dspy_field_type': 'output'})\n",
      "    answer = Field(annotation=str required=True json_schema_extra={'desc': \"Should be 'fake' or 'real'\", '__dspy_field_type': 'output', 'prefix': 'Answer:'})\n",
      ")), {'news_body': 'Search ends for bodies in Mexico City after earthquake'}, Prediction(\n",
      "    rationale='determine the authenticity of this news. The news mentions a search for bodies following an earthquake, which is a plausible and serious event that could occur in a city like Mexico City, known for its seismic activity. The source, Anadolu, is a reputable news agency. Given these factors, it is reasonable to conclude that this news is likely true.',\n",
      "    answer='real'\n",
      "))]\n"
     ]
    },
    {
     "name": "stderr",
     "output_type": "stream",
     "text": [
      " 20%|██        | 4/20 [00:02<00:13,  1.20it/s]"
     ]
    },
    {
     "name": "stdout",
     "output_type": "stream",
     "text": [
      "Trace is [(Predict(StringSignature(news_body -> rationale, answer\n",
      "    instructions='Given the fields `news_body`, produce the fields `answer`.'\n",
      "    news_body = Field(annotation=str required=True json_schema_extra={'desc': 'The body of the news to be categorized', '__dspy_field_type': 'input', 'prefix': 'News Body:'})\n",
      "    rationale = Field(annotation=str required=True json_schema_extra={'prefix': \"Reasoning: Let's think step by step in order to\", 'desc': '${produce the answer}. We ...', '__dspy_field_type': 'output'})\n",
      "    answer = Field(annotation=str required=True json_schema_extra={'desc': \"Should be 'fake' or 'real'\", '__dspy_field_type': 'output', 'prefix': 'Answer:'})\n",
      ")), {'news_body': 'BUH-BYE! GLENN BECK Places Final Nail In His Coffin…And His Former Fans Won’t Miss Him [VIDEO]'}, Prediction(\n",
      "    rationale='determine the credibility of this news. The title suggests a sensationalist approach, using phrases like \"final nail in his coffin\" which indicates a dramatic or exaggerated tone. Additionally, the use of \"BUH-BYE!\" and \"won’t miss him\" implies a personal opinion rather than a factual report. This could indicate that the content is more opinion-based or entertainment-focused rather than a factual news report. Therefore, it lacks the characteristics of a credible news article.',\n",
      "    answer='fake'\n",
      "))]\n"
     ]
    },
    {
     "name": "stderr",
     "output_type": "stream",
     "text": [
      " 25%|██▌       | 5/20 [00:04<00:14,  1.03it/s]\n"
     ]
    },
    {
     "name": "stdout",
     "output_type": "stream",
     "text": [
      "Trace is [(Predict(StringSignature(news_body -> rationale, answer\n",
      "    instructions='Given the fields `news_body`, produce the fields `answer`.'\n",
      "    news_body = Field(annotation=str required=True json_schema_extra={'desc': 'The body of the news to be categorized', '__dspy_field_type': 'input', 'prefix': 'News Body:'})\n",
      "    rationale = Field(annotation=str required=True json_schema_extra={'prefix': \"Reasoning: Let's think step by step in order to\", 'desc': '${produce the answer}. We ...', '__dspy_field_type': 'output'})\n",
      "    answer = Field(annotation=str required=True json_schema_extra={'desc': \"Should be 'fake' or 'real'\", '__dspy_field_type': 'output', 'prefix': 'Answer:'})\n",
      ")), {'news_body': 'BREAKING: Michigan Native KID ROCK Announces He’s Running For US Senate'}, Prediction(\n",
      "    rationale='determine the credibility of this news. The news mentions a well-known public figure, Kid Rock, announcing a political run, which is a significant event that could be reported by multiple credible sources. However, the phrasing \"BREAKING\" suggests a sensationalized approach, which is often associated with less reliable news. To confirm its authenticity, we would need to check if reputable news outlets are also reporting this announcement. Since I don\\'t have access to real-time news verification, I will categorize this based on the sensational nature of the announcement and the context provided.',\n",
      "    answer='fake'\n",
      "))]\n"
     ]
    },
    {
     "name": "stderr",
     "output_type": "stream",
     "text": [
      "  0%|          | 0/20 [00:00<?, ?it/s]\n",
      "  0%|          | 0/20 [00:00<?, ?it/s]"
     ]
    },
    {
     "name": "stdout",
     "output_type": "stream",
     "text": [
      "Bootstrapped 4 full traces after 1 examples in round 2.\n"
     ]
    },
    {
     "name": "stderr",
     "output_type": "stream",
     "text": [
      "\n"
     ]
    }
   ],
   "source": [
    "optimized_program = teleprompter.compile(base_cot, trainset=custom_trainset)"
   ]
  },
  {
   "cell_type": "code",
   "execution_count": 69,
   "id": "dc94186f-7095-4b35-9317-5661475df65d",
   "metadata": {
    "collapsed": true,
    "jupyter": {
     "outputs_hidden": true
    }
   },
   "outputs": [
    {
     "name": "stdout",
     "output_type": "stream",
     "text": [
      "[('prog', Predict(StringSignature(news_body -> rationale, answer\n",
      "    instructions='Given the fields `news_body`, produce the fields `answer`.'\n",
      "    news_body = Field(annotation=str required=True json_schema_extra={'desc': 'The body of the news to be categorized', '__dspy_field_type': 'input', 'prefix': 'News Body:'})\n",
      "    rationale = Field(annotation=str required=True json_schema_extra={'prefix': \"Reasoning: Let's think step by step in order to\", 'desc': '${produce the answer}. We ...', '__dspy_field_type': 'output'})\n",
      "    answer = Field(annotation=str required=True json_schema_extra={'desc': \"Should be 'fake' or 'real'\", '__dspy_field_type': 'output', 'prefix': 'Answer:'})\n",
      ")))]\n"
     ]
    },
    {
     "data": {
      "text/plain": [
       "{'prog': {'lm': None,\n",
       "  'traces': [],\n",
       "  'train': [],\n",
       "  'demos': [Example({'augmented': True, 'news_body': \"U.S. Senator Menendez's corruption trial to proceed: judge\", 'rationale': 'determine the credibility of this news. The news mentions a specific U.S. Senator, Bob Menendez, and refers to a legal proceeding, which is a verifiable event. The source of the information is a judge, which adds to its reliability. There are no indications of sensationalism or misinformation in the statement. Therefore, it is reasonable to conclude that this news is credible.', 'answer': 'real'}) (input_keys=None),\n",
       "   Example({'augmented': True, 'news_body': 'Search ends for bodies in Mexico City after earthquake', 'rationale': 'determine the authenticity of this news. The news mentions a search for bodies following an earthquake, which is a plausible and serious event that could occur in a city like Mexico City, known for its seismic activity. The source, Anadolu, is a reputable news agency. Given these factors, it is reasonable to conclude that this news is likely true.', 'answer': 'real'}) (input_keys=None),\n",
       "   Example({'augmented': True, 'news_body': 'BUH-BYE! GLENN BECK Places Final Nail In His Coffin…And His Former Fans Won’t Miss Him [VIDEO]', 'rationale': 'determine the credibility of this news. The title suggests a sensationalist approach, using phrases like \"final nail in his coffin\" which indicates a dramatic or exaggerated tone. Additionally, the use of \"BUH-BYE!\" and \"won’t miss him\" implies a personal opinion rather than a factual report. This could indicate that the content is more opinion-based or entertainment-focused rather than a factual news report. Therefore, it lacks the characteristics of a credible news article.', 'answer': 'fake'}) (input_keys=None),\n",
       "   Example({'augmented': True, 'news_body': 'BREAKING: Michigan Native KID ROCK Announces He’s Running For US Senate', 'rationale': 'determine the credibility of this news. The news mentions a well-known public figure, Kid Rock, announcing a political run, which is a significant event that could be reported by multiple credible sources. However, the phrasing \"BREAKING\" suggests a sensationalized approach, which is often associated with less reliable news. To confirm its authenticity, we would need to check if reputable news outlets are also reporting this announcement. Since I don\\'t have access to real-time news verification, I will categorize this based on the sensational nature of the announcement and the context provided.', 'answer': 'fake'}) (input_keys=None)],\n",
       "  'signature_instructions': 'Given the fields `news_body`, produce the fields `answer`.',\n",
       "  'signature_prefix': 'Answer:',\n",
       "  'extended_signature_instructions': 'Given the fields `news_body`, produce the fields `answer`.',\n",
       "  'extended_signature_prefix': 'Answer:'}}"
      ]
     },
     "execution_count": 69,
     "metadata": {},
     "output_type": "execute_result"
    }
   ],
   "source": [
    "optimized_program.dump_state()"
   ]
  }
 ],
 "metadata": {
  "kernelspec": {
   "display_name": "Python 3 (ipykernel)",
   "language": "python",
   "name": "python3"
  },
  "language_info": {
   "codemirror_mode": {
    "name": "ipython",
    "version": 3
   },
   "file_extension": ".py",
   "mimetype": "text/x-python",
   "name": "python",
   "nbconvert_exporter": "python",
   "pygments_lexer": "ipython3",
   "version": "3.10.12"
  }
 },
 "nbformat": 4,
 "nbformat_minor": 5
}
