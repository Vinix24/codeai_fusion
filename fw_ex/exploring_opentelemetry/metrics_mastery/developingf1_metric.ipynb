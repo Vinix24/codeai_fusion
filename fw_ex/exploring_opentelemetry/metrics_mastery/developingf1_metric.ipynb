{
 "cells": [
  {
   "cell_type": "code",
   "execution_count": 1,
   "id": "fc3c2783-572e-4eb6-b8eb-a5e1840bffdf",
   "metadata": {},
   "outputs": [
    {
     "name": "stderr",
     "output_type": "stream",
     "text": [
      "/home/uberdev/.local/lib/python3.10/site-packages/tqdm/auto.py:21: TqdmWarning: IProgress not found. Please update jupyter and ipywidgets. See https://ipywidgets.readthedocs.io/en/stable/user_install.html\n",
      "  from .autonotebook import tqdm as notebook_tqdm\n"
     ]
    },
    {
     "data": {
      "text/plain": [
       "True"
      ]
     },
     "execution_count": 1,
     "metadata": {},
     "output_type": "execute_result"
    }
   ],
   "source": [
    "from collections import Counter\n",
    "import dspy\n",
    "from dspy import OpenAI, settings\n",
    "from dspy.teleprompt import MIPROv2, BootstrapFewShot\n",
    "from dspy.evaluate.evaluate import Evaluate\n",
    "from dspy import ColBERTv2\n",
    "from dsp.utils import print_message, normalize_text\n",
    "from dotenv import load_dotenv\n",
    "import os\n",
    "load_dotenv(\"/media/uberdev/ddrv/gitFolders/codeai_fusion/.env\")"
   ]
  },
  {
   "cell_type": "code",
   "execution_count": 2,
   "id": "c0d88f07-4cce-4ec0-9652-cbd68cc80c47",
   "metadata": {},
   "outputs": [],
   "source": [
    "def f1_score_01(prediction, ground_truth):\n",
    "    \"\"\"Calculates the F1 Score of multiple predictions \n",
    "    that has been carried out for a single data point\"\"\"\n",
    "    \n",
    "    prediction_tokens = [normalize_text(elem) for elem in prediction.split(\"|\")]\n",
    "    ground_truth_tokens = [elem] * len(prediction_tokens)\n",
    "    \n",
    "    common = Counter(prediction_tokens) & Counter(ground_truth_tokens)\n",
    "    num_same = sum(common.values())\n",
    "    \n",
    "    if len(prediction_tokens) == len(ground_truth_tokens) == 0:\n",
    "        print_message(\"\\n#> F1 Metric: Rare edge case of len(prediction_tokens) == len(ground_truth_tokens) == 0.\\n\")\n",
    "    \n",
    "    if num_same == 0:\n",
    "        return 0\n",
    "    \n",
    "    precision = 1.0 * num_same / len(prediction_tokens)\n",
    "    recall = 1.0 * num_same / len(ground_truth_tokens)\n",
    "    f1 = (2 * precision * recall) / (precision + recall) if (precision + recall) > 0 else 0\n",
    "    print(f\"precision: {precision}, recall: {recall}, f1: {f1}\") \n",
    "    return f1"
   ]
  },
  {
   "cell_type": "code",
   "execution_count": 2,
   "id": "6bc41f4a-b135-4646-89d6-b0acbed6804d",
   "metadata": {},
   "outputs": [
    {
     "name": "stderr",
     "output_type": "stream",
     "text": [
      "INFO:phoenix.config:📋 Ensuring phoenix working directory: /home/uberdev/.phoenix\n",
      "INFO:phoenix.inferences.inferences:Dataset: phoenix_inferences_672e330f-93cb-4250-b12b-6c8f52f18d48 initialized\n"
     ]
    }
   ],
   "source": [
    "from openinference.instrumentation.dspy import DSPyInstrumentor\n",
    "# instruments the internal calls in DSPy library\n",
    "from opentelemetry import trace as trace_api\n",
    "from opentelemetry.exporter.otlp.proto.http.trace_exporter import OTLPSpanExporter\n",
    "# help to get the span of http requests to the APIs\n",
    "from opentelemetry.sdk import trace as trace_sdk\n",
    "#processes the data collected from the spans\n",
    "from opentelemetry.sdk.resources import Resource\n",
    "from opentelemetry.sdk.trace.export import SimpleSpanProcessor\n",
    "from openinference.semconv.resource import ResourceAttributes\n",
    "import phoenix as px"
   ]
  },
  {
   "cell_type": "code",
   "execution_count": 3,
   "id": "11599156-1945-48aa-a39f-6f723cb23d94",
   "metadata": {},
   "outputs": [],
   "source": [
    "endpoint = \"http://127.0.0.1:6006/v1/traces\""
   ]
  },
  {
   "cell_type": "code",
   "execution_count": 4,
   "id": "63f01d73-1bcb-40e0-899e-edbc228af0cf",
   "metadata": {},
   "outputs": [],
   "source": [
    "resource = Resource(attributes={\n",
    "    ResourceAttributes.PROJECT_NAME: 'bswfs-f1-score'\n",
    "})"
   ]
  },
  {
   "cell_type": "code",
   "execution_count": 5,
   "id": "34dc32df-73a0-4998-91cd-ee1ecdcb3735",
   "metadata": {},
   "outputs": [],
   "source": [
    "tracer_provider = trace_sdk.TracerProvider(resource=resource)\n",
    "span_otlp_exporter = OTLPSpanExporter(endpoint=endpoint)"
   ]
  },
  {
   "cell_type": "code",
   "execution_count": 6,
   "id": "98244a2e-d052-44d4-bf58-0ed0daad77fc",
   "metadata": {},
   "outputs": [],
   "source": [
    "tracer_provider.add_span_processor(SimpleSpanProcessor(span_exporter=span_otlp_exporter))\n",
    "\n",
    "trace_api.set_tracer_provider(tracer_provider=tracer_provider)\n",
    "\n",
    "DSPyInstrumentor().instrument(skip_dep_check=True) # here where DSPy is instrumented"
   ]
  },
  {
   "cell_type": "code",
   "execution_count": 3,
   "id": "0226e8e9-1a1f-4bb1-ac32-b14275e45a6d",
   "metadata": {},
   "outputs": [],
   "source": [
    "# Need to check if the dspy is writing logs\n",
    "import os\n",
    "llm = OpenAI(model='gpt-4o-mini',\n",
    "             api_key=os.environ['OPENAI_API_KEY'],\n",
    "             max_tokens=2000)\n",
    "settings.configure(lm=llm)"
   ]
  },
  {
   "cell_type": "code",
   "execution_count": 9,
   "id": "fc5fc065-b41a-484f-82bf-fb7f20a1824e",
   "metadata": {
    "collapsed": true,
    "jupyter": {
     "outputs_hidden": true
    }
   },
   "outputs": [
    {
     "name": "stderr",
     "output_type": "stream",
     "text": [
      "INFO:httpx:HTTP Request: POST https://api.openai.com/v1/chat/completions \"HTTP/1.1 200 OK\"\n"
     ]
    },
    {
     "data": {
      "text/plain": [
       "['The F1 score is a statistical measure used to evaluate the performance of a binary classification model. It is particularly useful when the classes are imbalanced, meaning that one class is more frequent than the other. The F1 score combines two important metrics: precision and recall.\\n\\n### Definitions:\\n- **Precision**: This is the ratio of true positive predictions to the total predicted positives. It answers the question: \"Of all the instances that were predicted as positive, how many were actually positive?\"\\n  \\n  \\\\[\\n  \\\\text{Precision} = \\\\frac{\\\\text{True Positives (TP)}}{\\\\text{True Positives (TP)} + \\\\text{False Positives (FP)}}\\n  \\\\]\\n\\n- **Recall**: This is the ratio of true positive predictions to the total actual positives. It answers the question: \"Of all the actual positive instances, how many were correctly predicted as positive?\"\\n  \\n  \\\\[\\n  \\\\text{Recall} = \\\\frac{\\\\text{True Positives (TP)}}{\\\\text{True Positives (TP)} + \\\\text{False Negatives (FN)}}\\n  \\\\]\\n\\n### F1 Score Calculation:\\nThe F1 score is the harmonic mean of precision and recall, which means it takes both metrics into account and provides a single score that balances the two. The formula for the F1 score is:\\n\\n\\\\[\\n\\\\text{F1 Score} = 2 \\\\times \\\\frac{\\\\text{Precision} \\\\times \\\\text{Recall}}{\\\\text{Precision} + \\\\text{Recall}}\\n\\\\]\\n\\n### Interpretation:\\n- The F1 score ranges from 0 to 1, where:\\n  - 1 indicates perfect precision and recall (i.e., the model makes no mistakes).\\n  - 0 indicates the worst performance (i.e., the model fails to make any correct predictions).\\n  \\n- A higher F1 score indicates a better balance between precision and recall, making it a useful metric when you need to find an optimal balance between the two, especially in cases where false positives and false negatives have different costs.\\n\\n### Use Cases:\\nThe F1 score is commonly used in various fields, including:\\n- Medical diagnosis (where false negatives can be critical)\\n- Information retrieval (like search engines)\\n- Natural language processing (like sentiment analysis)\\n\\nIn summary, the F1 score is a valuable metric for assessing the performance of classification models, especially in scenarios where class distribution is uneven and both precision and recall are important.']"
      ]
     },
     "execution_count": 9,
     "metadata": {},
     "output_type": "execute_result"
    }
   ],
   "source": [
    "llm(\"Explain f1-score\")"
   ]
  },
  {
   "cell_type": "code",
   "execution_count": 4,
   "id": "a66e9982-31ef-4118-ba54-8810dd470887",
   "metadata": {},
   "outputs": [],
   "source": [
    "def F1(prediction, answers_list):\n",
    "    # list of answers are entering for a single prediction\n",
    "    assert isinstance(answers_list, list)\n",
    "    return max(f1_score_01(prediction, ans) for ans in answers_list)\n",
    "\n",
    "def answer_match(prediction, answers, frac=1.0):\n",
    "    return F1(prediction, answers) >= frac\n",
    "\n",
    "def answer_f1_match_01(example, pred, trace=[], frac=0.95):\n",
    "    assert isinstance(example.answer, (str, list))\n",
    "    print(f\"Looking at the traces, {trace}\")\n",
    "    if isinstance(example.answer, str):\n",
    "        return answer_match(pred.answer, [example.answer], frac=frac)\n",
    "    else:\n",
    "        return answer_match(pred.answer, example.answer, frac=frac)"
   ]
  },
  {
   "cell_type": "code",
   "execution_count": 5,
   "id": "a3c14bac-4ce1-4e42-9166-2e3a9511207a",
   "metadata": {},
   "outputs": [],
   "source": [
    "class NewsCategorization(dspy.Signature):\n",
    "    news_body = dspy.InputField(desc=\"The body of the news to be categorized\")\n",
    "    answer = dspy.OutputField(desc=\"It could be 'fake|real|real|fake|fake'\",)\n",
    "\n",
    "class CoTCombined(dspy.Module):\n",
    "    def __init__(self):\n",
    "        super().__init__()\n",
    "        self.prog = dspy.ChainOfThought(NewsCategorization)\n",
    "        self.hops = 5 \n",
    "        # this is arbitrary value to create 5 preps per news_body\n",
    "\n",
    "    def forward(self, news_body):\n",
    "        # forward method where the actual predition \n",
    "        # is done\n",
    "        pred_list = []\n",
    "        for idx in range(self.hops):\n",
    "            # same news body is going to enter self.hops time\n",
    "            pred_one = self.prog(news_body=news_body)\n",
    "            pred_list.append(pred_one)\n",
    "            answer_piped = \"|\".join(pred_list)\n",
    "        return dspy.Prediction(answer=answer_piped)\n",
    "# https://github.com/stanfordnlp/dspy/issues/577"
   ]
  },
  {
   "cell_type": "code",
   "execution_count": 7,
   "id": "246636b6-6105-44a7-a534-0710cef255ee",
   "metadata": {},
   "outputs": [],
   "source": [
    "class NewsCategorization(dspy.Signature):\n",
    "    news_body = dspy.InputField(desc=\"The body of the news to be categorized\")\n",
    "    answer = dspy.OutputField(desc=\"Should be 'fake' or 'real'\")\n",
    "\n",
    "class CoTCombined(dspy.Module):\n",
    "    def __init__(self):\n",
    "        super().__init__()\n",
    "        self.prog = dspy.ChainOfThought(NewsCategorization)\n",
    "        self.history = []  # This will store the history of operations\n",
    "\n",
    "    def forward(self, news_body):\n",
    "        # planning to making multiple predictions later\n",
    "        # pred_one = self.prog(news_body=news) # << The variable news was wrongly assigned\n",
    "        pred_one = self.prog(news_body=news_body)\n",
    "        return dspy.Prediction(answer=pred_one)"
   ]
  },
  {
   "cell_type": "code",
   "execution_count": 6,
   "id": "8d615438-5691-400a-b48c-b6ef99f7c10f",
   "metadata": {},
   "outputs": [],
   "source": [
    "prgm_under_test = CoTCombined()"
   ]
  },
  {
   "cell_type": "code",
   "execution_count": 7,
   "id": "e2a78048-2f38-45bb-9de9-50122fa0bc78",
   "metadata": {},
   "outputs": [],
   "source": [
    "custom_trainset = []\n",
    "custom_devset = []\n",
    "\n",
    "with open('../train_fake_real_news.tsv', 'r') as tsv:\n",
    "    lines = tsv.readlines()\n",
    "    for line in lines[1:21]:\n",
    "        news, truth = line.split(\"\\t\")\n",
    "        if truth.strip() == '0':\n",
    "            custom_trainset.append(dspy.Example(news_body=news, answer='fake').with_inputs(\"news_body\"))\n",
    "        else:\n",
    "            custom_trainset.append(dspy.Example(news_body=news, answer='real').with_inputs(\"news_body\"))\n",
    "    for line in lines[22:43]:\n",
    "        news, truth = line.split(\"\\t\")\n",
    "        if truth.strip() == '0':\n",
    "            custom_devset.append(dspy.Example(news_body=news, answer='fake').with_inputs(\"news_body\"))\n",
    "        else:\n",
    "            custom_devset.append(dspy.Example(news_body=news, answer='real').with_inputs(\"news_body\"))"
   ]
  },
  {
   "cell_type": "code",
   "execution_count": 8,
   "id": "0e0317ed-b51a-4e3f-bba2-7b0b17f674b1",
   "metadata": {},
   "outputs": [
    {
     "data": {
      "text/plain": [
       "Example({'news_body': ' Courts Decide Conspiracy Nut Alex Jones Is Too Crazy To Raise His Own Kids (DETAILS)', 'answer': 'fake'}) (input_keys={'news_body'})"
      ]
     },
     "execution_count": 8,
     "metadata": {},
     "output_type": "execute_result"
    }
   ],
   "source": [
    "custom_trainset[0]"
   ]
  },
  {
   "cell_type": "code",
   "execution_count": 9,
   "id": "7ba53564-6579-4242-9b20-3131822f03c8",
   "metadata": {},
   "outputs": [
    {
     "ename": "AssertionError",
     "evalue": "Need format_handler for news_body of type <class 'dspy.primitives.example.Example'>",
     "output_type": "error",
     "traceback": [
      "\u001b[0;31m---------------------------------------------------------------------------\u001b[0m",
      "\u001b[0;31mAssertionError\u001b[0m                            Traceback (most recent call last)",
      "Cell \u001b[0;32mIn[9], line 1\u001b[0m\n\u001b[0;32m----> 1\u001b[0m \u001b[43mprgm_under_test\u001b[49m\u001b[43m(\u001b[49m\u001b[43mcustom_trainset\u001b[49m\u001b[43m[\u001b[49m\u001b[38;5;241;43m9\u001b[39;49m\u001b[43m]\u001b[49m\u001b[43m)\u001b[49m\n",
      "File \u001b[0;32m~/.local/lib/python3.10/site-packages/dspy/primitives/program.py:26\u001b[0m, in \u001b[0;36mModule.__call__\u001b[0;34m(self, *args, **kwargs)\u001b[0m\n\u001b[1;32m     25\u001b[0m \u001b[38;5;28;01mdef\u001b[39;00m \u001b[38;5;21m__call__\u001b[39m(\u001b[38;5;28mself\u001b[39m, \u001b[38;5;241m*\u001b[39margs, \u001b[38;5;241m*\u001b[39m\u001b[38;5;241m*\u001b[39mkwargs):\n\u001b[0;32m---> 26\u001b[0m     \u001b[38;5;28;01mreturn\u001b[39;00m \u001b[38;5;28;43mself\u001b[39;49m\u001b[38;5;241;43m.\u001b[39;49m\u001b[43mforward\u001b[49m\u001b[43m(\u001b[49m\u001b[38;5;241;43m*\u001b[39;49m\u001b[43margs\u001b[49m\u001b[43m,\u001b[49m\u001b[43m \u001b[49m\u001b[38;5;241;43m*\u001b[39;49m\u001b[38;5;241;43m*\u001b[39;49m\u001b[43mkwargs\u001b[49m\u001b[43m)\u001b[49m\n",
      "Cell \u001b[0;32mIn[5], line 18\u001b[0m, in \u001b[0;36mCoTCombined.forward\u001b[0;34m(self, news_body)\u001b[0m\n\u001b[1;32m     15\u001b[0m pred_list \u001b[38;5;241m=\u001b[39m []\n\u001b[1;32m     16\u001b[0m \u001b[38;5;28;01mfor\u001b[39;00m idx \u001b[38;5;129;01min\u001b[39;00m \u001b[38;5;28mrange\u001b[39m(\u001b[38;5;28mself\u001b[39m\u001b[38;5;241m.\u001b[39mhops):\n\u001b[1;32m     17\u001b[0m     \u001b[38;5;66;03m# same news body is going to enter self.hops time\u001b[39;00m\n\u001b[0;32m---> 18\u001b[0m     pred_one \u001b[38;5;241m=\u001b[39m \u001b[38;5;28;43mself\u001b[39;49m\u001b[38;5;241;43m.\u001b[39;49m\u001b[43mprog\u001b[49m\u001b[43m(\u001b[49m\u001b[43mnews_body\u001b[49m\u001b[38;5;241;43m=\u001b[39;49m\u001b[43mnews_body\u001b[49m\u001b[43m)\u001b[49m\n\u001b[1;32m     19\u001b[0m     pred_list\u001b[38;5;241m.\u001b[39mappend(pred_one)\n\u001b[1;32m     20\u001b[0m     answer_piped \u001b[38;5;241m=\u001b[39m \u001b[38;5;124m\"\u001b[39m\u001b[38;5;124m|\u001b[39m\u001b[38;5;124m\"\u001b[39m\u001b[38;5;241m.\u001b[39mjoin(pred_list)\n",
      "File \u001b[0;32m~/.local/lib/python3.10/site-packages/dspy/primitives/program.py:26\u001b[0m, in \u001b[0;36mModule.__call__\u001b[0;34m(self, *args, **kwargs)\u001b[0m\n\u001b[1;32m     25\u001b[0m \u001b[38;5;28;01mdef\u001b[39;00m \u001b[38;5;21m__call__\u001b[39m(\u001b[38;5;28mself\u001b[39m, \u001b[38;5;241m*\u001b[39margs, \u001b[38;5;241m*\u001b[39m\u001b[38;5;241m*\u001b[39mkwargs):\n\u001b[0;32m---> 26\u001b[0m     \u001b[38;5;28;01mreturn\u001b[39;00m \u001b[38;5;28;43mself\u001b[39;49m\u001b[38;5;241;43m.\u001b[39;49m\u001b[43mforward\u001b[49m\u001b[43m(\u001b[49m\u001b[38;5;241;43m*\u001b[39;49m\u001b[43margs\u001b[49m\u001b[43m,\u001b[49m\u001b[43m \u001b[49m\u001b[38;5;241;43m*\u001b[39;49m\u001b[38;5;241;43m*\u001b[39;49m\u001b[43mkwargs\u001b[49m\u001b[43m)\u001b[49m\n",
      "File \u001b[0;32m~/.local/lib/python3.10/site-packages/dspy/predict/chain_of_thought.py:37\u001b[0m, in \u001b[0;36mChainOfThought.forward\u001b[0;34m(self, **kwargs)\u001b[0m\n\u001b[1;32m     34\u001b[0m \u001b[38;5;28;01massert\u001b[39;00m \u001b[38;5;28mself\u001b[39m\u001b[38;5;241m.\u001b[39mactivated \u001b[38;5;129;01min\u001b[39;00m [\u001b[38;5;28;01mTrue\u001b[39;00m, \u001b[38;5;28;01mFalse\u001b[39;00m]\n\u001b[1;32m     36\u001b[0m signature \u001b[38;5;241m=\u001b[39m kwargs\u001b[38;5;241m.\u001b[39mpop(\u001b[38;5;124m\"\u001b[39m\u001b[38;5;124mnew_signature\u001b[39m\u001b[38;5;124m\"\u001b[39m, \u001b[38;5;28mself\u001b[39m\u001b[38;5;241m.\u001b[39m_predict\u001b[38;5;241m.\u001b[39mextended_signature \u001b[38;5;28;01mif\u001b[39;00m \u001b[38;5;28mself\u001b[39m\u001b[38;5;241m.\u001b[39mactivated \u001b[38;5;28;01melse\u001b[39;00m \u001b[38;5;28mself\u001b[39m\u001b[38;5;241m.\u001b[39msignature)\n\u001b[0;32m---> 37\u001b[0m \u001b[38;5;28;01mreturn\u001b[39;00m \u001b[38;5;28;43mself\u001b[39;49m\u001b[38;5;241;43m.\u001b[39;49m\u001b[43m_predict\u001b[49m\u001b[43m(\u001b[49m\u001b[43msignature\u001b[49m\u001b[38;5;241;43m=\u001b[39;49m\u001b[43msignature\u001b[49m\u001b[43m,\u001b[49m\u001b[43m \u001b[49m\u001b[38;5;241;43m*\u001b[39;49m\u001b[38;5;241;43m*\u001b[39;49m\u001b[43mkwargs\u001b[49m\u001b[43m)\u001b[49m\n",
      "File \u001b[0;32m~/.local/lib/python3.10/site-packages/dspy/predict/predict.py:78\u001b[0m, in \u001b[0;36mPredict.__call__\u001b[0;34m(self, **kwargs)\u001b[0m\n\u001b[1;32m     77\u001b[0m \u001b[38;5;28;01mdef\u001b[39;00m \u001b[38;5;21m__call__\u001b[39m(\u001b[38;5;28mself\u001b[39m, \u001b[38;5;241m*\u001b[39m\u001b[38;5;241m*\u001b[39mkwargs):\n\u001b[0;32m---> 78\u001b[0m     \u001b[38;5;28;01mreturn\u001b[39;00m \u001b[38;5;28;43mself\u001b[39;49m\u001b[38;5;241;43m.\u001b[39;49m\u001b[43mforward\u001b[49m\u001b[43m(\u001b[49m\u001b[38;5;241;43m*\u001b[39;49m\u001b[38;5;241;43m*\u001b[39;49m\u001b[43mkwargs\u001b[49m\u001b[43m)\u001b[49m\n",
      "File \u001b[0;32m~/.local/lib/python3.10/site-packages/dspy/predict/predict.py:116\u001b[0m, in \u001b[0;36mPredict.forward\u001b[0;34m(self, **kwargs)\u001b[0m\n\u001b[1;32m    114\u001b[0m     completions \u001b[38;5;241m=\u001b[39m new_generate(lm, signature, dsp\u001b[38;5;241m.\u001b[39mExample(demos\u001b[38;5;241m=\u001b[39mdemos, \u001b[38;5;241m*\u001b[39m\u001b[38;5;241m*\u001b[39mkwargs), \u001b[38;5;241m*\u001b[39m\u001b[38;5;241m*\u001b[39mconfig)\n\u001b[1;32m    115\u001b[0m \u001b[38;5;28;01melse\u001b[39;00m:\n\u001b[0;32m--> 116\u001b[0m     completions \u001b[38;5;241m=\u001b[39m \u001b[43mold_generate\u001b[49m\u001b[43m(\u001b[49m\u001b[43mdemos\u001b[49m\u001b[43m,\u001b[49m\u001b[43m \u001b[49m\u001b[43msignature\u001b[49m\u001b[43m,\u001b[49m\u001b[43m \u001b[49m\u001b[43mkwargs\u001b[49m\u001b[43m,\u001b[49m\u001b[43m \u001b[49m\u001b[43mconfig\u001b[49m\u001b[43m,\u001b[49m\u001b[43m \u001b[49m\u001b[38;5;28;43mself\u001b[39;49m\u001b[38;5;241;43m.\u001b[39;49m\u001b[43mlm\u001b[49m\u001b[43m,\u001b[49m\u001b[43m \u001b[49m\u001b[38;5;28;43mself\u001b[39;49m\u001b[38;5;241;43m.\u001b[39;49m\u001b[43mstage\u001b[49m\u001b[43m)\u001b[49m\n\u001b[1;32m    118\u001b[0m pred \u001b[38;5;241m=\u001b[39m Prediction\u001b[38;5;241m.\u001b[39mfrom_completions(completions, signature\u001b[38;5;241m=\u001b[39msignature)\n\u001b[1;32m    120\u001b[0m \u001b[38;5;28;01mif\u001b[39;00m kwargs\u001b[38;5;241m.\u001b[39mpop(\u001b[38;5;124m\"\u001b[39m\u001b[38;5;124m_trace\u001b[39m\u001b[38;5;124m\"\u001b[39m, \u001b[38;5;28;01mTrue\u001b[39;00m) \u001b[38;5;129;01mand\u001b[39;00m dsp\u001b[38;5;241m.\u001b[39msettings\u001b[38;5;241m.\u001b[39mtrace \u001b[38;5;129;01mis\u001b[39;00m \u001b[38;5;129;01mnot\u001b[39;00m \u001b[38;5;28;01mNone\u001b[39;00m:\n",
      "File \u001b[0;32m~/.local/lib/python3.10/site-packages/dspy/predict/predict.py:143\u001b[0m, in \u001b[0;36mold_generate\u001b[0;34m(demos, signature, kwargs, config, lm, stage)\u001b[0m\n\u001b[1;32m    140\u001b[0m template \u001b[38;5;241m=\u001b[39m signature_to_template(signature)\n\u001b[1;32m    142\u001b[0m \u001b[38;5;28;01mif\u001b[39;00m lm \u001b[38;5;129;01mis\u001b[39;00m \u001b[38;5;28;01mNone\u001b[39;00m:\n\u001b[0;32m--> 143\u001b[0m     x, C \u001b[38;5;241m=\u001b[39m \u001b[43mdsp\u001b[49m\u001b[38;5;241;43m.\u001b[39;49m\u001b[43mgenerate\u001b[49m\u001b[43m(\u001b[49m\u001b[43mtemplate\u001b[49m\u001b[43m,\u001b[49m\u001b[43m \u001b[49m\u001b[38;5;241;43m*\u001b[39;49m\u001b[38;5;241;43m*\u001b[39;49m\u001b[43mconfig\u001b[49m\u001b[43m)\u001b[49m\u001b[43m(\u001b[49m\u001b[43mx\u001b[49m\u001b[43m,\u001b[49m\u001b[43m \u001b[49m\u001b[43mstage\u001b[49m\u001b[38;5;241;43m=\u001b[39;49m\u001b[43mstage\u001b[49m\u001b[43m)\u001b[49m\n\u001b[1;32m    144\u001b[0m \u001b[38;5;28;01melse\u001b[39;00m:\n\u001b[1;32m    145\u001b[0m     \u001b[38;5;66;03m# Note: query_only=True means the instructions and examples are not included.\u001b[39;00m\n\u001b[1;32m    146\u001b[0m     \u001b[38;5;28;01mwith\u001b[39;00m dsp\u001b[38;5;241m.\u001b[39msettings\u001b[38;5;241m.\u001b[39mcontext(lm\u001b[38;5;241m=\u001b[39mlm, query_only\u001b[38;5;241m=\u001b[39m\u001b[38;5;28;01mTrue\u001b[39;00m):\n",
      "File \u001b[0;32m~/.local/lib/python3.10/site-packages/dsp/primitives/predict.py:72\u001b[0m, in \u001b[0;36m_generate.<locals>.do_generate\u001b[0;34m(example, stage, max_depth, original_example)\u001b[0m\n\u001b[1;32m     69\u001b[0m example \u001b[38;5;241m=\u001b[39m example\u001b[38;5;241m.\u001b[39mdemos_at(\u001b[38;5;28;01mlambda\u001b[39;00m d: d[stage])\n\u001b[1;32m     71\u001b[0m \u001b[38;5;66;03m# Generate and extract the fields.\u001b[39;00m\n\u001b[0;32m---> 72\u001b[0m prompt \u001b[38;5;241m=\u001b[39m \u001b[43mtemplate\u001b[49m\u001b[43m(\u001b[49m\u001b[43mexample\u001b[49m\u001b[43m)\u001b[49m\n\u001b[1;32m     73\u001b[0m completions: \u001b[38;5;28mlist\u001b[39m[\u001b[38;5;28mdict\u001b[39m[\u001b[38;5;28mstr\u001b[39m, Any]] \u001b[38;5;241m=\u001b[39m generator(prompt, \u001b[38;5;241m*\u001b[39m\u001b[38;5;241m*\u001b[39mkwargs)\n\u001b[1;32m     74\u001b[0m completions: \u001b[38;5;28mlist\u001b[39m[Example] \u001b[38;5;241m=\u001b[39m [template\u001b[38;5;241m.\u001b[39mextract(example, p) \u001b[38;5;28;01mfor\u001b[39;00m p \u001b[38;5;129;01min\u001b[39;00m completions]\n",
      "File \u001b[0;32m~/.local/lib/python3.10/site-packages/dsp/adapters/template.py:183\u001b[0m, in \u001b[0;36mTemplate.__call__\u001b[0;34m(self, example, show_guidelines)\u001b[0m\n\u001b[1;32m    180\u001b[0m \u001b[38;5;28;01mif\u001b[39;00m long_query:\n\u001b[1;32m    181\u001b[0m     example[\u001b[38;5;124m\"\u001b[39m\u001b[38;5;124maugmented\u001b[39m\u001b[38;5;124m\"\u001b[39m] \u001b[38;5;241m=\u001b[39m \u001b[38;5;28;01mTrue\u001b[39;00m\n\u001b[0;32m--> 183\u001b[0m query \u001b[38;5;241m=\u001b[39m \u001b[38;5;28;43mself\u001b[39;49m\u001b[38;5;241;43m.\u001b[39;49m\u001b[43mquery\u001b[49m\u001b[43m(\u001b[49m\u001b[43mexample\u001b[49m\u001b[43m)\u001b[49m\n\u001b[1;32m    185\u001b[0m \u001b[38;5;66;03m# if it has more lines than fields\u001b[39;00m\n\u001b[1;32m    186\u001b[0m \u001b[38;5;28;01mif\u001b[39;00m \u001b[38;5;28mlen\u001b[39m(query\u001b[38;5;241m.\u001b[39msplit(\u001b[38;5;124m\"\u001b[39m\u001b[38;5;130;01m\\n\u001b[39;00m\u001b[38;5;124m\"\u001b[39m)) \u001b[38;5;241m>\u001b[39m \u001b[38;5;28mlen\u001b[39m(\u001b[38;5;28mself\u001b[39m\u001b[38;5;241m.\u001b[39mfields):\n",
      "File \u001b[0;32m~/.local/lib/python3.10/site-packages/dsp/adapters/template.py:44\u001b[0m, in \u001b[0;36mTemplate.query\u001b[0;34m(self, example, is_demo)\u001b[0m\n\u001b[1;32m     41\u001b[0m         \u001b[38;5;28;01massert\u001b[39;00m \u001b[38;5;28mtype\u001b[39m(x) \u001b[38;5;241m==\u001b[39m \u001b[38;5;28mstr\u001b[39m, \u001b[38;5;124mf\u001b[39m\u001b[38;5;124m\"\u001b[39m\u001b[38;5;124mNeed format_handler for \u001b[39m\u001b[38;5;132;01m{\u001b[39;00mfield\u001b[38;5;241m.\u001b[39minput_variable\u001b[38;5;132;01m}\u001b[39;00m\u001b[38;5;124m of type \u001b[39m\u001b[38;5;132;01m{\u001b[39;00m\u001b[38;5;28mtype\u001b[39m(x)\u001b[38;5;132;01m}\u001b[39;00m\u001b[38;5;124m\"\u001b[39m\n\u001b[1;32m     42\u001b[0m         \u001b[38;5;28;01mreturn\u001b[39;00m \u001b[38;5;124m\"\u001b[39m\u001b[38;5;124m \u001b[39m\u001b[38;5;124m\"\u001b[39m\u001b[38;5;241m.\u001b[39mjoin(x\u001b[38;5;241m.\u001b[39msplit())\n\u001b[0;32m---> 44\u001b[0m formatted_value \u001b[38;5;241m=\u001b[39m \u001b[43mformat_handler\u001b[49m\u001b[43m(\u001b[49m\u001b[43mexample\u001b[49m\u001b[43m[\u001b[49m\u001b[43mfield\u001b[49m\u001b[38;5;241;43m.\u001b[39;49m\u001b[43minput_variable\u001b[49m\u001b[43m]\u001b[49m\u001b[43m)\u001b[49m\n\u001b[1;32m     45\u001b[0m separator \u001b[38;5;241m=\u001b[39m \u001b[38;5;124m\"\u001b[39m\u001b[38;5;130;01m\\n\u001b[39;00m\u001b[38;5;124m\"\u001b[39m \u001b[38;5;28;01mif\u001b[39;00m field\u001b[38;5;241m.\u001b[39mseparator \u001b[38;5;241m==\u001b[39m \u001b[38;5;124m\"\u001b[39m\u001b[38;5;124m \u001b[39m\u001b[38;5;124m\"\u001b[39m \u001b[38;5;129;01mand\u001b[39;00m \u001b[38;5;124m\"\u001b[39m\u001b[38;5;130;01m\\n\u001b[39;00m\u001b[38;5;124m\"\u001b[39m \u001b[38;5;129;01min\u001b[39;00m formatted_value \u001b[38;5;28;01melse\u001b[39;00m field\u001b[38;5;241m.\u001b[39mseparator\n\u001b[1;32m     47\u001b[0m result\u001b[38;5;241m.\u001b[39mappend(\n\u001b[1;32m     48\u001b[0m     \u001b[38;5;124mf\u001b[39m\u001b[38;5;124m\"\u001b[39m\u001b[38;5;132;01m{\u001b[39;00mfield\u001b[38;5;241m.\u001b[39mname\u001b[38;5;132;01m}\u001b[39;00m\u001b[38;5;132;01m{\u001b[39;00mseparator\u001b[38;5;132;01m}\u001b[39;00m\u001b[38;5;132;01m{\u001b[39;00mformatted_value\u001b[38;5;132;01m}\u001b[39;00m\u001b[38;5;124m\"\u001b[39m,\n\u001b[1;32m     49\u001b[0m )\n",
      "File \u001b[0;32m~/.local/lib/python3.10/site-packages/dsp/adapters/template.py:41\u001b[0m, in \u001b[0;36mTemplate.query.<locals>.format_handler\u001b[0;34m(x)\u001b[0m\n\u001b[1;32m     40\u001b[0m \u001b[38;5;28;01mdef\u001b[39;00m \u001b[38;5;21mformat_handler\u001b[39m(x):\n\u001b[0;32m---> 41\u001b[0m     \u001b[38;5;28;01massert\u001b[39;00m \u001b[38;5;28mtype\u001b[39m(x) \u001b[38;5;241m==\u001b[39m \u001b[38;5;28mstr\u001b[39m, \u001b[38;5;124mf\u001b[39m\u001b[38;5;124m\"\u001b[39m\u001b[38;5;124mNeed format_handler for \u001b[39m\u001b[38;5;132;01m{\u001b[39;00mfield\u001b[38;5;241m.\u001b[39minput_variable\u001b[38;5;132;01m}\u001b[39;00m\u001b[38;5;124m of type \u001b[39m\u001b[38;5;132;01m{\u001b[39;00m\u001b[38;5;28mtype\u001b[39m(x)\u001b[38;5;132;01m}\u001b[39;00m\u001b[38;5;124m\"\u001b[39m\n\u001b[1;32m     42\u001b[0m     \u001b[38;5;28;01mreturn\u001b[39;00m \u001b[38;5;124m\"\u001b[39m\u001b[38;5;124m \u001b[39m\u001b[38;5;124m\"\u001b[39m\u001b[38;5;241m.\u001b[39mjoin(x\u001b[38;5;241m.\u001b[39msplit())\n",
      "\u001b[0;31mAssertionError\u001b[0m: Need format_handler for news_body of type <class 'dspy.primitives.example.Example'>"
     ]
    }
   ],
   "source": [
    "prgm_under_test(custom_trainset[9])"
   ]
  }
 ],
 "metadata": {
  "kernelspec": {
   "display_name": "Python 3 (ipykernel)",
   "language": "python",
   "name": "python3"
  },
  "language_info": {
   "codemirror_mode": {
    "name": "ipython",
    "version": 3
   },
   "file_extension": ".py",
   "mimetype": "text/x-python",
   "name": "python",
   "nbconvert_exporter": "python",
   "pygments_lexer": "ipython3",
   "version": "3.10.12"
  }
 },
 "nbformat": 4,
 "nbformat_minor": 5
}
