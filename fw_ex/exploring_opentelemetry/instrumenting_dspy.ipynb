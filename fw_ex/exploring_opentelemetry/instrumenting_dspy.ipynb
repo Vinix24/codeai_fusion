{
 "cells": [
  {
   "cell_type": "code",
   "execution_count": 15,
   "id": "c283d1a2-ae52-4fcc-b5de-7e4fdec0efa0",
   "metadata": {},
   "outputs": [],
   "source": [
    "from dotenv import load_dotenv\n",
    "import os\n",
    "load_dotenv(\"/media/uberdev/ddrv/gitFolders/codeai_fusion/.env\")\n",
    "from dspy import OpenAI"
   ]
  },
  {
   "cell_type": "code",
   "execution_count": 2,
   "id": "650b188f-ca35-42aa-a0d6-53d6617d2060",
   "metadata": {},
   "outputs": [
    {
     "name": "stderr",
     "output_type": "stream",
     "text": [
      "INFO:phoenix.config:📋 Ensuring phoenix working directory: /home/uberdev/.phoenix\n",
      "INFO:phoenix.inferences.inferences:Dataset: phoenix_inferences_77bd4f9a-0006-47b3-af62-c2495b5d155b initialized\n",
      "/media/uberdev/ddrv/telemetenv/lib/python3.10/site-packages/tqdm/auto.py:21: TqdmWarning: IProgress not found. Please update jupyter and ipywidgets. See https://ipywidgets.readthedocs.io/en/stable/user_install.html\n",
      "  from .autonotebook import tqdm as notebook_tqdm\n"
     ]
    }
   ],
   "source": [
    "from openinference.instrumentation.dspy import DSPyInstrumentor\n",
    "# instruments the internal calls in DSPy library\n",
    "from opentelemetry import trace as trace_api\n",
    "from opentelemetry.exporter.otlp.proto.http.trace_exporter import OTLPSpanExporter\n",
    "# help to get the span of http requests to the APIs\n",
    "from opentelemetry.sdk import trace as trace_sdk\n",
    "#processes the data collected from the spans\n",
    "from opentelemetry.sdk.resources import Resource\n",
    "from opentelemetry.sdk.trace.export import SimpleSpanProcessor\n",
    "from openinference.semconv.resource import ResourceAttributes\n",
    "import phoenix as px"
   ]
  },
  {
   "cell_type": "code",
   "execution_count": 10,
   "id": "de488609-41f2-451d-a4dc-294b00031df6",
   "metadata": {},
   "outputs": [
    {
     "name": "stderr",
     "output_type": "stream",
     "text": [
      "INFO:httpx:HTTP Request: GET http://127.0.0.1:6006/v1/traces/arize_phoenix_version \"HTTP/1.1 200 OK\"\n"
     ]
    }
   ],
   "source": [
    "# before executing this cell, ensure phoenix server is running with the postgres database\n",
    "# will get a warning to start a local server, if not running.\n",
    "endpoint = \"http://127.0.0.1:6006/v1/traces\"\n",
    "client = px.Client(endpoint=endpoint)\n",
    "# https://docs.arize.com/phoenix/tracing/how-to-tracing/trace-a-deployed-app\n",
    "resource = Resource(attributes={\n",
    "    ResourceAttributes.PROJECT_NAME: 'instrumenting-dspy'\n",
    "})"
   ]
  },
  {
   "cell_type": "code",
   "execution_count": 11,
   "id": "3e7122fd-8d6d-4789-b46c-a86af2270fb3",
   "metadata": {},
   "outputs": [],
   "source": [
    "tracer_provider = trace_sdk.TracerProvider(resource=resource)\n",
    "span_otlp_exporter = OTLPSpanExporter(endpoint=endpoint)"
   ]
  },
  {
   "cell_type": "code",
   "execution_count": 12,
   "id": "d1464c65-f776-44bf-a5cc-e4ba83fabc5b",
   "metadata": {},
   "outputs": [
    {
     "name": "stderr",
     "output_type": "stream",
     "text": [
      "WARNING:opentelemetry.trace:Overriding of current TracerProvider is not allowed\n",
      "WARNING:opentelemetry.instrumentation.instrumentor:Attempting to instrument while already instrumented\n"
     ]
    }
   ],
   "source": [
    "tracer_provider.add_span_processor(SimpleSpanProcessor(span_exporter=span_otlp_exporter))\n",
    "\n",
    "trace_api.set_tracer_provider(tracer_provider=tracer_provider)\n",
    "\n",
    "DSPyInstrumentor().instrument(skip_dep_check=True) # here where DSPy is instrumented"
   ]
  },
  {
   "cell_type": "code",
   "execution_count": 13,
   "id": "d9adc80a-5439-4d99-aa7a-23a0d33953f6",
   "metadata": {},
   "outputs": [],
   "source": [
    "# Need to check if the dspy is writing logs\n",
    "import os\n",
    "llm = OpenAI(model='gpt-4o-mini',\n",
    "             api_key=os.environ['OPENAI_API_KEY'],\n",
    "             max_tokens=2000)"
   ]
  },
  {
   "cell_type": "code",
   "execution_count": 16,
   "id": "9c83e9da-5721-400a-9e4c-0a56b804675e",
   "metadata": {},
   "outputs": [
    {
     "name": "stderr",
     "output_type": "stream",
     "text": [
      "INFO:httpx:HTTP Request: POST https://api.openai.com/v1/chat/completions \"HTTP/1.1 200 OK\"\n"
     ]
    },
    {
     "data": {
      "text/plain": [
       "['As of my last update in October 2023, the top player in FIFA rankings can vary depending on the specific context, such as the FIFA World Rankings for national teams or the FIFA video game series. \\n\\nIn terms of the FIFA World Rankings for national teams, players like Lionel Messi and Cristiano Ronaldo have historically been among the most recognized, but the rankings can change frequently based on match performances.\\n\\nIn the context of the FIFA video game series, the top player ratings can also change annually with new releases. For FIFA 23, for example, Kylian Mbappé and Lionel Messi were among the highest-rated players.\\n\\nFor the most current information, I recommend checking the latest FIFA World Rankings or the most recent FIFA video game ratings.']"
      ]
     },
     "execution_count": 16,
     "metadata": {},
     "output_type": "execute_result"
    }
   ],
   "source": [
    "llm(\"Who is the top player in Fifa\")"
   ]
  },
  {
   "cell_type": "code",
   "execution_count": null,
   "id": "f4e672bb-fadb-40f1-8c3e-09b4a7346b36",
   "metadata": {},
   "outputs": [],
   "source": []
  },
  {
   "cell_type": "code",
   "execution_count": null,
   "id": "d37b2e50-de75-4479-90e1-bf270652bca2",
   "metadata": {},
   "outputs": [],
   "source": []
  },
  {
   "cell_type": "code",
   "execution_count": null,
   "id": "4443046e-6150-4427-96ae-972393cd10c4",
   "metadata": {},
   "outputs": [],
   "source": []
  },
  {
   "cell_type": "code",
   "execution_count": null,
   "id": "be59372b-cfab-414e-a313-35ef25834eeb",
   "metadata": {},
   "outputs": [],
   "source": []
  }
 ],
 "metadata": {
  "kernelspec": {
   "display_name": "Python 3 (ipykernel)",
   "language": "python",
   "name": "python3"
  },
  "language_info": {
   "codemirror_mode": {
    "name": "ipython",
    "version": 3
   },
   "file_extension": ".py",
   "mimetype": "text/x-python",
   "name": "python",
   "nbconvert_exporter": "python",
   "pygments_lexer": "ipython3",
   "version": "3.10.12"
  }
 },
 "nbformat": 4,
 "nbformat_minor": 5
}
