{
 "cells": [
  {
   "cell_type": "code",
   "execution_count": 1,
   "id": "a1779327-ab67-40d6-8e66-2ce192f05a2d",
   "metadata": {},
   "outputs": [],
   "source": [
    "import pandas as pd\n",
    "\n",
    "train_df = pd.read_parquet(\n",
    "    \"http://storage.googleapis.com/arize-assets/phoenix/datasets/unstructured/cv/human-actions/human_actions_training.parquet\"\n",
    ")"
   ]
  },
  {
   "cell_type": "code",
   "execution_count": 2,
   "id": "62d68f6f-ead6-40a9-9bb5-2458dc29b46a",
   "metadata": {},
   "outputs": [
    {
     "name": "stderr",
     "output_type": "stream",
     "text": [
      "/media/uberdev/ddrv/telemetenv/lib/python3.10/site-packages/tqdm/auto.py:21: TqdmWarning: IProgress not found. Please update jupyter and ipywidgets. See https://ipywidgets.readthedocs.io/en/stable/user_install.html\n",
      "  from .autonotebook import tqdm as notebook_tqdm\n"
     ]
    }
   ],
   "source": [
    "import phoenix as px\n",
    "\n",
    "# Define Schema to indicate which columns in train_df should map to each field\n",
    "train_schema = px.Schema(\n",
    "    timestamp_column_name=\"prediction_ts\",\n",
    "    prediction_label_column_name=\"predicted_action\",\n",
    "    actual_label_column_name=\"actual_action\",\n",
    "    embedding_feature_column_names={\n",
    "        \"image_embedding\": px.EmbeddingColumnNames(\n",
    "            vector_column_name=\"image_vector\",\n",
    "            link_to_data_column_name=\"url\",\n",
    "        ),\n",
    "    },\n",
    ")"
   ]
  },
  {
   "cell_type": "code",
   "execution_count": 5,
   "id": "5b2dc6a4-c581-4eb9-a960-a1e63093134c",
   "metadata": {},
   "outputs": [
    {
     "name": "stderr",
     "output_type": "stream",
     "text": [
      "INFO:phoenix.inferences.inferences:Dataset: training initialized\n"
     ]
    }
   ],
   "source": [
    "import phoenix as px\n",
    "train_ds = px.Inferences(dataframe=train_df, schema=train_schema, name=\"training\")"
   ]
  },
  {
   "cell_type": "code",
   "execution_count": 7,
   "id": "c3428f01-de3f-4897-906b-3331f99af4b4",
   "metadata": {
    "collapsed": true,
    "jupyter": {
     "outputs_hidden": true
    }
   },
   "outputs": [
    {
     "name": "stdout",
     "output_type": "stream",
     "text": [
      "🌍 To view the Phoenix app in your browser, visit http://localhost:6006/\n",
      "📖 For more information on how to use Phoenix, check out https://docs.arize.com/phoenix\n"
     ]
    },
    {
     "name": "stderr",
     "output_type": "stream",
     "text": [
      "/media/uberdev/ddrv/telemetenv/lib/python3.10/site-packages/phoenix/server/api/types/EmbeddingDimension.py:425: FutureWarning: Series.__getitem__ treating keys as positions is deprecated. In a future version, integer keys will always be treated as labels (consistent with DataFrame behavior). To access a value by position, use `ser.iloc[pos]`\n",
      "  prediction_id=dataset[PREDICTION_ID][row_id],\n",
      "/media/uberdev/ddrv/telemetenv/lib/python3.10/site-packages/phoenix/server/api/types/EmbeddingDimension.py:426: FutureWarning: Series.__getitem__ treating keys as positions is deprecated. In a future version, integer keys will always be treated as labels (consistent with DataFrame behavior). To access a value by position, use `ser.iloc[pos]`\n",
      "  link_to_data=dataset[self.dimension.link_to_data][row_id],\n",
      "/media/uberdev/ddrv/telemetenv/lib/python3.10/site-packages/phoenix/server/api/types/EmbeddingDimension.py:427: FutureWarning: Series.__getitem__ treating keys as positions is deprecated. In a future version, integer keys will always be treated as labels (consistent with DataFrame behavior). To access a value by position, use `ser.iloc[pos]`\n",
      "  raw_data=dataset[self.dimension.raw_data][row_id],\n",
      "/media/uberdev/ddrv/telemetenv/lib/python3.10/site-packages/phoenix/server/api/types/EmbeddingDimension.py:448: FutureWarning: Series.__getitem__ treating keys as positions is deprecated. In a future version, integer keys will always be treated as labels (consistent with DataFrame behavior). To access a value by position, use `ser.iloc[pos]`\n",
      "  prediction_label=dataset[PREDICTION_LABEL][row_id],\n",
      "/media/uberdev/ddrv/telemetenv/lib/python3.10/site-packages/phoenix/server/api/types/EmbeddingDimension.py:449: FutureWarning: Series.__getitem__ treating keys as positions is deprecated. In a future version, integer keys will always be treated as labels (consistent with DataFrame behavior). To access a value by position, use `ser.iloc[pos]`\n",
      "  prediction_score=dataset[PREDICTION_SCORE][row_id],\n",
      "/media/uberdev/ddrv/telemetenv/lib/python3.10/site-packages/phoenix/server/api/types/EmbeddingDimension.py:450: FutureWarning: Series.__getitem__ treating keys as positions is deprecated. In a future version, integer keys will always be treated as labels (consistent with DataFrame behavior). To access a value by position, use `ser.iloc[pos]`\n",
      "  actual_label=dataset[ACTUAL_LABEL][row_id],\n",
      "/media/uberdev/ddrv/telemetenv/lib/python3.10/site-packages/phoenix/server/api/types/EmbeddingDimension.py:451: FutureWarning: Series.__getitem__ treating keys as positions is deprecated. In a future version, integer keys will always be treated as labels (consistent with DataFrame behavior). To access a value by position, use `ser.iloc[pos]`\n",
      "  actual_score=dataset[ACTUAL_SCORE][row_id],\n",
      "/media/uberdev/ddrv/telemetenv/lib/python3.10/site-packages/phoenix/server/api/types/EmbeddingDimension.py:425: FutureWarning: Series.__getitem__ treating keys as positions is deprecated. In a future version, integer keys will always be treated as labels (consistent with DataFrame behavior). To access a value by position, use `ser.iloc[pos]`\n",
      "  prediction_id=dataset[PREDICTION_ID][row_id],\n",
      "/media/uberdev/ddrv/telemetenv/lib/python3.10/site-packages/phoenix/server/api/types/EmbeddingDimension.py:426: FutureWarning: Series.__getitem__ treating keys as positions is deprecated. In a future version, integer keys will always be treated as labels (consistent with DataFrame behavior). To access a value by position, use `ser.iloc[pos]`\n",
      "  link_to_data=dataset[self.dimension.link_to_data][row_id],\n",
      "/media/uberdev/ddrv/telemetenv/lib/python3.10/site-packages/phoenix/server/api/types/EmbeddingDimension.py:427: FutureWarning: Series.__getitem__ treating keys as positions is deprecated. In a future version, integer keys will always be treated as labels (consistent with DataFrame behavior). To access a value by position, use `ser.iloc[pos]`\n",
      "  raw_data=dataset[self.dimension.raw_data][row_id],\n",
      "/media/uberdev/ddrv/telemetenv/lib/python3.10/site-packages/phoenix/server/api/types/EmbeddingDimension.py:448: FutureWarning: Series.__getitem__ treating keys as positions is deprecated. In a future version, integer keys will always be treated as labels (consistent with DataFrame behavior). To access a value by position, use `ser.iloc[pos]`\n",
      "  prediction_label=dataset[PREDICTION_LABEL][row_id],\n",
      "/media/uberdev/ddrv/telemetenv/lib/python3.10/site-packages/phoenix/server/api/types/EmbeddingDimension.py:449: FutureWarning: Series.__getitem__ treating keys as positions is deprecated. In a future version, integer keys will always be treated as labels (consistent with DataFrame behavior). To access a value by position, use `ser.iloc[pos]`\n",
      "  prediction_score=dataset[PREDICTION_SCORE][row_id],\n",
      "/media/uberdev/ddrv/telemetenv/lib/python3.10/site-packages/phoenix/server/api/types/EmbeddingDimension.py:450: FutureWarning: Series.__getitem__ treating keys as positions is deprecated. In a future version, integer keys will always be treated as labels (consistent with DataFrame behavior). To access a value by position, use `ser.iloc[pos]`\n",
      "  actual_label=dataset[ACTUAL_LABEL][row_id],\n",
      "/media/uberdev/ddrv/telemetenv/lib/python3.10/site-packages/phoenix/server/api/types/EmbeddingDimension.py:451: FutureWarning: Series.__getitem__ treating keys as positions is deprecated. In a future version, integer keys will always be treated as labels (consistent with DataFrame behavior). To access a value by position, use `ser.iloc[pos]`\n",
      "  actual_score=dataset[ACTUAL_SCORE][row_id],\n",
      "/media/uberdev/ddrv/telemetenv/lib/python3.10/site-packages/phoenix/server/api/types/EmbeddingDimension.py:425: FutureWarning: Series.__getitem__ treating keys as positions is deprecated. In a future version, integer keys will always be treated as labels (consistent with DataFrame behavior). To access a value by position, use `ser.iloc[pos]`\n",
      "  prediction_id=dataset[PREDICTION_ID][row_id],\n",
      "/media/uberdev/ddrv/telemetenv/lib/python3.10/site-packages/phoenix/server/api/types/EmbeddingDimension.py:426: FutureWarning: Series.__getitem__ treating keys as positions is deprecated. In a future version, integer keys will always be treated as labels (consistent with DataFrame behavior). To access a value by position, use `ser.iloc[pos]`\n",
      "  link_to_data=dataset[self.dimension.link_to_data][row_id],\n",
      "/media/uberdev/ddrv/telemetenv/lib/python3.10/site-packages/phoenix/server/api/types/EmbeddingDimension.py:427: FutureWarning: Series.__getitem__ treating keys as positions is deprecated. In a future version, integer keys will always be treated as labels (consistent with DataFrame behavior). To access a value by position, use `ser.iloc[pos]`\n",
      "  raw_data=dataset[self.dimension.raw_data][row_id],\n",
      "/media/uberdev/ddrv/telemetenv/lib/python3.10/site-packages/phoenix/server/api/types/EmbeddingDimension.py:448: FutureWarning: Series.__getitem__ treating keys as positions is deprecated. In a future version, integer keys will always be treated as labels (consistent with DataFrame behavior). To access a value by position, use `ser.iloc[pos]`\n",
      "  prediction_label=dataset[PREDICTION_LABEL][row_id],\n",
      "/media/uberdev/ddrv/telemetenv/lib/python3.10/site-packages/phoenix/server/api/types/EmbeddingDimension.py:449: FutureWarning: Series.__getitem__ treating keys as positions is deprecated. In a future version, integer keys will always be treated as labels (consistent with DataFrame behavior). To access a value by position, use `ser.iloc[pos]`\n",
      "  prediction_score=dataset[PREDICTION_SCORE][row_id],\n",
      "/media/uberdev/ddrv/telemetenv/lib/python3.10/site-packages/phoenix/server/api/types/EmbeddingDimension.py:450: FutureWarning: Series.__getitem__ treating keys as positions is deprecated. In a future version, integer keys will always be treated as labels (consistent with DataFrame behavior). To access a value by position, use `ser.iloc[pos]`\n",
      "  actual_label=dataset[ACTUAL_LABEL][row_id],\n",
      "/media/uberdev/ddrv/telemetenv/lib/python3.10/site-packages/phoenix/server/api/types/EmbeddingDimension.py:451: FutureWarning: Series.__getitem__ treating keys as positions is deprecated. In a future version, integer keys will always be treated as labels (consistent with DataFrame behavior). To access a value by position, use `ser.iloc[pos]`\n",
      "  actual_score=dataset[ACTUAL_SCORE][row_id],\n",
      "/media/uberdev/ddrv/telemetenv/lib/python3.10/site-packages/phoenix/server/api/types/EmbeddingDimension.py:425: FutureWarning: Series.__getitem__ treating keys as positions is deprecated. In a future version, integer keys will always be treated as labels (consistent with DataFrame behavior). To access a value by position, use `ser.iloc[pos]`\n",
      "  prediction_id=dataset[PREDICTION_ID][row_id],\n",
      "/media/uberdev/ddrv/telemetenv/lib/python3.10/site-packages/phoenix/server/api/types/EmbeddingDimension.py:426: FutureWarning: Series.__getitem__ treating keys as positions is deprecated. In a future version, integer keys will always be treated as labels (consistent with DataFrame behavior). To access a value by position, use `ser.iloc[pos]`\n",
      "  link_to_data=dataset[self.dimension.link_to_data][row_id],\n",
      "/media/uberdev/ddrv/telemetenv/lib/python3.10/site-packages/phoenix/server/api/types/EmbeddingDimension.py:427: FutureWarning: Series.__getitem__ treating keys as positions is deprecated. In a future version, integer keys will always be treated as labels (consistent with DataFrame behavior). To access a value by position, use `ser.iloc[pos]`\n",
      "  raw_data=dataset[self.dimension.raw_data][row_id],\n",
      "/media/uberdev/ddrv/telemetenv/lib/python3.10/site-packages/phoenix/server/api/types/EmbeddingDimension.py:448: FutureWarning: Series.__getitem__ treating keys as positions is deprecated. In a future version, integer keys will always be treated as labels (consistent with DataFrame behavior). To access a value by position, use `ser.iloc[pos]`\n",
      "  prediction_label=dataset[PREDICTION_LABEL][row_id],\n",
      "/media/uberdev/ddrv/telemetenv/lib/python3.10/site-packages/phoenix/server/api/types/EmbeddingDimension.py:449: FutureWarning: Series.__getitem__ treating keys as positions is deprecated. In a future version, integer keys will always be treated as labels (consistent with DataFrame behavior). To access a value by position, use `ser.iloc[pos]`\n",
      "  prediction_score=dataset[PREDICTION_SCORE][row_id],\n",
      "/media/uberdev/ddrv/telemetenv/lib/python3.10/site-packages/phoenix/server/api/types/EmbeddingDimension.py:450: FutureWarning: Series.__getitem__ treating keys as positions is deprecated. In a future version, integer keys will always be treated as labels (consistent with DataFrame behavior). To access a value by position, use `ser.iloc[pos]`\n",
      "  actual_label=dataset[ACTUAL_LABEL][row_id],\n",
      "/media/uberdev/ddrv/telemetenv/lib/python3.10/site-packages/phoenix/server/api/types/EmbeddingDimension.py:451: FutureWarning: Series.__getitem__ treating keys as positions is deprecated. In a future version, integer keys will always be treated as labels (consistent with DataFrame behavior). To access a value by position, use `ser.iloc[pos]`\n",
      "  actual_score=dataset[ACTUAL_SCORE][row_id],\n"
     ]
    }
   ],
   "source": [
    "session = px.launch_app(primary=train_ds)"
   ]
  },
  {
   "cell_type": "code",
   "execution_count": 8,
   "id": "825813a7-6fe7-439a-8e17-1b140c82b08f",
   "metadata": {},
   "outputs": [],
   "source": [
    "px.close_app()"
   ]
  },
  {
   "cell_type": "code",
   "execution_count": 9,
   "id": "54fbd002-5aa0-4c1d-bdcf-857daf05bfb4",
   "metadata": {},
   "outputs": [
    {
     "data": {
      "text/html": [
       "<div>\n",
       "<style scoped>\n",
       "    .dataframe tbody tr th:only-of-type {\n",
       "        vertical-align: middle;\n",
       "    }\n",
       "\n",
       "    .dataframe tbody tr th {\n",
       "        vertical-align: top;\n",
       "    }\n",
       "\n",
       "    .dataframe thead th {\n",
       "        text-align: right;\n",
       "    }\n",
       "</style>\n",
       "<table border=\"1\" class=\"dataframe\">\n",
       "  <thead>\n",
       "    <tr style=\"text-align: right;\">\n",
       "      <th></th>\n",
       "      <th>prediction_id</th>\n",
       "      <th>prediction_ts</th>\n",
       "      <th>url</th>\n",
       "      <th>image_vector</th>\n",
       "      <th>actual_action</th>\n",
       "      <th>predicted_action</th>\n",
       "    </tr>\n",
       "  </thead>\n",
       "  <tbody>\n",
       "    <tr>\n",
       "      <th>0</th>\n",
       "      <td>595d87df-5d50-4d60-bc5f-3ad1cc483190</td>\n",
       "      <td>1.655757e+09</td>\n",
       "      <td>https://storage.googleapis.com/arize-assets/fi...</td>\n",
       "      <td>[0.26720312, 0.02652928, 0.0, 0.028591828, 0.0...</td>\n",
       "      <td>drinking</td>\n",
       "      <td>drinking</td>\n",
       "    </tr>\n",
       "    <tr>\n",
       "      <th>1</th>\n",
       "      <td>37596b85-c007-4e4f-901d-b87e5297d4b8</td>\n",
       "      <td>1.655757e+09</td>\n",
       "      <td>https://storage.googleapis.com/arize-assets/fi...</td>\n",
       "      <td>[0.08745878, 0.0, 0.16057675, 0.036570743, 0.0...</td>\n",
       "      <td>fighting</td>\n",
       "      <td>fighting</td>\n",
       "    </tr>\n",
       "    <tr>\n",
       "      <th>2</th>\n",
       "      <td>b048d389-539a-4ffb-be61-2f4daa52e700</td>\n",
       "      <td>1.655757e+09</td>\n",
       "      <td>https://storage.googleapis.com/arize-assets/fi...</td>\n",
       "      <td>[0.9822482, 0.0, 0.037284207, 0.017358225, 0.2...</td>\n",
       "      <td>clapping</td>\n",
       "      <td>clapping</td>\n",
       "    </tr>\n",
       "    <tr>\n",
       "      <th>3</th>\n",
       "      <td>3e00c023-49b4-49c2-9922-7ecbf1349c04</td>\n",
       "      <td>1.655757e+09</td>\n",
       "      <td>https://storage.googleapis.com/arize-assets/fi...</td>\n",
       "      <td>[0.028404092, 0.063946, 1.0448836, 0.65191674,...</td>\n",
       "      <td>fighting</td>\n",
       "      <td>fighting</td>\n",
       "    </tr>\n",
       "    <tr>\n",
       "      <th>4</th>\n",
       "      <td>fb38b050-fb12-43af-b27d-629653b5df86</td>\n",
       "      <td>1.655758e+09</td>\n",
       "      <td>https://storage.googleapis.com/arize-assets/fi...</td>\n",
       "      <td>[0.06121698, 0.5172761, 0.50730985, 0.5771937,...</td>\n",
       "      <td>sitting</td>\n",
       "      <td>sitting</td>\n",
       "    </tr>\n",
       "  </tbody>\n",
       "</table>\n",
       "</div>"
      ],
      "text/plain": [
       "                          prediction_id  prediction_ts  \\\n",
       "0  595d87df-5d50-4d60-bc5f-3ad1cc483190   1.655757e+09   \n",
       "1  37596b85-c007-4e4f-901d-b87e5297d4b8   1.655757e+09   \n",
       "2  b048d389-539a-4ffb-be61-2f4daa52e700   1.655757e+09   \n",
       "3  3e00c023-49b4-49c2-9922-7ecbf1349c04   1.655757e+09   \n",
       "4  fb38b050-fb12-43af-b27d-629653b5df86   1.655758e+09   \n",
       "\n",
       "                                                 url  \\\n",
       "0  https://storage.googleapis.com/arize-assets/fi...   \n",
       "1  https://storage.googleapis.com/arize-assets/fi...   \n",
       "2  https://storage.googleapis.com/arize-assets/fi...   \n",
       "3  https://storage.googleapis.com/arize-assets/fi...   \n",
       "4  https://storage.googleapis.com/arize-assets/fi...   \n",
       "\n",
       "                                        image_vector actual_action  \\\n",
       "0  [0.26720312, 0.02652928, 0.0, 0.028591828, 0.0...      drinking   \n",
       "1  [0.08745878, 0.0, 0.16057675, 0.036570743, 0.0...      fighting   \n",
       "2  [0.9822482, 0.0, 0.037284207, 0.017358225, 0.2...      clapping   \n",
       "3  [0.028404092, 0.063946, 1.0448836, 0.65191674,...      fighting   \n",
       "4  [0.06121698, 0.5172761, 0.50730985, 0.5771937,...       sitting   \n",
       "\n",
       "  predicted_action  \n",
       "0         drinking  \n",
       "1         fighting  \n",
       "2         clapping  \n",
       "3         fighting  \n",
       "4          sitting  "
      ]
     },
     "execution_count": 9,
     "metadata": {},
     "output_type": "execute_result"
    }
   ],
   "source": [
    "prod_df = pd.read_parquet(\n",
    "    \"http://storage.googleapis.com/arize-assets/phoenix/datasets/unstructured/cv/human-actions/human_actions_training.parquet\"\n",
    ")\n",
    "\n",
    "prod_df.head()"
   ]
  },
  {
   "cell_type": "code",
   "execution_count": 10,
   "id": "cdbdb7a7-b00a-4868-be49-d3d7baa7fd85",
   "metadata": {},
   "outputs": [],
   "source": [
    "prod_schema = px.Schema(\n",
    "    timestamp_column_name=\"prediction_ts\",\n",
    "    prediction_label_column_name=\"predicted_action\",\n",
    "    embedding_feature_column_names={\n",
    "        \"image_embedding\": px.EmbeddingColumnNames(\n",
    "            vector_column_name=\"image_vector\",\n",
    "            link_to_data_column_name=\"url\",\n",
    "        ),\n",
    "    },\n",
    ")"
   ]
  },
  {
   "cell_type": "code",
   "execution_count": 12,
   "id": "12f0ac6e-bdf2-497c-aaec-72c46bf4b5a6",
   "metadata": {},
   "outputs": [],
   "source": [
    "prod_ds = px.Inferences(dataframe=prod_df, schema=prod_schema, name=\"production\")"
   ]
  },
  {
   "cell_type": "code",
   "execution_count": 13,
   "id": "9988ebdd-1620-4d50-9d4a-d1f1ac58f258",
   "metadata": {},
   "outputs": [
    {
     "name": "stdout",
     "output_type": "stream",
     "text": [
      "🌍 To view the Phoenix app in your browser, visit http://localhost:6006/\n",
      "📖 For more information on how to use Phoenix, check out https://docs.arize.com/phoenix\n"
     ]
    },
    {
     "name": "stderr",
     "output_type": "stream",
     "text": [
      "/media/uberdev/ddrv/telemetenv/lib/python3.10/site-packages/phoenix/server/api/types/EmbeddingDimension.py:425: FutureWarning: Series.__getitem__ treating keys as positions is deprecated. In a future version, integer keys will always be treated as labels (consistent with DataFrame behavior). To access a value by position, use `ser.iloc[pos]`\n",
      "  prediction_id=dataset[PREDICTION_ID][row_id],\n",
      "/media/uberdev/ddrv/telemetenv/lib/python3.10/site-packages/phoenix/server/api/types/EmbeddingDimension.py:426: FutureWarning: Series.__getitem__ treating keys as positions is deprecated. In a future version, integer keys will always be treated as labels (consistent with DataFrame behavior). To access a value by position, use `ser.iloc[pos]`\n",
      "  link_to_data=dataset[self.dimension.link_to_data][row_id],\n",
      "/media/uberdev/ddrv/telemetenv/lib/python3.10/site-packages/phoenix/server/api/types/EmbeddingDimension.py:427: FutureWarning: Series.__getitem__ treating keys as positions is deprecated. In a future version, integer keys will always be treated as labels (consistent with DataFrame behavior). To access a value by position, use `ser.iloc[pos]`\n",
      "  raw_data=dataset[self.dimension.raw_data][row_id],\n",
      "/media/uberdev/ddrv/telemetenv/lib/python3.10/site-packages/phoenix/server/api/types/EmbeddingDimension.py:448: FutureWarning: Series.__getitem__ treating keys as positions is deprecated. In a future version, integer keys will always be treated as labels (consistent with DataFrame behavior). To access a value by position, use `ser.iloc[pos]`\n",
      "  prediction_label=dataset[PREDICTION_LABEL][row_id],\n",
      "/media/uberdev/ddrv/telemetenv/lib/python3.10/site-packages/phoenix/server/api/types/EmbeddingDimension.py:449: FutureWarning: Series.__getitem__ treating keys as positions is deprecated. In a future version, integer keys will always be treated as labels (consistent with DataFrame behavior). To access a value by position, use `ser.iloc[pos]`\n",
      "  prediction_score=dataset[PREDICTION_SCORE][row_id],\n",
      "/media/uberdev/ddrv/telemetenv/lib/python3.10/site-packages/phoenix/server/api/types/EmbeddingDimension.py:450: FutureWarning: Series.__getitem__ treating keys as positions is deprecated. In a future version, integer keys will always be treated as labels (consistent with DataFrame behavior). To access a value by position, use `ser.iloc[pos]`\n",
      "  actual_label=dataset[ACTUAL_LABEL][row_id],\n",
      "/media/uberdev/ddrv/telemetenv/lib/python3.10/site-packages/phoenix/server/api/types/EmbeddingDimension.py:451: FutureWarning: Series.__getitem__ treating keys as positions is deprecated. In a future version, integer keys will always be treated as labels (consistent with DataFrame behavior). To access a value by position, use `ser.iloc[pos]`\n",
      "  actual_score=dataset[ACTUAL_SCORE][row_id],\n",
      "/media/uberdev/ddrv/telemetenv/lib/python3.10/site-packages/phoenix/server/api/types/EmbeddingDimension.py:425: FutureWarning: Series.__getitem__ treating keys as positions is deprecated. In a future version, integer keys will always be treated as labels (consistent with DataFrame behavior). To access a value by position, use `ser.iloc[pos]`\n",
      "  prediction_id=dataset[PREDICTION_ID][row_id],\n",
      "/media/uberdev/ddrv/telemetenv/lib/python3.10/site-packages/phoenix/server/api/types/EmbeddingDimension.py:426: FutureWarning: Series.__getitem__ treating keys as positions is deprecated. In a future version, integer keys will always be treated as labels (consistent with DataFrame behavior). To access a value by position, use `ser.iloc[pos]`\n",
      "  link_to_data=dataset[self.dimension.link_to_data][row_id],\n",
      "/media/uberdev/ddrv/telemetenv/lib/python3.10/site-packages/phoenix/server/api/types/EmbeddingDimension.py:427: FutureWarning: Series.__getitem__ treating keys as positions is deprecated. In a future version, integer keys will always be treated as labels (consistent with DataFrame behavior). To access a value by position, use `ser.iloc[pos]`\n",
      "  raw_data=dataset[self.dimension.raw_data][row_id],\n",
      "/media/uberdev/ddrv/telemetenv/lib/python3.10/site-packages/phoenix/server/api/types/EmbeddingDimension.py:448: FutureWarning: Series.__getitem__ treating keys as positions is deprecated. In a future version, integer keys will always be treated as labels (consistent with DataFrame behavior). To access a value by position, use `ser.iloc[pos]`\n",
      "  prediction_label=dataset[PREDICTION_LABEL][row_id],\n",
      "/media/uberdev/ddrv/telemetenv/lib/python3.10/site-packages/phoenix/server/api/types/EmbeddingDimension.py:449: FutureWarning: Series.__getitem__ treating keys as positions is deprecated. In a future version, integer keys will always be treated as labels (consistent with DataFrame behavior). To access a value by position, use `ser.iloc[pos]`\n",
      "  prediction_score=dataset[PREDICTION_SCORE][row_id],\n",
      "/media/uberdev/ddrv/telemetenv/lib/python3.10/site-packages/phoenix/server/api/types/EmbeddingDimension.py:450: FutureWarning: Series.__getitem__ treating keys as positions is deprecated. In a future version, integer keys will always be treated as labels (consistent with DataFrame behavior). To access a value by position, use `ser.iloc[pos]`\n",
      "  actual_label=dataset[ACTUAL_LABEL][row_id],\n",
      "/media/uberdev/ddrv/telemetenv/lib/python3.10/site-packages/phoenix/server/api/types/EmbeddingDimension.py:451: FutureWarning: Series.__getitem__ treating keys as positions is deprecated. In a future version, integer keys will always be treated as labels (consistent with DataFrame behavior). To access a value by position, use `ser.iloc[pos]`\n",
      "  actual_score=dataset[ACTUAL_SCORE][row_id],\n",
      "/media/uberdev/ddrv/telemetenv/lib/python3.10/site-packages/phoenix/server/api/types/EmbeddingDimension.py:425: FutureWarning: Series.__getitem__ treating keys as positions is deprecated. In a future version, integer keys will always be treated as labels (consistent with DataFrame behavior). To access a value by position, use `ser.iloc[pos]`\n",
      "  prediction_id=dataset[PREDICTION_ID][row_id],\n",
      "/media/uberdev/ddrv/telemetenv/lib/python3.10/site-packages/phoenix/server/api/types/EmbeddingDimension.py:426: FutureWarning: Series.__getitem__ treating keys as positions is deprecated. In a future version, integer keys will always be treated as labels (consistent with DataFrame behavior). To access a value by position, use `ser.iloc[pos]`\n",
      "  link_to_data=dataset[self.dimension.link_to_data][row_id],\n",
      "/media/uberdev/ddrv/telemetenv/lib/python3.10/site-packages/phoenix/server/api/types/EmbeddingDimension.py:427: FutureWarning: Series.__getitem__ treating keys as positions is deprecated. In a future version, integer keys will always be treated as labels (consistent with DataFrame behavior). To access a value by position, use `ser.iloc[pos]`\n",
      "  raw_data=dataset[self.dimension.raw_data][row_id],\n",
      "/media/uberdev/ddrv/telemetenv/lib/python3.10/site-packages/phoenix/server/api/types/EmbeddingDimension.py:448: FutureWarning: Series.__getitem__ treating keys as positions is deprecated. In a future version, integer keys will always be treated as labels (consistent with DataFrame behavior). To access a value by position, use `ser.iloc[pos]`\n",
      "  prediction_label=dataset[PREDICTION_LABEL][row_id],\n",
      "/media/uberdev/ddrv/telemetenv/lib/python3.10/site-packages/phoenix/server/api/types/EmbeddingDimension.py:449: FutureWarning: Series.__getitem__ treating keys as positions is deprecated. In a future version, integer keys will always be treated as labels (consistent with DataFrame behavior). To access a value by position, use `ser.iloc[pos]`\n",
      "  prediction_score=dataset[PREDICTION_SCORE][row_id],\n",
      "/media/uberdev/ddrv/telemetenv/lib/python3.10/site-packages/phoenix/server/api/types/EmbeddingDimension.py:450: FutureWarning: Series.__getitem__ treating keys as positions is deprecated. In a future version, integer keys will always be treated as labels (consistent with DataFrame behavior). To access a value by position, use `ser.iloc[pos]`\n",
      "  actual_label=dataset[ACTUAL_LABEL][row_id],\n",
      "/media/uberdev/ddrv/telemetenv/lib/python3.10/site-packages/phoenix/server/api/types/EmbeddingDimension.py:451: FutureWarning: Series.__getitem__ treating keys as positions is deprecated. In a future version, integer keys will always be treated as labels (consistent with DataFrame behavior). To access a value by position, use `ser.iloc[pos]`\n",
      "  actual_score=dataset[ACTUAL_SCORE][row_id],\n",
      "/media/uberdev/ddrv/telemetenv/lib/python3.10/site-packages/phoenix/server/api/types/EmbeddingDimension.py:425: FutureWarning: Series.__getitem__ treating keys as positions is deprecated. In a future version, integer keys will always be treated as labels (consistent with DataFrame behavior). To access a value by position, use `ser.iloc[pos]`\n",
      "  prediction_id=dataset[PREDICTION_ID][row_id],\n",
      "/media/uberdev/ddrv/telemetenv/lib/python3.10/site-packages/phoenix/server/api/types/EmbeddingDimension.py:426: FutureWarning: Series.__getitem__ treating keys as positions is deprecated. In a future version, integer keys will always be treated as labels (consistent with DataFrame behavior). To access a value by position, use `ser.iloc[pos]`\n",
      "  link_to_data=dataset[self.dimension.link_to_data][row_id],\n",
      "/media/uberdev/ddrv/telemetenv/lib/python3.10/site-packages/phoenix/server/api/types/EmbeddingDimension.py:427: FutureWarning: Series.__getitem__ treating keys as positions is deprecated. In a future version, integer keys will always be treated as labels (consistent with DataFrame behavior). To access a value by position, use `ser.iloc[pos]`\n",
      "  raw_data=dataset[self.dimension.raw_data][row_id],\n",
      "/media/uberdev/ddrv/telemetenv/lib/python3.10/site-packages/phoenix/server/api/types/EmbeddingDimension.py:448: FutureWarning: Series.__getitem__ treating keys as positions is deprecated. In a future version, integer keys will always be treated as labels (consistent with DataFrame behavior). To access a value by position, use `ser.iloc[pos]`\n",
      "  prediction_label=dataset[PREDICTION_LABEL][row_id],\n",
      "/media/uberdev/ddrv/telemetenv/lib/python3.10/site-packages/phoenix/server/api/types/EmbeddingDimension.py:449: FutureWarning: Series.__getitem__ treating keys as positions is deprecated. In a future version, integer keys will always be treated as labels (consistent with DataFrame behavior). To access a value by position, use `ser.iloc[pos]`\n",
      "  prediction_score=dataset[PREDICTION_SCORE][row_id],\n",
      "/media/uberdev/ddrv/telemetenv/lib/python3.10/site-packages/phoenix/server/api/types/EmbeddingDimension.py:450: FutureWarning: Series.__getitem__ treating keys as positions is deprecated. In a future version, integer keys will always be treated as labels (consistent with DataFrame behavior). To access a value by position, use `ser.iloc[pos]`\n",
      "  actual_label=dataset[ACTUAL_LABEL][row_id],\n",
      "/media/uberdev/ddrv/telemetenv/lib/python3.10/site-packages/phoenix/server/api/types/EmbeddingDimension.py:451: FutureWarning: Series.__getitem__ treating keys as positions is deprecated. In a future version, integer keys will always be treated as labels (consistent with DataFrame behavior). To access a value by position, use `ser.iloc[pos]`\n",
      "  actual_score=dataset[ACTUAL_SCORE][row_id],\n",
      "/media/uberdev/ddrv/telemetenv/lib/python3.10/site-packages/phoenix/server/api/types/EmbeddingDimension.py:425: FutureWarning: Series.__getitem__ treating keys as positions is deprecated. In a future version, integer keys will always be treated as labels (consistent with DataFrame behavior). To access a value by position, use `ser.iloc[pos]`\n",
      "  prediction_id=dataset[PREDICTION_ID][row_id],\n",
      "/media/uberdev/ddrv/telemetenv/lib/python3.10/site-packages/phoenix/server/api/types/EmbeddingDimension.py:426: FutureWarning: Series.__getitem__ treating keys as positions is deprecated. In a future version, integer keys will always be treated as labels (consistent with DataFrame behavior). To access a value by position, use `ser.iloc[pos]`\n",
      "  link_to_data=dataset[self.dimension.link_to_data][row_id],\n",
      "/media/uberdev/ddrv/telemetenv/lib/python3.10/site-packages/phoenix/server/api/types/EmbeddingDimension.py:427: FutureWarning: Series.__getitem__ treating keys as positions is deprecated. In a future version, integer keys will always be treated as labels (consistent with DataFrame behavior). To access a value by position, use `ser.iloc[pos]`\n",
      "  raw_data=dataset[self.dimension.raw_data][row_id],\n",
      "/media/uberdev/ddrv/telemetenv/lib/python3.10/site-packages/phoenix/server/api/types/EmbeddingDimension.py:448: FutureWarning: Series.__getitem__ treating keys as positions is deprecated. In a future version, integer keys will always be treated as labels (consistent with DataFrame behavior). To access a value by position, use `ser.iloc[pos]`\n",
      "  prediction_label=dataset[PREDICTION_LABEL][row_id],\n",
      "/media/uberdev/ddrv/telemetenv/lib/python3.10/site-packages/phoenix/server/api/types/EmbeddingDimension.py:449: FutureWarning: Series.__getitem__ treating keys as positions is deprecated. In a future version, integer keys will always be treated as labels (consistent with DataFrame behavior). To access a value by position, use `ser.iloc[pos]`\n",
      "  prediction_score=dataset[PREDICTION_SCORE][row_id],\n",
      "/media/uberdev/ddrv/telemetenv/lib/python3.10/site-packages/phoenix/server/api/types/EmbeddingDimension.py:450: FutureWarning: Series.__getitem__ treating keys as positions is deprecated. In a future version, integer keys will always be treated as labels (consistent with DataFrame behavior). To access a value by position, use `ser.iloc[pos]`\n",
      "  actual_label=dataset[ACTUAL_LABEL][row_id],\n",
      "/media/uberdev/ddrv/telemetenv/lib/python3.10/site-packages/phoenix/server/api/types/EmbeddingDimension.py:451: FutureWarning: Series.__getitem__ treating keys as positions is deprecated. In a future version, integer keys will always be treated as labels (consistent with DataFrame behavior). To access a value by position, use `ser.iloc[pos]`\n",
      "  actual_score=dataset[ACTUAL_SCORE][row_id],\n"
     ]
    }
   ],
   "source": [
    "session = px.launch_app(primary=prod_ds, reference=train_ds)"
   ]
  }
 ],
 "metadata": {
  "kernelspec": {
   "display_name": "Python 3 (ipykernel)",
   "language": "python",
   "name": "python3"
  },
  "language_info": {
   "codemirror_mode": {
    "name": "ipython",
    "version": 3
   },
   "file_extension": ".py",
   "mimetype": "text/x-python",
   "name": "python",
   "nbconvert_exporter": "python",
   "pygments_lexer": "ipython3",
   "version": "3.10.12"
  }
 },
 "nbformat": 4,
 "nbformat_minor": 5
}
