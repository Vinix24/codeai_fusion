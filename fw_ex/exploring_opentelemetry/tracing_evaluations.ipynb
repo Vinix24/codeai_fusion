{
 "cells": [
  {
   "cell_type": "code",
   "execution_count": 1,
   "id": "985ecf1b-6a01-41c3-a2fe-226419665d18",
   "metadata": {},
   "outputs": [
    {
     "name": "stderr",
     "output_type": "stream",
     "text": [
      "/media/uberdev/ddrv/telemetenv/lib/python3.10/site-packages/tqdm/auto.py:21: TqdmWarning: IProgress not found. Please update jupyter and ipywidgets. See https://ipywidgets.readthedocs.io/en/stable/user_install.html\n",
      "  from .autonotebook import tqdm as notebook_tqdm\n",
      "INFO:phoenix.config:📋 Ensuring phoenix working directory: /home/uberdev/.phoenix\n"
     ]
    },
    {
     "name": "stdout",
     "output_type": "stream",
     "text": [
      "🌍 To view the Phoenix app in your browser, visit http://localhost:6006/\n",
      "📖 For more information on how to use Phoenix, check out https://docs.arize.com/phoenix\n"
     ]
    },
    {
     "name": "stderr",
     "output_type": "stream",
     "text": [
      "/media/uberdev/ddrv/telemetenv/lib/python3.10/site-packages/phoenix/trace/dsl/query.py:746: FutureWarning: Series.__getitem__ treating keys as positions is deprecated. In a future version, integer keys will always be treated as labels (consistent with DataFrame behavior). To access a value by position, use `ser.iloc[pos]`\n",
      "  df_attributes = pd.DataFrame.from_records(\n"
     ]
    }
   ],
   "source": [
    "import phoenix as px\n",
    "session = px.launch_app()\n",
    "# will provide the URL, which provides the front \n",
    "# end for the collector"
   ]
  },
  {
   "cell_type": "code",
   "execution_count": 2,
   "id": "0d43ccf8-64ff-421e-8b94-61d67aa3a14e",
   "metadata": {},
   "outputs": [],
   "source": [
    "# will instrumment the OPENAI\n",
    "from phoenix.trace.openai import OpenAIInstrumentor"
   ]
  },
  {
   "cell_type": "code",
   "execution_count": 3,
   "id": "7102c555-4354-4679-ae35-86215fe98dd1",
   "metadata": {},
   "outputs": [],
   "source": [
    "# Auto-instrumentation of OpenAI\n",
    "OpenAIInstrumentor().instrument()"
   ]
  },
  {
   "cell_type": "code",
   "execution_count": 4,
   "id": "cd8cb81f-7d71-4d66-a052-fff3554a1f73",
   "metadata": {},
   "outputs": [],
   "source": [
    "import os\n",
    "from openai import OpenAI"
   ]
  },
  {
   "cell_type": "code",
   "execution_count": 5,
   "id": "86e0a69a-3d92-4322-9bd3-9c41dbbcda63",
   "metadata": {},
   "outputs": [
    {
     "data": {
      "text/plain": [
       "True"
      ]
     },
     "execution_count": 5,
     "metadata": {},
     "output_type": "execute_result"
    }
   ],
   "source": [
    "from dotenv import load_dotenv\n",
    "load_dotenv(\"/media/uberdev/ddrv/gitFolders/python_de_learners_data/.env\")"
   ]
  },
  {
   "cell_type": "code",
   "execution_count": 6,
   "id": "8d71379b-4bb8-4323-b12d-51af11ad8ed1",
   "metadata": {},
   "outputs": [],
   "source": [
    "client = OpenAI(api_key=os.environ[\"OPENAI_API_KEY\"])"
   ]
  },
  {
   "cell_type": "code",
   "execution_count": 7,
   "id": "5d1a1ab2-e480-4739-9c2a-d7c3e591b1d6",
   "metadata": {},
   "outputs": [],
   "source": [
    "conversation = [\n",
    "    {\"role\": \"system\", \"content\": \"You are a helpful assistant.\"},\n",
    "    {\"role\": \"user\", \"content\": \"Hello, can you help me with something?\"}\n",
    "]"
   ]
  },
  {
   "cell_type": "code",
   "execution_count": 9,
   "id": "fd7501aa-8f8a-4dff-995b-28c7beffd9e9",
   "metadata": {},
   "outputs": [],
   "source": [
    "response = client.chat.completions.create(\n",
    "    model=\"gpt-4o-mini\",\n",
    "    messages=conversation,\n",
    ")"
   ]
  },
  {
   "cell_type": "code",
   "execution_count": 10,
   "id": "ec2421bc-1d9f-4821-a1a0-9b2c35798c0b",
   "metadata": {},
   "outputs": [
    {
     "data": {
      "text/html": [
       "<div>\n",
       "<style scoped>\n",
       "    .dataframe tbody tr th:only-of-type {\n",
       "        vertical-align: middle;\n",
       "    }\n",
       "\n",
       "    .dataframe tbody tr th {\n",
       "        vertical-align: top;\n",
       "    }\n",
       "\n",
       "    .dataframe thead th {\n",
       "        text-align: right;\n",
       "    }\n",
       "</style>\n",
       "<table border=\"1\" class=\"dataframe\">\n",
       "  <thead>\n",
       "    <tr style=\"text-align: right;\">\n",
       "      <th></th>\n",
       "      <th>name</th>\n",
       "      <th>span_kind</th>\n",
       "      <th>parent_id</th>\n",
       "      <th>start_time</th>\n",
       "      <th>end_time</th>\n",
       "      <th>status_code</th>\n",
       "      <th>status_message</th>\n",
       "      <th>events</th>\n",
       "      <th>context.span_id</th>\n",
       "      <th>context.trace_id</th>\n",
       "      <th>...</th>\n",
       "      <th>attributes.input.mime_type</th>\n",
       "      <th>attributes.openinference.span.kind</th>\n",
       "      <th>attributes.llm.input_messages</th>\n",
       "      <th>attributes.llm.model_name</th>\n",
       "      <th>attributes.llm.output_messages</th>\n",
       "      <th>attributes.output.mime_type</th>\n",
       "      <th>attributes.llm.token_count.completion</th>\n",
       "      <th>attributes.llm.token_count.prompt</th>\n",
       "      <th>attributes.output.value</th>\n",
       "      <th>attributes.llm.token_count.total</th>\n",
       "    </tr>\n",
       "    <tr>\n",
       "      <th>context.span_id</th>\n",
       "      <th></th>\n",
       "      <th></th>\n",
       "      <th></th>\n",
       "      <th></th>\n",
       "      <th></th>\n",
       "      <th></th>\n",
       "      <th></th>\n",
       "      <th></th>\n",
       "      <th></th>\n",
       "      <th></th>\n",
       "      <th></th>\n",
       "      <th></th>\n",
       "      <th></th>\n",
       "      <th></th>\n",
       "      <th></th>\n",
       "      <th></th>\n",
       "      <th></th>\n",
       "      <th></th>\n",
       "      <th></th>\n",
       "      <th></th>\n",
       "      <th></th>\n",
       "    </tr>\n",
       "  </thead>\n",
       "  <tbody>\n",
       "    <tr>\n",
       "      <th>611691d71b3f5091</th>\n",
       "      <td>ChatCompletion</td>\n",
       "      <td>LLM</td>\n",
       "      <td>None</td>\n",
       "      <td>2024-08-15 15:52:39.076031+00:00</td>\n",
       "      <td>2024-08-15 15:52:39.759912+00:00</td>\n",
       "      <td>ERROR</td>\n",
       "      <td>NotFoundError: Error code: 404 - {'error': {'m...</td>\n",
       "      <td>[{'attributes': {'exception.escaped': 'False',...</td>\n",
       "      <td>611691d71b3f5091</td>\n",
       "      <td>3ec6da5d8ef31ece0cbccb3ad27e66b9</td>\n",
       "      <td>...</td>\n",
       "      <td>application/json</td>\n",
       "      <td>LLM</td>\n",
       "      <td>[{'message.content': 'You are a helpful assist...</td>\n",
       "      <td>None</td>\n",
       "      <td>None</td>\n",
       "      <td>None</td>\n",
       "      <td>NaN</td>\n",
       "      <td>NaN</td>\n",
       "      <td>None</td>\n",
       "      <td>NaN</td>\n",
       "    </tr>\n",
       "    <tr>\n",
       "      <th>d8c24f83b7e48428</th>\n",
       "      <td>ChatCompletion</td>\n",
       "      <td>LLM</td>\n",
       "      <td>None</td>\n",
       "      <td>2024-08-15 15:53:17.648469+00:00</td>\n",
       "      <td>2024-08-15 15:53:18.872164+00:00</td>\n",
       "      <td>OK</td>\n",
       "      <td></td>\n",
       "      <td>[]</td>\n",
       "      <td>d8c24f83b7e48428</td>\n",
       "      <td>43fb7a72b6f0411ee22c3c389aa4f275</td>\n",
       "      <td>...</td>\n",
       "      <td>application/json</td>\n",
       "      <td>LLM</td>\n",
       "      <td>[{'message.content': 'You are a helpful assist...</td>\n",
       "      <td>gpt-4o-mini-2024-07-18</td>\n",
       "      <td>[{'message.content': 'Of course! How can I ass...</td>\n",
       "      <td>application/json</td>\n",
       "      <td>10.0</td>\n",
       "      <td>26.0</td>\n",
       "      <td>{\"id\":\"chatcmpl-9wX4oPFyixLXS15IWBfs0AM30oZWz\"...</td>\n",
       "      <td>36.0</td>\n",
       "    </tr>\n",
       "  </tbody>\n",
       "</table>\n",
       "<p>2 rows × 22 columns</p>\n",
       "</div>"
      ],
      "text/plain": [
       "                            name span_kind parent_id  \\\n",
       "context.span_id                                        \n",
       "611691d71b3f5091  ChatCompletion       LLM      None   \n",
       "d8c24f83b7e48428  ChatCompletion       LLM      None   \n",
       "\n",
       "                                       start_time  \\\n",
       "context.span_id                                     \n",
       "611691d71b3f5091 2024-08-15 15:52:39.076031+00:00   \n",
       "d8c24f83b7e48428 2024-08-15 15:53:17.648469+00:00   \n",
       "\n",
       "                                         end_time status_code  \\\n",
       "context.span_id                                                 \n",
       "611691d71b3f5091 2024-08-15 15:52:39.759912+00:00       ERROR   \n",
       "d8c24f83b7e48428 2024-08-15 15:53:18.872164+00:00          OK   \n",
       "\n",
       "                                                     status_message  \\\n",
       "context.span_id                                                       \n",
       "611691d71b3f5091  NotFoundError: Error code: 404 - {'error': {'m...   \n",
       "d8c24f83b7e48428                                                      \n",
       "\n",
       "                                                             events  \\\n",
       "context.span_id                                                       \n",
       "611691d71b3f5091  [{'attributes': {'exception.escaped': 'False',...   \n",
       "d8c24f83b7e48428                                                 []   \n",
       "\n",
       "                   context.span_id                  context.trace_id  ...  \\\n",
       "context.span_id                                                       ...   \n",
       "611691d71b3f5091  611691d71b3f5091  3ec6da5d8ef31ece0cbccb3ad27e66b9  ...   \n",
       "d8c24f83b7e48428  d8c24f83b7e48428  43fb7a72b6f0411ee22c3c389aa4f275  ...   \n",
       "\n",
       "                 attributes.input.mime_type  \\\n",
       "context.span_id                               \n",
       "611691d71b3f5091           application/json   \n",
       "d8c24f83b7e48428           application/json   \n",
       "\n",
       "                 attributes.openinference.span.kind  \\\n",
       "context.span_id                                       \n",
       "611691d71b3f5091                                LLM   \n",
       "d8c24f83b7e48428                                LLM   \n",
       "\n",
       "                                      attributes.llm.input_messages  \\\n",
       "context.span_id                                                       \n",
       "611691d71b3f5091  [{'message.content': 'You are a helpful assist...   \n",
       "d8c24f83b7e48428  [{'message.content': 'You are a helpful assist...   \n",
       "\n",
       "                 attributes.llm.model_name  \\\n",
       "context.span_id                              \n",
       "611691d71b3f5091                      None   \n",
       "d8c24f83b7e48428    gpt-4o-mini-2024-07-18   \n",
       "\n",
       "                                     attributes.llm.output_messages  \\\n",
       "context.span_id                                                       \n",
       "611691d71b3f5091                                               None   \n",
       "d8c24f83b7e48428  [{'message.content': 'Of course! How can I ass...   \n",
       "\n",
       "                 attributes.output.mime_type  \\\n",
       "context.span_id                                \n",
       "611691d71b3f5091                        None   \n",
       "d8c24f83b7e48428            application/json   \n",
       "\n",
       "                 attributes.llm.token_count.completion  \\\n",
       "context.span_id                                          \n",
       "611691d71b3f5091                                   NaN   \n",
       "d8c24f83b7e48428                                  10.0   \n",
       "\n",
       "                 attributes.llm.token_count.prompt  \\\n",
       "context.span_id                                      \n",
       "611691d71b3f5091                               NaN   \n",
       "d8c24f83b7e48428                              26.0   \n",
       "\n",
       "                                            attributes.output.value  \\\n",
       "context.span_id                                                       \n",
       "611691d71b3f5091                                               None   \n",
       "d8c24f83b7e48428  {\"id\":\"chatcmpl-9wX4oPFyixLXS15IWBfs0AM30oZWz\"...   \n",
       "\n",
       "                  attributes.llm.token_count.total  \n",
       "context.span_id                                     \n",
       "611691d71b3f5091                               NaN  \n",
       "d8c24f83b7e48428                              36.0  \n",
       "\n",
       "[2 rows x 22 columns]"
      ]
     },
     "execution_count": 10,
     "metadata": {},
     "output_type": "execute_result"
    }
   ],
   "source": [
    "# exporting traces\n",
    "df = px.Client().get_spans_dataframe()\n",
    "df.head()"
   ]
  },
  {
   "cell_type": "code",
   "execution_count": 11,
   "id": "b2d75ba8-3956-4982-8c36-1ca2cd185395",
   "metadata": {},
   "outputs": [],
   "source": [
    "# LLM evaluation is best done with Human Labelling which doesn't \n",
    "# scale. Using LLMs itself to Eval is becoming a possibility. \n",
    "# https://docs.arize.com/phoenix/evaluation/llm-evals"
   ]
  },
  {
   "cell_type": "code",
   "execution_count": 5,
   "id": "8de922cd-a04a-47c6-8636-5f24d3bffb00",
   "metadata": {},
   "outputs": [],
   "source": [
    "# export data from the traces thot you already have\n",
    "\n",
    "from urllib.request import urlopen\n",
    "from phoenix.trace.trace_dataset import TraceDataset\n",
    "from phoenix.trace.utils import json_lines_to_df\n",
    "\n",
    "# Replace with the URL to your trace data\n",
    "traces_url = \"https://storage.googleapis.com/arize-assets/phoenix/datasets/unstructured/llm/context-retrieval/trace.jsonl\"\n",
    "\n",
    "with urlopen(traces_url) as response:\n",
    "    lines = [line.decode(\"utf-8\") for line in response.readlines()]\n",
    "\n",
    "trace_ds = TraceDataset(json_lines_to_df(lines))"
   ]
  },
  {
   "cell_type": "code",
   "execution_count": 6,
   "id": "2f71f7c4-bcc8-4ee8-be6b-3d1310a5b66c",
   "metadata": {},
   "outputs": [
    {
     "data": {
      "text/plain": [
       "(20, 27)"
      ]
     },
     "execution_count": 6,
     "metadata": {},
     "output_type": "execute_result"
    }
   ],
   "source": [
    "trace_ds.dataframe.shape"
   ]
  },
  {
   "cell_type": "code",
   "execution_count": 8,
   "id": "5289970b-e37b-430e-8e37-63432f77ad76",
   "metadata": {},
   "outputs": [
    {
     "data": {
      "text/plain": [
       "Index(['name', 'span_kind', 'parent_id', 'start_time', 'end_time',\n",
       "       'status_code', 'status_message', 'events', 'conversation',\n",
       "       'context.trace_id', 'context.span_id', 'attributes.input.value',\n",
       "       'attributes.input.mime_type', 'attributes.output.value',\n",
       "       'attributes.output.mime_type', 'attributes.llm.input_messages',\n",
       "       'attributes.llm.model_name', 'attributes.llm.invocation_parameters',\n",
       "       'attributes.llm.output_messages', 'attributes.llm.token_count.prompt',\n",
       "       'attributes.llm.token_count.completion',\n",
       "       'attributes.llm.token_count.total',\n",
       "       'attributes.llm.prompt_template.template',\n",
       "       'attributes.llm.prompt_template.variables',\n",
       "       'attributes.retrieval.documents', 'attributes.embedding.model_name',\n",
       "       'attributes.embedding.embeddings'],\n",
       "      dtype='object')"
      ]
     },
     "execution_count": 8,
     "metadata": {},
     "output_type": "execute_result"
    }
   ],
   "source": [
    "trace_ds.dataframe.columns"
   ]
  },
  {
   "cell_type": "code",
   "execution_count": 16,
   "id": "4dbb759a-f6ab-4879-b0ac-b11abc60248e",
   "metadata": {},
   "outputs": [],
   "source": [
    "# px.close_app()"
   ]
  },
  {
   "cell_type": "code",
   "execution_count": 2,
   "id": "94825287-5ef3-4b82-bbf6-e24f05deccf4",
   "metadata": {
    "collapsed": true,
    "jupyter": {
     "outputs_hidden": true
    }
   },
   "outputs": [
    {
     "name": "stderr",
     "output_type": "stream",
     "text": [
      "INFO:phoenix.config:📋 Ensuring phoenix working directory: /home/uberdev/.phoenix\n"
     ]
    },
    {
     "name": "stdout",
     "output_type": "stream",
     "text": [
      "🌍 To view the Phoenix app in your browser, visit http://localhost:6006/\n",
      "📖 For more information on how to use Phoenix, check out https://docs.arize.com/phoenix\n",
      "📺 Opening a view to the Phoenix app. The app is running at http://localhost:6006/\n"
     ]
    },
    {
     "data": {
      "text/html": [
       "\n",
       "        <iframe\n",
       "            width=\"100%\"\n",
       "            height=\"1000\"\n",
       "            src=\"http://localhost:6006/\"\n",
       "            frameborder=\"0\"\n",
       "            allowfullscreen\n",
       "            \n",
       "        ></iframe>\n",
       "        "
      ],
      "text/plain": [
       "<IPython.lib.display.IFrame at 0x7d7b16160370>"
      ]
     },
     "execution_count": 2,
     "metadata": {},
     "output_type": "execute_result"
    }
   ],
   "source": [
    "import phoenix as px\n",
    "session = px.launch_app(trace=trace_ds)\n",
    "session.view()"
   ]
  },
  {
   "cell_type": "code",
   "execution_count": 7,
   "id": "9d8eaa0f-79ba-4293-b184-4030a113281f",
   "metadata": {},
   "outputs": [
    {
     "name": "stderr",
     "output_type": "stream",
     "text": [
      "INFO:httpx:HTTP Request: GET http://localhost:6006/arize_phoenix_version \"HTTP/1.1 200 OK\"\n"
     ]
    }
   ],
   "source": [
    "# connecting to existing endpoint\n",
    "import phoenix as px\n",
    "phoenix_client = px.Client(endpoint=\"http://localhost:6006/\")"
   ]
  },
  {
   "cell_type": "code",
   "execution_count": 14,
   "id": "b493d85e-e0e6-43ae-89f9-1f08b243b933",
   "metadata": {
    "collapsed": true,
    "jupyter": {
     "outputs_hidden": true
    }
   },
   "outputs": [
    {
     "name": "stderr",
     "output_type": "stream",
     "text": [
      "INFO:httpx:HTTP Request: POST http://localhost:6006/v1/traces \"HTTP/1.1 204 No Content\"\n",
      "INFO:httpx:HTTP Request: POST http://localhost:6006/v1/traces \"HTTP/1.1 204 No Content\"\n",
      "INFO:httpx:HTTP Request: POST http://localhost:6006/v1/traces \"HTTP/1.1 204 No Content\"\n",
      "INFO:httpx:HTTP Request: POST http://localhost:6006/v1/traces \"HTTP/1.1 204 No Content\"\n",
      "INFO:httpx:HTTP Request: POST http://localhost:6006/v1/traces \"HTTP/1.1 204 No Content\"\n",
      "INFO:httpx:HTTP Request: POST http://localhost:6006/v1/traces \"HTTP/1.1 204 No Content\"\n",
      "INFO:httpx:HTTP Request: POST http://localhost:6006/v1/traces \"HTTP/1.1 204 No Content\"\n",
      "INFO:httpx:HTTP Request: POST http://localhost:6006/v1/traces \"HTTP/1.1 204 No Content\"\n",
      "INFO:httpx:HTTP Request: POST http://localhost:6006/v1/traces \"HTTP/1.1 204 No Content\"\n",
      "INFO:httpx:HTTP Request: POST http://localhost:6006/v1/traces \"HTTP/1.1 204 No Content\"\n",
      "INFO:httpx:HTTP Request: POST http://localhost:6006/v1/traces \"HTTP/1.1 204 No Content\"\n",
      "INFO:httpx:HTTP Request: POST http://localhost:6006/v1/traces \"HTTP/1.1 204 No Content\"\n",
      "INFO:httpx:HTTP Request: POST http://localhost:6006/v1/traces \"HTTP/1.1 204 No Content\"\n",
      "INFO:httpx:HTTP Request: POST http://localhost:6006/v1/traces \"HTTP/1.1 204 No Content\"\n",
      "INFO:httpx:HTTP Request: POST http://localhost:6006/v1/traces \"HTTP/1.1 204 No Content\"\n",
      "INFO:httpx:HTTP Request: POST http://localhost:6006/v1/traces \"HTTP/1.1 204 No Content\"\n",
      "INFO:httpx:HTTP Request: POST http://localhost:6006/v1/traces \"HTTP/1.1 204 No Content\"\n",
      "INFO:httpx:HTTP Request: POST http://localhost:6006/v1/traces \"HTTP/1.1 204 No Content\"\n",
      "INFO:httpx:HTTP Request: POST http://localhost:6006/v1/traces \"HTTP/1.1 204 No Content\"\n",
      "INFO:httpx:HTTP Request: POST http://localhost:6006/v1/traces \"HTTP/1.1 204 No Content\"\n"
     ]
    }
   ],
   "source": [
    "# Tried logging the trace dataset to server it did not work.\n",
    "phoenix_client.log_traces(trace_dataset=trace_ds,\n",
    "                         project_name='default')"
   ]
  },
  {
   "cell_type": "code",
   "execution_count": 17,
   "id": "ba90c90b-e75c-4a2c-8102-9610c306faf8",
   "metadata": {},
   "outputs": [
    {
     "data": {
      "text/html": [
       "<div>\n",
       "<style scoped>\n",
       "    .dataframe tbody tr th:only-of-type {\n",
       "        vertical-align: middle;\n",
       "    }\n",
       "\n",
       "    .dataframe tbody tr th {\n",
       "        vertical-align: top;\n",
       "    }\n",
       "\n",
       "    .dataframe thead th {\n",
       "        text-align: right;\n",
       "    }\n",
       "</style>\n",
       "<table border=\"1\" class=\"dataframe\">\n",
       "  <thead>\n",
       "    <tr style=\"text-align: right;\">\n",
       "      <th></th>\n",
       "      <th>name</th>\n",
       "      <th>span_kind</th>\n",
       "      <th>parent_id</th>\n",
       "      <th>start_time</th>\n",
       "      <th>end_time</th>\n",
       "      <th>status_code</th>\n",
       "      <th>status_message</th>\n",
       "      <th>events</th>\n",
       "      <th>conversation</th>\n",
       "      <th>context.trace_id</th>\n",
       "      <th>...</th>\n",
       "      <th>attributes.llm.invocation_parameters</th>\n",
       "      <th>attributes.llm.output_messages</th>\n",
       "      <th>attributes.llm.token_count.prompt</th>\n",
       "      <th>attributes.llm.token_count.completion</th>\n",
       "      <th>attributes.llm.token_count.total</th>\n",
       "      <th>attributes.llm.prompt_template.template</th>\n",
       "      <th>attributes.llm.prompt_template.variables</th>\n",
       "      <th>attributes.retrieval.documents</th>\n",
       "      <th>attributes.embedding.model_name</th>\n",
       "      <th>attributes.embedding.embeddings</th>\n",
       "    </tr>\n",
       "  </thead>\n",
       "  <tbody>\n",
       "    <tr>\n",
       "      <th>0</th>\n",
       "      <td>query</td>\n",
       "      <td>CHAIN</td>\n",
       "      <td>None</td>\n",
       "      <td>2023-12-11 17:57:17.891021+00:00</td>\n",
       "      <td>2023-12-11 17:57:20.075141+00:00</td>\n",
       "      <td>OK</td>\n",
       "      <td></td>\n",
       "      <td>[]</td>\n",
       "      <td>None</td>\n",
       "      <td>f40dc5d5-08b7-4e23-80e1-2cd6e9f0cf29</td>\n",
       "      <td>...</td>\n",
       "      <td>None</td>\n",
       "      <td>None</td>\n",
       "      <td>None</td>\n",
       "      <td>None</td>\n",
       "      <td>None</td>\n",
       "      <td>None</td>\n",
       "      <td>None</td>\n",
       "      <td>None</td>\n",
       "      <td>None</td>\n",
       "      <td>None</td>\n",
       "    </tr>\n",
       "    <tr>\n",
       "      <th>1</th>\n",
       "      <td>synthesize</td>\n",
       "      <td>CHAIN</td>\n",
       "      <td>bce5b9ae-4587-4ead-9ccc-de3fe29257bc</td>\n",
       "      <td>2023-12-11 17:57:18.973513+00:00</td>\n",
       "      <td>2023-12-11 17:57:20.075056+00:00</td>\n",
       "      <td>OK</td>\n",
       "      <td></td>\n",
       "      <td>[]</td>\n",
       "      <td>None</td>\n",
       "      <td>f40dc5d5-08b7-4e23-80e1-2cd6e9f0cf29</td>\n",
       "      <td>...</td>\n",
       "      <td>None</td>\n",
       "      <td>None</td>\n",
       "      <td>None</td>\n",
       "      <td>None</td>\n",
       "      <td>None</td>\n",
       "      <td>None</td>\n",
       "      <td>None</td>\n",
       "      <td>None</td>\n",
       "      <td>None</td>\n",
       "      <td>None</td>\n",
       "    </tr>\n",
       "  </tbody>\n",
       "</table>\n",
       "<p>2 rows × 27 columns</p>\n",
       "</div>"
      ],
      "text/plain": [
       "         name span_kind                             parent_id  \\\n",
       "0       query     CHAIN                                  None   \n",
       "1  synthesize     CHAIN  bce5b9ae-4587-4ead-9ccc-de3fe29257bc   \n",
       "\n",
       "                        start_time                         end_time  \\\n",
       "0 2023-12-11 17:57:17.891021+00:00 2023-12-11 17:57:20.075141+00:00   \n",
       "1 2023-12-11 17:57:18.973513+00:00 2023-12-11 17:57:20.075056+00:00   \n",
       "\n",
       "  status_code status_message events conversation  \\\n",
       "0          OK                    []         None   \n",
       "1          OK                    []         None   \n",
       "\n",
       "                       context.trace_id  ...  \\\n",
       "0  f40dc5d5-08b7-4e23-80e1-2cd6e9f0cf29  ...   \n",
       "1  f40dc5d5-08b7-4e23-80e1-2cd6e9f0cf29  ...   \n",
       "\n",
       "  attributes.llm.invocation_parameters attributes.llm.output_messages  \\\n",
       "0                                 None                           None   \n",
       "1                                 None                           None   \n",
       "\n",
       "  attributes.llm.token_count.prompt attributes.llm.token_count.completion  \\\n",
       "0                              None                                  None   \n",
       "1                              None                                  None   \n",
       "\n",
       "  attributes.llm.token_count.total attributes.llm.prompt_template.template  \\\n",
       "0                             None                                    None   \n",
       "1                             None                                    None   \n",
       "\n",
       "  attributes.llm.prompt_template.variables attributes.retrieval.documents  \\\n",
       "0                                     None                           None   \n",
       "1                                     None                           None   \n",
       "\n",
       "  attributes.embedding.model_name attributes.embedding.embeddings  \n",
       "0                            None                            None  \n",
       "1                            None                            None  \n",
       "\n",
       "[2 rows x 27 columns]"
      ]
     },
     "execution_count": 17,
     "metadata": {},
     "output_type": "execute_result"
    }
   ],
   "source": [
    "trace_ds.dataframe.head(2)"
   ]
  },
  {
   "cell_type": "code",
   "execution_count": 2,
   "id": "6a2a830a-6a6f-437d-b8da-e0586bc98fde",
   "metadata": {},
   "outputs": [
    {
     "name": "stderr",
     "output_type": "stream",
     "text": [
      "/media/uberdev/ddrv/telemetenv/lib/python3.10/site-packages/tqdm/auto.py:21: TqdmWarning: IProgress not found. Please update jupyter and ipywidgets. See https://ipywidgets.readthedocs.io/en/stable/user_install.html\n",
      "  from .autonotebook import tqdm as notebook_tqdm\n"
     ]
    }
   ],
   "source": [
    "from phoenix.evals import OpenAIModel, HallucinationEvaluator, QAEvaluator\n",
    "from phoenix.evals import run_evals\n",
    "import nest_asyncio\n",
    "nest_asyncio.apply()  # This is needed for concurrency in notebook environments"
   ]
  },
  {
   "cell_type": "code",
   "execution_count": 3,
   "id": "e23094a5-4a06-4e1c-98ea-17eb07be2fb5",
   "metadata": {},
   "outputs": [],
   "source": [
    "# Set your OpenAI API key\n",
    "import os\n",
    "from dotenv import load_dotenv\n",
    "load_dotenv(\"/media/uberdev/ddrv/gitFolders/python_de_learners_data/.env\")\n",
    "# api_key = \"your-api-key\"  # Replace with your actual API key\n",
    "eval_model = OpenAIModel(model=\"gpt-4o-mini\",\n",
    "                         api_key=os.environ[\"OPENAI_API_KEY\"])"
   ]
  },
  {
   "cell_type": "code",
   "execution_count": 4,
   "id": "159cc075-5983-4c60-a22a-a2c6759a0849",
   "metadata": {},
   "outputs": [],
   "source": [
    "# Define your evaluators\n",
    "hallucination_evaluator = HallucinationEvaluator(eval_model)\n",
    "qa_evaluator = QAEvaluator(eval_model)"
   ]
  },
  {
   "cell_type": "code",
   "execution_count": null,
   "id": "129b3fe4-aae4-4436-9422-7e35aca1b9cc",
   "metadata": {},
   "outputs": [],
   "source": [
    "# Assume 'queries_df' is your input dataframe \n",
    "# for `hallucination_evaluator` your input \n",
    "# df needs to have columns 'output', 'input', 'context'\n",
    "# for `qa_evaluator` your input df needs to \n",
    "# have columns 'output', 'input', 'reference'\n",
    "assert all(column in queries_df.columns for column in ['output',\n",
    "                                                       'input',\n",
    "                                                       'context', 'reference'])\n",
    "\n",
    "# Run the evaluators, each evaluator will return a dataframe with evaluation results\n",
    "# We upload the evaluation results to Phoenix in the next step\n",
    "hallucination_eval_df, qa_eval_df = run_evals(\n",
    "    dataframe=queries_df,\n",
    "    evaluators=[hallucination_evaluator, qa_evaluator],\n",
    "    provide_explanation=True\n",
    "# Log the evaluations\n",
    "from phoenix.trace import SpanEvaluations\n",
    "\n",
    "px.Client().log_evaluations(\n",
    "    SpanEvaluations(eval_name=\"Hallucination\", dataframe=hallucination_eval_df),\n",
    "    SpanEvaluations(eval_name=\"QA Correctness\", dataframe=qa_eval_df)\n",
    "))"
   ]
  },
  {
   "cell_type": "code",
   "execution_count": null,
   "id": "52755525-b106-4405-b649-13b4145c03eb",
   "metadata": {},
   "outputs": [],
   "source": []
  },
  {
   "cell_type": "code",
   "execution_count": null,
   "id": "e29f04f2-e1aa-4a90-896f-3ddb9807c663",
   "metadata": {},
   "outputs": [],
   "source": []
  },
  {
   "cell_type": "code",
   "execution_count": null,
   "id": "200d3330-dc3e-49ec-b633-b5a3ddc60dd0",
   "metadata": {},
   "outputs": [],
   "source": []
  },
  {
   "cell_type": "code",
   "execution_count": null,
   "id": "251ac843-3381-4ec1-9ece-ec1439c7c0f1",
   "metadata": {},
   "outputs": [],
   "source": []
  },
  {
   "cell_type": "code",
   "execution_count": null,
   "id": "29f5ed9d-d0a7-4930-baa0-ee5e36813d19",
   "metadata": {},
   "outputs": [],
   "source": []
  },
  {
   "cell_type": "code",
   "execution_count": null,
   "id": "a50e3a7b-94e6-4cb8-b02c-d28cd907b084",
   "metadata": {},
   "outputs": [],
   "source": []
  },
  {
   "cell_type": "code",
   "execution_count": null,
   "id": "2b979615-63a2-4704-ba83-0a4765ea0718",
   "metadata": {},
   "outputs": [],
   "source": []
  },
  {
   "cell_type": "code",
   "execution_count": null,
   "id": "600340d7-7f76-4e80-8964-09cb8cb1092c",
   "metadata": {},
   "outputs": [],
   "source": []
  },
  {
   "cell_type": "code",
   "execution_count": null,
   "id": "128fb3e7-5d17-44b0-ae56-03c84331806c",
   "metadata": {},
   "outputs": [],
   "source": []
  },
  {
   "cell_type": "code",
   "execution_count": null,
   "id": "ef434533-7d09-414a-b398-3eb91e3ea366",
   "metadata": {},
   "outputs": [],
   "source": []
  },
  {
   "cell_type": "code",
   "execution_count": null,
   "id": "5e899738-d690-4b1c-810b-81209d74a56f",
   "metadata": {},
   "outputs": [],
   "source": []
  },
  {
   "cell_type": "code",
   "execution_count": null,
   "id": "c459c57a-3e7e-46d9-8997-8adcb886a74d",
   "metadata": {},
   "outputs": [],
   "source": []
  },
  {
   "cell_type": "code",
   "execution_count": null,
   "id": "ef5ae285-4b41-465b-8f7a-57cc706984db",
   "metadata": {},
   "outputs": [],
   "source": []
  }
 ],
 "metadata": {
  "kernelspec": {
   "display_name": "Python 3 (ipykernel)",
   "language": "python",
   "name": "python3"
  },
  "language_info": {
   "codemirror_mode": {
    "name": "ipython",
    "version": 3
   },
   "file_extension": ".py",
   "mimetype": "text/x-python",
   "name": "python",
   "nbconvert_exporter": "python",
   "pygments_lexer": "ipython3",
   "version": "3.10.12"
  }
 },
 "nbformat": 4,
 "nbformat_minor": 5
}
