{
 "cells": [
  {
   "cell_type": "code",
   "execution_count": null,
   "id": "5e3c2823-27cd-472e-973f-85949246ab82",
   "metadata": {},
   "outputs": [],
   "source": [
    "# import phoenix as px\n",
    "# px.launch_app()"
   ]
  },
  {
   "cell_type": "code",
   "execution_count": 1,
   "id": "7ed7408e-0158-46cc-915d-7e5b0167c7bb",
   "metadata": {},
   "outputs": [],
   "source": [
    "from opentelemetry import trace as trace_api\n",
    "from opentelemetry.exporter.otlp.proto.http.trace_exporter import OTLPSpanExporter\n",
    "from opentelemetry.sdk import trace as trace_sdk\n",
    "from opentelemetry.sdk.trace.export import SimpleSpanProcessor"
   ]
  },
  {
   "cell_type": "code",
   "execution_count": 2,
   "id": "b56e089e-2f49-46b4-8ddc-bc92f07c2ea2",
   "metadata": {},
   "outputs": [],
   "source": [
    "tracer_provider = trace_sdk.TracerProvider()\n",
    "span_exporter = OTLPSpanExporter(\"http://localhost:6006/v1/traces\")\n",
    "span_processor = SimpleSpanProcessor(span_exporter)\n",
    "tracer_provider.add_span_processor(span_processor)\n",
    "trace_api.set_tracer_provider(tracer_provider)"
   ]
  },
  {
   "cell_type": "code",
   "execution_count": 3,
   "id": "b00d2208-55e5-46ef-890f-80aad126993f",
   "metadata": {},
   "outputs": [
    {
     "name": "stderr",
     "output_type": "stream",
     "text": [
      "/media/uberdev/ddrv/telemetenv/lib/python3.10/site-packages/pydantic/_internal/_config.py:341: UserWarning: Valid config keys have changed in V2:\n",
      "* 'allow_population_by_field_name' has been renamed to 'populate_by_name'\n",
      "* 'smart_union' has been removed\n",
      "  warnings.warn(message, UserWarning)\n",
      "/media/uberdev/ddrv/telemetenv/lib/python3.10/site-packages/tqdm/auto.py:21: TqdmWarning: IProgress not found. Please update jupyter and ipywidgets. See https://ipywidgets.readthedocs.io/en/stable/user_install.html\n",
      "  from .autonotebook import tqdm as notebook_tqdm\n"
     ]
    }
   ],
   "source": [
    "from openinference.instrumentation.dspy import DSPyInstrumentor\n",
    "\n",
    "DSPyInstrumentor().instrument()"
   ]
  },
  {
   "cell_type": "code",
   "execution_count": 5,
   "id": "c77d9902-fdff-4dff-ac9e-0feaf4debbe5",
   "metadata": {},
   "outputs": [],
   "source": [
    "import dspy\n",
    "class BasicQA(dspy.Signature):\n",
    "    \"\"\"Answer questions with short factoid answers.\"\"\"\n",
    "\n",
    "    question = dspy.InputField()\n",
    "    answer = dspy.OutputField(desc=\"often between 1 and 5 words\")"
   ]
  },
  {
   "cell_type": "code",
   "execution_count": 6,
   "id": "c66d582e-fc5a-40b4-ab86-81099795287d",
   "metadata": {},
   "outputs": [],
   "source": [
    "from dotenv import load_dotenv\n",
    "load_dotenv(\"/media/uberdev/ddrv/gitFolders/python_de_learners_data/.env\")\n",
    "turbo = dspy.OpenAI(model=\"gpt-4o-mini\")"
   ]
  },
  {
   "cell_type": "code",
   "execution_count": 8,
   "id": "78c9057a-a195-4bab-94cf-286e6d7cd6be",
   "metadata": {
    "collapsed": true,
    "jupyter": {
     "outputs_hidden": true
    },
    "scrolled": true
   },
   "outputs": [
    {
     "ename": "NameError",
     "evalue": "name 'using_attributes' is not defined",
     "output_type": "error",
     "traceback": [
      "\u001b[0;31m---------------------------------------------------------------------------\u001b[0m",
      "\u001b[0;31mNameError\u001b[0m                                 Traceback (most recent call last)",
      "Cell \u001b[0;32mIn[8], line 3\u001b[0m\n\u001b[1;32m      1\u001b[0m dspy\u001b[38;5;241m.\u001b[39msettings\u001b[38;5;241m.\u001b[39mconfigure(lm\u001b[38;5;241m=\u001b[39mturbo)\n\u001b[0;32m----> 3\u001b[0m \u001b[38;5;28;01mwith\u001b[39;00m \u001b[43musing_attributes\u001b[49m(\n\u001b[1;32m      4\u001b[0m     session_id\u001b[38;5;241m=\u001b[39m\u001b[38;5;124m\"\u001b[39m\u001b[38;5;124mmy-test-session\u001b[39m\u001b[38;5;124m\"\u001b[39m,\n\u001b[1;32m      5\u001b[0m     user_id\u001b[38;5;241m=\u001b[39m\u001b[38;5;124m\"\u001b[39m\u001b[38;5;124mmy-test-user\u001b[39m\u001b[38;5;124m\"\u001b[39m,\n\u001b[1;32m      6\u001b[0m     metadata\u001b[38;5;241m=\u001b[39m{\n\u001b[1;32m      7\u001b[0m         \u001b[38;5;124m\"\u001b[39m\u001b[38;5;124mtest-int\u001b[39m\u001b[38;5;124m\"\u001b[39m: \u001b[38;5;241m1\u001b[39m,\n\u001b[1;32m      8\u001b[0m         \u001b[38;5;124m\"\u001b[39m\u001b[38;5;124mtest-str\u001b[39m\u001b[38;5;124m\"\u001b[39m: \u001b[38;5;124m\"\u001b[39m\u001b[38;5;124mstring\u001b[39m\u001b[38;5;124m\"\u001b[39m,\n\u001b[1;32m      9\u001b[0m         \u001b[38;5;124m\"\u001b[39m\u001b[38;5;124mtest-list\u001b[39m\u001b[38;5;124m\"\u001b[39m: [\u001b[38;5;241m1\u001b[39m, \u001b[38;5;241m2\u001b[39m, \u001b[38;5;241m3\u001b[39m],\n\u001b[1;32m     10\u001b[0m         \u001b[38;5;124m\"\u001b[39m\u001b[38;5;124mtest-dict\u001b[39m\u001b[38;5;124m\"\u001b[39m: {\n\u001b[1;32m     11\u001b[0m             \u001b[38;5;124m\"\u001b[39m\u001b[38;5;124mkey-1\u001b[39m\u001b[38;5;124m\"\u001b[39m: \u001b[38;5;124m\"\u001b[39m\u001b[38;5;124mval-1\u001b[39m\u001b[38;5;124m\"\u001b[39m,\n\u001b[1;32m     12\u001b[0m             \u001b[38;5;124m\"\u001b[39m\u001b[38;5;124mkey-2\u001b[39m\u001b[38;5;124m\"\u001b[39m: \u001b[38;5;124m\"\u001b[39m\u001b[38;5;124mval-2\u001b[39m\u001b[38;5;124m\"\u001b[39m,\n\u001b[1;32m     13\u001b[0m         },\n\u001b[1;32m     14\u001b[0m     },\n\u001b[1;32m     15\u001b[0m     tags\u001b[38;5;241m=\u001b[39m[\u001b[38;5;124m\"\u001b[39m\u001b[38;5;124mtag-1\u001b[39m\u001b[38;5;124m\"\u001b[39m, \u001b[38;5;124m\"\u001b[39m\u001b[38;5;124mtag-2\u001b[39m\u001b[38;5;124m\"\u001b[39m],\n\u001b[1;32m     16\u001b[0m     prompt_template_version\u001b[38;5;241m=\u001b[39m\u001b[38;5;124m\"\u001b[39m\u001b[38;5;124mv1.0\u001b[39m\u001b[38;5;124m\"\u001b[39m,\n\u001b[1;32m     17\u001b[0m     prompt_template_variables\u001b[38;5;241m=\u001b[39m{\n\u001b[1;32m     18\u001b[0m         \u001b[38;5;124m\"\u001b[39m\u001b[38;5;124mcity\u001b[39m\u001b[38;5;124m\"\u001b[39m: \u001b[38;5;124m\"\u001b[39m\u001b[38;5;124mJohannesburg\u001b[39m\u001b[38;5;124m\"\u001b[39m,\n\u001b[1;32m     19\u001b[0m         \u001b[38;5;124m\"\u001b[39m\u001b[38;5;124mdate\u001b[39m\u001b[38;5;124m\"\u001b[39m: \u001b[38;5;124m\"\u001b[39m\u001b[38;5;124mJuly 11th\u001b[39m\u001b[38;5;124m\"\u001b[39m,\n\u001b[1;32m     20\u001b[0m         },\n\u001b[1;32m     21\u001b[0m     ):\n\u001b[1;32m     22\u001b[0m     \u001b[38;5;66;03m# Define the predictor.\u001b[39;00m\n\u001b[1;32m     23\u001b[0m     generate_answer \u001b[38;5;241m=\u001b[39m dspy\u001b[38;5;241m.\u001b[39mPredict(BasicQA)\n",
      "\u001b[0;31mNameError\u001b[0m: name 'using_attributes' is not defined"
     ]
    }
   ],
   "source": [
    "dspy.settings.configure(lm=turbo)\n",
    "\n",
    "with using_attributes(\n",
    "    session_id=\"my-test-session\",\n",
    "    user_id=\"my-test-user\",\n",
    "    metadata={\n",
    "        \"test-int\": 1,\n",
    "        \"test-str\": \"string\",\n",
    "        \"test-list\": [1, 2, 3],\n",
    "        \"test-dict\": {\n",
    "            \"key-1\": \"val-1\",\n",
    "            \"key-2\": \"val-2\",\n",
    "        },\n",
    "    },\n",
    "    tags=[\"tag-1\", \"tag-2\"],\n",
    "    prompt_template_version=\"v1.0\",\n",
    "    prompt_template_variables={\n",
    "        \"city\": \"Johannesburg\",\n",
    "        \"date\": \"July 11th\",\n",
    "        },\n",
    "    ):"
   ]
  },
  {
   "cell_type": "code",
   "execution_count": 9,
   "id": "2c966a41-ef87-4b58-b388-de22f33f406e",
   "metadata": {},
   "outputs": [],
   "source": [
    "# Define the predictor.\n",
    "generate_answer = dspy.Predict(BasicQA)"
   ]
  },
  {
   "cell_type": "code",
   "execution_count": 10,
   "id": "a6fd1985-e33e-4997-a2f3-06607cd46108",
   "metadata": {},
   "outputs": [
    {
     "name": "stderr",
     "output_type": "stream",
     "text": [
      "INFO:httpx:HTTP Request: POST https://api.openai.com/v1/chat/completions \"HTTP/1.1 200 OK\"\n"
     ]
    },
    {
     "name": "stdout",
     "output_type": "stream",
     "text": [
      "Predicted Answer: Washington, D.C.\n"
     ]
    }
   ],
   "source": [
    "# Call the predictor on a particular input.\n",
    "pred = generate_answer(\n",
    "    question=\"What is the capital of the united states?\"  # noqa: E501\n",
    ")  # noqa: E501\n",
    "print(f\"Predicted Answer: {pred.answer}\")"
   ]
  },
  {
   "cell_type": "markdown",
   "id": "e6bc4161-c0d6-4740-870d-3560c518c063",
   "metadata": {},
   "source": [
    "https://github.com/Arize-ai/openinference/tree/main/python/instrumentation/openinference-instrumentation-dspy\n",
    "\n",
    "dspy_tracing_tutorial.ipynb\n",
    "\n",
    "https://colab.research.google.com/github/Arize-ai/phoenix/blob/main/tutorials/tracing/dspy_tracing_tutorial.ipynb"
   ]
  },
  {
   "cell_type": "code",
   "execution_count": 3,
   "id": "20109a05-7e45-468b-adb4-b24ae8f05a4d",
   "metadata": {
    "collapsed": true,
    "jupyter": {
     "outputs_hidden": true
    }
   },
   "outputs": [
    {
     "name": "stdout",
     "output_type": "stream",
     "text": [
      "Collecting dspy-ai\n",
      "  Downloading dspy_ai-2.4.13-py3-none-any.whl (280 kB)\n",
      "\u001b[2K     \u001b[38;2;114;156;31m━━━━━━━━━━━━━━━━━━━━━━━━━━━━━━━━━━━━━━━\u001b[0m \u001b[32m280.7/280.7 KB\u001b[0m \u001b[31m2.1 MB/s\u001b[0m eta \u001b[36m0:00:00\u001b[0m[36m0:00:01\u001b[0mm eta \u001b[36m0:00:01\u001b[0m\n",
      "\u001b[?25hCollecting datasets\n",
      "  Using cached datasets-2.21.0-py3-none-any.whl (527 kB)\n",
      "Collecting backoff\n",
      "  Using cached backoff-2.2.1-py3-none-any.whl (15 kB)\n",
      "Requirement already satisfied: openai<2.0.0,>=0.28.1 in /media/uberdev/ddrv/telemetenv/lib/python3.10/site-packages (from dspy-ai) (1.40.6)\n",
      "Requirement already satisfied: requests in /media/uberdev/ddrv/telemetenv/lib/python3.10/site-packages (from dspy-ai) (2.32.3)\n",
      "Requirement already satisfied: pydantic~=2.0 in /media/uberdev/ddrv/telemetenv/lib/python3.10/site-packages (from dspy-ai) (2.8.2)\n",
      "Requirement already satisfied: joblib~=1.3 in /media/uberdev/ddrv/telemetenv/lib/python3.10/site-packages (from dspy-ai) (1.4.2)\n",
      "Requirement already satisfied: pandas in /media/uberdev/ddrv/telemetenv/lib/python3.10/site-packages (from dspy-ai) (2.2.2)\n",
      "Requirement already satisfied: regex in /media/uberdev/ddrv/telemetenv/lib/python3.10/site-packages (from dspy-ai) (2024.7.24)\n",
      "Requirement already satisfied: tqdm in /media/uberdev/ddrv/telemetenv/lib/python3.10/site-packages (from dspy-ai) (4.66.5)\n",
      "Collecting optuna\n",
      "  Downloading optuna-3.6.1-py3-none-any.whl (380 kB)\n",
      "\u001b[2K     \u001b[38;2;114;156;31m━━━━━━━━━━━━━━━━━━━━━━━━━━━━━━━━━━━━━━━\u001b[0m \u001b[32m380.1/380.1 KB\u001b[0m \u001b[31m6.0 MB/s\u001b[0m eta \u001b[36m0:00:00\u001b[0mm eta \u001b[36m0:00:01\u001b[0m\n",
      "\u001b[?25hCollecting ujson\n",
      "  Downloading ujson-5.10.0-cp310-cp310-manylinux_2_17_x86_64.manylinux2014_x86_64.whl (53 kB)\n",
      "\u001b[2K     \u001b[38;2;114;156;31m━━━━━━━━━━━━━━━━━━━━━━━━━━━━━━━━━━━━━━━━\u001b[0m \u001b[32m53.6/53.6 KB\u001b[0m \u001b[31m1.4 MB/s\u001b[0m eta \u001b[36m0:00:00\u001b[0m\n",
      "\u001b[?25hCollecting structlog\n",
      "  Downloading structlog-24.4.0-py3-none-any.whl (67 kB)\n",
      "\u001b[2K     \u001b[38;2;114;156;31m━━━━━━━━━━━━━━━━━━━━━━━━━━━━━━━━━━━━━━━━\u001b[0m \u001b[32m67.2/67.2 KB\u001b[0m \u001b[31m1.4 MB/s\u001b[0m eta \u001b[36m0:00:00\u001b[0m31m104.5 MB/s\u001b[0m eta \u001b[36m0:00:01\u001b[0m\n",
      "\u001b[?25hRequirement already satisfied: anyio<5,>=3.5.0 in /media/uberdev/ddrv/telemetenv/lib/python3.10/site-packages (from openai<2.0.0,>=0.28.1->dspy-ai) (4.4.0)\n",
      "Requirement already satisfied: distro<2,>=1.7.0 in /media/uberdev/ddrv/telemetenv/lib/python3.10/site-packages (from openai<2.0.0,>=0.28.1->dspy-ai) (1.9.0)\n",
      "Requirement already satisfied: typing-extensions<5,>=4.11 in /media/uberdev/ddrv/telemetenv/lib/python3.10/site-packages (from openai<2.0.0,>=0.28.1->dspy-ai) (4.12.2)\n",
      "Requirement already satisfied: httpx<1,>=0.23.0 in /media/uberdev/ddrv/telemetenv/lib/python3.10/site-packages (from openai<2.0.0,>=0.28.1->dspy-ai) (0.27.0)\n",
      "Requirement already satisfied: jiter<1,>=0.4.0 in /media/uberdev/ddrv/telemetenv/lib/python3.10/site-packages (from openai<2.0.0,>=0.28.1->dspy-ai) (0.5.0)\n",
      "Requirement already satisfied: sniffio in /media/uberdev/ddrv/telemetenv/lib/python3.10/site-packages (from openai<2.0.0,>=0.28.1->dspy-ai) (1.3.1)\n",
      "Requirement already satisfied: pydantic-core==2.20.1 in /media/uberdev/ddrv/telemetenv/lib/python3.10/site-packages (from pydantic~=2.0->dspy-ai) (2.20.1)\n",
      "Requirement already satisfied: annotated-types>=0.4.0 in /media/uberdev/ddrv/telemetenv/lib/python3.10/site-packages (from pydantic~=2.0->dspy-ai) (0.7.0)\n",
      "Requirement already satisfied: filelock in /media/uberdev/ddrv/telemetenv/lib/python3.10/site-packages (from datasets->dspy-ai) (3.15.4)\n",
      "Requirement already satisfied: numpy>=1.17 in /media/uberdev/ddrv/telemetenv/lib/python3.10/site-packages (from datasets->dspy-ai) (1.26.4)\n",
      "Requirement already satisfied: pyarrow>=15.0.0 in /media/uberdev/ddrv/telemetenv/lib/python3.10/site-packages (from datasets->dspy-ai) (17.0.0)\n",
      "Requirement already satisfied: packaging in /media/uberdev/ddrv/telemetenv/lib/python3.10/site-packages (from datasets->dspy-ai) (24.1)\n",
      "Collecting multiprocess\n",
      "  Using cached multiprocess-0.70.16-py310-none-any.whl (134 kB)\n",
      "Collecting xxhash\n",
      "  Using cached xxhash-3.4.1-cp310-cp310-manylinux_2_17_x86_64.manylinux2014_x86_64.whl (194 kB)\n",
      "Requirement already satisfied: fsspec[http]<=2024.6.1,>=2023.1.0 in /media/uberdev/ddrv/telemetenv/lib/python3.10/site-packages (from datasets->dspy-ai) (2024.6.1)\n",
      "Requirement already satisfied: aiohttp in /media/uberdev/ddrv/telemetenv/lib/python3.10/site-packages (from datasets->dspy-ai) (3.10.3)\n",
      "Requirement already satisfied: pyyaml>=5.1 in /media/uberdev/ddrv/telemetenv/lib/python3.10/site-packages (from datasets->dspy-ai) (6.0.2)\n",
      "Collecting dill<0.3.9,>=0.3.0\n",
      "  Using cached dill-0.3.8-py3-none-any.whl (116 kB)\n",
      "Requirement already satisfied: huggingface-hub>=0.21.2 in /media/uberdev/ddrv/telemetenv/lib/python3.10/site-packages (from datasets->dspy-ai) (0.24.5)\n",
      "Requirement already satisfied: idna<4,>=2.5 in /media/uberdev/ddrv/telemetenv/lib/python3.10/site-packages (from requests->dspy-ai) (3.7)\n",
      "Requirement already satisfied: urllib3<3,>=1.21.1 in /media/uberdev/ddrv/telemetenv/lib/python3.10/site-packages (from requests->dspy-ai) (2.2.2)\n",
      "Requirement already satisfied: certifi>=2017.4.17 in /media/uberdev/ddrv/telemetenv/lib/python3.10/site-packages (from requests->dspy-ai) (2024.7.4)\n",
      "Requirement already satisfied: charset-normalizer<4,>=2 in /media/uberdev/ddrv/telemetenv/lib/python3.10/site-packages (from requests->dspy-ai) (3.3.2)\n",
      "Collecting colorlog\n",
      "  Downloading colorlog-6.8.2-py3-none-any.whl (11 kB)\n",
      "Requirement already satisfied: sqlalchemy>=1.3.0 in /media/uberdev/ddrv/telemetenv/lib/python3.10/site-packages (from optuna->dspy-ai) (2.0.32)\n",
      "Requirement already satisfied: alembic>=1.5.0 in /media/uberdev/ddrv/telemetenv/lib/python3.10/site-packages (from optuna->dspy-ai) (1.13.2)\n",
      "Requirement already satisfied: python-dateutil>=2.8.2 in /media/uberdev/ddrv/telemetenv/lib/python3.10/site-packages (from pandas->dspy-ai) (2.9.0.post0)\n",
      "Requirement already satisfied: pytz>=2020.1 in /media/uberdev/ddrv/telemetenv/lib/python3.10/site-packages (from pandas->dspy-ai) (2024.1)\n",
      "Requirement already satisfied: tzdata>=2022.7 in /media/uberdev/ddrv/telemetenv/lib/python3.10/site-packages (from pandas->dspy-ai) (2024.1)\n",
      "Requirement already satisfied: Mako in /media/uberdev/ddrv/telemetenv/lib/python3.10/site-packages (from alembic>=1.5.0->optuna->dspy-ai) (1.3.5)\n",
      "Requirement already satisfied: exceptiongroup>=1.0.2 in /media/uberdev/ddrv/telemetenv/lib/python3.10/site-packages (from anyio<5,>=3.5.0->openai<2.0.0,>=0.28.1->dspy-ai) (1.2.2)\n",
      "Requirement already satisfied: aiohappyeyeballs>=2.3.0 in /media/uberdev/ddrv/telemetenv/lib/python3.10/site-packages (from aiohttp->datasets->dspy-ai) (2.3.6)\n",
      "Requirement already satisfied: yarl<2.0,>=1.0 in /media/uberdev/ddrv/telemetenv/lib/python3.10/site-packages (from aiohttp->datasets->dspy-ai) (1.9.4)\n",
      "Requirement already satisfied: aiosignal>=1.1.2 in /media/uberdev/ddrv/telemetenv/lib/python3.10/site-packages (from aiohttp->datasets->dspy-ai) (1.3.1)\n",
      "Requirement already satisfied: multidict<7.0,>=4.5 in /media/uberdev/ddrv/telemetenv/lib/python3.10/site-packages (from aiohttp->datasets->dspy-ai) (6.0.5)\n",
      "Requirement already satisfied: attrs>=17.3.0 in /media/uberdev/ddrv/telemetenv/lib/python3.10/site-packages (from aiohttp->datasets->dspy-ai) (24.2.0)\n",
      "Requirement already satisfied: frozenlist>=1.1.1 in /media/uberdev/ddrv/telemetenv/lib/python3.10/site-packages (from aiohttp->datasets->dspy-ai) (1.4.1)\n",
      "Requirement already satisfied: async-timeout<5.0,>=4.0 in /media/uberdev/ddrv/telemetenv/lib/python3.10/site-packages (from aiohttp->datasets->dspy-ai) (4.0.3)\n",
      "Requirement already satisfied: httpcore==1.* in /media/uberdev/ddrv/telemetenv/lib/python3.10/site-packages (from httpx<1,>=0.23.0->openai<2.0.0,>=0.28.1->dspy-ai) (1.0.5)\n",
      "Requirement already satisfied: h11<0.15,>=0.13 in /media/uberdev/ddrv/telemetenv/lib/python3.10/site-packages (from httpcore==1.*->httpx<1,>=0.23.0->openai<2.0.0,>=0.28.1->dspy-ai) (0.14.0)\n",
      "Requirement already satisfied: six>=1.5 in /media/uberdev/ddrv/telemetenv/lib/python3.10/site-packages (from python-dateutil>=2.8.2->pandas->dspy-ai) (1.16.0)\n",
      "Requirement already satisfied: greenlet!=0.4.17 in /media/uberdev/ddrv/telemetenv/lib/python3.10/site-packages (from sqlalchemy>=1.3.0->optuna->dspy-ai) (3.0.3)\n",
      "Requirement already satisfied: MarkupSafe>=0.9.2 in /media/uberdev/ddrv/telemetenv/lib/python3.10/site-packages (from Mako->alembic>=1.5.0->optuna->dspy-ai) (2.1.5)\n",
      "Installing collected packages: xxhash, ujson, structlog, dill, colorlog, backoff, multiprocess, optuna, datasets, dspy-ai\n",
      "Successfully installed backoff-2.2.1 colorlog-6.8.2 datasets-2.21.0 dill-0.3.8 dspy-ai-2.4.13 multiprocess-0.70.16 optuna-3.6.1 structlog-24.4.0 ujson-5.10.0 xxhash-3.4.1\n"
     ]
    }
   ],
   "source": [
    "!pip install dspy-ai"
   ]
  },
  {
   "cell_type": "code",
   "execution_count": 4,
   "id": "88104a26-39e9-4496-a7ad-f8929ba60c80",
   "metadata": {},
   "outputs": [
    {
     "name": "stderr",
     "output_type": "stream",
     "text": [
      "/media/uberdev/ddrv/telemetenv/lib/python3.10/site-packages/pydantic/_internal/_config.py:341: UserWarning: Valid config keys have changed in V2:\n",
      "* 'allow_population_by_field_name' has been renamed to 'populate_by_name'\n",
      "* 'smart_union' has been removed\n",
      "  warnings.warn(message, UserWarning)\n",
      "/media/uberdev/ddrv/telemetenv/lib/python3.10/site-packages/tqdm/auto.py:21: TqdmWarning: IProgress not found. Please update jupyter and ipywidgets. See https://ipywidgets.readthedocs.io/en/stable/user_install.html\n",
      "  from .autonotebook import tqdm as notebook_tqdm\n"
     ]
    }
   ],
   "source": [
    "import os\n",
    "from dotenv import load_dotenv\n",
    "import dspy\n",
    "import openai\n",
    "# import phoenix as px"
   ]
  },
  {
   "cell_type": "code",
   "execution_count": 5,
   "id": "cec4719e-1c0e-43f6-856f-4646a4bcafe4",
   "metadata": {},
   "outputs": [],
   "source": [
    "load_dotenv(\"/media/uberdev/ddrv/gitFolders/python_de_learners_data/.env\")\n",
    "openai.api_key = os.environ['OPENAI_API_KEY']"
   ]
  },
  {
   "cell_type": "code",
   "execution_count": 11,
   "id": "e4ffc92a-2aba-40f0-86cd-bbf502d7196f",
   "metadata": {},
   "outputs": [],
   "source": [
    "turbo = dspy.OpenAI(model=\"gpt-4o-mini\")\n",
    "colbertv2_wiki17_abstracts = dspy.ColBERTv2(\n",
    "    url=\"http://20.102.90.50:2017/wiki17_abstracts\"  # endpoint for a hosted ColBERTv2 service\n",
    ")\n",
    "\n",
    "dspy.settings.configure(lm=turbo, rm=colbertv2_wiki17_abstracts)"
   ]
  },
  {
   "cell_type": "code",
   "execution_count": 12,
   "id": "236a614d-dea6-4043-857f-24674f011bd4",
   "metadata": {},
   "outputs": [
    {
     "name": "stdout",
     "output_type": "stream",
     "text": [
      "Train set size: 20\n",
      "Dev set size: 50\n"
     ]
    }
   ],
   "source": [
    "from dspy.datasets import HotPotQA\n",
    "\n",
    "# Load the dataset.\n",
    "dataset = HotPotQA(train_seed=1, train_size=20, eval_seed=2023, dev_size=50, test_size=10)\n",
    "\n",
    "# Tell DSPy that the 'question' field is the input. Any other fields are labels and/or metadata.\n",
    "trainset = [x.with_inputs(\"question\") for x in dataset.train]\n",
    "devset = [x.with_inputs(\"question\") for x in dataset.dev]\n",
    "\n",
    "print(f\"Train set size: {len(trainset)}\")\n",
    "print(f\"Dev set size: {len(devset)}\")"
   ]
  },
  {
   "cell_type": "code",
   "execution_count": 13,
   "id": "e68d2123-09c1-4507-a22d-ce4320881c60",
   "metadata": {},
   "outputs": [],
   "source": [
    "train_example = trainset[0]\n",
    "dev_example = devset[18]"
   ]
  },
  {
   "cell_type": "code",
   "execution_count": 14,
   "id": "7ea4c610-9906-488c-98ff-da87f5539f94",
   "metadata": {},
   "outputs": [],
   "source": [
    "class GenerateAnswer(dspy.Signature):\n",
    "    \"\"\"Answer questions with short factoid answers.\"\"\"\n",
    "\n",
    "    context = dspy.InputField(desc=\"may contain relevant facts\")\n",
    "    question = dspy.InputField()\n",
    "    answer = dspy.OutputField(desc=\"often between 1 and 5 words\")"
   ]
  },
  {
   "cell_type": "code",
   "execution_count": 15,
   "id": "fc36f32b-0441-4f09-97b3-ea8b32a51174",
   "metadata": {},
   "outputs": [],
   "source": [
    "class RAG(dspy.Module):\n",
    "    def __init__(self, num_passages=3):\n",
    "        super().__init__()\n",
    "        self.retrieve = dspy.Retrieve(k=num_passages)\n",
    "        self.generate_answer = dspy.ChainOfThought(GenerateAnswer)\n",
    "\n",
    "    def forward(self, question):\n",
    "        context = self.retrieve(question).passages\n",
    "        prediction = self.generate_answer(context=context, question=question)\n",
    "        return dspy.Prediction(context=context, answer=prediction.answer)"
   ]
  },
  {
   "cell_type": "code",
   "execution_count": 32,
   "id": "2782fcaf-a877-468c-88fe-74af63d82803",
   "metadata": {},
   "outputs": [],
   "source": [
    "from dspy.teleprompt import BootstrapFewShot\n",
    "\n",
    "# Validation logic: check that the predicted answer is correct.\n",
    "# Also check that the retrieved context does actually contain that answer.\n",
    "def validate_context_and_answer(example, pred, trace=None):\n",
    "    answer_EM = dspy.evaluate.answer_exact_match(example, pred)\n",
    "    answer_PM = dspy.evaluate.answer_passage_match(example, pred)\n",
    "    return answer_EM and answer_PM\n",
    "\n",
    "def trace_context_and_answer(example, pred, trace=[]):\n",
    "    answer_EM = dspy.evaluate.answer_exact_match(example, pred)\n",
    "    answer_PM = dspy.evaluate.answer_passage_match(example, pred)\n",
    "    print(f\"this is trace from list {trace}\")\n",
    "    return answer_EM and answer_PM"
   ]
  },
  {
   "cell_type": "code",
   "execution_count": null,
   "id": "b0067c52-9c2a-41e6-8308-2f56273790fd",
   "metadata": {},
   "outputs": [],
   "source": [
    "input_module = RAG()\n",
    "teleprompter = BootstrapFewShot(metric=validate_context_and_answer)\n",
    "compiled_module = teleprompter.compile(input_module,\n",
    "                                       trainset=trainset)"
   ]
  },
  {
   "cell_type": "code",
   "execution_count": 17,
   "id": "a9c63d9b-21fe-4501-b74f-c853b4328369",
   "metadata": {},
   "outputs": [
    {
     "name": "stdout",
     "output_type": "stream",
     "text": [
      "[('retrieve', <dspy.retrieve.retrieve.Retrieve object at 0x76682ccb0f10>), ('generate_answer', Predict(StringSignature(context, question -> rationale, answer\n",
      "    instructions='Answer questions with short factoid answers.'\n",
      "    context = Field(annotation=str required=True json_schema_extra={'desc': 'may contain relevant facts', '__dspy_field_type': 'input', 'prefix': 'Context:'})\n",
      "    question = Field(annotation=str required=True json_schema_extra={'__dspy_field_type': 'input', 'prefix': 'Question:', 'desc': '${question}'})\n",
      "    rationale = Field(annotation=str required=True json_schema_extra={'prefix': \"Reasoning: Let's think step by step in order to\", 'desc': '${produce the answer}. We ...', '__dspy_field_type': 'output'})\n",
      "    answer = Field(annotation=str required=True json_schema_extra={'desc': 'often between 1 and 5 words', '__dspy_field_type': 'output', 'prefix': 'Answer:'})\n",
      ")))]\n"
     ]
    }
   ],
   "source": [
    "compiled_module.save(\"compiled_module_withtraces.json\")"
   ]
  },
  {
   "cell_type": "code",
   "execution_count": 33,
   "id": "edca931c-be94-4d3a-a254-c81a4f15c17b",
   "metadata": {},
   "outputs": [
    {
     "name": "stderr",
     "output_type": "stream",
     "text": [
      "100%|██████████| 2/2 [00:00<00:00, 17.30it/s]"
     ]
    },
    {
     "name": "stdout",
     "output_type": "stream",
     "text": [
      "this is trace from list [(Predict(StringSignature(context, question -> rationale, answer\n",
      "    instructions='Answer questions with short factoid answers.'\n",
      "    context = Field(annotation=str required=True json_schema_extra={'desc': 'may contain relevant facts', '__dspy_field_type': 'input', 'prefix': 'Context:'})\n",
      "    question = Field(annotation=str required=True json_schema_extra={'__dspy_field_type': 'input', 'prefix': 'Question:', 'desc': '${question}'})\n",
      "    rationale = Field(annotation=str required=True json_schema_extra={'prefix': \"Reasoning: Let's think step by step in order to\", 'desc': '${produce the answer}. We ...', '__dspy_field_type': 'output'})\n",
      "    answer = Field(annotation=str required=True json_schema_extra={'desc': 'often between 1 and 5 words', '__dspy_field_type': 'output', 'prefix': 'Answer:'})\n",
      ")), {'context': ['At My Window (album) | At My Window is an album released by Folk/country singer-songwriter Townes Van Zandt in 1987. This was Van Zandt\\'s first studio album in the nine years that followed 1978\\'s \"Flyin\\' Shoes\", and his only studio album recorded in the 1980s. Although the songwriter had become less prolific, this release showed that the quality of his material remained high.', 'Little Window | Little Window is the debut album of American singer-songwriter Baby Dee. The album was released in 2002 on the Durtro label. It was produced, composed, and performed entirely by Dee.', 'Windows and Walls | Windows and Walls is the eighth album by American singer-songwriter Dan Fogelberg, released in 1984 (see 1984 in music). The first single, \"The Language of Love\", reached 13 on the U.S. \"Billboard\" Hot 100 chart. Although the follow-up, \"Believe in Me\", missed the Top 40 of the pop chart, peaking at No. 48, it became the singer\\'s fourth No. 1 song on the \"Billboard\" adult contemporary chart.'], 'question': 'At My Window was released by which American singer-songwriter?'}, Prediction(\n",
      "    rationale='identify the artist associated with the album \"At My Window.\" The context states that the album was released by Folk/country singer-songwriter Townes Van Zandt.',\n",
      "    answer='Townes Van Zandt'\n",
      "))]\n",
      "this is trace from list [(Predict(StringSignature(context, question -> rationale, answer\n",
      "    instructions='Answer questions with short factoid answers.'\n",
      "    context = Field(annotation=str required=True json_schema_extra={'desc': 'may contain relevant facts', '__dspy_field_type': 'input', 'prefix': 'Context:'})\n",
      "    question = Field(annotation=str required=True json_schema_extra={'__dspy_field_type': 'input', 'prefix': 'Question:', 'desc': '${question}'})\n",
      "    rationale = Field(annotation=str required=True json_schema_extra={'prefix': \"Reasoning: Let's think step by step in order to\", 'desc': '${produce the answer}. We ...', '__dspy_field_type': 'output'})\n",
      "    answer = Field(annotation=str required=True json_schema_extra={'desc': 'often between 1 and 5 words', '__dspy_field_type': 'output', 'prefix': 'Answer:'})\n",
      ")), {'context': ['Candace Kita | Kita\\'s first role was as a news anchor in the 1991 movie \"Stealth Hunters\". Kita\\'s first recurring television role was in Fox\\'s \"Masked Rider\", from 1995 to 1996. She appeared as a series regular lead in all 40 episodes. Kita also portrayed a frantic stewardess in a music video directed by Mark Pellington for the British group, Catherine Wheel, titled, \"Waydown\" in 1995. In 1996, Kita also appeared in the film \"Barb Wire\" (1996) and guest starred on \"The Wayans Bros.\". She also guest starred in \"Miriam Teitelbaum: Homicide\" with \"Saturday Night Live\" alumni Nora Dunn, \"Wall To Wall Records\" with Jordan Bridges, \"Even Stevens\", \"Felicity\" with Keri Russell, \"V.I.P.\" with Pamela Anderson, \"Girlfriends\", \"The Sweet Spot\" with Bill Murray, and \"Movies at Our House\". She also had recurring roles on the FX spoof, \"Son of the Beach\" from 2001 to 2002, ABC-Family\\'s \"Dance Fever\" and Oxygen Network\\'s \"Running with Scissors\". Kita also appeared in the films \"Little Heroes\" (2002) and \"Rennie\\'s Landing\" (2001).', 'Jilly Kitzinger | Jilly Kitzinger is a fictional character in the science fiction series \"Torchwood\", portrayed by American actress Lauren Ambrose. The character was promoted as one of five new main characters to join \"Torchwood\" in its fourth series, \"\" (2011), as part of a new co-production between \"Torchwood\"\\' s British network, BBC One, and its American financiers on US premium television network Starz. Ambrose appears in seven of the ten episodes, and is credited as a \"special guest star\" throughout. Whilst reaction to the serial was mixed, Ambrose\\' portrayal was often singled out by critics for particular praise and in 2012 she received a Saturn Award nomination for Best Supporting Actress on Television.', 'Candace Brown | Candace June Brown (born June 15, 1980) is an American actress and comedian best known for her work on shows such as \"Grey\\'s Anatomy\", \"Desperate Housewives\", \"Head Case\", The \"Wizards Of Waverly Place\". In 2011, she joined the guest cast for \"Torchwood\"\\' s fourth series\\' \"\", airing on BBC One in the United Kingdom and premium television network Starz.'], 'question': 'which  American actor was Candace Kita  guest starred with '}, Prediction(\n",
      "    rationale='identify the American actor that Candace Kita guest starred with. The context mentions several shows and guest appearances by Candace Kita, but it does not specify a particular American actor she worked with. However, it does mention her guest appearances on shows like \"The Wayans Bros.\" and \"Felicity,\" which featured American actors. Since no specific actor is named in the context, we cannot definitively answer the question.',\n",
      "    answer='Not specified'\n",
      "))]\n",
      "Bootstrapped 0 full traces after 2 examples in round 0.\n"
     ]
    },
    {
     "name": "stderr",
     "output_type": "stream",
     "text": [
      "\n"
     ]
    }
   ],
   "source": [
    "input_module = RAG()\n",
    "teleprompter = BootstrapFewShot(metric=trace_context_and_answer)\n",
    "# to check what happens in the trace, I am expecting it will be empty\n",
    "compiled_module = teleprompter.compile(input_module,\n",
    "                                       trainset=trainset[:2])"
   ]
  },
  {
   "cell_type": "code",
   "execution_count": 27,
   "id": "b44eafea-e625-4cba-8d09-94b8debe6cf6",
   "metadata": {},
   "outputs": [
    {
     "data": {
      "text/plain": [
       "generate_answer = Predict(StringSignature(context, question -> rationale, answer\n",
       "    instructions='Answer questions with short factoid answers.'\n",
       "    context = Field(annotation=str required=True json_schema_extra={'desc': 'may contain relevant facts', '__dspy_field_type': 'input', 'prefix': 'Context:'})\n",
       "    question = Field(annotation=str required=True json_schema_extra={'__dspy_field_type': 'input', 'prefix': 'Question:', 'desc': '${question}'})\n",
       "    rationale = Field(annotation=str required=True json_schema_extra={'prefix': \"Reasoning: Let's think step by step in order to\", 'desc': '${produce the answer}. We ...', '__dspy_field_type': 'output'})\n",
       "    answer = Field(annotation=str required=True json_schema_extra={'desc': 'often between 1 and 5 words', '__dspy_field_type': 'output', 'prefix': 'Answer:'})\n",
       "))"
      ]
     },
     "execution_count": 27,
     "metadata": {},
     "output_type": "execute_result"
    }
   ],
   "source": [
    "compiled_module"
   ]
  },
  {
   "cell_type": "code",
   "execution_count": 18,
   "id": "8ad1b8bf-5ee2-484c-989b-d451f94d140d",
   "metadata": {
    "collapsed": true,
    "jupyter": {
     "outputs_hidden": true
    }
   },
   "outputs": [
    {
     "name": "stderr",
     "output_type": "stream",
     "text": [
      "INFO:httpx:HTTP Request: POST https://api.openai.com/v1/chat/completions \"HTTP/1.1 200 OK\"\n"
     ]
    },
    {
     "name": "stdout",
     "output_type": "stream",
     "text": [
      "Question\n",
      "========\n",
      "Are both Cangzhou and Qionghai in the Hebei province of China?\n",
      "\n",
      "Predicted Answer\n",
      "================\n",
      "No\n",
      "\n",
      "Retrieved Contexts (truncated)\n",
      "['Cangzhou | Cangzhou () is a prefecture-level city in eastern Hebei province, People\\'s Republic of China. At the 2010 census, Cangzhou\\'s built-up (\"or metro\") area made of Yunhe, Xinhua districts and C...', 'Haixing County | Haixing County () is a county of southeastern Hebei province, China, bordering Shandong to the southeast. It is administered by Cangzhou City, and, , had a population of 220,000 resid...', \"Dongguang County | Dongguang County () is a county under the jurisdiction of Cangzhou City, in southeastern Hebei province, People's Republic of China, bordering Shandong to the southeast....\"]\n",
      "\n",
      "\n"
     ]
    },
    {
     "name": "stderr",
     "output_type": "stream",
     "text": [
      "INFO:httpx:HTTP Request: POST https://api.openai.com/v1/chat/completions \"HTTP/1.1 200 OK\"\n"
     ]
    },
    {
     "name": "stdout",
     "output_type": "stream",
     "text": [
      "Question\n",
      "========\n",
      "Who conducts the draft in which Marc-Andre Fleury was drafted to the Vegas Golden Knights for the 2017-18 season?\n",
      "\n",
      "Predicted Answer\n",
      "================\n",
      "National Hockey League (NHL)\n",
      "\n",
      "Retrieved Contexts (truncated)\n",
      "['2017–18 Pittsburgh Penguins season | The 2017–18 Pittsburgh Penguins season will be the 51st season for the National Hockey League ice hockey team that was established on June 5, 1967. They will enter...', 'Marc-André Fleury | Marc-André Fleury (born November 28, 1984) is a French-Canadian professional ice hockey goaltender playing for the Vegas Golden Knights of the National Hockey League (NHL). Drafted...', \"2017 NHL Expansion Draft | The 2017 NHL Expansion Draft was an expansion draft conducted by the National Hockey League on June 18–20, 2017 to fill the roster of the league's expansion team for the 201...\"]\n",
      "\n",
      "\n"
     ]
    },
    {
     "name": "stderr",
     "output_type": "stream",
     "text": [
      "INFO:httpx:HTTP Request: POST https://api.openai.com/v1/chat/completions \"HTTP/1.1 200 OK\"\n"
     ]
    },
    {
     "name": "stdout",
     "output_type": "stream",
     "text": [
      "Question\n",
      "========\n",
      "The Wings entered a new era, following the retirement of which Canadian retired professional ice hockey player and current general manager of the Tampa Bay Lightning of the National Hockey League (NHL)?\n",
      "\n",
      "Predicted Answer\n",
      "================\n",
      "Steve Yzerman\n",
      "\n",
      "Retrieved Contexts (truncated)\n",
      "['Steve Yzerman | Stephen Gregory \"Steve\" Yzerman ( ; born May 9, 1965) is a Canadian retired professional ice hockey player and current general manager of the Tampa Bay Lightning of the National Hockey...', '2006–07 Detroit Red Wings season | The 2006–07 Detroit Red Wings season was the 81st National Hockey League season in Detroit, Michigan. The Wings entered a new era, following the retirement of longti...', 'List of Tampa Bay Lightning general managers | The Tampa Bay Lightning are an American professional ice hockey team based in Tampa, Florida. They play in the Atlantic Division of the Eastern Conferenc...']\n",
      "\n",
      "\n"
     ]
    },
    {
     "name": "stderr",
     "output_type": "stream",
     "text": [
      "INFO:httpx:HTTP Request: POST https://api.openai.com/v1/chat/completions \"HTTP/1.1 200 OK\"\n"
     ]
    },
    {
     "name": "stdout",
     "output_type": "stream",
     "text": [
      "Question\n",
      "========\n",
      "What river is near the Crichton Collegiate Church?\n",
      "\n",
      "Predicted Answer\n",
      "================\n",
      "River Tyne\n",
      "\n",
      "Retrieved Contexts (truncated)\n",
      "['Crichton Collegiate Church | Crichton Collegiate Church is situated about 0.6 mi south west of the hamlet of Crichton in Midlothian, Scotland. Crichton itself is 1.4 mi west of Pathhead and 7.5 mi sou...', 'Crichton Castle | Crichton Castle is a ruined castle situated at the head of the River Tyne, near the village of Crichton, Midlothian, Scotland. The castle lies two miles south of the village of Pathh...', 'The Crichton | The Crichton is an institutional campus in Dumfries in southwest Scotland. It incorporates part of Dumfries and Galloway Royal Infirmary, a business park, and Crichton University Campus...']\n",
      "\n",
      "\n"
     ]
    },
    {
     "name": "stderr",
     "output_type": "stream",
     "text": [
      "INFO:httpx:HTTP Request: POST https://api.openai.com/v1/chat/completions \"HTTP/1.1 200 OK\"\n"
     ]
    },
    {
     "name": "stdout",
     "output_type": "stream",
     "text": [
      "Question\n",
      "========\n",
      "In the 10th Century A.D. Ealhswith had a son called Æthelweard by which English king?\n",
      "\n",
      "Predicted Answer\n",
      "================\n",
      "King Alfred the Great\n",
      "\n",
      "Retrieved Contexts (truncated)\n",
      "['Æthelweard of East Anglia | Æthelweard (died 854) was a 9th-century king of East Anglia, the long-lived Anglo-Saxon kingdom which today includes the English counties of Norfolk and Suffolk. Little is ...', 'Æthelweard (son of Alfred) | Æthelweard (d. 920 or 922) was the younger son of King Alfred the Great and Ealhswith....', 'Beorhtnoð æthling of Kent | Beorhtnoð æthling of Kent was an English ruler of the 9-10th century AD. His father was Burgred of Mercia; his mother, Æthelswith, and his brother, Beorhtweald Ealdorman of...']\n",
      "\n",
      "\n"
     ]
    },
    {
     "name": "stderr",
     "output_type": "stream",
     "text": [
      "INFO:httpx:HTTP Request: POST https://api.openai.com/v1/chat/completions \"HTTP/1.1 200 OK\"\n"
     ]
    },
    {
     "name": "stdout",
     "output_type": "stream",
     "text": [
      "Question\n",
      "========\n",
      "The Newark Airport Exchange is at the northern edge of an airport that is operated by whom?\n",
      "\n",
      "Predicted Answer\n",
      "================\n",
      "Port Authority of New York and New Jersey\n",
      "\n",
      "Retrieved Contexts (truncated)\n",
      "['Newark Airport Interchange | The Newark Airport Interchange is a massive interchange of Interstate 78, U.S. Route 1-9, U.S. Route 22, New Jersey Route 21, and Interstate 95 (the New Jersey Turnpike) a...', 'Newark Liberty International Airport | Newark Liberty International Airport (IATA: EWR, ICAO: KEWR, FAA LID: EWR) , originally Newark Metropolitan Airport and later Newark International Airport, is th...', 'Newark Liberty International Airport Station | Newark Liberty International Airport Station (also known as Newark International Airport Station) is a railroad station on the Northeast Corridor (NEC) i...']\n",
      "\n",
      "\n"
     ]
    },
    {
     "name": "stderr",
     "output_type": "stream",
     "text": [
      "INFO:httpx:HTTP Request: POST https://api.openai.com/v1/chat/completions \"HTTP/1.1 200 OK\"\n"
     ]
    },
    {
     "name": "stdout",
     "output_type": "stream",
     "text": [
      "Question\n",
      "========\n",
      "Where did an event take place resulting in a win during a domestic double due to the action of a Peruvian footballer known for his goal scoring ability?\n",
      "\n",
      "Predicted Answer\n",
      "================\n",
      "Not enough information\n",
      "\n",
      "Retrieved Contexts (truncated)\n",
      "['List of Peru international footballers | Peru took part in the inaugural FIFA World Cup in 1930 and enjoyed victories in the 1938 Bolivarian Games and the 1939 Copa América, with goalkeeper Juan Valdi...', 'El Maracanazo | The Maracanazo of the Chilean selection (Spanish: \"Maracanazo de la selección chilena\" , also known as Condorazo or Bengalazo) was an incident which happened during the football match ...', '1938 Peruvian Primera División | The 1938 season of the Primera División Peruana, the top category of Peruvian football, was played by 9 teams. The national champions were Municipal. Because Alianza L...']\n",
      "\n",
      "\n"
     ]
    },
    {
     "name": "stderr",
     "output_type": "stream",
     "text": [
      "INFO:httpx:HTTP Request: POST https://api.openai.com/v1/chat/completions \"HTTP/1.1 200 OK\"\n"
     ]
    },
    {
     "name": "stdout",
     "output_type": "stream",
     "text": [
      "Question\n",
      "========\n",
      "Are both Chico Municipal Airport and William R. Fairchild International Airport in California?\n",
      "\n",
      "Predicted Answer\n",
      "================\n",
      "No\n",
      "\n",
      "Retrieved Contexts (truncated)\n",
      "['William R. Fairchild International Airport | William R. Fairchild International Airport (IATA: CLM, ICAO: KCLM, FAA LID: CLM) is a public airport located within the city limits of Port Angeles, in Cla...', 'Chico Municipal Airport | Chico Municipal Airport (IATA: CIC, ICAO: KCIC, FAA LID: CIC) , often called CMA, is four miles (6 km) north of Chico, in Butte County, California. The airport covers 1,475 a...', 'Ranchaero Airport | Ranchaero Airport is a private-use airport a mile west of Chico, in Butte County, California....']\n",
      "\n",
      "\n"
     ]
    },
    {
     "name": "stderr",
     "output_type": "stream",
     "text": [
      "INFO:httpx:HTTP Request: POST https://api.openai.com/v1/chat/completions \"HTTP/1.1 200 OK\"\n"
     ]
    },
    {
     "name": "stdout",
     "output_type": "stream",
     "text": [
      "Question\n",
      "========\n",
      "In which Maine county is Fort Pownall located?\n",
      "\n",
      "Predicted Answer\n",
      "================\n",
      "Waldo County\n",
      "\n",
      "Retrieved Contexts (truncated)\n",
      "['Fort Pownall | Fort Pownall was a British fortification built during the French and Indian War, whose remains are located at Fort Point State Park in Stockton Springs, Maine. The fort was named for Go...', 'Fort Halifax (Maine) | Fort Halifax is a former British colonial outpost on the banks of the Sebasticook River, just above its mouth at the Kennebec River, in Winslow, Maine. Originally built as a woo...', 'Lincoln County, Maine | Lincoln County is a county located in the U.S. state of Maine. As of the 2010 census, the population was 34,457. Its county seat is Wiscasset. The county was founded in 1760 fr...']\n",
      "\n",
      "\n"
     ]
    },
    {
     "name": "stderr",
     "output_type": "stream",
     "text": [
      "INFO:httpx:HTTP Request: POST https://api.openai.com/v1/chat/completions \"HTTP/1.1 200 OK\"\n"
     ]
    },
    {
     "name": "stdout",
     "output_type": "stream",
     "text": [
      "Question\n",
      "========\n",
      "Which 90s rock band has more recently reformed, Gene or The Afghan Whigs?\n",
      "\n",
      "Predicted Answer\n",
      "================\n",
      "The Afghan Whigs\n",
      "\n",
      "Retrieved Contexts (truncated)\n",
      "['The Afghan Whigs | The Afghan Whigs are an American rock band from Cincinnati, Ohio, United States. Originally active from 1986 to 2001, they have since reformed. The group – with core members Greg Du...', 'In Spades | In Spades is the eighth studio album by American alternative rock band The Afghan Whigs, released on May 5, 2017 on Sub Pop Records....', 'Congregation (The Afghan Whigs album) | Congregation is the third studio album by American alternative rock band The Afghan Whigs, released on January 31, 1992, by Sub Pop. After touring for two years...']\n",
      "\n",
      "\n"
     ]
    },
    {
     "name": "stderr",
     "output_type": "stream",
     "text": [
      "INFO:httpx:HTTP Request: POST https://api.openai.com/v1/chat/completions \"HTTP/1.1 200 OK\"\n"
     ]
    },
    {
     "name": "stdout",
     "output_type": "stream",
     "text": [
      "Question\n",
      "========\n",
      "What year did the mountain known in Italian as \"Monte Vesuvio\", erupt?\n",
      "\n",
      "Predicted Answer\n",
      "================\n",
      "79 AD\n",
      "\n",
      "Retrieved Contexts (truncated)\n",
      "['Naples–Salerno high-speed railway | The Naples–Salerno high-speed railway line (also known in Italian as the Linea a Monte del Vesuvio, meaning the \"line up Mount Vesuvius\") is a link in the Italian h...', 'Mount Vesuvius | Mount Vesuvius ( ; Italian: \"Monte Vesuvio\" ] ; Neapolitan: \"Vesuvio\" ; Latin: \"Mons Vesuvius\" ] ; also \"Vesevus \" or \"Vesaevus \" in some Roman sources) is a somma-stratovolcano locat...', 'Italian cruiser Vesuvio | Vesuvio was a protected cruiser of the Italian \"Regia Marina\" (Royal Navy) built in the 1880s. She was the third member of the \"Etna\" class , which included three sister ship...']\n",
      "\n",
      "\n"
     ]
    },
    {
     "name": "stderr",
     "output_type": "stream",
     "text": [
      "INFO:httpx:HTTP Request: POST https://api.openai.com/v1/chat/completions \"HTTP/1.1 200 OK\"\n"
     ]
    },
    {
     "name": "stdout",
     "output_type": "stream",
     "text": [
      "Question\n",
      "========\n",
      "Is the 72nd field brigade part of the oldest or newest established field army?\n",
      "\n",
      "Predicted Answer\n",
      "================\n",
      "Newest established field army\n",
      "\n",
      "Retrieved Contexts (truncated)\n",
      "['72nd Field Artillery Brigade (United States) | The 72nd Field Artillery Brigade is an AC/RC unit based at Joint Base McGuire-Dix-Lakehurst, New Jersey. The unit is responsible for training selected Un...', '218th Field Artillery Regiment (United States) | The 218th Field Artillery Regiment is a Field Artillery Regiment of the United States Army, Oregon Army National Guard. With lineage tracing back to 18...', '201st Field Artillery Regiment | The 201st Field Artillery Regiment (\"First West Virginia\") is the United States\\' oldest active National Guard unit, and oldest continually serving unit in the United S...']\n",
      "\n",
      "\n"
     ]
    },
    {
     "name": "stderr",
     "output_type": "stream",
     "text": [
      "INFO:httpx:HTTP Request: POST https://api.openai.com/v1/chat/completions \"HTTP/1.1 200 OK\"\n"
     ]
    },
    {
     "name": "stdout",
     "output_type": "stream",
     "text": [
      "Question\n",
      "========\n",
      "Was Stanislaw Kiszka paid for his services by the Royal Treasury?\n",
      "\n",
      "Predicted Answer\n",
      "================\n",
      "Not specified\n",
      "\n",
      "Retrieved Contexts (truncated)\n",
      "['Stanisław Kiszka | Stanisław Piotrowicz Kiszka (Lithuanian: \"Stanislovas Kiška\" ; died in 1513 or 1514) was a noble from the Grand Duchy of Lithuania. He became the founder of the House of Kiszka. He ...', 'Jan Kiszka | Jan Kiszka (1552–1592) was a politician, magnate, patron, and benefactor of Polish brethren in the 16th century Polish-Lithuanian Commonwealth. Kiszka served as Carver of Lithuania from 1...', 'Stanisław Kiszka (bishop) | Stanisław Kiszka (Belarusian: Stanіslaў Kіshka, born in 1584 - died on February 13, 1626 in Wornie, Polish–Lithuanian Commonwealth) was a Catholic Bishop and a convert from...']\n",
      "\n",
      "\n"
     ]
    },
    {
     "name": "stderr",
     "output_type": "stream",
     "text": [
      "INFO:httpx:HTTP Request: POST https://api.openai.com/v1/chat/completions \"HTTP/1.1 200 OK\"\n"
     ]
    },
    {
     "name": "stdout",
     "output_type": "stream",
     "text": [
      "Question\n",
      "========\n",
      "Which film director is younger, Del Lord or Wang Xiaoshuai?\n",
      "\n",
      "Predicted Answer\n",
      "================\n",
      "Unknown\n",
      "\n",
      "Retrieved Contexts (truncated)\n",
      "['Wang Xiaoshuai | Wang Xiaoshuai (; born May 22, 1966) is a Chinese film director, screenwriter and occasional actor. He is commonly grouped under the loose association of filmmakers known as the \"Sixt...', 'Wu Di (cinematographer) | Wu Di () is a Chinese cinematographer and one-time film director, known for his collaborations with Sixth Generation director, Wang Xiaoshuai. The director of photography for...', 'Cao Baoping | Cao Baoping is a Chinese film director. He has emerged in recent years as a figure in China\\'s \"midrange\" cinema industry. Some industry watchers, like \"Variety\", have situated directors ...']\n",
      "\n",
      "\n"
     ]
    },
    {
     "name": "stderr",
     "output_type": "stream",
     "text": [
      "INFO:httpx:HTTP Request: POST https://api.openai.com/v1/chat/completions \"HTTP/1.1 200 OK\"\n"
     ]
    },
    {
     "name": "stdout",
     "output_type": "stream",
     "text": [
      "Question\n",
      "========\n",
      "Lord North Street has a resident in which former Conservative MP who received an 18-month prison sentence for perjury in 1999?\n",
      "\n",
      "Predicted Answer\n",
      "================\n",
      "Jonathan Aitken\n",
      "\n",
      "Retrieved Contexts (truncated)\n",
      "['Jonathan Aitken | Jonathan William Patrick Aitken (born 30 August 1942) is a former Conservative Member of Parliament in the United Kingdom (1974–97), and a former Cabinet minister. He was convicted o...', 'David Chaytor | David Michael Chaytor (born 3 August 1949) is a former British Labour Party politician, who was the Member of Parliament (MP) for Bury North from 1997 to 2010. He was the first member ...', 'Elliot Morley | Elliot Anthony Morley (born 6 July 1952) is a British former Labour Party politician, who was the Member of Parliament for Glanford and Scunthorpe from 1987 to 1997 and then Scunthorpe...']\n",
      "\n",
      "\n"
     ]
    },
    {
     "name": "stderr",
     "output_type": "stream",
     "text": [
      "INFO:httpx:HTTP Request: POST https://api.openai.com/v1/chat/completions \"HTTP/1.1 200 OK\"\n"
     ]
    },
    {
     "name": "stdout",
     "output_type": "stream",
     "text": [
      "Question\n",
      "========\n",
      "What is the name of this region of Italy, referring to the medieval March of Ancona and nearby marches of Camerino and Fermo, where the comune Pollenza is located?\n",
      "\n",
      "Predicted Answer\n",
      "================\n",
      "Marche\n",
      "\n",
      "Retrieved Contexts (truncated)\n",
      "['Marche | Marche (] ), or the Marches , is one of the twenty regions of Italy. The name of the region derives from the plural name of \"marca\", originally referring to the medieval March of Ancona and n...', 'March of Ancona | The March of Ancona (Italian: \"Marca Anconitana\" ) (also Anconetana) was a frontier march centred on the city of Ancona and, then, Macerata in the Middle Ages. Its name is preserved ...', 'Marchigiano dialect | Marchigiano refers to a tight cluster of local Romance speech types spoken in the central part of the region Marche, in Italy, in a zone which includes the provinces of Ancona, M...']\n",
      "\n",
      "\n"
     ]
    },
    {
     "name": "stderr",
     "output_type": "stream",
     "text": [
      "INFO:httpx:HTTP Request: POST https://api.openai.com/v1/chat/completions \"HTTP/1.1 200 OK\"\n"
     ]
    },
    {
     "name": "stdout",
     "output_type": "stream",
     "text": [
      "Question\n",
      "========\n",
      "William Hughes Miller was born in a city with how many inhabitants ?\n",
      "\n",
      "Predicted Answer\n",
      "================\n",
      "Unknown\n",
      "\n",
      "Retrieved Contexts (truncated)\n",
      "['William Hughes Miller | William Hughes Miller (born March 16, 1941, Kosciusko, Mississippi) is a professor at the University of California, Berkeley and a leading researcher in the field of theoretica...', 'William Green Miller | William Green Miller (born August 15, 1931 in New York City, New York), served as the United States Ambassador to Ukraine under Bill Clinton, from 1993 to 1998....', 'Bill Miller (footballer, born 1908) | William \"Bill\" Miller (31 March 1908 – 1974) was an English professional footballer who made four appearances in the Football League, three for Luton Town and one...']\n",
      "\n",
      "\n"
     ]
    },
    {
     "name": "stderr",
     "output_type": "stream",
     "text": [
      "INFO:httpx:HTTP Request: POST https://api.openai.com/v1/chat/completions \"HTTP/1.1 200 OK\"\n"
     ]
    },
    {
     "name": "stdout",
     "output_type": "stream",
     "text": [
      "Question\n",
      "========\n",
      "What do students do at the school of New York University where Meleko Mokgosi is an artist and assistant professor?\n",
      "\n",
      "Predicted Answer\n",
      "================\n",
      "Individualized study\n",
      "\n",
      "Retrieved Contexts (truncated)\n",
      "['Meleko Mokgosi | Meleko Mokgosi (born 1981) is an artist and assistant professor at the Gallatin School of Individualized Study at New York University. His work includes large-scale paintings that exp...', 'Annamarie Jagose | Annamarie Jagose (born Ashburton, New Zealand, 1965) is an LGBT academic and writer of fictional works. She gained her PhD (Victoria University of Wellington) in 1992, and worked in...', 'Yannis Bakos | Yannis Bakos is a professor at the Leonard N. Stern School of Business at New York University. His primary area of expertise is the economic and business implications of information tec...']\n",
      "\n",
      "\n"
     ]
    },
    {
     "name": "stderr",
     "output_type": "stream",
     "text": [
      "INFO:httpx:HTTP Request: POST https://api.openai.com/v1/chat/completions \"HTTP/1.1 200 OK\"\n"
     ]
    },
    {
     "name": "stdout",
     "output_type": "stream",
     "text": [
      "Question\n",
      "========\n",
      "What is the nationality of the chef and restaurateur featured in Restaurant: Impossible?\n",
      "\n",
      "Predicted Answer\n",
      "================\n",
      "British\n",
      "\n",
      "Retrieved Contexts (truncated)\n",
      "['Restaurant: Impossible | Restaurant: Impossible is an American reality television series, featuring chef and restaurateur Robert Irvine, that aired on Food Network from 2011 to 2016....', 'Jean Joho | Jean Joho is a French-American chef and restaurateur. He is chef/proprietor of Everest in Chicago (founded in 1986), Paris Club Bistro & Bar and Studio Paris in Chicago, The Eiffel Tower R...', 'List of Restaurant: Impossible episodes | This is the list of the episodes for the American cooking and reality television series \"Restaurant Impossible\", produced by Food Network. The premise of the ...']\n",
      "\n",
      "\n"
     ]
    },
    {
     "name": "stderr",
     "output_type": "stream",
     "text": [
      "INFO:httpx:HTTP Request: POST https://api.openai.com/v1/chat/completions \"HTTP/1.1 200 OK\"\n"
     ]
    },
    {
     "name": "stdout",
     "output_type": "stream",
     "text": [
      "Question\n",
      "========\n",
      "What American actor plays an East side drug lord who prefers peaceful solutions to business disputes when possible?\n",
      "\n",
      "Predicted Answer\n",
      "================\n",
      "Robert F. Chew\n",
      "\n",
      "Retrieved Contexts (truncated)\n",
      "['Proposition Joe | Joseph Stewart, better known as \"Proposition Joe\" or \"Prop Joe\", is a fictional character on the HBO drama \"The Wire\", played by actor Robert F. Chew. Joe was an Eastside drug lord w...', 'The Takeover (film) | The Takeover is a 1995 action film starring Billy Drago and Nick Mancuso as rival drug lords. David Amos and Gene Mitchell play good-guys who try to intervene in the turf war....', 'Raymond Cruz | Raymond Cruz (born July 9, 1961) is an American actor, best known for his starring role as Detective Julio Sanchez in the series \"The Closer\" and his recurring role as the drug lord Tuc...']\n",
      "\n",
      "\n"
     ]
    },
    {
     "name": "stderr",
     "output_type": "stream",
     "text": [
      "INFO:httpx:HTTP Request: POST https://api.openai.com/v1/chat/completions \"HTTP/1.1 200 OK\"\n"
     ]
    },
    {
     "name": "stdout",
     "output_type": "stream",
     "text": [
      "Question\n",
      "========\n",
      "What city is 11 miles north of the birthplace of actor Toby Sawyer?\n",
      "\n",
      "Predicted Answer\n",
      "================\n",
      "Manchester\n",
      "\n",
      "Retrieved Contexts (truncated)\n",
      "['Toby Sawyer | Toby Sawyer (born 27 March 1969 in Wilmslow, Cheshire, England) is a British actor....', 'Miranda Sawyer | Miranda Sawyer (born 1967) is an English journalist and broadcaster. She grew up in Wilmslow, Cheshire with her brother Toby, who is an actor. She has a degree in Jurisprudence from P...', 'Joe Sawyer | Joe Sawyer (August 29, 1906 – April 21, 1982) was a Canadian film actor born Joseph Sauers. He appeared in more than 200 films between 1927 and 1962, and was sometimes billed under his bi...']\n",
      "\n",
      "\n"
     ]
    },
    {
     "name": "stderr",
     "output_type": "stream",
     "text": [
      "INFO:httpx:HTTP Request: POST https://api.openai.com/v1/chat/completions \"HTTP/1.1 200 OK\"\n"
     ]
    },
    {
     "name": "stdout",
     "output_type": "stream",
     "text": [
      "Question\n",
      "========\n",
      "Who was born first, Tony Kaye or Deepa Mehta?\n",
      "\n",
      "Predicted Answer\n",
      "================\n",
      "Deepa Mehta\n",
      "\n",
      "Retrieved Contexts (truncated)\n",
      "['Tony Kaye (director) | Tony Kaye (born 8 July 1952) is a British director of films, music videos, advertisements, and documentaries....', 'Tony Kaye (musician) | Tony Kaye (born Anthony John Selvidge, 11 January 1946) is an English keyboardist and songwriter. Kaye was the original keyboard player for the progressive rock group Yes, from ...', 'Deepa Mehta | Deepa Mehta, {\\'1\\': \", \\'2\\': \", \\'3\\': \", \\'4\\': \"} ( born 15 September 1950) is an Indo-Canadian film director and screenwriter, most known for her Elements Trilogy, \"Fire\" (1996), \"Earth\" (1...']\n",
      "\n",
      "\n"
     ]
    },
    {
     "name": "stderr",
     "output_type": "stream",
     "text": [
      "INFO:httpx:HTTP Request: POST https://api.openai.com/v1/chat/completions \"HTTP/1.1 200 OK\"\n"
     ]
    },
    {
     "name": "stdout",
     "output_type": "stream",
     "text": [
      "Question\n",
      "========\n",
      "What is the English translation of the name of the store that Macy's replaced in Boise Town Square?\n",
      "\n",
      "Predicted Answer\n",
      "================\n",
      "the good market\n",
      "\n",
      "Retrieved Contexts (truncated)\n",
      "['Boise Towne Square | Boise Towne Square is a mall in the western United States, located in Boise, Idaho. The largest retail complex in the state, it opened in 1988 after more than 20 years of planning...', 'The Bon Marché | The Bon Marché, whose French name translates to \"the good market\" or \"the good deal\", was a department store chain launched in Seattle, Washington, United States, in 1890 by Edward No...', 'Abraham &amp; Straus | Abraham & Straus, commonly shortened to A&S, was a major New York City department store, based in Brooklyn. Founded in 1865, it became part of Federated Department Stores in 192...']\n",
      "\n",
      "\n"
     ]
    },
    {
     "name": "stderr",
     "output_type": "stream",
     "text": [
      "INFO:httpx:HTTP Request: POST https://api.openai.com/v1/chat/completions \"HTTP/1.1 200 OK\"\n"
     ]
    },
    {
     "name": "stdout",
     "output_type": "stream",
     "text": [
      "Question\n",
      "========\n",
      "Who did Lizzette Reynolds fire to make her notable in November 2007?\n",
      "\n",
      "Predicted Answer\n",
      "================\n",
      "Christine Comer\n",
      "\n",
      "Retrieved Contexts (truncated)\n",
      "['Lizzette Reynolds | Lizzette Gonzalez Reynolds (born c. 1965) is Statewide Policy and Programs Deputy Commissioner, Education Agency, State of Texas. She came to public attention in November 2007 over...', 'Jody Reynolds | Jody Reynolds (December 3, 1932 – November 7, 2008) was an American rock and roll singer, guitarist, and songwriter whose song \"Endless Sleep\" was a major U.S. top-ten hit in the summe...', 'Leah Betts | Leah Sarah Betts (1 November 1977 – 16 November 1995) was a schoolgirl from Latchingdon in Essex, England. She is notable for the extensive media coverage that followed her death shortly ...']\n",
      "\n",
      "\n"
     ]
    },
    {
     "name": "stderr",
     "output_type": "stream",
     "text": [
      "INFO:httpx:HTTP Request: POST https://api.openai.com/v1/chat/completions \"HTTP/1.1 200 OK\"\n"
     ]
    },
    {
     "name": "stdout",
     "output_type": "stream",
     "text": [
      "Question\n",
      "========\n",
      "What was the name of the man, who was billed by the coiner of the phrase \"There's a sucker born every minute\" as \"Boy Lightning Calculator\"?\n",
      "\n",
      "Predicted Answer\n",
      "================\n",
      "Boy Lightning Calculator\n",
      "\n",
      "Retrieved Contexts (truncated)\n",
      "['There\\'s a sucker born every minute | \"There\\'s a sucker born every minute\" is a phrase closely associated with P. T. Barnum, an American showman of the mid-19th century, although there is no evidence t...', 'P. T. Barnum | Phineas Taylor Barnum (July 5, 1810 – April 7, 1891) was an American politician, showman, and businessman remembered for promoting celebrated hoaxes and for founding the Barnum & Bailey...', 'There\\'s a Fool Born Every Minute | \"There\\'s a Fool Born Every Minute\" is a song written by Paul Evans and Paul Parnes. It was recorded and released as a single in 1968 by American country artist, Skee...']\n",
      "\n",
      "\n"
     ]
    },
    {
     "name": "stderr",
     "output_type": "stream",
     "text": [
      "INFO:httpx:HTTP Request: POST https://api.openai.com/v1/chat/completions \"HTTP/1.1 200 OK\"\n"
     ]
    },
    {
     "name": "stdout",
     "output_type": "stream",
     "text": [
      "Question\n",
      "========\n",
      "Which battle was fought for a shorter period of time, the Battle of the Ch'ongch'on River, or the Meuse-Argonne Offensive?\n",
      "\n",
      "Predicted Answer\n",
      "================\n",
      "Battle of the Ch'ongch'on River\n",
      "\n",
      "Retrieved Contexts (truncated)\n",
      "[\"Battle of the Ch'ongch'on River | The Battle of the Ch'ongch'on River, also known as the Battle of the Ch'ongch'on () or the Second Phase Campaign Western Sector (), was a decisive battle in the Korea...\", 'Battle of Lacolle Mills (1812) | The Battle of Lacolle River was fought on November 20, 1812, during the War of 1812. In this relatively short and fast battle, a very small garrison of Canadian militi...', 'Neuvilly-en-Argonne | World War I. The Battle of the Meuse-Argonne was fought in this region. The 35th Division Field Hospital 140, Sanitary Train Division 110 established a triage center in the bombe...']\n",
      "\n",
      "\n"
     ]
    },
    {
     "name": "stderr",
     "output_type": "stream",
     "text": [
      "INFO:httpx:HTTP Request: POST https://api.openai.com/v1/chat/completions \"HTTP/1.1 200 OK\"\n"
     ]
    },
    {
     "name": "stdout",
     "output_type": "stream",
     "text": [
      "Question\n",
      "========\n",
      "What cricketeer active 1974–1993 had a strong performance in the tour by the Australian cricket team in England in 1981?\n",
      "\n",
      "Predicted Answer\n",
      "================\n",
      "Ian Botham\n",
      "\n",
      "Retrieved Contexts (truncated)\n",
      "['Australian cricket team in England in 1981 | The tour by the Australian cricket team in England in 1981 included the 51st Ashes series of Test matches between Australia and England. Despite having bee...', 'Australian cricket team in Australia in 1974–75 | The 1974–75 Australians beat the touring England team 4–1 in the 1974-75 Ashes series. Labelled the \"Ugly Australians\" for their hard-nosed cricket, s...', 'English cricket team in Australia in 1974–75 | Mike Denness captained the English cricket team in Australia in 1974–75, playing as England in the 1974-75 Ashes series against the Australians and as th...']\n",
      "\n",
      "\n"
     ]
    },
    {
     "name": "stderr",
     "output_type": "stream",
     "text": [
      "INFO:httpx:HTTP Request: POST https://api.openai.com/v1/chat/completions \"HTTP/1.1 200 OK\"\n"
     ]
    },
    {
     "name": "stdout",
     "output_type": "stream",
     "text": [
      "Question\n",
      "========\n",
      "What is the present post of the head coach of the 1982 NC State Wolfpack football team ?\n",
      "\n",
      "Predicted Answer\n",
      "================\n",
      "Unknown\n",
      "\n",
      "Retrieved Contexts (truncated)\n",
      "[\"1982 NC State Wolfpack football team | The 1982 NC State Wolfpack football team represented North Carolina State University during the 1982 NCAA Division I-A football season. The team's head coach was...\", \"1983 NC State Wolfpack football team | The 1983 NC State Wolfpack football team represented North Carolina State University during the 1983 NCAA Division I-A football season. The team's head coach was...\", \"2009 NC State Wolfpack football team | The 2009 NC State Wolfpack football team represented North Carolina State University in the 2009 NCAA Division I FBS football season. The team's head coach was T...\"]\n",
      "\n",
      "\n"
     ]
    },
    {
     "name": "stderr",
     "output_type": "stream",
     "text": [
      "INFO:httpx:HTTP Request: POST https://api.openai.com/v1/chat/completions \"HTTP/1.1 200 OK\"\n"
     ]
    },
    {
     "name": "stdout",
     "output_type": "stream",
     "text": [
      "Question\n",
      "========\n",
      "Which Scottish actor sang \"Come What May\"?\n",
      "\n",
      "Predicted Answer\n",
      "================\n",
      "Ewan McGregor\n",
      "\n",
      "Retrieved Contexts (truncated)\n",
      "['Come What May (2001 song) | \"Come What May\" is a song composed by David Baerwald and Kevin Gilbert, originally intended for the film \"William Shakespeare\\'s Romeo + Juliet\". However, it was first heard...', 'Come What May (1952 song) | \"Come What May\" is a popular song, with lyrics by Allen Schiller and music by Al Sanchez....', \"John Ewen | John Ewen (1741–1821), is credited with the authorship of the well-known Scottish song, ‘0 weel may the boatie row'....\"]\n",
      "\n",
      "\n"
     ]
    },
    {
     "name": "stderr",
     "output_type": "stream",
     "text": [
      "INFO:httpx:HTTP Request: POST https://api.openai.com/v1/chat/completions \"HTTP/1.1 200 OK\"\n"
     ]
    },
    {
     "name": "stdout",
     "output_type": "stream",
     "text": [
      "Question\n",
      "========\n",
      "Where have Ivan Bella and Frank De Winne both traveled?\n",
      "\n",
      "Predicted Answer\n",
      "================\n",
      "Space\n",
      "\n",
      "Retrieved Contexts (truncated)\n",
      "['Ivan Bella | Ivan Bella (born 25 May 1964 in Brezno, Czechoslovakia (now Slovakia)) is a Slovak Air Force officer who became the first Slovak citizen to fly in space. He participated in an eight-day j...', \"Frank De Winne | Frank, Viscount De Winne (born 25 April 1961, in Ledeberg, Belgium) is a Belgian Air Component officer and an ESA astronaut. He is Belgium's second person in space (after Dirk Frimout...\", 'Iván Bella | Iván Gonzalo Bella (born 13 September 1989) is an Argentine football winger who plays for Vélez Sársfield in the Argentine Primera División....']\n",
      "\n",
      "\n"
     ]
    },
    {
     "name": "stderr",
     "output_type": "stream",
     "text": [
      "INFO:httpx:HTTP Request: POST https://api.openai.com/v1/chat/completions \"HTTP/1.1 200 OK\"\n"
     ]
    },
    {
     "name": "stdout",
     "output_type": "stream",
     "text": [
      "Question\n",
      "========\n",
      "The original work by Anton Chekhov involving a disillusioned schoolmaster, which inspired a later play by this British playwright, was written specifically for whom?\n",
      "\n",
      "Predicted Answer\n",
      "================\n",
      "Maria Yermolova\n",
      "\n",
      "Retrieved Contexts (truncated)\n",
      "[\"Wild Honey (play) | Wild Honey is a 1984 adaptation by British playwright Michael Frayn of an earlier play by Anton Chekhov. The original work, a sprawling five-hour drama from Chekhov's earliest year...\", 'Platonov (play) | Platonov (Russian: Платонов , also known as \"Fatherlessness\" and \"A Play Without a Title\") is the name in English given to an early, untitled play in four acts written by Anton Chekh...', 'The Seagull | The Seagull (Russian: Чайка , \"Chayka \" ) is a play by Russian dramatist Anton Chekhov, written in 1895 and first produced in 1896. \"The Seagull\" is generally considered to be the first ...']\n",
      "\n",
      "\n"
     ]
    },
    {
     "name": "stderr",
     "output_type": "stream",
     "text": [
      "INFO:httpx:HTTP Request: POST https://api.openai.com/v1/chat/completions \"HTTP/1.1 200 OK\"\n"
     ]
    },
    {
     "name": "stdout",
     "output_type": "stream",
     "text": [
      "Question\n",
      "========\n",
      "Are Roswell International Air Center and Pago Pago International Airport both located in the mainland US?\n",
      "\n",
      "Predicted Answer\n",
      "================\n",
      "No\n",
      "\n",
      "Retrieved Contexts (truncated)\n",
      "['Roswell International Air Center | Roswell International Air Center (RIAC) (IATA: ROW, ICAO: KROW, FAA LID: ROW) (Roswell Industrial Air Center) is an airport seven miles (11 km) south of Roswell, in ...', 'Pago Pago International Airport | Pago Pago International Airport (IATA: PPG, ICAO: NSTU, FAA LID: PPG) , also known as Tafuna Airport, is a public airport located 7 miles (11.3 km) southwest of the c...', 'Nichols Field (Colorado) | Nichols Field, also known as Alexander Airport, was an airfield 3 mi north of the Colorado Springs, Colorado city between the Pikeview RR station, and the Papeton and Roswel...']\n",
      "\n",
      "\n"
     ]
    },
    {
     "name": "stderr",
     "output_type": "stream",
     "text": [
      "INFO:httpx:HTTP Request: POST https://api.openai.com/v1/chat/completions \"HTTP/1.1 200 OK\"\n"
     ]
    },
    {
     "name": "stdout",
     "output_type": "stream",
     "text": [
      "Question\n",
      "========\n",
      "Untold: The Greatest Sports Stories Never Told was hosted by a sportscaster commonly referred to as what ?\n",
      "\n",
      "Predicted Answer\n",
      "================\n",
      "Marv Albert\n",
      "\n",
      "Retrieved Contexts (truncated)\n",
      "[\"Untold: The Greatest Sports Stories Never Told | Untold: The Greatest Sports Stories Never Told is an original one-hour documentary series featuring some of sports' most compelling figures and the cha...\", 'The Not-So-Great Moments in Sports | The Not-So-Great Moments In Sports was an HBO sports special that aired in 1984. It hosted by former Major League Baseball player and current broadcaster Tim McCar...', 'Greatest Sports Legends | Greatest Sports Legends is a sports anthology series on the lives and careers of noted athletes. First aired in 1972, the series was produced with 10 new episodes per year ne...']\n",
      "\n",
      "\n"
     ]
    },
    {
     "name": "stderr",
     "output_type": "stream",
     "text": [
      "INFO:httpx:HTTP Request: POST https://api.openai.com/v1/chat/completions \"HTTP/1.1 200 OK\"\n"
     ]
    },
    {
     "name": "stdout",
     "output_type": "stream",
     "text": [
      "Question\n",
      "========\n",
      "Are Walt Disney and Sacro GRA both documentry films?\n",
      "\n",
      "Predicted Answer\n",
      "================\n",
      "Yes\n",
      "\n",
      "Retrieved Contexts (truncated)\n",
      "['Sacro GRA | Sacro GRA (] , Italian for \"Holy GRA\") is a 2013 Italian documentary film directed by Gianfranco Rosi. It won the Golden Lion at the 70th Venice International Film Festival. It was the fir...', 'Gianfranco Rosi (director) | Gianfranco Rosi is an Italian director, cinematographer, producer and screenwriter. His film \"Sacro GRA\" won Golden Lion at 70th Venice International Film Festival. \"Sacro...', 'Walt &amp; El Grupo | Walt & El Grupo is a 2008 documentary film written and directed by Theodore Thomas. A presentation of Walt Disney Family Foundation Films, the film tells the story of Walt Disney...']\n",
      "\n",
      "\n"
     ]
    },
    {
     "name": "stderr",
     "output_type": "stream",
     "text": [
      "INFO:httpx:HTTP Request: POST https://api.openai.com/v1/chat/completions \"HTTP/1.1 200 OK\"\n"
     ]
    },
    {
     "name": "stdout",
     "output_type": "stream",
     "text": [
      "Question\n",
      "========\n",
      "What is the Palestinian Islamic organization that governs th small territory on the eastern coast of the Mediterranean Sea that was captured by Israel during the 1967 Six-Day War?\n",
      "\n",
      "Predicted Answer\n",
      "================\n",
      "Hamas\n",
      "\n",
      "Retrieved Contexts (truncated)\n",
      "['Gaza Strip | The Gaza Strip ( ; Arabic: قطاع غزة\\u200e \\u200e \"Qiṭāʿ Ġazzah \" ] ), or simply Gaza, is a small self-governing Palestinian territory on the eastern coast of the Mediterranean Sea, that borders Egy...', \"Zionist Freedom Alliance | The Zionist Freedom Alliance (ZFA) is an activist grassroots Zionist movement that advocates Israel's moral, legal and historic rights for the Jewish people to the entire La...\", 'Gaza Subdistrict, Mandatory Palestine | The Gaza Subdistrict (Arabic: قضاء غزة\\u200e \\u200e ) was one of the subdistricts of Mandatory Palestine. It was situated in the southern Mediterranean coastline of the B...']\n",
      "\n",
      "\n"
     ]
    },
    {
     "name": "stderr",
     "output_type": "stream",
     "text": [
      "INFO:httpx:HTTP Request: POST https://api.openai.com/v1/chat/completions \"HTTP/1.1 200 OK\"\n"
     ]
    },
    {
     "name": "stdout",
     "output_type": "stream",
     "text": [
      "Question\n",
      "========\n",
      "What album did the song of which Taylor Swift premiered the music video of during the pre-show of the 2015 MTV Video Music Awards come from?\n",
      "\n",
      "Predicted Answer\n",
      "================\n",
      "1989\n",
      "\n",
      "Retrieved Contexts (truncated)\n",
      "['2015 MTV Video Music Awards | The 2015 MTV Video Music Awards were held on August 30, 2015. The 32nd installment of the event was held at the Microsoft Theater in Los Angeles, California, and hosted b...', '2017 MTV Video Music Awards | The 2017 MTV Video Music Awards were held on August 27, 2017 at The Forum in Inglewood, California, honoring music videos released between June 25, 2016 and June 23, 2017...', 'Taylor Swift videography | American singer-songwriter Taylor Swift has released four video albums and has appeared in thirty-eight music videos, five films and three television shows. From her eponymo...']\n",
      "\n",
      "\n"
     ]
    },
    {
     "name": "stderr",
     "output_type": "stream",
     "text": [
      "INFO:httpx:HTTP Request: POST https://api.openai.com/v1/chat/completions \"HTTP/1.1 200 OK\"\n"
     ]
    },
    {
     "name": "stdout",
     "output_type": "stream",
     "text": [
      "Question\n",
      "========\n",
      "Which is considered a genus level classification, Apera or Gunnera manicata?\n",
      "\n",
      "Predicted Answer\n",
      "================\n",
      "Gunnera\n",
      "\n",
      "Retrieved Contexts (truncated)\n",
      "['Gunnera manicata | Gunnera manicata, known as Brazilian giant-rhubarb giant rhubarb, or dinosaur food, is a species of flowering plant in the Gunneraceae family from Brazil....', 'Gunnerales | The Gunnerales are an order of flowering plants. In the APG III system (2009) and APG IV system (2016) it contains two genera: \"Gunnera\" (in family Gunneraceae) and \"Myrothamnus\" (in fami...', 'Gunnera | Gunnera is a genus of herbaceous flowering plants. Some species have extremely large leaves. Species in the genus are variously native to Latin America, Australia, New Zealand, Papuasia, Haw...']\n",
      "\n",
      "\n"
     ]
    },
    {
     "name": "stderr",
     "output_type": "stream",
     "text": [
      "INFO:httpx:HTTP Request: POST https://api.openai.com/v1/chat/completions \"HTTP/1.1 200 OK\"\n"
     ]
    },
    {
     "name": "stdout",
     "output_type": "stream",
     "text": [
      "Question\n",
      "========\n",
      "Do The Drums and Pussy Galore play music of similar genres?\n",
      "\n",
      "Predicted Answer\n",
      "================\n",
      "No\n",
      "\n",
      "Retrieved Contexts (truncated)\n",
      "['Pussy Galore (band) | Pussy Galore was an American garage rock band that formed in Washington, D.C. in 1985. They had a constantly fluid line-up until their demise in 1990. They took their name from t...', 'Free Kitten | Free Kitten is a supergroup composed of Sonic Youth\\'s Kim Gordon and Pussy Galore\\'s Julie Cafritz. Originally performing under the name \"Kitten\", they changed their name after receiving ...', 'Knoxville Girls | Knoxville Girls was a short-lived American, New York City based, alternative rock supergroup that contained: Bob Bert (of Sonic Youth and Pussy Galore), on drums, Jerry Teel (of Boss...']\n",
      "\n",
      "\n"
     ]
    },
    {
     "name": "stderr",
     "output_type": "stream",
     "text": [
      "INFO:httpx:HTTP Request: POST https://api.openai.com/v1/chat/completions \"HTTP/1.1 200 OK\"\n"
     ]
    },
    {
     "name": "stdout",
     "output_type": "stream",
     "text": [
      "Question\n",
      "========\n",
      "What is the post-nominal abbreviation for the university where the Banded Mongoose Research Project is based?\n",
      "\n",
      "Predicted Answer\n",
      "================\n",
      "Exeter\n",
      "\n",
      "Retrieved Contexts (truncated)\n",
      "['Banded Brothers | Banded Brothers (also known as \"Banded Brothers: The Mongoose Mob\") is a British television program airing on BBC2 on Sundays during February and March 2010. Filmed and presented in ...', 'Banded mongoose | The banded mongoose (\"Mungos mungo\") is a mongoose commonly found in the central and eastern parts of Africa. It lives in savannas, open forests and grasslands and feeds primarily on...', 'Liberian mongoose | The Liberian mongoose (\"Liberiictis kuhni\") is a small carnivoran belonging to the mongoose family (Herpestidae). It is the only member of the genus Liberiictis. Phylogenetic analy...']\n",
      "\n",
      "\n"
     ]
    },
    {
     "name": "stderr",
     "output_type": "stream",
     "text": [
      "INFO:httpx:HTTP Request: POST https://api.openai.com/v1/chat/completions \"HTTP/1.1 200 OK\"\n"
     ]
    },
    {
     "name": "stdout",
     "output_type": "stream",
     "text": [
      "Question\n",
      "========\n",
      "Are both Benjamin Christensen and Len Wiseman directors?\n",
      "\n",
      "Predicted Answer\n",
      "================\n",
      "Yes\n",
      "\n",
      "Retrieved Contexts (truncated)\n",
      "['Len Wiseman | Len Ryan Wiseman (born March 4, 1973) is an American film director, screenwriter and producer. He is best known for his work on the \"Underworld\" series, \"Live Free or Die Hard\", and the ...', 'Benjamin Christensen | Benjamin Christensen (28 September 1879 – 2 April 1959) was a Danish film director, screenwriter and an actor both in film and on the stage. As a director he is most well known ...', \"The Devil's Circus | The Devil's Circus is a 1926 silent drama film directed by Danish director Benjamin Christensen, based upon his screenplay. The film stars Norma Shearer and Charles Emmett Mack. I...\"]\n",
      "\n",
      "\n"
     ]
    },
    {
     "name": "stderr",
     "output_type": "stream",
     "text": [
      "INFO:httpx:HTTP Request: POST https://api.openai.com/v1/chat/completions \"HTTP/1.1 200 OK\"\n"
     ]
    },
    {
     "name": "stdout",
     "output_type": "stream",
     "text": [
      "Question\n",
      "========\n",
      "Steven Cuitlahuac Melendez and Disney are connected by what American animator?\n",
      "\n",
      "Predicted Answer\n",
      "================\n",
      "Bill Melendez\n",
      "\n",
      "Retrieved Contexts (truncated)\n",
      "['Steven C. Melendez | Steven Cuitlahuac Melendez is an American film and television director, producer and animator. He is the second son of \"Peanuts\" animator Bill Melendez....', 'Bill Melendez | José Cuauhtémoc Meléndez (November 15, 1916 – September 2, 2008), known as Bill Melendez, was a Mexican American character animator, film director, voice artist and producer, known for...', 'Steven Melendez | Steven Melendez is a classical dancer from the USA. He is a principal artist with the New York Theatre Ballet. Formerly, he was a principal artist with the Estonian National Ballet a...']\n",
      "\n",
      "\n"
     ]
    },
    {
     "name": "stderr",
     "output_type": "stream",
     "text": [
      "INFO:httpx:HTTP Request: POST https://api.openai.com/v1/chat/completions \"HTTP/1.1 200 OK\"\n"
     ]
    },
    {
     "name": "stdout",
     "output_type": "stream",
     "text": [
      "Question\n",
      "========\n",
      "Shark Creek is located on this river which is in the northern rivers district?\n",
      "\n",
      "Predicted Answer\n",
      "================\n",
      "Clarence River\n",
      "\n",
      "Retrieved Contexts (truncated)\n",
      "['Shark Creek, New South Wales | Shark Creek is a small suburb/village on the north coast of New South Wales, on the Clarence river near Woodford Island, Located southeast of Lawrence, and south of Macl...', 'Shark River Slough Archeological District | The Shark River Slough Archeological District is a U.S. historic district (designated as such on November 5, 1996) located west of Homestead, Florida....', 'Shark River (Florida) | The Shark River is a major distributary of Lake Harney in the southwestern portion of Everglades National Park. It is located in Monroe County, Florida, United States. The rive...']\n",
      "\n",
      "\n"
     ]
    },
    {
     "name": "stderr",
     "output_type": "stream",
     "text": [
      "INFO:httpx:HTTP Request: POST https://api.openai.com/v1/chat/completions \"HTTP/1.1 200 OK\"\n"
     ]
    },
    {
     "name": "stdout",
     "output_type": "stream",
     "text": [
      "Question\n",
      "========\n",
      "Who was the producer of the 2016 animated film about an amnesiac fish?\n",
      "\n",
      "Predicted Answer\n",
      "================\n",
      "Pixar Animation Studios\n",
      "\n",
      "Retrieved Contexts (truncated)\n",
      "['Finding Dory | Finding Dory is a 2016 American 3D computer-animated comedy adventure film produced by Pixar Animation Studios and released by Walt Disney Pictures. Directed by Andrew Stanton with co-d...', 'Amnesiac (film) | Amnesiac (aka \"Unconscious\") is a 2015 mystery film directed by Michael Polish and written by Mike Le and Amy Kolquist....', 'Amnesia (2015 film) | Amnesia is a 2015 Swiss-French drama film directed by Barbet Schroeder. It was selected to screen in the Special Screenings section at the 2015 Cannes Film Festival....']\n",
      "\n",
      "\n"
     ]
    },
    {
     "name": "stderr",
     "output_type": "stream",
     "text": [
      "INFO:httpx:HTTP Request: POST https://api.openai.com/v1/chat/completions \"HTTP/1.1 200 OK\"\n"
     ]
    },
    {
     "name": "stdout",
     "output_type": "stream",
     "text": [
      "Question\n",
      "========\n",
      "Who purchased the team Michael Schumacher raced for in the 1995 Monaco Grand Prix in 2000?\n",
      "\n",
      "Predicted Answer\n",
      "================\n",
      "Renault\n",
      "\n",
      "Retrieved Contexts (truncated)\n",
      "['1995 Monaco Grand Prix | The 1995 Monaco Grand Prix (formally the LIII Grand Prix de Monaco) was a Formula One motor race held on 28 May 1995 at the Circuit de Monaco, Monte Carlo, Monaco. It was the ...', '1999 Monaco Grand Prix | The 1999 Monaco Grand Prix (formally the LVII Grand Prix Automobile de Monaco) was a Formula One motor race held on 16 May 1999 at the Circuit de Monaco in Monte Carlo, Monaco...', '2001 Monaco Grand Prix | The 2001 Monaco Grand Prix (formally the LIX Grand Prix de Monaco) was a Formula One motor race held at the Circuit de Monaco on 27 May 2001. It was the seventh race of the 20...']\n",
      "\n",
      "\n"
     ]
    },
    {
     "name": "stderr",
     "output_type": "stream",
     "text": [
      "INFO:httpx:HTTP Request: POST https://api.openai.com/v1/chat/completions \"HTTP/1.1 200 OK\"\n"
     ]
    },
    {
     "name": "stdout",
     "output_type": "stream",
     "text": [
      "Question\n",
      "========\n",
      "Fredrick Law Olmsted was an American landscape architect, journalist, social critic and public administrator that designed what neighborhood in Trenton, New Jersey?\n",
      "\n",
      "Predicted Answer\n",
      "================\n",
      "Not specified\n",
      "\n",
      "Retrieved Contexts (truncated)\n",
      "['Frederick Law Olmsted | Frederick Law Olmsted (April 26, 1822 – August 28, 1903) was an American landscape architect, journalist, social critic, and public administrator. He is popularly considered to...', 'Cherie Kluesing | Cherie Kluesing was an American landscape architect, designer, and educator. She received a Boston Society of Landscape Architects award in 1988 for her restoration plan for Fredrick...', 'Frederick Law Olmsted Jr. | Frederick Law Olmsted Jr. (July 24, 1870 – December 25, 1957) was an American landscape architect and city planner known for his wildlife conservation efforts. He had a lif...']\n",
      "\n",
      "\n"
     ]
    },
    {
     "name": "stderr",
     "output_type": "stream",
     "text": [
      "INFO:httpx:HTTP Request: POST https://api.openai.com/v1/chat/completions \"HTTP/1.1 200 OK\"\n"
     ]
    },
    {
     "name": "stdout",
     "output_type": "stream",
     "text": [
      "Question\n",
      "========\n",
      "Gordon Warnecke worked alongside the former senator for which political party on Young Toscanini?\n",
      "\n",
      "Predicted Answer\n",
      "================\n",
      "Democratic Party\n",
      "\n",
      "Retrieved Contexts (truncated)\n",
      "['Gordon Warnecke | Gordon Warnecke (born 24 August 1962 in London) is a British actor of Indo-Guyanese and German descent. He may be best known for his role as Omar in the 1985 film \"My Beautiful Laund...', 'David Toscano | David J. Toscano (born June 28, 1950) is an American politician and lawyer. A Democrat, he served on the Charlottesville, Virginia city council 1990–2002 and was mayor 1994–96. In Nove...', 'Frank Warnke | Frank J. Warnke (May 18, 1933 September 23, 2011) was an American politician of the Democratic Party. A Native American, Warnke served 12 years in the Washington House of Representative...']\n",
      "\n",
      "\n"
     ]
    },
    {
     "name": "stderr",
     "output_type": "stream",
     "text": [
      "INFO:httpx:HTTP Request: POST https://api.openai.com/v1/chat/completions \"HTTP/1.1 200 OK\"\n"
     ]
    },
    {
     "name": "stdout",
     "output_type": "stream",
     "text": [
      "Question\n",
      "========\n",
      "André Zucca was a French photographer who worked with a German propaganda magazine published by what Nazi organization?\n",
      "\n",
      "Predicted Answer\n",
      "================\n",
      "Wehrmacht\n",
      "\n",
      "Retrieved Contexts (truncated)\n",
      "['André Zucca | André Zucca (1897-1973) was a French photographer and Nazi collaborator, most well known for his work with the German propaganda magazine \"Signal\"....', 'Tony Vaccaro | Michelantonio Celestino Onofrio Vaccaro (born December 20, 1922), better known as Tony Vaccaro or Michael A. Vaccaro, is an American photographer who is best known for his photos taken ...', 'Friedrich Franz Bauer | Friedrich Franz Bauer (1903–1972) was a German SS photographer known for his images of propaganda made for the Nazis....']\n",
      "\n",
      "\n"
     ]
    },
    {
     "name": "stderr",
     "output_type": "stream",
     "text": [
      "INFO:httpx:HTTP Request: POST https://api.openai.com/v1/chat/completions \"HTTP/1.1 200 OK\"\n"
     ]
    },
    {
     "name": "stdout",
     "output_type": "stream",
     "text": [
      "Question\n",
      "========\n",
      "Both Bill Ponsford and Bill Woodfull played what?\n",
      "\n",
      "Predicted Answer\n",
      "================\n",
      "Cricket\n",
      "\n",
      "Retrieved Contexts (truncated)\n",
      "['Bill Ponsford | William Harold \"Bill\" Ponsford (19 October 1900 – 6 April 1991) was an Australian cricketer. Usually playing as an opening batsman, he formed a successful and long-lived partnership op...', 'Bill Woodfull | William Maldon \"Bill\" Woodfull OBE (22 August 1897 – 11 August 1965) was an Australian cricketer of the 1920s and 1930s. He captained both Victoria and Australia, and was best known fo...', 'Born to Kill (miniseries) | Born to Kill is a British television miniseries, produced by World Productions, that was first broadcast on Channel 4 from 20 April to 11 May 2017. The four-part serial sta...']\n",
      "\n",
      "\n"
     ]
    },
    {
     "name": "stderr",
     "output_type": "stream",
     "text": [
      "INFO:httpx:HTTP Request: POST https://api.openai.com/v1/chat/completions \"HTTP/1.1 200 OK\"\n"
     ]
    },
    {
     "name": "stdout",
     "output_type": "stream",
     "text": [
      "Question\n",
      "========\n",
      " Suzana S. Drobnjaković Ponti acted in a film loosely based on a book by who?\n",
      "\n",
      "Predicted Answer\n",
      "================\n",
      "Clarice Lispector\n",
      "\n",
      "Retrieved Contexts (truncated)\n",
      "['Sasha Alexander | Suzana S. Drobnjaković Ponti (born May 17, 1973), known by her stage name Sasha Alexander, is a Serbian-American actress. She played Gretchen Witter on \"Dawson\\'s Creek\" and has acted...', 'The Hour of the Star | The Hour of the Star (\"A hora da estrela\") is a novel by Clarice Lispector published in 1977, shortly after the author\\'s death. In 1985, the novel was adapted by Suzana Amaral i...', 'A Sucessora (telenovela) | A Sucessora was a Brazilian telenovela written by Manoel Carlos based on the homonym novel published by Carolina Nabuco in 1934. It was aired from 9 October 1978 to 2 March ...']\n",
      "\n",
      "\n"
     ]
    },
    {
     "name": "stderr",
     "output_type": "stream",
     "text": [
      "INFO:httpx:HTTP Request: POST https://api.openai.com/v1/chat/completions \"HTTP/1.1 200 OK\"\n"
     ]
    },
    {
     "name": "stdout",
     "output_type": "stream",
     "text": [
      "Question\n",
      "========\n",
      "In what city was the Election Law Journal founded?\n",
      "\n",
      "Predicted Answer\n",
      "================\n",
      "Not specified\n",
      "\n",
      "Retrieved Contexts (truncated)\n",
      "['Election Law Journal | Election Law Journal is a quarterly peer-reviewed law journal published by Mary Ann Liebert, Inc. covering legal issues related to elections and voting rights. It was establishe...', 'Campaigns and Elections | Campaigns & Elections is a trade magazine covering political campaigns, focused on tools, tactics, and techniques of the political consulting profession. The magazine was fou...', 'New York Law Journal | The New York Law Journal, founded in 1888, is a legal periodical covering the legal profession in New York, United States. The newspaper, published Monday through Friday, provid...']\n",
      "\n",
      "\n"
     ]
    }
   ],
   "source": [
    "for example in devset:\n",
    "    question = example[\"question\"]\n",
    "    prediction = compiled_module(question)\n",
    "    print(\"Question\")\n",
    "    print(\"========\")\n",
    "    print(question)\n",
    "    print()\n",
    "    print(\"Predicted Answer\")\n",
    "    print(\"================\")\n",
    "    print(prediction.answer)\n",
    "    print()\n",
    "    print(\"Retrieved Contexts (truncated)\")\n",
    "    print(f\"{[c[:200] + '...' for c in prediction.context]}\")\n",
    "    print()\n",
    "    print()"
   ]
  },
  {
   "cell_type": "code",
   "execution_count": 23,
   "id": "ec79d814-7b05-4c98-a991-fd2dfa793ddf",
   "metadata": {},
   "outputs": [
    {
     "data": {
      "text/plain": [
       "61"
      ]
     },
     "execution_count": 23,
     "metadata": {},
     "output_type": "execute_result"
    }
   ],
   "source": [
    "len(turbo.history)"
   ]
  },
  {
   "cell_type": "code",
   "execution_count": 24,
   "id": "443484c7-20b0-4f6b-890b-3b27341c342e",
   "metadata": {},
   "outputs": [
    {
     "data": {
      "text/plain": [
       "{'prompt': 'Answer questions with short factoid answers.\\n\\n---\\n\\nQuestion: Samantha Cristoforetti and Mark Shuttleworth are both best known for being first in their field to go where?\\nAnswer: space\\n\\nQuestion: Having the combination of excellent foot speed and bat speed helped Eric Davis, create what kind of outfield for the Los Angeles Dodgers?\\nAnswer: \"Outfield of Dreams\"\\n\\nQuestion: which American actor was Candace Kita guest starred with\\nAnswer: Bill Murray\\n\\nQuestion: Tombstone stared an actor born May 17, 1955 known as who?\\nAnswer: Bill Paxton\\n\\nQuestion: The Organisation that allows a community to influence their operation or use and to enjoy the benefits arisingwas founded in what year?\\nAnswer: 2010\\n\\nQuestion: Which is taller, the Empire State Building or the Bank of America Tower?\\nAnswer: The Empire State Building\\n\\nQuestion: This American guitarist best known for her work with the Iron Maidens is an ancestor of a composer who was known as what?\\nAnswer: The Waltz King\\n\\nQuestion: Which magazine has published articles by Scott Shaw, Tae Kwon Do Times or Southwest Art?\\nAnswer: Tae Kwon Do Times\\n\\nQuestion: Which American actress who made their film debut in the 1995 teen drama \"Kids\" was the co-founder of Voto Latino?\\nAnswer: Rosario Dawson\\n\\nQuestion: In what year was the club founded that played Manchester City in the 1972 FA Charity Shield\\nAnswer: 1874\\n\\nQuestion: What is the code name for the German offensive that started this Second World War engagement on the Eastern Front (a few hundred kilometers from Moscow) between Soviet and German forces, which included 102nd Infantry Division?\\nAnswer: Operation Citadel\\n\\nQuestion: The Victorians - Their Story In Pictures is a documentary series written by an author born in what year?\\nAnswer: 1950\\n\\nQuestion: Which of these publications was most recently published, Who Put the Bomp or Self?\\nAnswer: Self\\n\\nQuestion: Which company distributed this 1977 American animated film produced by Walt Disney Productions for which Sherman Brothers wrote songs?\\nAnswer: Buena Vista Distribution\\n\\nQuestion: Who is older, Aleksandr Danilovich Aleksandrov or Anatoly Fomenko?\\nAnswer: Aleksandr Danilovich Aleksandrov\\n\\n---\\n\\nFollow the following format.\\n\\nContext: may contain relevant facts\\n\\nQuestion: ${question}\\n\\nReasoning: Let\\'s think step by step in order to ${produce the answer}. We ...\\n\\nAnswer: often between 1 and 5 words\\n\\n---\\n\\nContext:\\n[1] «At My Window (album) | At My Window is an album released by Folk/country singer-songwriter Townes Van Zandt in 1987. This was Van Zandt\\'s first studio album in the nine years that followed 1978\\'s \"Flyin\\' Shoes\", and his only studio album recorded in the 1980s. Although the songwriter had become less prolific, this release showed that the quality of his material remained high.»\\n[2] «Little Window | Little Window is the debut album of American singer-songwriter Baby Dee. The album was released in 2002 on the Durtro label. It was produced, composed, and performed entirely by Dee.»\\n[3] «Windows and Walls | Windows and Walls is the eighth album by American singer-songwriter Dan Fogelberg, released in 1984 (see 1984 in music). The first single, \"The Language of Love\", reached 13 on the U.S. \"Billboard\" Hot 100 chart. Although the follow-up, \"Believe in Me\", missed the Top 40 of the pop chart, peaking at No. 48, it became the singer\\'s fourth No. 1 song on the \"Billboard\" adult contemporary chart.»\\n\\nQuestion: At My Window was released by which American singer-songwriter?\\n\\nReasoning: Let\\'s think step by step in order to',\n",
       " 'response': {'id': 'chatcmpl-9wpwmYkKlxIfgsW8dKvR2qfZw9Aby',\n",
       "  'choices': [{'finish_reason': 'stop',\n",
       "    'index': 0,\n",
       "    'logprobs': None,\n",
       "    'message': {'content': 'identify the artist associated with the album \"At My Window.\" The context states that it was released by Folk/country singer-songwriter Townes Van Zandt in 1987.\\n\\nAnswer: Townes Van Zandt',\n",
       "     'refusal': None,\n",
       "     'role': 'assistant',\n",
       "     'function_call': None,\n",
       "     'tool_calls': None}}],\n",
       "  'created': 1723809736,\n",
       "  'model': 'gpt-4o-mini-2024-07-18',\n",
       "  'object': 'chat.completion',\n",
       "  'service_tier': None,\n",
       "  'system_fingerprint': 'fp_48196bc67a',\n",
       "  'usage': {'completion_tokens': 42,\n",
       "   'prompt_tokens': 797,\n",
       "   'total_tokens': 839}},\n",
       " 'kwargs': {'stringify_request': '{\"temperature\": 0.0, \"max_tokens\": 150, \"top_p\": 1, \"frequency_penalty\": 0, \"presence_penalty\": 0, \"n\": 1, \"model\": \"gpt-4o-mini\", \"messages\": [{\"role\": \"user\", \"content\": \"Answer questions with short factoid answers.\\\\n\\\\n---\\\\n\\\\nQuestion: Samantha Cristoforetti and Mark Shuttleworth are both best known for being first in their field to go where?\\\\nAnswer: space\\\\n\\\\nQuestion: Having the combination of excellent foot speed and bat speed helped Eric Davis, create what kind of outfield for the Los Angeles Dodgers?\\\\nAnswer: \\\\\"Outfield of Dreams\\\\\"\\\\n\\\\nQuestion: which American actor was Candace Kita guest starred with\\\\nAnswer: Bill Murray\\\\n\\\\nQuestion: Tombstone stared an actor born May 17, 1955 known as who?\\\\nAnswer: Bill Paxton\\\\n\\\\nQuestion: The Organisation that allows a community to influence their operation or use and to enjoy the benefits arisingwas founded in what year?\\\\nAnswer: 2010\\\\n\\\\nQuestion: Which is taller, the Empire State Building or the Bank of America Tower?\\\\nAnswer: The Empire State Building\\\\n\\\\nQuestion: This American guitarist best known for her work with the Iron Maidens is an ancestor of a composer who was known as what?\\\\nAnswer: The Waltz King\\\\n\\\\nQuestion: Which magazine has published articles by Scott Shaw, Tae Kwon Do Times or Southwest Art?\\\\nAnswer: Tae Kwon Do Times\\\\n\\\\nQuestion: Which American actress who made their film debut in the 1995 teen drama \\\\\"Kids\\\\\" was the co-founder of Voto Latino?\\\\nAnswer: Rosario Dawson\\\\n\\\\nQuestion: In what year was the club founded that played Manchester City in the 1972 FA Charity Shield\\\\nAnswer: 1874\\\\n\\\\nQuestion: What is the code name for the German offensive that started this Second World War engagement on the Eastern Front (a few hundred kilometers from Moscow) between Soviet and German forces, which included 102nd Infantry Division?\\\\nAnswer: Operation Citadel\\\\n\\\\nQuestion: The Victorians - Their Story In Pictures is a documentary series written by an author born in what year?\\\\nAnswer: 1950\\\\n\\\\nQuestion: Which of these publications was most recently published, Who Put the Bomp or Self?\\\\nAnswer: Self\\\\n\\\\nQuestion: Which company distributed this 1977 American animated film produced by Walt Disney Productions for which Sherman Brothers wrote songs?\\\\nAnswer: Buena Vista Distribution\\\\n\\\\nQuestion: Who is older, Aleksandr Danilovich Aleksandrov or Anatoly Fomenko?\\\\nAnswer: Aleksandr Danilovich Aleksandrov\\\\n\\\\n---\\\\n\\\\nFollow the following format.\\\\n\\\\nContext: may contain relevant facts\\\\n\\\\nQuestion: ${question}\\\\n\\\\nReasoning: Let\\'s think step by step in order to ${produce the answer}. We ...\\\\n\\\\nAnswer: often between 1 and 5 words\\\\n\\\\n---\\\\n\\\\nContext:\\\\n[1] \\\\u00abAt My Window (album) | At My Window is an album released by Folk/country singer-songwriter Townes Van Zandt in 1987. This was Van Zandt\\'s first studio album in the nine years that followed 1978\\'s \\\\\"Flyin\\' Shoes\\\\\", and his only studio album recorded in the 1980s. Although the songwriter had become less prolific, this release showed that the quality of his material remained high.\\\\u00bb\\\\n[2] \\\\u00abLittle Window | Little Window is the debut album of American singer-songwriter Baby Dee. The album was released in 2002 on the Durtro label. It was produced, composed, and performed entirely by Dee.\\\\u00bb\\\\n[3] \\\\u00abWindows and Walls | Windows and Walls is the eighth album by American singer-songwriter Dan Fogelberg, released in 1984 (see 1984 in music). The first single, \\\\\"The Language of Love\\\\\", reached 13 on the U.S. \\\\\"Billboard\\\\\" Hot 100 chart. Although the follow-up, \\\\\"Believe in Me\\\\\", missed the Top 40 of the pop chart, peaking at No. 48, it became the singer\\'s fourth No. 1 song on the \\\\\"Billboard\\\\\" adult contemporary chart.\\\\u00bb\\\\n\\\\nQuestion: At My Window was released by which American singer-songwriter?\\\\n\\\\nReasoning: Let\\'s think step by step in order to\"}]}'},\n",
       " 'raw_kwargs': {}}"
      ]
     },
     "execution_count": 24,
     "metadata": {},
     "output_type": "execute_result"
    }
   ],
   "source": [
    "turbo.history[0]"
   ]
  }
 ],
 "metadata": {
  "kernelspec": {
   "display_name": "Python 3 (ipykernel)",
   "language": "python",
   "name": "python3"
  },
  "language_info": {
   "codemirror_mode": {
    "name": "ipython",
    "version": 3
   },
   "file_extension": ".py",
   "mimetype": "text/x-python",
   "name": "python",
   "nbconvert_exporter": "python",
   "pygments_lexer": "ipython3",
   "version": "3.10.12"
  }
 },
 "nbformat": 4,
 "nbformat_minor": 5
}
