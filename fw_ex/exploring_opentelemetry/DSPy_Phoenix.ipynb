{
 "cells": [
  {
   "cell_type": "code",
   "execution_count": null,
   "id": "5e3c2823-27cd-472e-973f-85949246ab82",
   "metadata": {},
   "outputs": [],
   "source": [
    "import phoenix as px\n",
    "px.launch_app()"
   ]
  },
  {
   "cell_type": "code",
   "execution_count": null,
   "id": "b56e089e-2f49-46b4-8ddc-bc92f07c2ea2",
   "metadata": {},
   "outputs": [],
   "source": [
    "from opentelemetry import trace as trace_api\n",
    "from opentelemetry.exporter.otlp.proto.http.trace_exporter import OTLPSpanExporter\n",
    "from opentelemetry.sdk import trace as trace_sdk\n",
    "from opentelemetry.sdk.trace.export import SimpleSpanProcessor\n",
    "\n",
    "tracer_provider = trace_sdk.TracerProvider()\n",
    "span_exporter = OTLPSpanExporter(\"http://localhost:6006/v1/traces\")\n",
    "span_processor = SimpleSpanProcessor(span_exporter)\n",
    "tracer_provider.add_span_processor(span_processor)\n",
    "trace_api.set_tracer_provider(tracer_provider)"
   ]
  },
  {
   "cell_type": "code",
   "execution_count": null,
   "id": "b00d2208-55e5-46ef-890f-80aad126993f",
   "metadata": {},
   "outputs": [],
   "source": [
    "from openinference.instrumentation.dspy import DSPyInstrumentor\n",
    "\n",
    "DSPyInstrumentor().instrument()"
   ]
  },
  {
   "cell_type": "code",
   "execution_count": null,
   "id": "78c9057a-a195-4bab-94cf-286e6d7cd6be",
   "metadata": {},
   "outputs": [],
   "source": [
    "class BasicQA(dspy.Signature):\n",
    "    \"\"\"Answer questions with short factoid answers.\"\"\"\n",
    "\n",
    "    question = dspy.InputField()\n",
    "    answer = dspy.OutputField(desc=\"often between 1 and 5 words\")\n",
    "\n",
    "\n",
    "if __name__ == \"__main__\":\n",
    "    turbo = dspy.OpenAI(model=\"gpt-3.5-turbo\")\n",
    "\n",
    "    dspy.settings.configure(lm=turbo)\n",
    "\n",
    "    with using_attributes(\n",
    "        session_id=\"my-test-session\",\n",
    "        user_id=\"my-test-user\",\n",
    "        metadata={\n",
    "            \"test-int\": 1,\n",
    "            \"test-str\": \"string\",\n",
    "            \"test-list\": [1, 2, 3],\n",
    "            \"test-dict\": {\n",
    "                \"key-1\": \"val-1\",\n",
    "                \"key-2\": \"val-2\",\n",
    "            },\n",
    "        },\n",
    "        tags=[\"tag-1\", \"tag-2\"],\n",
    "        prompt_template_version=\"v1.0\",\n",
    "        prompt_template_variables={\n",
    "            \"city\": \"Johannesburg\",\n",
    "            \"date\": \"July 11th\",\n",
    "        },\n",
    "    ):\n",
    "        # Define the predictor.\n",
    "        generate_answer = dspy.Predict(BasicQA)\n",
    "\n",
    "        # Call the predictor on a particular input.\n",
    "        pred = generate_answer(\n",
    "            question=\"What is the capital of the united states?\"  # noqa: E501\n",
    "        )  # noqa: E501\n",
    "        print(f\"Predicted Answer: {pred.answer}\")"
   ]
  },
  {
   "cell_type": "markdown",
   "id": "e6bc4161-c0d6-4740-870d-3560c518c063",
   "metadata": {},
   "source": [
    "https://github.com/Arize-ai/openinference/tree/main/python/instrumentation/openinference-instrumentation-dspy\n",
    "\n",
    "dspy_tracing_tutorial.ipynb\n",
    "\n",
    "https://colab.research.google.com/github/Arize-ai/phoenix/blob/main/tutorials/tracing/dspy_tracing_tutorial.ipynb"
   ]
  },
  {
   "cell_type": "code",
   "execution_count": 3,
   "id": "20109a05-7e45-468b-adb4-b24ae8f05a4d",
   "metadata": {
    "collapsed": true,
    "jupyter": {
     "outputs_hidden": true
    }
   },
   "outputs": [
    {
     "name": "stdout",
     "output_type": "stream",
     "text": [
      "Collecting dspy-ai\n",
      "  Downloading dspy_ai-2.4.13-py3-none-any.whl (280 kB)\n",
      "\u001b[2K     \u001b[38;2;114;156;31m━━━━━━━━━━━━━━━━━━━━━━━━━━━━━━━━━━━━━━━\u001b[0m \u001b[32m280.7/280.7 KB\u001b[0m \u001b[31m2.1 MB/s\u001b[0m eta \u001b[36m0:00:00\u001b[0m[36m0:00:01\u001b[0mm eta \u001b[36m0:00:01\u001b[0m\n",
      "\u001b[?25hCollecting datasets\n",
      "  Using cached datasets-2.21.0-py3-none-any.whl (527 kB)\n",
      "Collecting backoff\n",
      "  Using cached backoff-2.2.1-py3-none-any.whl (15 kB)\n",
      "Requirement already satisfied: openai<2.0.0,>=0.28.1 in /media/uberdev/ddrv/telemetenv/lib/python3.10/site-packages (from dspy-ai) (1.40.6)\n",
      "Requirement already satisfied: requests in /media/uberdev/ddrv/telemetenv/lib/python3.10/site-packages (from dspy-ai) (2.32.3)\n",
      "Requirement already satisfied: pydantic~=2.0 in /media/uberdev/ddrv/telemetenv/lib/python3.10/site-packages (from dspy-ai) (2.8.2)\n",
      "Requirement already satisfied: joblib~=1.3 in /media/uberdev/ddrv/telemetenv/lib/python3.10/site-packages (from dspy-ai) (1.4.2)\n",
      "Requirement already satisfied: pandas in /media/uberdev/ddrv/telemetenv/lib/python3.10/site-packages (from dspy-ai) (2.2.2)\n",
      "Requirement already satisfied: regex in /media/uberdev/ddrv/telemetenv/lib/python3.10/site-packages (from dspy-ai) (2024.7.24)\n",
      "Requirement already satisfied: tqdm in /media/uberdev/ddrv/telemetenv/lib/python3.10/site-packages (from dspy-ai) (4.66.5)\n",
      "Collecting optuna\n",
      "  Downloading optuna-3.6.1-py3-none-any.whl (380 kB)\n",
      "\u001b[2K     \u001b[38;2;114;156;31m━━━━━━━━━━━━━━━━━━━━━━━━━━━━━━━━━━━━━━━\u001b[0m \u001b[32m380.1/380.1 KB\u001b[0m \u001b[31m6.0 MB/s\u001b[0m eta \u001b[36m0:00:00\u001b[0mm eta \u001b[36m0:00:01\u001b[0m\n",
      "\u001b[?25hCollecting ujson\n",
      "  Downloading ujson-5.10.0-cp310-cp310-manylinux_2_17_x86_64.manylinux2014_x86_64.whl (53 kB)\n",
      "\u001b[2K     \u001b[38;2;114;156;31m━━━━━━━━━━━━━━━━━━━━━━━━━━━━━━━━━━━━━━━━\u001b[0m \u001b[32m53.6/53.6 KB\u001b[0m \u001b[31m1.4 MB/s\u001b[0m eta \u001b[36m0:00:00\u001b[0m\n",
      "\u001b[?25hCollecting structlog\n",
      "  Downloading structlog-24.4.0-py3-none-any.whl (67 kB)\n",
      "\u001b[2K     \u001b[38;2;114;156;31m━━━━━━━━━━━━━━━━━━━━━━━━━━━━━━━━━━━━━━━━\u001b[0m \u001b[32m67.2/67.2 KB\u001b[0m \u001b[31m1.4 MB/s\u001b[0m eta \u001b[36m0:00:00\u001b[0m31m104.5 MB/s\u001b[0m eta \u001b[36m0:00:01\u001b[0m\n",
      "\u001b[?25hRequirement already satisfied: anyio<5,>=3.5.0 in /media/uberdev/ddrv/telemetenv/lib/python3.10/site-packages (from openai<2.0.0,>=0.28.1->dspy-ai) (4.4.0)\n",
      "Requirement already satisfied: distro<2,>=1.7.0 in /media/uberdev/ddrv/telemetenv/lib/python3.10/site-packages (from openai<2.0.0,>=0.28.1->dspy-ai) (1.9.0)\n",
      "Requirement already satisfied: typing-extensions<5,>=4.11 in /media/uberdev/ddrv/telemetenv/lib/python3.10/site-packages (from openai<2.0.0,>=0.28.1->dspy-ai) (4.12.2)\n",
      "Requirement already satisfied: httpx<1,>=0.23.0 in /media/uberdev/ddrv/telemetenv/lib/python3.10/site-packages (from openai<2.0.0,>=0.28.1->dspy-ai) (0.27.0)\n",
      "Requirement already satisfied: jiter<1,>=0.4.0 in /media/uberdev/ddrv/telemetenv/lib/python3.10/site-packages (from openai<2.0.0,>=0.28.1->dspy-ai) (0.5.0)\n",
      "Requirement already satisfied: sniffio in /media/uberdev/ddrv/telemetenv/lib/python3.10/site-packages (from openai<2.0.0,>=0.28.1->dspy-ai) (1.3.1)\n",
      "Requirement already satisfied: pydantic-core==2.20.1 in /media/uberdev/ddrv/telemetenv/lib/python3.10/site-packages (from pydantic~=2.0->dspy-ai) (2.20.1)\n",
      "Requirement already satisfied: annotated-types>=0.4.0 in /media/uberdev/ddrv/telemetenv/lib/python3.10/site-packages (from pydantic~=2.0->dspy-ai) (0.7.0)\n",
      "Requirement already satisfied: filelock in /media/uberdev/ddrv/telemetenv/lib/python3.10/site-packages (from datasets->dspy-ai) (3.15.4)\n",
      "Requirement already satisfied: numpy>=1.17 in /media/uberdev/ddrv/telemetenv/lib/python3.10/site-packages (from datasets->dspy-ai) (1.26.4)\n",
      "Requirement already satisfied: pyarrow>=15.0.0 in /media/uberdev/ddrv/telemetenv/lib/python3.10/site-packages (from datasets->dspy-ai) (17.0.0)\n",
      "Requirement already satisfied: packaging in /media/uberdev/ddrv/telemetenv/lib/python3.10/site-packages (from datasets->dspy-ai) (24.1)\n",
      "Collecting multiprocess\n",
      "  Using cached multiprocess-0.70.16-py310-none-any.whl (134 kB)\n",
      "Collecting xxhash\n",
      "  Using cached xxhash-3.4.1-cp310-cp310-manylinux_2_17_x86_64.manylinux2014_x86_64.whl (194 kB)\n",
      "Requirement already satisfied: fsspec[http]<=2024.6.1,>=2023.1.0 in /media/uberdev/ddrv/telemetenv/lib/python3.10/site-packages (from datasets->dspy-ai) (2024.6.1)\n",
      "Requirement already satisfied: aiohttp in /media/uberdev/ddrv/telemetenv/lib/python3.10/site-packages (from datasets->dspy-ai) (3.10.3)\n",
      "Requirement already satisfied: pyyaml>=5.1 in /media/uberdev/ddrv/telemetenv/lib/python3.10/site-packages (from datasets->dspy-ai) (6.0.2)\n",
      "Collecting dill<0.3.9,>=0.3.0\n",
      "  Using cached dill-0.3.8-py3-none-any.whl (116 kB)\n",
      "Requirement already satisfied: huggingface-hub>=0.21.2 in /media/uberdev/ddrv/telemetenv/lib/python3.10/site-packages (from datasets->dspy-ai) (0.24.5)\n",
      "Requirement already satisfied: idna<4,>=2.5 in /media/uberdev/ddrv/telemetenv/lib/python3.10/site-packages (from requests->dspy-ai) (3.7)\n",
      "Requirement already satisfied: urllib3<3,>=1.21.1 in /media/uberdev/ddrv/telemetenv/lib/python3.10/site-packages (from requests->dspy-ai) (2.2.2)\n",
      "Requirement already satisfied: certifi>=2017.4.17 in /media/uberdev/ddrv/telemetenv/lib/python3.10/site-packages (from requests->dspy-ai) (2024.7.4)\n",
      "Requirement already satisfied: charset-normalizer<4,>=2 in /media/uberdev/ddrv/telemetenv/lib/python3.10/site-packages (from requests->dspy-ai) (3.3.2)\n",
      "Collecting colorlog\n",
      "  Downloading colorlog-6.8.2-py3-none-any.whl (11 kB)\n",
      "Requirement already satisfied: sqlalchemy>=1.3.0 in /media/uberdev/ddrv/telemetenv/lib/python3.10/site-packages (from optuna->dspy-ai) (2.0.32)\n",
      "Requirement already satisfied: alembic>=1.5.0 in /media/uberdev/ddrv/telemetenv/lib/python3.10/site-packages (from optuna->dspy-ai) (1.13.2)\n",
      "Requirement already satisfied: python-dateutil>=2.8.2 in /media/uberdev/ddrv/telemetenv/lib/python3.10/site-packages (from pandas->dspy-ai) (2.9.0.post0)\n",
      "Requirement already satisfied: pytz>=2020.1 in /media/uberdev/ddrv/telemetenv/lib/python3.10/site-packages (from pandas->dspy-ai) (2024.1)\n",
      "Requirement already satisfied: tzdata>=2022.7 in /media/uberdev/ddrv/telemetenv/lib/python3.10/site-packages (from pandas->dspy-ai) (2024.1)\n",
      "Requirement already satisfied: Mako in /media/uberdev/ddrv/telemetenv/lib/python3.10/site-packages (from alembic>=1.5.0->optuna->dspy-ai) (1.3.5)\n",
      "Requirement already satisfied: exceptiongroup>=1.0.2 in /media/uberdev/ddrv/telemetenv/lib/python3.10/site-packages (from anyio<5,>=3.5.0->openai<2.0.0,>=0.28.1->dspy-ai) (1.2.2)\n",
      "Requirement already satisfied: aiohappyeyeballs>=2.3.0 in /media/uberdev/ddrv/telemetenv/lib/python3.10/site-packages (from aiohttp->datasets->dspy-ai) (2.3.6)\n",
      "Requirement already satisfied: yarl<2.0,>=1.0 in /media/uberdev/ddrv/telemetenv/lib/python3.10/site-packages (from aiohttp->datasets->dspy-ai) (1.9.4)\n",
      "Requirement already satisfied: aiosignal>=1.1.2 in /media/uberdev/ddrv/telemetenv/lib/python3.10/site-packages (from aiohttp->datasets->dspy-ai) (1.3.1)\n",
      "Requirement already satisfied: multidict<7.0,>=4.5 in /media/uberdev/ddrv/telemetenv/lib/python3.10/site-packages (from aiohttp->datasets->dspy-ai) (6.0.5)\n",
      "Requirement already satisfied: attrs>=17.3.0 in /media/uberdev/ddrv/telemetenv/lib/python3.10/site-packages (from aiohttp->datasets->dspy-ai) (24.2.0)\n",
      "Requirement already satisfied: frozenlist>=1.1.1 in /media/uberdev/ddrv/telemetenv/lib/python3.10/site-packages (from aiohttp->datasets->dspy-ai) (1.4.1)\n",
      "Requirement already satisfied: async-timeout<5.0,>=4.0 in /media/uberdev/ddrv/telemetenv/lib/python3.10/site-packages (from aiohttp->datasets->dspy-ai) (4.0.3)\n",
      "Requirement already satisfied: httpcore==1.* in /media/uberdev/ddrv/telemetenv/lib/python3.10/site-packages (from httpx<1,>=0.23.0->openai<2.0.0,>=0.28.1->dspy-ai) (1.0.5)\n",
      "Requirement already satisfied: h11<0.15,>=0.13 in /media/uberdev/ddrv/telemetenv/lib/python3.10/site-packages (from httpcore==1.*->httpx<1,>=0.23.0->openai<2.0.0,>=0.28.1->dspy-ai) (0.14.0)\n",
      "Requirement already satisfied: six>=1.5 in /media/uberdev/ddrv/telemetenv/lib/python3.10/site-packages (from python-dateutil>=2.8.2->pandas->dspy-ai) (1.16.0)\n",
      "Requirement already satisfied: greenlet!=0.4.17 in /media/uberdev/ddrv/telemetenv/lib/python3.10/site-packages (from sqlalchemy>=1.3.0->optuna->dspy-ai) (3.0.3)\n",
      "Requirement already satisfied: MarkupSafe>=0.9.2 in /media/uberdev/ddrv/telemetenv/lib/python3.10/site-packages (from Mako->alembic>=1.5.0->optuna->dspy-ai) (2.1.5)\n",
      "Installing collected packages: xxhash, ujson, structlog, dill, colorlog, backoff, multiprocess, optuna, datasets, dspy-ai\n",
      "Successfully installed backoff-2.2.1 colorlog-6.8.2 datasets-2.21.0 dill-0.3.8 dspy-ai-2.4.13 multiprocess-0.70.16 optuna-3.6.1 structlog-24.4.0 ujson-5.10.0 xxhash-3.4.1\n"
     ]
    }
   ],
   "source": [
    "!pip install dspy-ai"
   ]
  },
  {
   "cell_type": "code",
   "execution_count": 4,
   "id": "88104a26-39e9-4496-a7ad-f8929ba60c80",
   "metadata": {},
   "outputs": [
    {
     "name": "stderr",
     "output_type": "stream",
     "text": [
      "/media/uberdev/ddrv/telemetenv/lib/python3.10/site-packages/pydantic/_internal/_config.py:341: UserWarning: Valid config keys have changed in V2:\n",
      "* 'allow_population_by_field_name' has been renamed to 'populate_by_name'\n",
      "* 'smart_union' has been removed\n",
      "  warnings.warn(message, UserWarning)\n",
      "/media/uberdev/ddrv/telemetenv/lib/python3.10/site-packages/tqdm/auto.py:21: TqdmWarning: IProgress not found. Please update jupyter and ipywidgets. See https://ipywidgets.readthedocs.io/en/stable/user_install.html\n",
      "  from .autonotebook import tqdm as notebook_tqdm\n"
     ]
    }
   ],
   "source": [
    "import os\n",
    "from dotenv import load_dotenv\n",
    "import dspy\n",
    "import openai\n",
    "import phoenix as px"
   ]
  },
  {
   "cell_type": "code",
   "execution_count": 5,
   "id": "cec4719e-1c0e-43f6-856f-4646a4bcafe4",
   "metadata": {},
   "outputs": [],
   "source": [
    "load_dotenv(\"/media/uberdev/ddrv/gitFolders/python_de_learners_data/.env\")\n",
    "openai.api_key = os.environ['OPENAI_API_KEY']"
   ]
  },
  {
   "cell_type": "code",
   "execution_count": null,
   "id": "e4ffc92a-2aba-40f0-86cd-bbf502d7196f",
   "metadata": {},
   "outputs": [],
   "source": [
    "turbo = dspy.OpenAI(model=\"gpt-3.5-turbo\")\n",
    "colbertv2_wiki17_abstracts = dspy.ColBERTv2(\n",
    "    url=\"http://20.102.90.50:2017/wiki17_abstracts\"  # endpoint for a hosted ColBERTv2 service\n",
    ")\n",
    "\n",
    "dspy.settings.configure(lm=turbo, rm=colbertv2_wiki17_abstracts)"
   ]
  },
  {
   "cell_type": "code",
   "execution_count": null,
   "id": "236a614d-dea6-4043-857f-24674f011bd4",
   "metadata": {},
   "outputs": [],
   "source": [
    "from dspy.datasets import HotPotQA\n",
    "\n",
    "# Load the dataset.\n",
    "dataset = HotPotQA(train_seed=1, train_size=20, eval_seed=2023, dev_size=50, test_size=10)\n",
    "\n",
    "# Tell DSPy that the 'question' field is the input. Any other fields are labels and/or metadata.\n",
    "trainset = [x.with_inputs(\"question\") for x in dataset.train]\n",
    "devset = [x.with_inputs(\"question\") for x in dataset.dev]\n",
    "\n",
    "print(f\"Train set size: {len(trainset)}\")\n",
    "print(f\"Dev set size: {len(devset)}\")"
   ]
  },
  {
   "cell_type": "code",
   "execution_count": null,
   "id": "e68d2123-09c1-4507-a22d-ce4320881c60",
   "metadata": {},
   "outputs": [],
   "source": [
    "train_example = trainset[0]\n",
    "dev_example = devset[18]"
   ]
  },
  {
   "cell_type": "code",
   "execution_count": null,
   "id": "7ea4c610-9906-488c-98ff-da87f5539f94",
   "metadata": {},
   "outputs": [],
   "source": [
    "class GenerateAnswer(dspy.Signature):\n",
    "    \"\"\"Answer questions with short factoid answers.\"\"\"\n",
    "\n",
    "    context = dspy.InputField(desc=\"may contain relevant facts\")\n",
    "    question = dspy.InputField()\n",
    "    answer = dspy.OutputField(desc=\"often between 1 and 5 words\")"
   ]
  },
  {
   "cell_type": "code",
   "execution_count": null,
   "id": "fc36f32b-0441-4f09-97b3-ea8b32a51174",
   "metadata": {},
   "outputs": [],
   "source": [
    "class RAG(dspy.Module):\n",
    "    def __init__(self, num_passages=3):\n",
    "        super().__init__()\n",
    "        self.retrieve = dspy.Retrieve(k=num_passages)\n",
    "        self.generate_answer = dspy.ChainOfThought(GenerateAnswer)\n",
    "\n",
    "    def forward(self, question):\n",
    "        context = self.retrieve(question).passages\n",
    "        prediction = self.generate_answer(context=context, question=question)\n",
    "        return dspy.Prediction(context=context, answer=prediction.answer)"
   ]
  },
  {
   "cell_type": "code",
   "execution_count": null,
   "id": "2782fcaf-a877-468c-88fe-74af63d82803",
   "metadata": {},
   "outputs": [],
   "source": [
    "from dspy.teleprompt import BootstrapFewShot\n",
    "\n",
    "\n",
    "# Validation logic: check that the predicted answer is correct.\n",
    "# Also check that the retrieved context does actually contain that answer.\n",
    "def validate_context_and_answer(example, pred, trace=None):\n",
    "    answer_EM = dspy.evaluate.answer_exact_match(example, pred)\n",
    "    answer_PM = dspy.evaluate.answer_passage_match(example, pred)\n",
    "    return answer_EM and answer_PM\n",
    "\n",
    "\n",
    "input_module = RAG()\n",
    "teleprompter = BootstrapFewShot(metric=validate_context_and_answer)\n",
    "compiled_module = teleprompter.compile(input_module, trainset=trainset)"
   ]
  },
  {
   "cell_type": "code",
   "execution_count": null,
   "id": "b80f621a-d23f-45c5-a919-9b8ef8c741f5",
   "metadata": {},
   "outputs": [],
   "source": [
    "phoenix_session = px.launch_app()"
   ]
  },
  {
   "cell_type": "code",
   "execution_count": 8,
   "id": "e8301de5-c232-4a7e-8963-3192b7d822e0",
   "metadata": {
    "collapsed": true,
    "jupyter": {
     "outputs_hidden": true
    }
   },
   "outputs": [
    {
     "name": "stdout",
     "output_type": "stream",
     "text": [
      "Collecting openinference-instrumentation-dspy\n",
      "  Downloading openinference_instrumentation_dspy-0.1.11-py3-none-any.whl (13 kB)\n",
      "Requirement already satisfied: opentelemetry-exporter-otlp in /media/uberdev/ddrv/telemetenv/lib/python3.10/site-packages (1.26.0)\n",
      "Requirement already satisfied: typing-extensions in /media/uberdev/ddrv/telemetenv/lib/python3.10/site-packages (from openinference-instrumentation-dspy) (4.12.2)\n",
      "Requirement already satisfied: openinference-semantic-conventions in /media/uberdev/ddrv/telemetenv/lib/python3.10/site-packages (from openinference-instrumentation-dspy) (0.1.9)\n",
      "Requirement already satisfied: wrapt in /media/uberdev/ddrv/telemetenv/lib/python3.10/site-packages (from openinference-instrumentation-dspy) (1.16.0)\n",
      "Requirement already satisfied: opentelemetry-api in /media/uberdev/ddrv/telemetenv/lib/python3.10/site-packages (from openinference-instrumentation-dspy) (1.26.0)\n",
      "Requirement already satisfied: opentelemetry-instrumentation in /media/uberdev/ddrv/telemetenv/lib/python3.10/site-packages (from openinference-instrumentation-dspy) (0.47b0)\n",
      "Requirement already satisfied: openinference-instrumentation>=0.1.12 in /media/uberdev/ddrv/telemetenv/lib/python3.10/site-packages (from openinference-instrumentation-dspy) (0.1.14)\n",
      "Requirement already satisfied: opentelemetry-semantic-conventions in /media/uberdev/ddrv/telemetenv/lib/python3.10/site-packages (from openinference-instrumentation-dspy) (0.47b0)\n",
      "Requirement already satisfied: opentelemetry-exporter-otlp-proto-grpc==1.26.0 in /media/uberdev/ddrv/telemetenv/lib/python3.10/site-packages (from opentelemetry-exporter-otlp) (1.26.0)\n",
      "Requirement already satisfied: opentelemetry-exporter-otlp-proto-http==1.26.0 in /media/uberdev/ddrv/telemetenv/lib/python3.10/site-packages (from opentelemetry-exporter-otlp) (1.26.0)\n",
      "Requirement already satisfied: opentelemetry-proto==1.26.0 in /media/uberdev/ddrv/telemetenv/lib/python3.10/site-packages (from opentelemetry-exporter-otlp-proto-grpc==1.26.0->opentelemetry-exporter-otlp) (1.26.0)\n",
      "Requirement already satisfied: grpcio<2.0.0,>=1.0.0 in /media/uberdev/ddrv/telemetenv/lib/python3.10/site-packages (from opentelemetry-exporter-otlp-proto-grpc==1.26.0->opentelemetry-exporter-otlp) (1.65.4)\n",
      "Requirement already satisfied: opentelemetry-exporter-otlp-proto-common==1.26.0 in /media/uberdev/ddrv/telemetenv/lib/python3.10/site-packages (from opentelemetry-exporter-otlp-proto-grpc==1.26.0->opentelemetry-exporter-otlp) (1.26.0)\n",
      "Requirement already satisfied: googleapis-common-protos~=1.52 in /media/uberdev/ddrv/telemetenv/lib/python3.10/site-packages (from opentelemetry-exporter-otlp-proto-grpc==1.26.0->opentelemetry-exporter-otlp) (1.63.2)\n",
      "Requirement already satisfied: deprecated>=1.2.6 in /media/uberdev/ddrv/telemetenv/lib/python3.10/site-packages (from opentelemetry-exporter-otlp-proto-grpc==1.26.0->opentelemetry-exporter-otlp) (1.2.14)\n",
      "Requirement already satisfied: opentelemetry-sdk~=1.26.0 in /media/uberdev/ddrv/telemetenv/lib/python3.10/site-packages (from opentelemetry-exporter-otlp-proto-grpc==1.26.0->opentelemetry-exporter-otlp) (1.26.0)\n",
      "Requirement already satisfied: requests~=2.7 in /media/uberdev/ddrv/telemetenv/lib/python3.10/site-packages (from opentelemetry-exporter-otlp-proto-http==1.26.0->opentelemetry-exporter-otlp) (2.32.3)\n",
      "Collecting protobuf<5.0,>=3.19\n",
      "  Using cached protobuf-4.25.4-cp37-abi3-manylinux2014_x86_64.whl (294 kB)\n",
      "Requirement already satisfied: importlib-metadata<=8.0.0,>=6.0 in /media/uberdev/ddrv/telemetenv/lib/python3.10/site-packages (from opentelemetry-api->openinference-instrumentation-dspy) (8.0.0)\n",
      "Requirement already satisfied: setuptools>=16.0 in /media/uberdev/ddrv/telemetenv/lib/python3.10/site-packages (from opentelemetry-instrumentation->openinference-instrumentation-dspy) (59.6.0)\n",
      "Requirement already satisfied: zipp>=0.5 in /media/uberdev/ddrv/telemetenv/lib/python3.10/site-packages (from importlib-metadata<=8.0.0,>=6.0->opentelemetry-api->openinference-instrumentation-dspy) (3.20.0)\n",
      "Requirement already satisfied: urllib3<3,>=1.21.1 in /media/uberdev/ddrv/telemetenv/lib/python3.10/site-packages (from requests~=2.7->opentelemetry-exporter-otlp-proto-http==1.26.0->opentelemetry-exporter-otlp) (2.2.2)\n",
      "Requirement already satisfied: certifi>=2017.4.17 in /media/uberdev/ddrv/telemetenv/lib/python3.10/site-packages (from requests~=2.7->opentelemetry-exporter-otlp-proto-http==1.26.0->opentelemetry-exporter-otlp) (2024.7.4)\n",
      "Requirement already satisfied: idna<4,>=2.5 in /media/uberdev/ddrv/telemetenv/lib/python3.10/site-packages (from requests~=2.7->opentelemetry-exporter-otlp-proto-http==1.26.0->opentelemetry-exporter-otlp) (3.7)\n",
      "Requirement already satisfied: charset-normalizer<4,>=2 in /media/uberdev/ddrv/telemetenv/lib/python3.10/site-packages (from requests~=2.7->opentelemetry-exporter-otlp-proto-http==1.26.0->opentelemetry-exporter-otlp) (3.3.2)\n",
      "Installing collected packages: protobuf, openinference-instrumentation-dspy\n",
      "  Attempting uninstall: protobuf\n",
      "    Found existing installation: protobuf 5.27.3\n",
      "    Uninstalling protobuf-5.27.3:\n",
      "      Successfully uninstalled protobuf-5.27.3\n",
      "\u001b[31mERROR: Could not install packages due to an OSError: [Errno 39] Directory not empty: '/media/uberdev/ddrv/telemetenv/lib/python3.10/site-packages/google/~upb'\n",
      "\u001b[0m\u001b[31m\n",
      "\u001b[0m"
     ]
    }
   ],
   "source": [
    "!pip install openinference-instrumentation-dspy opentelemetry-exporter-otlp"
   ]
  },
  {
   "cell_type": "code",
   "execution_count": 10,
   "id": "fc352260-1eea-471d-ab0b-930fb5572ede",
   "metadata": {
    "collapsed": true,
    "jupyter": {
     "outputs_hidden": true
    }
   },
   "outputs": [
    {
     "ename": "ModuleNotFoundError",
     "evalue": "No module named 'openinference.instrumentation.dspy'",
     "output_type": "error",
     "traceback": [
      "\u001b[0;31m---------------------------------------------------------------------------\u001b[0m",
      "\u001b[0;31mModuleNotFoundError\u001b[0m                       Traceback (most recent call last)",
      "Cell \u001b[0;32mIn[10], line 1\u001b[0m\n\u001b[0;32m----> 1\u001b[0m \u001b[38;5;28;01mfrom\u001b[39;00m \u001b[38;5;21;01mopeninference\u001b[39;00m\u001b[38;5;21;01m.\u001b[39;00m\u001b[38;5;21;01minstrumentation\u001b[39;00m\u001b[38;5;21;01m.\u001b[39;00m\u001b[38;5;21;01mdspy\u001b[39;00m \u001b[38;5;28;01mimport\u001b[39;00m DSPyInstrumentor\n\u001b[1;32m      2\u001b[0m \u001b[38;5;28;01mfrom\u001b[39;00m \u001b[38;5;21;01mopentelemetry\u001b[39;00m \u001b[38;5;28;01mimport\u001b[39;00m trace \u001b[38;5;28;01mas\u001b[39;00m trace_api\n\u001b[1;32m      3\u001b[0m \u001b[38;5;28;01mfrom\u001b[39;00m \u001b[38;5;21;01mopentelemetry\u001b[39;00m\u001b[38;5;21;01m.\u001b[39;00m\u001b[38;5;21;01mexporter\u001b[39;00m\u001b[38;5;21;01m.\u001b[39;00m\u001b[38;5;21;01motlp\u001b[39;00m\u001b[38;5;21;01m.\u001b[39;00m\u001b[38;5;21;01mproto\u001b[39;00m\u001b[38;5;21;01m.\u001b[39;00m\u001b[38;5;21;01mhttp\u001b[39;00m\u001b[38;5;21;01m.\u001b[39;00m\u001b[38;5;21;01mtrace_exporter\u001b[39;00m \u001b[38;5;28;01mimport\u001b[39;00m OTLPSpanExporter\n",
      "\u001b[0;31mModuleNotFoundError\u001b[0m: No module named 'openinference.instrumentation.dspy'"
     ]
    }
   ],
   "source": [
    "from openinference.instrumentation.dspy import DSPyInstrumentor\n",
    "from opentelemetry import trace as trace_api\n",
    "from opentelemetry.exporter.otlp.proto.http.trace_exporter import OTLPSpanExporter\n",
    "from opentelemetry.sdk import trace as trace_sdk\n",
    "from opentelemetry.sdk.resources import Resource\n",
    "from opentelemetry.sdk.trace.export import SimpleSpanProcessor"
   ]
  },
  {
   "cell_type": "code",
   "execution_count": 9,
   "id": "66a9a166-205f-4209-866d-bb55fe6c6c05",
   "metadata": {
    "collapsed": true,
    "jupyter": {
     "outputs_hidden": true
    }
   },
   "outputs": [
    {
     "ename": "ModuleNotFoundError",
     "evalue": "No module named 'openinference.instrumentation.dspy'",
     "output_type": "error",
     "traceback": [
      "\u001b[0;31m---------------------------------------------------------------------------\u001b[0m",
      "\u001b[0;31mModuleNotFoundError\u001b[0m                       Traceback (most recent call last)",
      "Cell \u001b[0;32mIn[9], line 1\u001b[0m\n\u001b[0;32m----> 1\u001b[0m \u001b[38;5;28;01mfrom\u001b[39;00m \u001b[38;5;21;01mopeninference\u001b[39;00m\u001b[38;5;21;01m.\u001b[39;00m\u001b[38;5;21;01minstrumentation\u001b[39;00m\u001b[38;5;21;01m.\u001b[39;00m\u001b[38;5;21;01mdspy\u001b[39;00m \u001b[38;5;28;01mimport\u001b[39;00m DSPyInstrumentor\n\u001b[1;32m      2\u001b[0m \u001b[38;5;28;01mfrom\u001b[39;00m \u001b[38;5;21;01mopentelemetry\u001b[39;00m \u001b[38;5;28;01mimport\u001b[39;00m trace \u001b[38;5;28;01mas\u001b[39;00m trace_api\n\u001b[1;32m      3\u001b[0m \u001b[38;5;28;01mfrom\u001b[39;00m \u001b[38;5;21;01mopentelemetry\u001b[39;00m\u001b[38;5;21;01m.\u001b[39;00m\u001b[38;5;21;01mexporter\u001b[39;00m\u001b[38;5;21;01m.\u001b[39;00m\u001b[38;5;21;01motlp\u001b[39;00m\u001b[38;5;21;01m.\u001b[39;00m\u001b[38;5;21;01mproto\u001b[39;00m\u001b[38;5;21;01m.\u001b[39;00m\u001b[38;5;21;01mhttp\u001b[39;00m\u001b[38;5;21;01m.\u001b[39;00m\u001b[38;5;21;01mtrace_exporter\u001b[39;00m \u001b[38;5;28;01mimport\u001b[39;00m OTLPSpanExporter\n",
      "\u001b[0;31mModuleNotFoundError\u001b[0m: No module named 'openinference.instrumentation.dspy'"
     ]
    }
   ],
   "source": [
    "endpoint = \"http://127.0.0.1:6006/v1/traces\"\n",
    "resource = Resource(attributes={})\n",
    "\n",
    "tracer_provider = trace_sdk.TracerProvider(resource=resource)\n",
    "\n",
    "span_otlp_exporter = OTLPSpanExporter(endpoint=endpoint)\n",
    "\n",
    "tracer_provider.add_span_processor(SimpleSpanProcessor(span_exporter=span_otlp_exporter))\n",
    "\n",
    "trace_api.set_tracer_provider(tracer_provider=tracer_provider)\n",
    "\n",
    "DSPyInstrumentor().instrument(skip_dep_check=True)"
   ]
  },
  {
   "cell_type": "code",
   "execution_count": null,
   "id": "8ad1b8bf-5ee2-484c-989b-d451f94d140d",
   "metadata": {},
   "outputs": [],
   "source": [
    "for example in devset:\n",
    "    question = example[\"question\"]\n",
    "    prediction = compiled_module(question)\n",
    "    print(\"Question\")\n",
    "    print(\"========\")\n",
    "    print(question)\n",
    "    print()\n",
    "    print(\"Predicted Answer\")\n",
    "    print(\"================\")\n",
    "    print(prediction.answer)\n",
    "    print()\n",
    "    print(\"Retrieved Contexts (truncated)\")\n",
    "    print(f\"{[c[:200] + '...' for c in prediction.context]}\")\n",
    "    print()\n",
    "    print()"
   ]
  }
 ],
 "metadata": {
  "kernelspec": {
   "display_name": "Python 3 (ipykernel)",
   "language": "python",
   "name": "python3"
  },
  "language_info": {
   "codemirror_mode": {
    "name": "ipython",
    "version": 3
   },
   "file_extension": ".py",
   "mimetype": "text/x-python",
   "name": "python",
   "nbconvert_exporter": "python",
   "pygments_lexer": "ipython3",
   "version": "3.10.12"
  }
 },
 "nbformat": 4,
 "nbformat_minor": 5
}
