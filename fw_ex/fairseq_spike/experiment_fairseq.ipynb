{
  "nbformat": 4,
  "nbformat_minor": 0,
  "metadata": {
    "colab": {
      "provenance": []
    },
    "kernelspec": {
      "name": "python3",
      "display_name": "Python 3"
    },
    "language_info": {
      "name": "python"
    }
  },
  "cells": [
    {
      "cell_type": "code",
      "execution_count": 1,
      "metadata": {
        "colab": {
          "base_uri": "https://localhost:8080/"
        },
        "id": "1vlysIsJfZX_",
        "outputId": "4ac2750b-839d-4b92-b6ae-92c924ba1074"
      },
      "outputs": [
        {
          "output_type": "stream",
          "name": "stdout",
          "text": [
            "Reading package lists... Done\n",
            "Building dependency tree... Done\n",
            "Reading state information... Done\n",
            "libsndfile1 is already the newest version (1.0.31-2ubuntu0.1).\n",
            "0 upgraded, 0 newly installed, 0 to remove and 49 not upgraded.\n"
          ]
        }
      ],
      "source": [
        "!sudo apt install libsndfile1"
      ]
    },
    {
      "cell_type": "code",
      "source": [
        "!pip install fairseq2"
      ],
      "metadata": {
        "colab": {
          "base_uri": "https://localhost:8080/"
        },
        "collapsed": true,
        "id": "Vfe5L939jPdh",
        "outputId": "0c37ddb6-c0da-4192-acfe-b3365fbf8c7c"
      },
      "execution_count": 6,
      "outputs": [
        {
          "output_type": "stream",
          "name": "stdout",
          "text": [
            "Requirement already satisfied: fairseq2 in /usr/local/lib/python3.10/dist-packages (0.3.0)\n",
            "Requirement already satisfied: editdistance~=0.8 in /usr/local/lib/python3.10/dist-packages (from fairseq2) (0.8.1)\n",
            "Requirement already satisfied: fairseq2n==0.3.0 in /usr/local/lib/python3.10/dist-packages (from fairseq2) (0.3.0)\n",
            "Requirement already satisfied: importlib-metadata~=7.0 in /usr/local/lib/python3.10/dist-packages (from fairseq2) (7.2.1)\n",
            "Requirement already satisfied: importlib-resources~=6.4 in /usr/local/lib/python3.10/dist-packages (from fairseq2) (6.4.5)\n",
            "Requirement already satisfied: mypy-extensions~=1.0 in /usr/local/lib/python3.10/dist-packages (from fairseq2) (1.0.0)\n",
            "Requirement already satisfied: numpy~=1.23 in /usr/local/lib/python3.10/dist-packages (from fairseq2) (1.26.4)\n",
            "Requirement already satisfied: packaging~=24.1 in /usr/local/lib/python3.10/dist-packages (from fairseq2) (24.2)\n",
            "Requirement already satisfied: psutil~=5.9 in /usr/local/lib/python3.10/dist-packages (from fairseq2) (5.9.5)\n",
            "Requirement already satisfied: pyyaml~=6.0 in /usr/local/lib/python3.10/dist-packages (from fairseq2) (6.0.2)\n",
            "Requirement already satisfied: rich~=13.7 in /usr/local/lib/python3.10/dist-packages (from fairseq2) (13.9.4)\n",
            "Requirement already satisfied: sacrebleu~=2.4 in /usr/local/lib/python3.10/dist-packages (from fairseq2) (2.5.1)\n",
            "Requirement already satisfied: tiktoken~=0.7 in /usr/local/lib/python3.10/dist-packages (from fairseq2) (0.8.0)\n",
            "Requirement already satisfied: torcheval~=0.0.6 in /usr/local/lib/python3.10/dist-packages (from fairseq2) (0.0.7)\n",
            "Requirement already satisfied: tqdm~=4.62 in /usr/local/lib/python3.10/dist-packages (from fairseq2) (4.67.1)\n",
            "Requirement already satisfied: typing-extensions~=4.12 in /usr/local/lib/python3.10/dist-packages (from fairseq2) (4.12.2)\n",
            "Requirement already satisfied: blobfile~=3.0.0 in /usr/local/lib/python3.10/dist-packages (from fairseq2) (3.0.0)\n",
            "Requirement already satisfied: torch==2.5.1 in /usr/local/lib/python3.10/dist-packages (from fairseq2n==0.3.0->fairseq2) (2.5.1+cu121)\n",
            "Requirement already satisfied: tbb>=2021.8 in /usr/local/lib/python3.10/dist-packages (from fairseq2n==0.3.0->fairseq2) (2022.0.0)\n",
            "Requirement already satisfied: filelock in /usr/local/lib/python3.10/dist-packages (from torch==2.5.1->fairseq2n==0.3.0->fairseq2) (3.16.1)\n",
            "Requirement already satisfied: networkx in /usr/local/lib/python3.10/dist-packages (from torch==2.5.1->fairseq2n==0.3.0->fairseq2) (3.4.2)\n",
            "Requirement already satisfied: jinja2 in /usr/local/lib/python3.10/dist-packages (from torch==2.5.1->fairseq2n==0.3.0->fairseq2) (3.1.4)\n",
            "Requirement already satisfied: fsspec in /usr/local/lib/python3.10/dist-packages (from torch==2.5.1->fairseq2n==0.3.0->fairseq2) (2024.10.0)\n",
            "Requirement already satisfied: sympy==1.13.1 in /usr/local/lib/python3.10/dist-packages (from torch==2.5.1->fairseq2n==0.3.0->fairseq2) (1.13.1)\n",
            "Requirement already satisfied: mpmath<1.4,>=1.1.0 in /usr/local/lib/python3.10/dist-packages (from sympy==1.13.1->torch==2.5.1->fairseq2n==0.3.0->fairseq2) (1.3.0)\n",
            "Requirement already satisfied: pycryptodomex>=3.8 in /usr/local/lib/python3.10/dist-packages (from blobfile~=3.0.0->fairseq2) (3.21.0)\n",
            "Requirement already satisfied: urllib3<3,>=1.25.3 in /usr/local/lib/python3.10/dist-packages (from blobfile~=3.0.0->fairseq2) (2.2.3)\n",
            "Requirement already satisfied: lxml>=4.9 in /usr/local/lib/python3.10/dist-packages (from blobfile~=3.0.0->fairseq2) (5.3.0)\n",
            "Requirement already satisfied: zipp>=0.5 in /usr/local/lib/python3.10/dist-packages (from importlib-metadata~=7.0->fairseq2) (3.21.0)\n",
            "Requirement already satisfied: markdown-it-py>=2.2.0 in /usr/local/lib/python3.10/dist-packages (from rich~=13.7->fairseq2) (3.0.0)\n",
            "Requirement already satisfied: pygments<3.0.0,>=2.13.0 in /usr/local/lib/python3.10/dist-packages (from rich~=13.7->fairseq2) (2.18.0)\n",
            "Requirement already satisfied: portalocker in /usr/local/lib/python3.10/dist-packages (from sacrebleu~=2.4->fairseq2) (3.1.1)\n",
            "Requirement already satisfied: regex in /usr/local/lib/python3.10/dist-packages (from sacrebleu~=2.4->fairseq2) (2024.11.6)\n",
            "Requirement already satisfied: tabulate>=0.8.9 in /usr/local/lib/python3.10/dist-packages (from sacrebleu~=2.4->fairseq2) (0.9.0)\n",
            "Requirement already satisfied: colorama in /usr/local/lib/python3.10/dist-packages (from sacrebleu~=2.4->fairseq2) (0.4.6)\n",
            "Requirement already satisfied: requests>=2.26.0 in /usr/local/lib/python3.10/dist-packages (from tiktoken~=0.7->fairseq2) (2.32.3)\n",
            "Requirement already satisfied: mdurl~=0.1 in /usr/local/lib/python3.10/dist-packages (from markdown-it-py>=2.2.0->rich~=13.7->fairseq2) (0.1.2)\n",
            "Requirement already satisfied: charset-normalizer<4,>=2 in /usr/local/lib/python3.10/dist-packages (from requests>=2.26.0->tiktoken~=0.7->fairseq2) (3.4.0)\n",
            "Requirement already satisfied: idna<4,>=2.5 in /usr/local/lib/python3.10/dist-packages (from requests>=2.26.0->tiktoken~=0.7->fairseq2) (3.10)\n",
            "Requirement already satisfied: certifi>=2017.4.17 in /usr/local/lib/python3.10/dist-packages (from requests>=2.26.0->tiktoken~=0.7->fairseq2) (2024.12.14)\n",
            "Requirement already satisfied: tcmlib==1.* in /usr/local/lib/python3.10/dist-packages (from tbb>=2021.8->fairseq2n==0.3.0->fairseq2) (1.2.0)\n",
            "Requirement already satisfied: MarkupSafe>=2.0 in /usr/local/lib/python3.10/dist-packages (from jinja2->torch==2.5.1->fairseq2n==0.3.0->fairseq2) (3.0.2)\n"
          ]
        }
      ]
    },
    {
      "cell_type": "code",
      "source": [
        "!pip install transformers huggingface_hub"
      ],
      "metadata": {
        "colab": {
          "base_uri": "https://localhost:8080/"
        },
        "collapsed": true,
        "id": "mcpdqkkuj02i",
        "outputId": "eddf9277-3aea-476e-c786-dc5d87b3532a"
      },
      "execution_count": 2,
      "outputs": [
        {
          "output_type": "stream",
          "name": "stdout",
          "text": [
            "Requirement already satisfied: transformers in /usr/local/lib/python3.10/dist-packages (4.47.1)\n",
            "Requirement already satisfied: huggingface_hub in /usr/local/lib/python3.10/dist-packages (0.27.0)\n",
            "Requirement already satisfied: filelock in /usr/local/lib/python3.10/dist-packages (from transformers) (3.16.1)\n",
            "Requirement already satisfied: numpy>=1.17 in /usr/local/lib/python3.10/dist-packages (from transformers) (1.26.4)\n",
            "Requirement already satisfied: packaging>=20.0 in /usr/local/lib/python3.10/dist-packages (from transformers) (24.2)\n",
            "Requirement already satisfied: pyyaml>=5.1 in /usr/local/lib/python3.10/dist-packages (from transformers) (6.0.2)\n",
            "Requirement already satisfied: regex!=2019.12.17 in /usr/local/lib/python3.10/dist-packages (from transformers) (2024.11.6)\n",
            "Requirement already satisfied: requests in /usr/local/lib/python3.10/dist-packages (from transformers) (2.32.3)\n",
            "Requirement already satisfied: tokenizers<0.22,>=0.21 in /usr/local/lib/python3.10/dist-packages (from transformers) (0.21.0)\n",
            "Requirement already satisfied: safetensors>=0.4.1 in /usr/local/lib/python3.10/dist-packages (from transformers) (0.4.5)\n",
            "Requirement already satisfied: tqdm>=4.27 in /usr/local/lib/python3.10/dist-packages (from transformers) (4.67.1)\n",
            "Requirement already satisfied: fsspec>=2023.5.0 in /usr/local/lib/python3.10/dist-packages (from huggingface_hub) (2024.10.0)\n",
            "Requirement already satisfied: typing-extensions>=3.7.4.3 in /usr/local/lib/python3.10/dist-packages (from huggingface_hub) (4.12.2)\n",
            "Requirement already satisfied: charset-normalizer<4,>=2 in /usr/local/lib/python3.10/dist-packages (from requests->transformers) (3.4.0)\n",
            "Requirement already satisfied: idna<4,>=2.5 in /usr/local/lib/python3.10/dist-packages (from requests->transformers) (3.10)\n",
            "Requirement already satisfied: urllib3<3,>=1.21.1 in /usr/local/lib/python3.10/dist-packages (from requests->transformers) (2.2.3)\n",
            "Requirement already satisfied: certifi>=2017.4.17 in /usr/local/lib/python3.10/dist-packages (from requests->transformers) (2024.12.14)\n"
          ]
        }
      ]
    },
    {
      "cell_type": "code",
      "source": [
        "from transformers import AutoTokenizer, AutoModelForCausalLM"
      ],
      "metadata": {
        "id": "BoApRQpTjPbD"
      },
      "execution_count": 3,
      "outputs": []
    },
    {
      "cell_type": "code",
      "source": [
        "tokenizer = AutoTokenizer.from_pretrained(\"\")"
      ],
      "metadata": {
        "id": "6MWw-aNDkA3d"
      },
      "execution_count": null,
      "outputs": []
    },
    {
      "cell_type": "code",
      "source": [
        "!fairseq2"
      ],
      "metadata": {
        "colab": {
          "base_uri": "https://localhost:8080/"
        },
        "id": "zOxBfLYYkA0V",
        "outputId": "1e1c4732-dd50-4849-bdae-8b2bb802dbb3"
      },
      "execution_count": 7,
      "outputs": [
        {
          "output_type": "stream",
          "name": "stdout",
          "text": [
            "Traceback (most recent call last):\n",
            "  File \"/usr/local/bin/fairseq2\", line 5, in <module>\n",
            "    from fairseq2.recipes import main\n",
            "  File \"/usr/local/lib/python3.10/dist-packages/fairseq2/__init__.py\", line 11, in <module>\n",
            "    import fairseq2n  # Report any fairseq2n initialization error eagerly.\n",
            "  File \"/usr/local/lib/python3.10/dist-packages/fairseq2n/__init__.py\", line 194, in <module>\n",
            "    _check_torch_version()\n",
            "  File \"/usr/local/lib/python3.10/dist-packages/fairseq2n/__init__.py\", line 189, in _check_torch_version\n",
            "    raise RuntimeError(\n",
            "RuntimeError: fairseq2 requires a CUDA 12.4 build of PyTorch 2.5.1, but the installed version is a CUDA 12.1 build of PyTorch 2.5.1. Either follow the instructions at https://pytorch.org/get-started/locally to update PyTorch, or the instructions at https://github.com/facebookresearch/fairseq2#variants to update fairseq2.\n"
          ]
        }
      ]
    },
    {
      "cell_type": "code",
      "source": [],
      "metadata": {
        "id": "IWB5XL46kAwy"
      },
      "execution_count": null,
      "outputs": []
    },
    {
      "cell_type": "code",
      "source": [],
      "metadata": {
        "id": "YAH1y1ackAra"
      },
      "execution_count": null,
      "outputs": []
    },
    {
      "cell_type": "code",
      "source": [],
      "metadata": {
        "id": "ko9H7HzgjPYv"
      },
      "execution_count": null,
      "outputs": []
    },
    {
      "cell_type": "code",
      "source": [],
      "metadata": {
        "id": "ZbfXMHqrjPWV"
      },
      "execution_count": null,
      "outputs": []
    },
    {
      "cell_type": "code",
      "source": [],
      "metadata": {
        "id": "KxpH6dbPjPTj"
      },
      "execution_count": null,
      "outputs": []
    },
    {
      "cell_type": "code",
      "source": [],
      "metadata": {
        "id": "08tJtpsljPRg"
      },
      "execution_count": null,
      "outputs": []
    },
    {
      "cell_type": "code",
      "source": [],
      "metadata": {
        "id": "qYF1EnkEjPKH"
      },
      "execution_count": null,
      "outputs": []
    }
  ]
}