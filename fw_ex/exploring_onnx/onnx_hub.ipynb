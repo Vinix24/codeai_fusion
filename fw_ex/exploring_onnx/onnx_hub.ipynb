{
 "cells": [
  {
   "cell_type": "code",
   "execution_count": 1,
   "id": "586b45b5-9523-43b9-b3f5-31867882b246",
   "metadata": {},
   "outputs": [],
   "source": [
    "from onnx import hub"
   ]
  },
  {
   "cell_type": "code",
   "execution_count": 2,
   "id": "54e8c671-7dc8-4b47-bb32-71b0343b816f",
   "metadata": {},
   "outputs": [
    {
     "name": "stdout",
     "output_type": "stream",
     "text": [
      "Downloading resnet50 to local path /home/uberdev/.cache/onnx/hub/validated/vision/classification/resnet/model/af16a04a6ec48ac494065d4439fe9dea590d337b9ca6dc328160ccf04a217b9c_resnet50-v1-7.onnx\n"
     ]
    }
   ],
   "source": [
    "# get resnet50 model\n",
    "model = hub.load(\"resnet50\")"
   ]
  },
  {
   "cell_type": "code",
   "execution_count": 3,
   "id": "d3fe047f-a4cc-44fa-a6e3-ccdf6419eb41",
   "metadata": {},
   "outputs": [],
   "source": [
    "# List all models in the onnx/models:main repo\n",
    "all_models = hub.list_models()\n",
    "\n",
    "# List all versions/opsets of a specific model\n",
    "mnist_models = hub.list_models(model=\"mnist\")\n",
    "\n",
    "# List all models matching a given \"tag\"\n",
    "vision_models = hub.list_models(tags=[\"vision\"])"
   ]
  },
  {
   "cell_type": "code",
   "execution_count": 5,
   "id": "d3044c08-88b0-4970-bd78-35951c01fe38",
   "metadata": {},
   "outputs": [
    {
     "data": {
      "text/plain": [
       "184"
      ]
     },
     "execution_count": 5,
     "metadata": {},
     "output_type": "execute_result"
    }
   ],
   "source": [
    "len(all_models)"
   ]
  },
  {
   "cell_type": "code",
   "execution_count": 6,
   "id": "ad418b50-db07-4a34-bd71-ab169f37c030",
   "metadata": {},
   "outputs": [
    {
     "data": {
      "text/plain": [
       "3"
      ]
     },
     "execution_count": 6,
     "metadata": {},
     "output_type": "execute_result"
    }
   ],
   "source": [
    "len(mnist_models)"
   ]
  },
  {
   "cell_type": "code",
   "execution_count": 7,
   "id": "cdb11942-2334-4ba3-a1c4-fe8b7bc4fb41",
   "metadata": {},
   "outputs": [
    {
     "name": "stdout",
     "output_type": "stream",
     "text": [
      "ModelInfo(model=MNIST, opset=8, path=validated/vision/classification/mnist/model/mnist-8.onnx, metadata={'model_sha': '2f06e72de813a8635c9bc0397ac447a601bdbfa7df4bebc278723b958831c9bf', 'model_bytes': 26454, 'tags': ['vision', 'classification', 'mnist'], 'io_ports': {'inputs': [{'name': 'Input3', 'shape': [1, 1, 28, 28], 'type': 'tensor(float)'}], 'outputs': [{'name': 'Plus214_Output_0', 'shape': [1, 10], 'type': 'tensor(float)'}]}, 'model_with_data_path': 'validated/vision/classification/mnist/model/mnist-8.tar.gz', 'model_with_data_sha': '2f47e338faddbb30488abd83e8179ce44882de465165bb3a5b2640719f64f70c', 'model_with_data_bytes': 26751})\n"
     ]
    }
   ],
   "source": [
    "print(hub.get_model_info(model=\"mnist\", opset=8))"
   ]
  },
  {
   "cell_type": "code",
   "execution_count": null,
   "id": "becb1cfc-588f-4900-a170-b09a80480730",
   "metadata": {},
   "outputs": [],
   "source": []
  }
 ],
 "metadata": {
  "kernelspec": {
   "display_name": "Python 3 (ipykernel)",
   "language": "python",
   "name": "python3"
  },
  "language_info": {
   "codemirror_mode": {
    "name": "ipython",
    "version": 3
   },
   "file_extension": ".py",
   "mimetype": "text/x-python",
   "name": "python",
   "nbconvert_exporter": "python",
   "pygments_lexer": "ipython3",
   "version": "3.10.12"
  }
 },
 "nbformat": 4,
 "nbformat_minor": 5
}
