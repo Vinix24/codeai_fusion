{
 "cells": [
  {
   "cell_type": "code",
   "execution_count": 2,
   "id": "ee384e8b-57e6-4506-a262-c91cd0f279b8",
   "metadata": {},
   "outputs": [],
   "source": [
    "import time\n",
    "\n",
    "def sleeper():\n",
    "    time.sleep(1.75)"
   ]
  },
  {
   "cell_type": "code",
   "execution_count": 1,
   "id": "acc94d5d-ed0b-43bb-8d71-c03ecef39534",
   "metadata": {},
   "outputs": [],
   "source": [
    "def spinlock():\n",
    "     for _ in range(100_000_000):\n",
    "         pass"
   ]
  },
  {
   "cell_type": "code",
   "execution_count": 3,
   "id": "112dc720-82ec-482e-8674-fff0bde503a2",
   "metadata": {},
   "outputs": [
    {
     "name": "stdout",
     "output_type": "stream",
     "text": [
      "sleeper()\n",
      " Real time: 1.75 seconds\n",
      " CPU time: 0.00 seconds\n",
      "\n",
      "spinlock()\n",
      " Real time: 3.10 seconds\n",
      " CPU time: 3.10 seconds\n",
      "\n"
     ]
    }
   ],
   "source": [
    "for function in sleeper, spinlock:\n",
    "     t1 = time.perf_counter(), time.process_time()\n",
    "     function()\n",
    "     t2 = time.perf_counter(), time.process_time()\n",
    "     print(f\"{function.__name__}()\")\n",
    "     print(f\" Real time: {t2[0] - t1[0]:.2f} seconds\")\n",
    "     print(f\" CPU time: {t2[1] - t1[1]:.2f} seconds\")\n",
    "     print()"
   ]
  },
  {
   "cell_type": "code",
   "execution_count": 4,
   "id": "d7ef5da9-c3b9-4f47-9fed-d167d8e7a659",
   "metadata": {},
   "outputs": [],
   "source": [
    "from timeit import timeit"
   ]
  },
  {
   "cell_type": "code",
   "execution_count": 5,
   "id": "fd72aba5-5ba5-46fb-bbbb-fc1514505034",
   "metadata": {},
   "outputs": [],
   "source": [
    "def fib(n):\n",
    "    return n if n < 2 else fib(n-1) + fib(n-2)"
   ]
  },
  {
   "cell_type": "code",
   "execution_count": 6,
   "id": "d850bcd6-902d-44f3-a210-762e46a4e1a9",
   "metadata": {},
   "outputs": [],
   "source": [
    "iterations = 100\n",
    "tot_time = timeit(\"fib(20)\", number=iterations, globals=globals())"
   ]
  },
  {
   "cell_type": "code",
   "execution_count": 7,
   "id": "b14271a5-af81-4372-afd3-dc51c86e6213",
   "metadata": {},
   "outputs": [
    {
     "data": {
      "text/plain": [
       "0.3467453369994473"
      ]
     },
     "execution_count": 7,
     "metadata": {},
     "output_type": "execute_result"
    }
   ],
   "source": [
    "tot_time"
   ]
  },
  {
   "cell_type": "code",
   "execution_count": 9,
   "id": "daccc6ce-fa7f-43ea-a16e-73671ec870f1",
   "metadata": {},
   "outputs": [],
   "source": [
    "from cProfile import Profile\n",
    "from pstats import SortKey, Stats"
   ]
  },
  {
   "cell_type": "code",
   "execution_count": 15,
   "id": "f5c1ae4d-9f3a-40ab-8638-3d78756e86d9",
   "metadata": {
    "scrolled": true
   },
   "outputs": [
    {
     "name": "stdout",
     "output_type": "stream",
     "text": [
      "9227465=\n"
     ]
    }
   ],
   "source": [
    "profile = Profile()\n",
    "profile.enable()\n",
    "\n",
    "print(f\"{fib(35)}=\")\n",
    "\n",
    "profile.disable()"
   ]
  },
  {
   "cell_type": "code",
   "execution_count": 17,
   "id": "e4940ff4-6c7d-4638-9d1f-3953d4e5a4de",
   "metadata": {
    "collapsed": true,
    "jupyter": {
     "outputs_hidden": true
    }
   },
   "outputs": [
    {
     "name": "stdout",
     "output_type": "stream",
     "text": [
      "         29860777 function calls (75 primitive calls) in 12.671 seconds\n",
      "\n",
      "   Ordered by: call count\n",
      "\n",
      "   ncalls  tottime  percall  cumtime  percall filename:lineno(function)\n",
      "29860703/1   12.671    0.000   12.671   12.671 3478245824.py:1(fib)\n",
      "        4    0.000    0.000    0.000    0.000 {built-in method builtins.getattr}\n",
      "        4    0.000    0.000    0.000    0.000 {built-in method builtins.next}\n",
      "        4    0.000    0.000    0.000    0.000 compilerop.py:180(extra_flags)\n",
      "        4    0.000    0.000    0.000    0.000 typing.py:1737(cast)\n",
      "        2    0.000    0.000    0.000    0.000 {method 'get' of '_contextvars.ContextVar' objects}\n",
      "        2    0.000    0.000    0.000    0.000 {method 'items' of 'dict' objects}\n",
      "        2    0.000    0.000    0.000    0.000 {built-in method builtins.compile}\n",
      "        2    0.000    0.000   12.671    6.336 {built-in method builtins.exec}\n",
      "        2    0.000    0.000    0.000    0.000 {built-in method builtins.isinstance}\n",
      "        2    0.000    0.000    0.000    0.000 {built-in method builtins.len}\n",
      "        2    0.000    0.000    0.000    0.000 {method '__exit__' of '_thread.RLock' objects}\n",
      "        2    0.000    0.000    0.000    0.000 {built-in method posix.getpid}\n",
      "        2    0.000    0.000    0.000    0.000 {method 'write' of '_io.StringIO' objects}\n",
      "        2    0.000    0.000    0.000    0.000 iostream.py:505(parent_header)\n",
      "        2    0.000    0.000    0.000    0.000 iostream.py:550(_is_master_process)\n",
      "        2    0.000    0.000    0.000    0.000 iostream.py:577(_schedule_flush)\n",
      "        2    0.000    0.000    0.000    0.000 iostream.py:655(write)\n",
      "        2    0.000    0.000    0.000    0.000 interactiveshell.py:1277(user_global_ns)\n",
      "        2    0.000    0.000    0.000    0.000 interactiveshell.py:3493(compare)\n",
      "        2    0.000    0.000   12.671    6.336 interactiveshell.py:3541(run_code)\n",
      "        2    0.000    0.000    0.000    0.000 codeop.py:117(__call__)\n",
      "        2    0.000    0.000    0.000    0.000 traitlets.py:629(get)\n",
      "        2    0.000    0.000    0.000    0.000 traitlets.py:676(__get__)\n",
      "        2    0.000    0.000    0.000    0.000 contextlib.py:102(__init__)\n",
      "        2    0.000    0.000    0.000    0.000 contextlib.py:130(__enter__)\n",
      "        2    0.000    0.000    0.000    0.000 contextlib.py:139(__exit__)\n",
      "        2    0.000    0.000    0.000    0.000 contextlib.py:279(helper)\n",
      "        1    0.000    0.000    0.000    0.000 {built-in method builtins.print}\n",
      "        1    0.000    0.000    0.000    0.000 {method 'acquire' of '_thread.lock' objects}\n",
      "        1    0.000    0.000    0.000    0.000 {method 'append' of 'collections.deque' objects}\n",
      "        1    0.000    0.000    0.000    0.000 3629143558.py:1(<module>)\n",
      "        1    0.000    0.000    0.000    0.000 iostream.py:138(_event_pipe)\n",
      "        1    0.000    0.000    0.000    0.000 iostream.py:259(schedule)\n",
      "        1    0.000    0.000    0.000    0.000 tz.py:74(utcoffset)\n",
      "        1    0.000    0.000    0.000    0.000 {method 'disable' of '_lsprof.Profiler' objects}\n",
      "        1    0.000    0.000    0.000    0.000 threading.py:553(is_set)\n",
      "        1    0.000    0.000    0.000    0.000 threading.py:1102(_wait_for_tstate_lock)\n",
      "        1    0.000    0.000    0.000    0.000 threading.py:1169(is_alive)\n",
      "        1    0.000    0.000    0.000    0.000 socket.py:626(send)\n",
      "\n",
      "\n"
     ]
    },
    {
     "data": {
      "text/plain": [
       "<pstats.Stats at 0x7f36274652d0>"
      ]
     },
     "execution_count": 17,
     "metadata": {},
     "output_type": "execute_result"
    }
   ],
   "source": [
    "\n",
    "# Create Stats object from the profile data\n",
    "stats = Stats(profile)\n",
    "stats.strip_dirs().sort_stats(SortKey.CALLS).print_stats()"
   ]
  },
  {
   "cell_type": "code",
   "execution_count": 18,
   "id": "db6dc2f2-763d-4311-9728-30806e50ae47",
   "metadata": {},
   "outputs": [
    {
     "name": "stdout",
     "output_type": "stream",
     "text": [
      "n = 10         [3.2, 2.8, 3.2, 2.8, 4.0]\n",
      "n = 100        [3.08, 2.84, 2.88, 3.2, 3.16]\n",
      "n = 1,000      [3.116, 3.164, 3.152, 3.088, 3.116]\n",
      "n = 10,000     [3.1548, 3.1448, 3.1388, 3.1532, 3.1448]\n",
      "n = 100,000    [3.13732, 3.13704, 3.14052, 3.13704, 3.14156]\n",
      "n = 1,000,000  [3.143224, 3.1439, 3.14062, 3.144444, 3.144328]\n",
      "n = 10,000,000 [3.1421196, 3.1419176, 3.140418, 3.141492, 3.1411092]\n"
     ]
    }
   ],
   "source": [
    "from random import uniform\n",
    "\n",
    "def estimate_pi(n):\n",
    "    return 4 * sum(hits(point()) for _ in range(n)) / n\n",
    "\n",
    "\n",
    "def hits(point):\n",
    "    return abs(point) <= 1\n",
    "\n",
    "\n",
    "def point():\n",
    "    return complex(uniform(0, 1), uniform(0, 1))\n",
    "\n",
    "\n",
    "for exponent in range(1, 8):\n",
    "    n = 10 ** exponent\n",
    "    estimates = [estimate_pi(n) for _ in range(5)]\n",
    "    print(f\"{n = :<10,} {estimates}\")"
   ]
  },
  {
   "cell_type": "code",
   "execution_count": null,
   "id": "2f87def9-bd22-4208-aada-c02dda005f70",
   "metadata": {},
   "outputs": [],
   "source": []
  },
  {
   "cell_type": "code",
   "execution_count": null,
   "id": "5c451fa9-a621-4a90-97b3-ef9d473f4678",
   "metadata": {},
   "outputs": [],
   "source": []
  },
  {
   "cell_type": "code",
   "execution_count": null,
   "id": "948b04f4-12be-41e2-ba41-e4b7629fc529",
   "metadata": {},
   "outputs": [],
   "source": []
  }
 ],
 "metadata": {
  "kernelspec": {
   "display_name": "Python 3 (ipykernel)",
   "language": "python",
   "name": "python3"
  },
  "language_info": {
   "codemirror_mode": {
    "name": "ipython",
    "version": 3
   },
   "file_extension": ".py",
   "mimetype": "text/x-python",
   "name": "python",
   "nbconvert_exporter": "python",
   "pygments_lexer": "ipython3",
   "version": "3.10.12"
  }
 },
 "nbformat": 4,
 "nbformat_minor": 5
}
