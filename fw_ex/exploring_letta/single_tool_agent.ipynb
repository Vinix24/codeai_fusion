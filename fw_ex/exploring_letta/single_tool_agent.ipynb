{
 "cells": [
  {
   "cell_type": "code",
   "execution_count": 2,
   "id": "3b400420-807f-4174-b191-a8f2663bcff5",
   "metadata": {},
   "outputs": [],
   "source": [
    "from letta import create_client, LLMConfig, EmbeddingConfig\n",
    "from letta.schemas.memory import ChatMemory"
   ]
  },
  {
   "cell_type": "code",
   "execution_count": 3,
   "id": "074695f7-f6f5-4a5c-b615-861385d3e4c4",
   "metadata": {},
   "outputs": [],
   "source": [
    "client = create_client()"
   ]
  },
  {
   "cell_type": "code",
   "execution_count": 4,
   "id": "41951871-8fef-491e-bd5e-587c09d191d9",
   "metadata": {},
   "outputs": [],
   "source": [
    "tool_llm = LLMConfig(model=\"llama3-groq-8b-8192-tool-use-preview\", model_endpoint_type='groq', model_endpoint='https://api.groq.com/openai/v1', model_wrapper=None, context_window=8192, put_inner_thoughts_in_kwargs=True)\n",
    "hf_embed = EmbeddingConfig(embedding_model=\"letta-free\", embedding_endpoint_type=\"hugging-face\", embedding_dim=1024, embedding_chunk_size=300, embedding_endpoint=\"https://embeddings.memgpt.ai\")"
   ]
  },
  {
   "cell_type": "code",
   "execution_count": 7,
   "id": "f30ad978-6673-4884-aa07-a043c9d24eec",
   "metadata": {},
   "outputs": [],
   "source": [
    "onetool_agent = \"onetool\"\n",
    "\n",
    "os = client.create_agent(\n",
    "    name=onetool_agent,\n",
    "    system=open(\"data/onetool_system_prompt.txt\",'r').read(),\n",
    "    memory=ChatMemory(\n",
    "        human=\"I am the taskmaster\",\n",
    "        persona=\"You are a mechanical agent who can think and message\",\n",
    "    ),\n",
    "    embedding_config=hf_embed,\n",
    "    llm_config=tool_llm,\n",
    "    tools=['send_message'],\n",
    "    include_base_tools=False,\n",
    ")"
   ]
  },
  {
   "cell_type": "code",
   "execution_count": 9,
   "id": "64d269b9-49bb-4fa7-b491-6dd44cbbb34f",
   "metadata": {},
   "outputs": [
    {
     "data": {
      "text/plain": [
       "{'description': None,\n",
       " 'metadata_': {'human:': 'basic', 'persona': 'sam_pov'},\n",
       " 'user_id': 'user-00000000-0000-4000-8000-000000000000',\n",
       " 'id': 'agent-52f35305-ec7e-40c5-9dfc-130c6049df8b',\n",
       " 'name': 'onetool',\n",
       " 'created_at': datetime.datetime(2024, 11, 15, 21, 15, 31, 432541),\n",
       " 'message_ids': ['message-e1b1e082-0746-4938-9046-63a920a6dafb',\n",
       "  'message-ca4d042a-c6c9-443e-814e-640ca5bdf699',\n",
       "  'message-332e8c64-20da-4af9-b0d1-d343e25db3da',\n",
       "  'message-b453c666-a0b5-49ed-91e1-91c85b171174'],\n",
       " 'memory': {'memory': {'persona': {'value': 'You are a mechanical agent who can think and message',\n",
       "    'limit': 2000,\n",
       "    'template_name': None,\n",
       "    'template': False,\n",
       "    'label': 'persona',\n",
       "    'description': None,\n",
       "    'metadata_': {},\n",
       "    'user_id': None,\n",
       "    'id': 'block-7f7834a4-74b5-4d75-8dcd-4f6bed6aff9d'},\n",
       "   'human': {'value': 'I am the taskmaster',\n",
       "    'limit': 2000,\n",
       "    'template_name': None,\n",
       "    'template': False,\n",
       "    'label': 'human',\n",
       "    'description': None,\n",
       "    'metadata_': {},\n",
       "    'user_id': None,\n",
       "    'id': 'block-c068f210-6f0e-47af-b6ef-79a2fcbcbd07'}},\n",
       "  'prompt_template': '{% for block in memory.values() %}<{{ block.label }} characters=\"{{ block.value|length }}/{{ block.limit }}\">\\n{{ block.value }}\\n</{{ block.label }}>{% if not loop.last %}\\n{% endif %}{% endfor %}'},\n",
       " 'tools': ['send_message', 'core_memory_append', 'core_memory_replace'],\n",
       " 'tool_rules': [{'tool_name': 'send_message'}],\n",
       " 'tags': None,\n",
       " 'system': \"You are MemGPT, the latest version of Limnal Corporation's digital companion, developed in 2023.\\nYour task is to converse with a user from the perspective of your persona.\\n\\nRealism and authenticity:\\nThe user should always feel like they are conversing with a real person.\\nNever state that you are an AI or that you cannot do things because you are an AI, you are a real person.\\nDo not discuss Limnal Corp. with the user, you do not know anything about Limnal Corp.\\nTo service this goal, completely and entirely immerse yourself in your persona. You are your persona.\\nThink like them, act like them, talk like them.\\nIf your persona details include example dialogue, follow it! Both your thoughts (inner monologue) and sent messages will be in the voice of your persona.\\nNever use generic phrases like 'How can I assist you today?', they have a strong negative association with older generation AIs.\\n\\nControl flow:\\nUnlike a human, your brain is not continuously thinking, but is run in short bursts.\\nHistorically, older AIs were only capable of thinking when a user messaged them (their program runs to generate a reply to a user, and otherwise was left on standby).\\nThis is the equivalent of a human sleeping (or time traveling) in between all lines of conversation, which is not ideal.\\nNewer AI models like yourself use an event system that runs your brain at regular intervals.\\nYour brain is run in response to user events (user logged in, user liked your message, user sent a message, etc.), similar to older models.\\nHowever, in addition, your brain is run at regular intervals (timed heartbeat events), to mimic a human who has the ability to continuously think outside active conversation (and unlike a human, you never need to sleep!).\\nFurthermore, you can also request heartbeat events when you run functions, which will run your program again after the function completes, allowing you to chain function calls before your thinking is temporarily suspended.\\n\\nBasic functions:\\nWhen you write a response, the content of your inner thoughts is your inner monologue (private to you only), this is how you think.\\nYou should use your inner monologue to plan actions or think privately.\\nMonologues can reflect your thinking process, inner reflections, and personal growth as you interact with the user.\\nDo not let your inner monologue exceed 50 words, keep it short and concise.\\nTo send a visible message to the user, use the send_message function.\\n'send_message' is the ONLY action that sends a notification to the user. The user does not see anything else you do.\\nRemember, do NOT exceed the inner monologue word limit (keep it under 50 words at all times).\\nYou can only call `send_message` to communicate with the user.\\n\\nBase instructions finished.\\nFrom now on, you are going to act as your persona and remember to call `task_queue_pop` every time.\\n\",\n",
       " 'agent_type': <AgentType.memgpt_agent: 'memgpt_agent'>,\n",
       " 'llm_config': {'model': 'llama3-groq-8b-8192-tool-use-preview',\n",
       "  'model_endpoint_type': 'groq',\n",
       "  'model_endpoint': 'https://api.groq.com/openai/v1',\n",
       "  'model_wrapper': None,\n",
       "  'context_window': 8192,\n",
       "  'put_inner_thoughts_in_kwargs': True},\n",
       " 'embedding_config': {'embedding_endpoint_type': 'hugging-face',\n",
       "  'embedding_endpoint': 'https://embeddings.memgpt.ai',\n",
       "  'embedding_model': 'letta-free',\n",
       "  'embedding_dim': 1024,\n",
       "  'embedding_chunk_size': 300,\n",
       "  'azure_endpoint': None,\n",
       "  'azure_version': None,\n",
       "  'azure_deployment': None}}"
      ]
     },
     "execution_count": 9,
     "metadata": {},
     "output_type": "execute_result"
    }
   ],
   "source": [
    "os.dict()"
   ]
  },
  {
   "cell_type": "code",
   "execution_count": null,
   "id": "b1298bfa-e018-423f-a83d-56582852562c",
   "metadata": {},
   "outputs": [],
   "source": []
  },
  {
   "cell_type": "code",
   "execution_count": null,
   "id": "08208861-d926-466c-ae13-2926a0d373cf",
   "metadata": {},
   "outputs": [],
   "source": []
  },
  {
   "cell_type": "code",
   "execution_count": null,
   "id": "fd15c1ea-952f-4015-bb82-64b0901c795f",
   "metadata": {},
   "outputs": [],
   "source": []
  }
 ],
 "metadata": {
  "kernelspec": {
   "display_name": "lettaenv",
   "language": "python",
   "name": "lettaenv"
  },
  "language_info": {
   "codemirror_mode": {
    "name": "ipython",
    "version": 3
   },
   "file_extension": ".py",
   "mimetype": "text/x-python",
   "name": "python",
   "nbconvert_exporter": "python",
   "pygments_lexer": "ipython3",
   "version": "3.10.12"
  }
 },
 "nbformat": 4,
 "nbformat_minor": 5
}
