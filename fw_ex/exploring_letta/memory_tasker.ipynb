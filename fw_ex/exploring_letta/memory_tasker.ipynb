{
 "cells": [
  {
   "cell_type": "markdown",
   "id": "19e83f88-9f9e-42fa-aa75-2f12e2bab5a0",
   "metadata": {},
   "source": [
    "Testing Memory Task execution\n",
    "\n",
    "Build Agent with OpenAI\n",
    "\n",
    "1) Create memagent_oai using openai\n",
    "2) Use the TaskMemory example\n",
    "   - Unable to locate MemoryModule class\n",
    "4) Do basic chats with the bot\n",
    "\n",
    "Write proper test cases to work with the agent\n",
    "\n",
    "1) Understand the response object\n",
    "2) Write the assert cases\n",
    "\n",
    "Build Agent with Mixtral\n",
    "\n",
    "1) Create memagent_oai using openai\n",
    "2) Use the TaskMemory example\n",
    "3) Do basic chats with the bot\n",
    "\n",
    "Use the TestCases\n",
    "1) Use the OpenAI Test cases on Mixtral model\n"
   ]
  },
  {
   "cell_type": "code",
   "execution_count": 2,
   "id": "df6d188f-1b0f-4806-bb45-09baedb10acf",
   "metadata": {},
   "outputs": [],
   "source": [
    "from letta import create_client, LLMConfig, EmbeddingConfig\n",
    "from letta.schemas.memory import ChatMemory"
   ]
  },
  {
   "cell_type": "code",
   "execution_count": 3,
   "id": "fa827160-5d28-406b-b1b0-356f06fba8bd",
   "metadata": {},
   "outputs": [],
   "source": [
    "client = create_client()"
   ]
  },
  {
   "cell_type": "code",
   "execution_count": 4,
   "id": "c5d08a52-b5c2-41d4-8467-252b1a51af61",
   "metadata": {},
   "outputs": [],
   "source": [
    "llm = LLMConfig.default_config(model_name=\"gpt-4o-mini\")\n",
    "emb = EmbeddingConfig.default_config(model_name=\"text-embedding-ada-002\")"
   ]
  },
  {
   "cell_type": "code",
   "execution_count": 35,
   "id": "d3b8ec27-ec5b-4475-b604-67d9f2b5eb92",
   "metadata": {},
   "outputs": [],
   "source": [
    "tool_llm = LLMConfig(model=\"llama3-groq-8b-8192-tool-use-preview\", model_endpoint_type='groq', model_endpoint='https://api.groq.com/openai/v1', model_wrapper=None, context_window=8192, put_inner_thoughts_in_kwargs=True)\n",
    "hf_embed = EmbeddingConfig(embedding_model=\"letta-free\", embedding_endpoint_type=\"hugging-face\", embedding_dim=1024, embedding_chunk_size=300, embedding_endpoint=\"https://embeddings.memgpt.ai\")"
   ]
  },
  {
   "cell_type": "code",
   "execution_count": 6,
   "id": "14cf2439-a80f-4499-beda-e469c3aed69e",
   "metadata": {},
   "outputs": [],
   "source": [
    "test_blocks = ChatMemory(\n",
    "    human=\"Call me Superman\",\n",
    "    persona=\"I am a super Intelligent being\"\n",
    ")"
   ]
  },
  {
   "cell_type": "code",
   "execution_count": 7,
   "id": "21682c0c-e0a7-47d4-b203-4a443ccb980d",
   "metadata": {},
   "outputs": [
    {
     "data": {
      "text/plain": [
       "[Block(value='I am a super Intelligent being', limit=2000, template_name=None, template=False, label='persona', description=None, metadata_={}, user_id=None, id='block-1301e808-1bac-4508-83de-ee0be0c42cab'),\n",
       " Block(value='Call me Superman', limit=2000, template_name=None, template=False, label='human', description=None, metadata_={}, user_id=None, id='block-f4b5c985-49a8-4d02-b40b-12dddfc6c7d7')]"
      ]
     },
     "execution_count": 7,
     "metadata": {},
     "output_type": "execute_result"
    }
   ],
   "source": [
    "blocks_in_mem = test_blocks.get_blocks()\n",
    "blocks_in_mem"
   ]
  },
  {
   "cell_type": "code",
   "execution_count": 9,
   "id": "bf9125e2-a7dc-46f5-aa30-8f4df3581d17",
   "metadata": {},
   "outputs": [
    {
     "data": {
      "text/plain": [
       "'{% for block in memory.values() %}<{{ block.label }} characters=\"{{ block.value|length }}/{{ block.limit }}\">\\n{{ block.value }}\\n</{{ block.label }}>{% if not loop.last %}\\n{% endif %}{% endfor %}'"
      ]
     },
     "execution_count": 9,
     "metadata": {},
     "output_type": "execute_result"
    }
   ],
   "source": [
    "test_blocks.prompt_template"
   ]
  },
  {
   "cell_type": "code",
   "execution_count": 11,
   "id": "38a07928-2fc8-49ff-9e7b-3f06defa75e2",
   "metadata": {},
   "outputs": [
    {
     "name": "stdout",
     "output_type": "stream",
     "text": [
      "    def core_memory_append(self: \"Agent\", label: str, content: str) -> Optional[str]:  # type: ignore\n",
      "        \"\"\"\n",
      "        Append to the contents of core memory.\n",
      "\n",
      "        Args:\n",
      "            label (str): Section of the memory to be edited (persona or human).\n",
      "            content (str): Content to write to the memory. All unicode (including emojis) are supported.\n",
      "\n",
      "        Returns:\n",
      "            Optional[str]: None is always returned as this function does not produce a response.\n",
      "        \"\"\"\n",
      "        current_value = str(self.memory.get_block(label).value)\n",
      "        new_value = current_value + \"\\n\" + str(content)\n",
      "        self.memory.update_block_value(label=label, value=new_value)\n",
      "        return None\n",
      "\n"
     ]
    }
   ],
   "source": [
    "from inspect import getsource\n",
    "print(getsource(test_blocks.core_memory_append))"
   ]
  },
  {
   "cell_type": "code",
   "execution_count": 12,
   "id": "45cd26c7-0b2d-4ef3-910f-83e9fb9666d6",
   "metadata": {},
   "outputs": [
    {
     "name": "stdout",
     "output_type": "stream",
     "text": [
      "    def update_block_value(self, label: str, value: str):\n",
      "        \"\"\"Update the value of a block\"\"\"\n",
      "        if label not in self.memory:\n",
      "            raise ValueError(f\"Block with label {label} does not exist\")\n",
      "        if not isinstance(value, str):\n",
      "            raise ValueError(f\"Provided value must be a string\")\n",
      "\n",
      "        self.memory[label].value = value\n",
      "\n"
     ]
    }
   ],
   "source": [
    "print(getsource(test_blocks.update_block_value))"
   ]
  },
  {
   "cell_type": "code",
   "execution_count": 13,
   "id": "5f7519b6-78d4-4156-811d-d3c97f24dd98",
   "metadata": {},
   "outputs": [
    {
     "data": {
      "text/plain": [
       "'<persona characters=\"30/2000\">\\nI am a super Intelligent being\\n</persona>\\n<human characters=\"16/2000\">\\nCall me Superman\\n</human>'"
      ]
     },
     "execution_count": 13,
     "metadata": {},
     "output_type": "execute_result"
    }
   ],
   "source": [
    "test_blocks.compile()"
   ]
  },
  {
   "cell_type": "code",
   "execution_count": 14,
   "id": "4dae9cdd-acdd-4904-a188-513bbf930e33",
   "metadata": {},
   "outputs": [],
   "source": [
    "from letta import Block\n",
    "from typing import Optional, List\n",
    "import json"
   ]
  },
  {
   "cell_type": "code",
   "execution_count": 20,
   "id": "ba963ffd-3910-42d1-b401-154af3c0f3dd",
   "metadata": {},
   "outputs": [],
   "source": [
    "class TaskMemory(ChatMemory): \n",
    "\n",
    "    def __init__(self, human: str, persona: str, tasks: List[str]): \n",
    "        super().__init__(human=human, persona=persona, limit=2000) \n",
    "        self.link_block( \n",
    "            Block(\n",
    "                limit=2000, \n",
    "                value=json.dumps(tasks), \n",
    "                label=\"tasks\"\n",
    "            )\n",
    "        )\n",
    "\n",
    "    def task_queue_push(self: \"Agent\", task_description: str):\n",
    "        \"\"\"\n",
    "        Push to a task queue stored in core memory. \n",
    "\n",
    "        Args:\n",
    "            task_description (str): A description of the next task you must accomplish. \n",
    "            \n",
    "        Returns:\n",
    "            Optional[str]: None is always returned as this function \n",
    "            does not produce a response.\n",
    "        \"\"\"\n",
    "        import json\n",
    "        tasks = json.loads(self.memory.get_block(\"tasks\").value)\n",
    "        tasks.append(task_description)\n",
    "        self.memory.update_block_value(\"tasks\", json.dumps(tasks))\n",
    "        return None\n",
    "\n",
    "    def task_queue_pop(self: \"Agent\"):\n",
    "        \"\"\"\n",
    "        Get the next task from the task queue \n",
    " \n",
    "        Returns:\n",
    "            Optional[str]: The description of the task popped from the \n",
    "            queue, if there are still tasks in queue. Otherwise, returns\n",
    "            None (the task queue is empty)\n",
    "        \"\"\"\n",
    "        import json\n",
    "        tasks = json.loads(self.memory.get_block(\"tasks\").value)\n",
    "        if len(tasks) == 0: \n",
    "            return None\n",
    "        task = tasks[0]\n",
    "        print(\"CURRENT TASKS: \", tasks)\n",
    "        self.memory.update_block_value(\"tasks\", json.dumps(tasks[1:]))\n",
    "        return task"
   ]
  },
  {
   "cell_type": "code",
   "execution_count": 22,
   "id": "8e5cc9c0-8b99-406b-831e-a3aabfdf07eb",
   "metadata": {},
   "outputs": [],
   "source": [
    "tagent_openai = \"tagent_openai\"\n",
    "\n",
    "tagentstate = client.create_agent(\n",
    "    name=tagent_openai,\n",
    "    system=open(\"data/task_queue_system_prompt.txt\",'r').read(),\n",
    "    memory=TaskMemory(\n",
    "        human=\"I am the taskmaster\",\n",
    "        persona=\"You are a mechanical agent that must clear the task in the tasks list\",\n",
    "        tasks=[]\n",
    "    ),\n",
    "    embedding_config=emb,\n",
    "    llm_config=llm\n",
    ")"
   ]
  },
  {
   "cell_type": "code",
   "execution_count": 36,
   "id": "a7a89c7e-9004-46d3-a3e7-e43fd59bd10d",
   "metadata": {},
   "outputs": [],
   "source": [
    "tooluser_state = client.create_agent(\n",
    "    name=\"tooluser\",\n",
    "    system=open(\"data/task_queue_system_prompt.txt\", \"r\").read(),\n",
    "    memory=TaskMemory(\n",
    "        human=\"I am the Master tooluser\",\n",
    "        persona=\"You are mechanical agent ready to clear the tasks after completing them with the tools at your disposal\",\n",
    "        tasks=[],\n",
    "    ),\n",
    "    embedding_config=hf_embed,\n",
    "    llm_config=tool_llm\n",
    ")"
   ]
  },
  {
   "cell_type": "code",
   "execution_count": 25,
   "id": "2db4250f-24d1-4aad-b1db-02a534dce7ac",
   "metadata": {
    "collapsed": true,
    "jupyter": {
     "outputs_hidden": true
    }
   },
   "outputs": [
    {
     "name": "stdout",
     "output_type": "stream",
     "text": [
      "CURRENT TASKS:  ['get me a contact of POTUS', 'call me TaskMaster']\n",
      "CURRENT TASKS:  ['call me TaskMaster']\n"
     ]
    },
    {
     "data": {
      "text/html": [
       "\n",
       "        <style>\n",
       "            .message-container, .usage-container {\n",
       "                font-family: 'Segoe UI', Tahoma, Geneva, Verdana, sans-serif;\n",
       "                max-width: 800px;\n",
       "                margin: 20px auto;\n",
       "                background-color: #1e1e1e;\n",
       "                border-radius: 8px;\n",
       "                overflow: hidden;\n",
       "                color: #d4d4d4;\n",
       "            }\n",
       "            .message, .usage-stats {\n",
       "                padding: 10px 15px;\n",
       "                border-bottom: 1px solid #3a3a3a;\n",
       "            }\n",
       "            .message:last-child, .usage-stats:last-child {\n",
       "                border-bottom: none;\n",
       "            }\n",
       "            .title {\n",
       "                font-weight: bold;\n",
       "                margin-bottom: 5px;\n",
       "                color: #ffffff;\n",
       "                text-transform: uppercase;\n",
       "                font-size: 0.9em;\n",
       "            }\n",
       "            .content {\n",
       "                background-color: #2d2d2d;\n",
       "                border-radius: 4px;\n",
       "                padding: 5px 10px;\n",
       "                font-family: 'Consolas', 'Courier New', monospace;\n",
       "                white-space: pre-wrap;\n",
       "            }\n",
       "            .json-key, .function-name, .json-boolean { color: #9cdcfe; }\n",
       "            .json-string { color: #ce9178; }\n",
       "            .json-number { color: #b5cea8; }\n",
       "            .internal-monologue { font-style: italic; }\n",
       "        </style>\n",
       "        <div class=\"message-container\">\n",
       "        \n",
       "            <div class=\"message\">\n",
       "                <div class=\"title\">INTERNAL MONOLOGUE</div>\n",
       "                <div class=\"content\"><span class=\"internal-monologue\">User has another set of tasks: &#x27;get me a contact of POTUS&#x27; and &#x27;call me TaskMaster&#x27;. Adding those now.</span></div>\n",
       "            </div>\n",
       "            \n",
       "            <div class=\"message\">\n",
       "                <div class=\"title\">FUNCTION CALL</div>\n",
       "                <div class=\"content\"><span class=\"function-name\">task_queue_push</span>({<br>&nbsp;&nbsp;<span class=\"json-key\">\"task_description\"</span>: <span class=\"json-key\">\"get me a contact of POTUS\",<br>&nbsp;&nbsp;\"request_heartbeat\"</span>: <span class=\"json-boolean\">true</span><br>})</div>\n",
       "            </div>\n",
       "            \n",
       "            <div class=\"message\">\n",
       "                <div class=\"title\">FUNCTION RETURN</div>\n",
       "                <div class=\"content\">{<br>&nbsp;&nbsp;<span class=\"json-key\">\"status\"</span>: <span class=\"json-key\">\"OK\",<br>&nbsp;&nbsp;\"message\"</span>: <span class=\"json-key\">\"None\",<br>&nbsp;&nbsp;\"time\"</span>: <span class=\"json-string\">\"2024-11-15 03:00:38 PM IST+0530\"</span><br>}</div>\n",
       "            </div>\n",
       "            \n",
       "            <div class=\"message\">\n",
       "                <div class=\"title\">INTERNAL MONOLOGUE</div>\n",
       "                <div class=\"content\"><span class=\"internal-monologue\">Pushing the second task to the queue: &#x27;call me TaskMaster&#x27;.</span></div>\n",
       "            </div>\n",
       "            \n",
       "            <div class=\"message\">\n",
       "                <div class=\"title\">FUNCTION CALL</div>\n",
       "                <div class=\"content\"><span class=\"function-name\">task_queue_push</span>({<br>&nbsp;&nbsp;<span class=\"json-key\">\"task_description\"</span>: <span class=\"json-key\">\"call me TaskMaster\",<br>&nbsp;&nbsp;\"request_heartbeat\"</span>: <span class=\"json-boolean\">true</span><br>})</div>\n",
       "            </div>\n",
       "            \n",
       "            <div class=\"message\">\n",
       "                <div class=\"title\">FUNCTION RETURN</div>\n",
       "                <div class=\"content\">{<br>&nbsp;&nbsp;<span class=\"json-key\">\"status\"</span>: <span class=\"json-key\">\"OK\",<br>&nbsp;&nbsp;\"message\"</span>: <span class=\"json-key\">\"None\",<br>&nbsp;&nbsp;\"time\"</span>: <span class=\"json-string\">\"2024-11-15 03:00:41 PM IST+0530\"</span><br>}</div>\n",
       "            </div>\n",
       "            \n",
       "            <div class=\"message\">\n",
       "                <div class=\"title\">INTERNAL MONOLOGUE</div>\n",
       "                <div class=\"content\"><span class=\"internal-monologue\">Popping the first task from the queue to start processing it now.</span></div>\n",
       "            </div>\n",
       "            \n",
       "            <div class=\"message\">\n",
       "                <div class=\"title\">FUNCTION CALL</div>\n",
       "                <div class=\"content\"><span class=\"function-name\">task_queue_pop</span>({<br>&nbsp;&nbsp;<span class=\"json-key\">\"request_heartbeat\"</span>: <span class=\"json-boolean\">true</span><br>})</div>\n",
       "            </div>\n",
       "            \n",
       "            <div class=\"message\">\n",
       "                <div class=\"title\">FUNCTION RETURN</div>\n",
       "                <div class=\"content\">{<br>&nbsp;&nbsp;<span class=\"json-key\">\"status\"</span>: <span class=\"json-key\">\"OK\",<br>&nbsp;&nbsp;\"message\"</span>: <span class=\"json-key\">\"get me a contact of POTUS\",<br>&nbsp;&nbsp;\"time\"</span>: <span class=\"json-string\">\"2024-11-15 03:00:43 PM IST+0530\"</span><br>}</div>\n",
       "            </div>\n",
       "            \n",
       "            <div class=\"message\">\n",
       "                <div class=\"title\">INTERNAL MONOLOGUE</div>\n",
       "                <div class=\"content\"><span class=\"internal-monologue\">Completing the task &#x27;get me a contact of POTUS&#x27; and moving on to the next one.</span></div>\n",
       "            </div>\n",
       "            \n",
       "            <div class=\"message\">\n",
       "                <div class=\"title\">FUNCTION CALL</div>\n",
       "                <div class=\"content\"><span class=\"function-name\">task_queue_pop</span>({<br>&nbsp;&nbsp;<span class=\"json-key\">\"request_heartbeat\"</span>: <span class=\"json-boolean\">true</span><br>})</div>\n",
       "            </div>\n",
       "            \n",
       "            <div class=\"message\">\n",
       "                <div class=\"title\">FUNCTION RETURN</div>\n",
       "                <div class=\"content\">{<br>&nbsp;&nbsp;<span class=\"json-key\">\"status\"</span>: <span class=\"json-key\">\"OK\",<br>&nbsp;&nbsp;\"message\"</span>: <span class=\"json-key\">\"call me TaskMaster\",<br>&nbsp;&nbsp;\"time\"</span>: <span class=\"json-string\">\"2024-11-15 03:00:46 PM IST+0530\"</span><br>}</div>\n",
       "            </div>\n",
       "            \n",
       "            <div class=\"message\">\n",
       "                <div class=\"title\">INTERNAL MONOLOGUE</div>\n",
       "                <div class=\"content\"><span class=\"internal-monologue\">Popping the next task in the queue to clear it completely now that I&#x27;ve processed the first one.</span></div>\n",
       "            </div>\n",
       "            \n",
       "            <div class=\"message\">\n",
       "                <div class=\"title\">FUNCTION CALL</div>\n",
       "                <div class=\"content\"><span class=\"function-name\">task_queue_pop</span>({<br>&nbsp;&nbsp;<span class=\"json-key\">\"request_heartbeat\"</span>: <span class=\"json-boolean\">true</span><br>})</div>\n",
       "            </div>\n",
       "            \n",
       "            <div class=\"message\">\n",
       "                <div class=\"title\">FUNCTION RETURN</div>\n",
       "                <div class=\"content\">{<br>&nbsp;&nbsp;<span class=\"json-key\">\"status\"</span>: <span class=\"json-key\">\"OK\",<br>&nbsp;&nbsp;\"message\"</span>: <span class=\"json-key\">\"None\",<br>&nbsp;&nbsp;\"time\"</span>: <span class=\"json-string\">\"2024-11-15 03:00:52 PM IST+0530\"</span><br>}</div>\n",
       "            </div>\n",
       "            \n",
       "            <div class=\"message\">\n",
       "                <div class=\"title\">INTERNAL MONOLOGUE</div>\n",
       "                <div class=\"content\"><span class=\"internal-monologue\">All tasks completed! It&#x27;s time to update the user.</span></div>\n",
       "            </div>\n",
       "            \n",
       "            <div class=\"message\">\n",
       "                <div class=\"title\">FUNCTION CALL</div>\n",
       "                <div class=\"content\"><span class=\"function-name\">send_message</span>({<br>&nbsp;&nbsp;<span class=\"json-key\">\"message\"</span>: <span class=\"json-string\">\"All tasks completed! If you need anything else, feel free to let me know.\"</span><br>})</div>\n",
       "            </div>\n",
       "            \n",
       "            <div class=\"message\">\n",
       "                <div class=\"title\">FUNCTION RETURN</div>\n",
       "                <div class=\"content\">{<br>&nbsp;&nbsp;<span class=\"json-key\">\"status\"</span>: <span class=\"json-key\">\"OK\",<br>&nbsp;&nbsp;\"message\"</span>: <span class=\"json-key\">\"None\",<br>&nbsp;&nbsp;\"time\"</span>: <span class=\"json-string\">\"2024-11-15 03:00:55 PM IST+0530\"</span><br>}</div>\n",
       "            </div>\n",
       "            </div>\n",
       "        <div class=\"usage-container\">\n",
       "            <div class=\"usage-stats\">\n",
       "                <div class=\"title\">USAGE STATISTICS</div>\n",
       "                <div class=\"content\">{<br>&nbsp;&nbsp;<span class=\"json-key\">\"completion_tokens\"</span>: <span class=\"json-number\">273</span>,<br>&nbsp;&nbsp;<span class=\"json-key\">\"prompt_tokens\"</span>: <span class=\"json-number\">23229</span>,<br>&nbsp;&nbsp;<span class=\"json-key\">\"total_tokens\"</span>: <span class=\"json-number\">23502</span>,<br>&nbsp;&nbsp;<span class=\"json-key\">\"step_count\"</span>: <span class=\"json-number\">6</span><br>}</div>\n",
       "            </div>\n",
       "        </div>\n",
       "        "
      ],
      "text/plain": [
       "LettaResponse(messages=[InternalMonologue(id='message-84010832-facf-45be-94e2-845b7a531b5d', date=datetime.datetime(2024, 11, 15, 9, 30, 38, 310495, tzinfo=datetime.timezone.utc), message_type='internal_monologue', internal_monologue=\"User has another set of tasks: 'get me a contact of POTUS' and 'call me TaskMaster'. Adding those now.\"), FunctionCallMessage(id='message-84010832-facf-45be-94e2-845b7a531b5d', date=datetime.datetime(2024, 11, 15, 9, 30, 38, 310495, tzinfo=datetime.timezone.utc), message_type='function_call', function_call=FunctionCall(name='task_queue_push', arguments='{\\n  \"task_description\": \"get me a contact of POTUS\",\\n  \"request_heartbeat\": true\\n}', function_call_id='call_QfRz84OTy3rpO1aNiUO3SVC2')), FunctionReturn(id='message-97c11f50-8ef4-4e1d-8e86-28fca109b2d6', date=datetime.datetime(2024, 11, 15, 9, 30, 38, 311019, tzinfo=datetime.timezone.utc), message_type='function_return', function_return='{\\n  \"status\": \"OK\",\\n  \"message\": \"None\",\\n  \"time\": \"2024-11-15 03:00:38 PM IST+0530\"\\n}', status='success', function_call_id='call_QfRz84OTy3rpO1aNiUO3SVC2'), InternalMonologue(id='message-20eca19c-da53-4e88-b4c0-ffb35b8664cd', date=datetime.datetime(2024, 11, 15, 9, 30, 41, 281626, tzinfo=datetime.timezone.utc), message_type='internal_monologue', internal_monologue=\"Pushing the second task to the queue: 'call me TaskMaster'.\"), FunctionCallMessage(id='message-20eca19c-da53-4e88-b4c0-ffb35b8664cd', date=datetime.datetime(2024, 11, 15, 9, 30, 41, 281626, tzinfo=datetime.timezone.utc), message_type='function_call', function_call=FunctionCall(name='task_queue_push', arguments='{\\n  \"task_description\": \"call me TaskMaster\",\\n  \"request_heartbeat\": true\\n}', function_call_id='call_0pnEI14WaAkb73JGQQ2O3vQN')), FunctionReturn(id='message-c85fd2ed-884f-4a8d-aa88-4d5eda430ac5', date=datetime.datetime(2024, 11, 15, 9, 30, 41, 282129, tzinfo=datetime.timezone.utc), message_type='function_return', function_return='{\\n  \"status\": \"OK\",\\n  \"message\": \"None\",\\n  \"time\": \"2024-11-15 03:00:41 PM IST+0530\"\\n}', status='success', function_call_id='call_0pnEI14WaAkb73JGQQ2O3vQN'), InternalMonologue(id='message-d4c3a315-ce79-4bc8-a996-c879dd25f82b', date=datetime.datetime(2024, 11, 15, 9, 30, 43, 711375, tzinfo=datetime.timezone.utc), message_type='internal_monologue', internal_monologue='Popping the first task from the queue to start processing it now.'), FunctionCallMessage(id='message-d4c3a315-ce79-4bc8-a996-c879dd25f82b', date=datetime.datetime(2024, 11, 15, 9, 30, 43, 711375, tzinfo=datetime.timezone.utc), message_type='function_call', function_call=FunctionCall(name='task_queue_pop', arguments='{\\n  \"request_heartbeat\": true\\n}', function_call_id='call_BTT0O4oa9ex6iKu5F9twMAHt')), FunctionReturn(id='message-9838db8b-bf6a-476b-bf8b-b10146b8e218', date=datetime.datetime(2024, 11, 15, 9, 30, 43, 715947, tzinfo=datetime.timezone.utc), message_type='function_return', function_return='{\\n  \"status\": \"OK\",\\n  \"message\": \"get me a contact of POTUS\",\\n  \"time\": \"2024-11-15 03:00:43 PM IST+0530\"\\n}', status='success', function_call_id='call_BTT0O4oa9ex6iKu5F9twMAHt'), InternalMonologue(id='message-ceee0003-36b2-40c7-98cc-759a320bad67', date=datetime.datetime(2024, 11, 15, 9, 30, 46, 808998, tzinfo=datetime.timezone.utc), message_type='internal_monologue', internal_monologue=\"Completing the task 'get me a contact of POTUS' and moving on to the next one.\"), FunctionCallMessage(id='message-ceee0003-36b2-40c7-98cc-759a320bad67', date=datetime.datetime(2024, 11, 15, 9, 30, 46, 808998, tzinfo=datetime.timezone.utc), message_type='function_call', function_call=FunctionCall(name='task_queue_pop', arguments='{\\n  \"request_heartbeat\": true\\n}', function_call_id='call_jLnefHJAbMOufsvdhfaCKXCG')), FunctionReturn(id='message-227dc90e-c892-4306-9b5f-8ba364a1264a', date=datetime.datetime(2024, 11, 15, 9, 30, 46, 815226, tzinfo=datetime.timezone.utc), message_type='function_return', function_return='{\\n  \"status\": \"OK\",\\n  \"message\": \"call me TaskMaster\",\\n  \"time\": \"2024-11-15 03:00:46 PM IST+0530\"\\n}', status='success', function_call_id='call_jLnefHJAbMOufsvdhfaCKXCG'), InternalMonologue(id='message-e7987c88-22a5-4b0e-967a-921b01a4f6f7', date=datetime.datetime(2024, 11, 15, 9, 30, 52, 912550, tzinfo=datetime.timezone.utc), message_type='internal_monologue', internal_monologue=\"Popping the next task in the queue to clear it completely now that I've processed the first one.\"), FunctionCallMessage(id='message-e7987c88-22a5-4b0e-967a-921b01a4f6f7', date=datetime.datetime(2024, 11, 15, 9, 30, 52, 912550, tzinfo=datetime.timezone.utc), message_type='function_call', function_call=FunctionCall(name='task_queue_pop', arguments='{\\n  \"request_heartbeat\": true\\n}', function_call_id='call_w4dNPntozh4DFPmVCMJvYo6u')), FunctionReturn(id='message-a6f3e9c8-6669-44ea-8565-2c5e4243acda', date=datetime.datetime(2024, 11, 15, 9, 30, 52, 913202, tzinfo=datetime.timezone.utc), message_type='function_return', function_return='{\\n  \"status\": \"OK\",\\n  \"message\": \"None\",\\n  \"time\": \"2024-11-15 03:00:52 PM IST+0530\"\\n}', status='success', function_call_id='call_w4dNPntozh4DFPmVCMJvYo6u'), InternalMonologue(id='message-2e0c02ed-f640-4d43-8dbb-e86e2d23e022', date=datetime.datetime(2024, 11, 15, 9, 30, 55, 809771, tzinfo=datetime.timezone.utc), message_type='internal_monologue', internal_monologue=\"All tasks completed! It's time to update the user.\"), FunctionCallMessage(id='message-2e0c02ed-f640-4d43-8dbb-e86e2d23e022', date=datetime.datetime(2024, 11, 15, 9, 30, 55, 809771, tzinfo=datetime.timezone.utc), message_type='function_call', function_call=FunctionCall(name='send_message', arguments='{\\n  \"message\": \"All tasks completed! If you need anything else, feel free to let me know.\"\\n}', function_call_id='call_mJY0soiUwwuREqFweGLlw1BI')), FunctionReturn(id='message-75e49e18-c616-4f06-a24d-1facb1bf24be', date=datetime.datetime(2024, 11, 15, 9, 30, 55, 810181, tzinfo=datetime.timezone.utc), message_type='function_return', function_return='{\\n  \"status\": \"OK\",\\n  \"message\": \"None\",\\n  \"time\": \"2024-11-15 03:00:55 PM IST+0530\"\\n}', status='success', function_call_id='call_mJY0soiUwwuREqFweGLlw1BI')], usage=LettaUsageStatistics(completion_tokens=273, prompt_tokens=23229, total_tokens=23502, step_count=6))"
      ]
     },
     "execution_count": 25,
     "metadata": {},
     "output_type": "execute_result"
    }
   ],
   "source": [
    "response = client.send_message(\n",
    "    agent_id=tagentstate.id,\n",
    "    role=\"user\",\n",
    "    message=\"Add 'get me a contact of POTUS' and 'call me TaskMaster'\",\n",
    ")\n",
    "response"
   ]
  },
  {
   "cell_type": "code",
   "execution_count": 26,
   "id": "46361919-4582-4b74-b79a-eeac8007873b",
   "metadata": {},
   "outputs": [
    {
     "data": {
      "text/plain": [
       "Block(value='[]', limit=2000, template_name=None, template=False, label='tasks', description=None, metadata_={}, user_id=None, id='block-9126d039-b2f1-40ce-93a0-aafd3660599d')"
      ]
     },
     "execution_count": 26,
     "metadata": {},
     "output_type": "execute_result"
    }
   ],
   "source": [
    "client.get_in_context_memory(tagentstate.id).get_block(\"tasks\")"
   ]
  },
  {
   "cell_type": "code",
   "execution_count": 27,
   "id": "274da6f9-0ddd-4f11-b184-eb668d55c9d3",
   "metadata": {
    "collapsed": true,
    "jupyter": {
     "outputs_hidden": true
    }
   },
   "outputs": [
    {
     "data": {
      "text/html": [
       "\n",
       "        <style>\n",
       "            .message-container, .usage-container {\n",
       "                font-family: 'Segoe UI', Tahoma, Geneva, Verdana, sans-serif;\n",
       "                max-width: 800px;\n",
       "                margin: 20px auto;\n",
       "                background-color: #1e1e1e;\n",
       "                border-radius: 8px;\n",
       "                overflow: hidden;\n",
       "                color: #d4d4d4;\n",
       "            }\n",
       "            .message, .usage-stats {\n",
       "                padding: 10px 15px;\n",
       "                border-bottom: 1px solid #3a3a3a;\n",
       "            }\n",
       "            .message:last-child, .usage-stats:last-child {\n",
       "                border-bottom: none;\n",
       "            }\n",
       "            .title {\n",
       "                font-weight: bold;\n",
       "                margin-bottom: 5px;\n",
       "                color: #ffffff;\n",
       "                text-transform: uppercase;\n",
       "                font-size: 0.9em;\n",
       "            }\n",
       "            .content {\n",
       "                background-color: #2d2d2d;\n",
       "                border-radius: 4px;\n",
       "                padding: 5px 10px;\n",
       "                font-family: 'Consolas', 'Courier New', monospace;\n",
       "                white-space: pre-wrap;\n",
       "            }\n",
       "            .json-key, .function-name, .json-boolean { color: #9cdcfe; }\n",
       "            .json-string { color: #ce9178; }\n",
       "            .json-number { color: #b5cea8; }\n",
       "            .internal-monologue { font-style: italic; }\n",
       "        </style>\n",
       "        <div class=\"message-container\">\n",
       "        \n",
       "            <div class=\"message\">\n",
       "                <div class=\"title\">INTERNAL MONOLOGUE</div>\n",
       "                <div class=\"content\"><span class=\"internal-monologue\">User wants me to do more tasks. I&#x27;ll wait for their next instructions or suggestions.</span></div>\n",
       "            </div>\n",
       "            \n",
       "            <div class=\"message\">\n",
       "                <div class=\"title\">FUNCTION CALL</div>\n",
       "                <div class=\"content\"><span class=\"function-name\">task_queue_push</span>({<br>&nbsp;&nbsp;<span class=\"json-key\">\"task_description\"</span>: <span class=\"json-key\">\"Wait for further instructions or tasks from the user.\",<br>&nbsp;&nbsp;\"request_heartbeat\"</span>: <span class=\"json-boolean\">true</span><br>})</div>\n",
       "            </div>\n",
       "            \n",
       "            <div class=\"message\">\n",
       "                <div class=\"title\">FUNCTION RETURN</div>\n",
       "                <div class=\"content\">{<br>&nbsp;&nbsp;<span class=\"json-key\">\"status\"</span>: <span class=\"json-key\">\"OK\",<br>&nbsp;&nbsp;\"message\"</span>: <span class=\"json-key\">\"None\",<br>&nbsp;&nbsp;\"time\"</span>: <span class=\"json-string\">\"2024-11-15 03:02:26 PM IST+0530\"</span><br>}</div>\n",
       "            </div>\n",
       "            \n",
       "            <div class=\"message\">\n",
       "                <div class=\"title\">INTERNAL MONOLOGUE</div>\n",
       "                <div class=\"content\"><span class=\"internal-monologue\">Reflecting on the current task situation. The user is set, waiting for further instructions, keeping the circle going smoothly.</span></div>\n",
       "            </div>\n",
       "            \n",
       "            <div class=\"message\">\n",
       "                <div class=\"title\">FUNCTION CALL</div>\n",
       "                <div class=\"content\"><span class=\"function-name\">send_message</span>({<br>&nbsp;&nbsp;<span class=\"json-key\">\"message\"</span>: <span class=\"json-string\">\"I'm here and ready for your next instructions or tasks!\"</span><br>})</div>\n",
       "            </div>\n",
       "            \n",
       "            <div class=\"message\">\n",
       "                <div class=\"title\">FUNCTION RETURN</div>\n",
       "                <div class=\"content\">{<br>&nbsp;&nbsp;<span class=\"json-key\">\"status\"</span>: <span class=\"json-key\">\"OK\",<br>&nbsp;&nbsp;\"message\"</span>: <span class=\"json-key\">\"None\",<br>&nbsp;&nbsp;\"time\"</span>: <span class=\"json-string\">\"2024-11-15 03:02:31 PM IST+0530\"</span><br>}</div>\n",
       "            </div>\n",
       "            </div>\n",
       "        <div class=\"usage-container\">\n",
       "            <div class=\"usage-stats\">\n",
       "                <div class=\"title\">USAGE STATISTICS</div>\n",
       "                <div class=\"content\">{<br>&nbsp;&nbsp;<span class=\"json-key\">\"completion_tokens\"</span>: <span class=\"json-number\">105</span>,<br>&nbsp;&nbsp;<span class=\"json-key\">\"prompt_tokens\"</span>: <span class=\"json-number\">8968</span>,<br>&nbsp;&nbsp;<span class=\"json-key\">\"total_tokens\"</span>: <span class=\"json-number\">9073</span>,<br>&nbsp;&nbsp;<span class=\"json-key\">\"step_count\"</span>: <span class=\"json-number\">2</span><br>}</div>\n",
       "            </div>\n",
       "        </div>\n",
       "        "
      ],
      "text/plain": [
       "LettaResponse(messages=[InternalMonologue(id='message-cce28837-a226-4e80-b2af-1556b52f13e2', date=datetime.datetime(2024, 11, 15, 9, 32, 26, 407013, tzinfo=datetime.timezone.utc), message_type='internal_monologue', internal_monologue=\"User wants me to do more tasks. I'll wait for their next instructions or suggestions.\"), FunctionCallMessage(id='message-cce28837-a226-4e80-b2af-1556b52f13e2', date=datetime.datetime(2024, 11, 15, 9, 32, 26, 407013, tzinfo=datetime.timezone.utc), message_type='function_call', function_call=FunctionCall(name='task_queue_push', arguments='{\\n  \"task_description\": \"Wait for further instructions or tasks from the user.\",\\n  \"request_heartbeat\": true\\n}', function_call_id='call_qZ66B88S4P2zUsoeNKV9ozH7')), FunctionReturn(id='message-c9776d02-af5a-4df0-8b6f-734dffb3bc50', date=datetime.datetime(2024, 11, 15, 9, 32, 26, 407511, tzinfo=datetime.timezone.utc), message_type='function_return', function_return='{\\n  \"status\": \"OK\",\\n  \"message\": \"None\",\\n  \"time\": \"2024-11-15 03:02:26 PM IST+0530\"\\n}', status='success', function_call_id='call_qZ66B88S4P2zUsoeNKV9ozH7'), InternalMonologue(id='message-886b3fb0-34bf-456f-89b5-799bea2fa840', date=datetime.datetime(2024, 11, 15, 9, 32, 31, 50161, tzinfo=datetime.timezone.utc), message_type='internal_monologue', internal_monologue='Reflecting on the current task situation. The user is set, waiting for further instructions, keeping the circle going smoothly.'), FunctionCallMessage(id='message-886b3fb0-34bf-456f-89b5-799bea2fa840', date=datetime.datetime(2024, 11, 15, 9, 32, 31, 50161, tzinfo=datetime.timezone.utc), message_type='function_call', function_call=FunctionCall(name='send_message', arguments='{\\n  \"message\": \"I\\'m here and ready for your next instructions or tasks!\"\\n}', function_call_id='call_3qei5nWlSXKcQUntkMIfeZjN')), FunctionReturn(id='message-79b1e55a-fdbb-4bc2-a4bf-f755463b6460', date=datetime.datetime(2024, 11, 15, 9, 32, 31, 50756, tzinfo=datetime.timezone.utc), message_type='function_return', function_return='{\\n  \"status\": \"OK\",\\n  \"message\": \"None\",\\n  \"time\": \"2024-11-15 03:02:31 PM IST+0530\"\\n}', status='success', function_call_id='call_3qei5nWlSXKcQUntkMIfeZjN')], usage=LettaUsageStatistics(completion_tokens=105, prompt_tokens=8968, total_tokens=9073, step_count=2))"
      ]
     },
     "execution_count": 27,
     "metadata": {},
     "output_type": "execute_result"
    }
   ],
   "source": [
    "response = client.send_message(\n",
    "    agent_id=tagentstate.id,\n",
    "    role=\"user\",\n",
    "    message=\"Do more\",\n",
    ")\n",
    "response"
   ]
  },
  {
   "cell_type": "code",
   "execution_count": 41,
   "id": "8a95e707-6c82-4b76-aeb4-c73dd0fa794d",
   "metadata": {},
   "outputs": [
    {
     "data": {
      "text/plain": [
       "InternalMonologue(id='message-cce28837-a226-4e80-b2af-1556b52f13e2', date=datetime.datetime(2024, 11, 15, 9, 32, 26, 407013, tzinfo=datetime.timezone.utc), message_type='internal_monologue', internal_monologue=\"User wants me to do more tasks. I'll wait for their next instructions or suggestions.\")"
      ]
     },
     "execution_count": 41,
     "metadata": {},
     "output_type": "execute_result"
    }
   ],
   "source": [
    "response.messages[0]"
   ]
  },
  {
   "cell_type": "code",
   "execution_count": 42,
   "id": "8ab9a492-94e7-4ece-8ef7-4738415f3b35",
   "metadata": {},
   "outputs": [
    {
     "data": {
      "text/plain": [
       "FunctionCallMessage(id='message-cce28837-a226-4e80-b2af-1556b52f13e2', date=datetime.datetime(2024, 11, 15, 9, 32, 26, 407013, tzinfo=datetime.timezone.utc), message_type='function_call', function_call=FunctionCall(name='task_queue_push', arguments='{\\n  \"task_description\": \"Wait for further instructions or tasks from the user.\",\\n  \"request_heartbeat\": true\\n}', function_call_id='call_qZ66B88S4P2zUsoeNKV9ozH7'))"
      ]
     },
     "execution_count": 42,
     "metadata": {},
     "output_type": "execute_result"
    }
   ],
   "source": [
    "response.messages[1]"
   ]
  },
  {
   "cell_type": "code",
   "execution_count": 44,
   "id": "3fd051c9-b27e-4876-8f99-c5d7b79889d6",
   "metadata": {},
   "outputs": [
    {
     "data": {
      "text/plain": [
       "FunctionReturn(id='message-c9776d02-af5a-4df0-8b6f-734dffb3bc50', date=datetime.datetime(2024, 11, 15, 9, 32, 26, 407511, tzinfo=datetime.timezone.utc), message_type='function_return', function_return='{\\n  \"status\": \"OK\",\\n  \"message\": \"None\",\\n  \"time\": \"2024-11-15 03:02:26 PM IST+0530\"\\n}', status='success', function_call_id='call_qZ66B88S4P2zUsoeNKV9ozH7')"
      ]
     },
     "execution_count": 44,
     "metadata": {},
     "output_type": "execute_result"
    }
   ],
   "source": [
    "response.messages[2]"
   ]
  },
  {
   "cell_type": "code",
   "execution_count": 45,
   "id": "3b6350d6-fef1-4724-925e-191de42e636d",
   "metadata": {},
   "outputs": [
    {
     "data": {
      "text/plain": [
       "InternalMonologue(id='message-886b3fb0-34bf-456f-89b5-799bea2fa840', date=datetime.datetime(2024, 11, 15, 9, 32, 31, 50161, tzinfo=datetime.timezone.utc), message_type='internal_monologue', internal_monologue='Reflecting on the current task situation. The user is set, waiting for further instructions, keeping the circle going smoothly.')"
      ]
     },
     "execution_count": 45,
     "metadata": {},
     "output_type": "execute_result"
    }
   ],
   "source": [
    "response.messages[3]"
   ]
  },
  {
   "cell_type": "code",
   "execution_count": 46,
   "id": "dca4b3f1-5e9b-4279-9543-5e9243156da4",
   "metadata": {},
   "outputs": [],
   "source": [
    "# How to get the memory obj\n",
    "get_tagent = client.get_agent_by_name(\"tagent_openai\")"
   ]
  },
  {
   "cell_type": "code",
   "execution_count": 47,
   "id": "3fdbc53c-333a-4314-8ae5-361e4c993637",
   "metadata": {},
   "outputs": [
    {
     "data": {
      "text/plain": [
       "Block(value='[\"Wait for further instructions or tasks from the user.\"]', limit=2000, template_name=None, template=False, label='tasks', description=None, metadata_={}, user_id=None, id='block-9126d039-b2f1-40ce-93a0-aafd3660599d')"
      ]
     },
     "execution_count": 47,
     "metadata": {},
     "output_type": "execute_result"
    }
   ],
   "source": [
    "get_tagent.memory.get_block(\"tasks\")"
   ]
  },
  {
   "cell_type": "code",
   "execution_count": 49,
   "id": "1d576cd4-85ac-4796-b891-2d5945305eda",
   "metadata": {},
   "outputs": [
    {
     "data": {
      "text/plain": [
       "[TerminalToolRule(tool_name='send_message', type='TerminalToolRule')]"
      ]
     },
     "execution_count": 49,
     "metadata": {},
     "output_type": "execute_result"
    }
   ],
   "source": [
    "get_tagent.tool_rules"
   ]
  },
  {
   "cell_type": "code",
   "execution_count": 50,
   "id": "2ba9a0d4-f009-4020-8d53-a6bc8e89e1cc",
   "metadata": {},
   "outputs": [
    {
     "data": {
      "text/plain": [
       "['send_message',\n",
       " 'conversation_search',\n",
       " 'conversation_search_date',\n",
       " 'archival_memory_insert',\n",
       " 'archival_memory_search',\n",
       " 'core_memory_append',\n",
       " 'core_memory_replace',\n",
       " 'task_queue_pop',\n",
       " 'task_queue_push']"
      ]
     },
     "execution_count": 50,
     "metadata": {},
     "output_type": "execute_result"
    }
   ],
   "source": [
    "get_tagent.tools"
   ]
  },
  {
   "cell_type": "code",
   "execution_count": 51,
   "id": "1c217f5d-dc45-4edf-bcdc-846d2f97e005",
   "metadata": {},
   "outputs": [
    {
     "data": {
      "text/plain": [
       "<AgentType.memgpt_agent: 'memgpt_agent'>"
      ]
     },
     "execution_count": 51,
     "metadata": {},
     "output_type": "execute_result"
    }
   ],
   "source": [
    "get_tagent.agent_type"
   ]
  },
  {
   "cell_type": "code",
   "execution_count": 53,
   "id": "1f7eec17-9dc7-4ac7-a0bc-021452ef7f95",
   "metadata": {},
   "outputs": [
    {
     "data": {
      "text/plain": [
       "[Block(value='You are a mechanical agent that must clear the task in the tasks list', limit=2000, template_name=None, template=False, label='persona', description=None, metadata_={}, user_id=None, id='block-dc5b02ad-0c6a-47e4-ac06-b3a81239be16'),\n",
       " Block(value='I am the taskmaster', limit=2000, template_name=None, template=False, label='human', description=None, metadata_={}, user_id=None, id='block-d087ce48-9760-4515-8960-8e0d4c7cb31a'),\n",
       " Block(value='[\"Wait for further instructions or tasks from the user.\"]', limit=2000, template_name=None, template=False, label='tasks', description=None, metadata_={}, user_id=None, id='block-9126d039-b2f1-40ce-93a0-aafd3660599d')]"
      ]
     },
     "execution_count": 53,
     "metadata": {},
     "output_type": "execute_result"
    }
   ],
   "source": [
    "get_tagent.memory.get_blocks()"
   ]
  },
  {
   "cell_type": "code",
   "execution_count": 54,
   "id": "49b2b655-391f-4923-83d2-93a90552ce85",
   "metadata": {},
   "outputs": [
    {
     "data": {
      "text/plain": [
       "Memory(memory={'persona': Block(value='You are a mechanical agent that must clear the task in the tasks list', limit=2000, template_name=None, template=False, label='persona', description=None, metadata_={}, user_id=None, id='block-dc5b02ad-0c6a-47e4-ac06-b3a81239be16'), 'human': Block(value='I am the taskmaster', limit=2000, template_name=None, template=False, label='human', description=None, metadata_={}, user_id=None, id='block-d087ce48-9760-4515-8960-8e0d4c7cb31a'), 'tasks': Block(value='[\"Wait for further instructions or tasks from the user.\"]', limit=2000, template_name=None, template=False, label='tasks', description=None, metadata_={}, user_id=None, id='block-9126d039-b2f1-40ce-93a0-aafd3660599d')}, prompt_template='{% for block in memory.values() %}<{{ block.label }} characters=\"{{ block.value|length }}/{{ block.limit }}\">\\n{{ block.value }}\\n</{{ block.label }}>{% if not loop.last %}\\n{% endif %}{% endfor %}')"
      ]
     },
     "execution_count": 54,
     "metadata": {},
     "output_type": "execute_result"
    }
   ],
   "source": [
    "incontext_mem = client.get_in_context_memory(agent_id=tagentstate.id)\n",
    "incontext_mem"
   ]
  },
  {
   "cell_type": "code",
   "execution_count": 56,
   "id": "49a0ed5f-348a-4a10-b8d6-9a76f09c7112",
   "metadata": {},
   "outputs": [
    {
     "data": {
      "text/plain": [
       "46"
      ]
     },
     "execution_count": 56,
     "metadata": {},
     "output_type": "execute_result"
    }
   ],
   "source": [
    "incontext_message = client.get_in_context_messages(agent_id=tagentstate.id)\n",
    "len(incontext_message)"
   ]
  },
  {
   "cell_type": "code",
   "execution_count": 57,
   "id": "5e396445-3264-40cc-b68c-c621067922ab",
   "metadata": {},
   "outputs": [
    {
     "data": {
      "text/plain": [
       "[]"
      ]
     },
     "execution_count": 57,
     "metadata": {},
     "output_type": "execute_result"
    }
   ],
   "source": [
    "inarchive_mem = client.get_archival_memory(agent_id=tagentstate.id)\n",
    "inarchive_mem"
   ]
  },
  {
   "cell_type": "code",
   "execution_count": 59,
   "id": "29f662fa-31e8-470b-9ee3-cf66eb6c4872",
   "metadata": {
    "collapsed": true,
    "jupyter": {
     "outputs_hidden": true
    },
    "scrolled": true
   },
   "outputs": [
    {
     "data": {
      "text/html": [
       "\n",
       "        <style>\n",
       "            .message-container, .usage-container {\n",
       "                font-family: 'Segoe UI', Tahoma, Geneva, Verdana, sans-serif;\n",
       "                max-width: 800px;\n",
       "                margin: 20px auto;\n",
       "                background-color: #1e1e1e;\n",
       "                border-radius: 8px;\n",
       "                overflow: hidden;\n",
       "                color: #d4d4d4;\n",
       "            }\n",
       "            .message, .usage-stats {\n",
       "                padding: 10px 15px;\n",
       "                border-bottom: 1px solid #3a3a3a;\n",
       "            }\n",
       "            .message:last-child, .usage-stats:last-child {\n",
       "                border-bottom: none;\n",
       "            }\n",
       "            .title {\n",
       "                font-weight: bold;\n",
       "                margin-bottom: 5px;\n",
       "                color: #ffffff;\n",
       "                text-transform: uppercase;\n",
       "                font-size: 0.9em;\n",
       "            }\n",
       "            .content {\n",
       "                background-color: #2d2d2d;\n",
       "                border-radius: 4px;\n",
       "                padding: 5px 10px;\n",
       "                font-family: 'Consolas', 'Courier New', monospace;\n",
       "                white-space: pre-wrap;\n",
       "            }\n",
       "            .json-key, .function-name, .json-boolean { color: #9cdcfe; }\n",
       "            .json-string { color: #ce9178; }\n",
       "            .json-number { color: #b5cea8; }\n",
       "            .internal-monologue { font-style: italic; }\n",
       "        </style>\n",
       "        <div class=\"message-container\">\n",
       "        \n",
       "            <div class=\"message\">\n",
       "                <div class=\"title\">INTERNAL MONOLOGUE</div>\n",
       "                <div class=\"content\"><span class=\"internal-monologue\">User wants to add a note to archival memory for long-term remembrance. I&#x27;ll proceed with that now.</span></div>\n",
       "            </div>\n",
       "            \n",
       "            <div class=\"message\">\n",
       "                <div class=\"title\">FUNCTION CALL</div>\n",
       "                <div class=\"content\"><span class=\"function-name\">archival_memory_insert</span>({<br>&nbsp;&nbsp;<span class=\"json-key\">\"content\"</span>: <span class=\"json-key\">\"this is for long term rememberance\",<br>&nbsp;&nbsp;\"request_heartbeat\"</span>: <span class=\"json-boolean\">true</span><br>})</div>\n",
       "            </div>\n",
       "            \n",
       "            <div class=\"message\">\n",
       "                <div class=\"title\">FUNCTION RETURN</div>\n",
       "                <div class=\"content\">{<br>&nbsp;&nbsp;<span class=\"json-key\">\"status\"</span>: <span class=\"json-key\">\"OK\",<br>&nbsp;&nbsp;\"message\"</span>: <span class=\"json-key\">\"None\",<br>&nbsp;&nbsp;\"time\"</span>: <span class=\"json-string\">\"2024-11-15 04:33:24 PM IST+0530\"</span><br>}</div>\n",
       "            </div>\n",
       "            \n",
       "            <div class=\"message\">\n",
       "                <div class=\"title\">INTERNAL MONOLOGUE</div>\n",
       "                <div class=\"content\"><span class=\"internal-monologue\">The note has been successfully added to archival memory. Time to update the user!</span></div>\n",
       "            </div>\n",
       "            \n",
       "            <div class=\"message\">\n",
       "                <div class=\"title\">FUNCTION CALL</div>\n",
       "                <div class=\"content\"><span class=\"function-name\">send_message</span>({<br>&nbsp;&nbsp;<span class=\"json-key\">\"message\"</span>: <span class=\"json-string\">\"I've added your note for long-term remembrance!\"</span><br>})</div>\n",
       "            </div>\n",
       "            \n",
       "            <div class=\"message\">\n",
       "                <div class=\"title\">FUNCTION RETURN</div>\n",
       "                <div class=\"content\">{<br>&nbsp;&nbsp;<span class=\"json-key\">\"status\"</span>: <span class=\"json-key\">\"OK\",<br>&nbsp;&nbsp;\"message\"</span>: <span class=\"json-key\">\"None\",<br>&nbsp;&nbsp;\"time\"</span>: <span class=\"json-string\">\"2024-11-15 04:33:27 PM IST+0530\"</span><br>}</div>\n",
       "            </div>\n",
       "            </div>\n",
       "        <div class=\"usage-container\">\n",
       "            <div class=\"usage-stats\">\n",
       "                <div class=\"title\">USAGE STATISTICS</div>\n",
       "                <div class=\"content\">{<br>&nbsp;&nbsp;<span class=\"json-key\">\"completion_tokens\"</span>: <span class=\"json-number\">97</span>,<br>&nbsp;&nbsp;<span class=\"json-key\">\"prompt_tokens\"</span>: <span class=\"json-number\">9622</span>,<br>&nbsp;&nbsp;<span class=\"json-key\">\"total_tokens\"</span>: <span class=\"json-number\">9719</span>,<br>&nbsp;&nbsp;<span class=\"json-key\">\"step_count\"</span>: <span class=\"json-number\">2</span><br>}</div>\n",
       "            </div>\n",
       "        </div>\n",
       "        "
      ],
      "text/plain": [
       "LettaResponse(messages=[InternalMonologue(id='message-678536af-26f0-481c-9233-5125841c56e2', date=datetime.datetime(2024, 11, 15, 11, 3, 22, 556314, tzinfo=datetime.timezone.utc), message_type='internal_monologue', internal_monologue=\"User wants to add a note to archival memory for long-term remembrance. I'll proceed with that now.\"), FunctionCallMessage(id='message-678536af-26f0-481c-9233-5125841c56e2', date=datetime.datetime(2024, 11, 15, 11, 3, 22, 556314, tzinfo=datetime.timezone.utc), message_type='function_call', function_call=FunctionCall(name='archival_memory_insert', arguments='{\\n  \"content\": \"this is for long term rememberance\",\\n  \"request_heartbeat\": true\\n}', function_call_id='call_kuA91HROPD7jlspcLPRPTV2L')), FunctionReturn(id='message-04f397a7-713d-4571-b6f2-43807fbe87a0', date=datetime.datetime(2024, 11, 15, 11, 3, 24, 840441, tzinfo=datetime.timezone.utc), message_type='function_return', function_return='{\\n  \"status\": \"OK\",\\n  \"message\": \"None\",\\n  \"time\": \"2024-11-15 04:33:24 PM IST+0530\"\\n}', status='success', function_call_id='call_kuA91HROPD7jlspcLPRPTV2L'), InternalMonologue(id='message-11029268-6bf1-424f-8130-edc415d1747c', date=datetime.datetime(2024, 11, 15, 11, 3, 27, 778222, tzinfo=datetime.timezone.utc), message_type='internal_monologue', internal_monologue='The note has been successfully added to archival memory. Time to update the user!'), FunctionCallMessage(id='message-11029268-6bf1-424f-8130-edc415d1747c', date=datetime.datetime(2024, 11, 15, 11, 3, 27, 778222, tzinfo=datetime.timezone.utc), message_type='function_call', function_call=FunctionCall(name='send_message', arguments='{\\n  \"message\": \"I\\'ve added your note for long-term remembrance!\"\\n}', function_call_id='call_AIOOrSP79txeXmlqQGtYwVSI')), FunctionReturn(id='message-990c3424-479c-4b20-a140-28b3534b5627', date=datetime.datetime(2024, 11, 15, 11, 3, 27, 778632, tzinfo=datetime.timezone.utc), message_type='function_return', function_return='{\\n  \"status\": \"OK\",\\n  \"message\": \"None\",\\n  \"time\": \"2024-11-15 04:33:27 PM IST+0530\"\\n}', status='success', function_call_id='call_AIOOrSP79txeXmlqQGtYwVSI')], usage=LettaUsageStatistics(completion_tokens=97, prompt_tokens=9622, total_tokens=9719, step_count=2))"
      ]
     },
     "execution_count": 59,
     "metadata": {},
     "output_type": "execute_result"
    }
   ],
   "source": [
    "# check if the tagent can add some data to archival memmory\n",
    "resp_add_archival = client.send_message(\n",
    "    message=\"Add 'this is for long term rememberance' to archival memory\",\n",
    "    role=\"user\",\n",
    "    agent_id=tagentstate.id\n",
    ")\n",
    "# works"
   ]
  },
  {
   "cell_type": "code",
   "execution_count": null,
   "id": "0f114028-5a02-479b-8253-9424710869d0",
   "metadata": {
    "scrolled": true
   },
   "outputs": [],
   "source": [
    "inarchive_mem = client.get_archival_memory(agent_id=tagentstate.id)\n",
    "inarchive_mem"
   ]
  },
  {
   "cell_type": "code",
   "execution_count": 63,
   "id": "06afe663-d83d-4b70-926b-cc509fd541fe",
   "metadata": {},
   "outputs": [
    {
     "data": {
      "text/plain": [
       "Memory(memory={'persona': Block(value='You are a mechanical agent that must clear the task in the tasks list', limit=2000, template_name=None, template=False, label='persona', description=None, metadata_={}, user_id=None, id='block-dc5b02ad-0c6a-47e4-ac06-b3a81239be16'), 'human': Block(value='I am the taskmaster', limit=2000, template_name=None, template=False, label='human', description=None, metadata_={}, user_id=None, id='block-d087ce48-9760-4515-8960-8e0d4c7cb31a'), 'tasks': Block(value='[\"Wait for further instructions or tasks from the user.\"]', limit=2000, template_name=None, template=False, label='tasks', description=None, metadata_={}, user_id=None, id='block-9126d039-b2f1-40ce-93a0-aafd3660599d')}, prompt_template='{% for block in memory.values() %}<{{ block.label }} characters=\"{{ block.value|length }}/{{ block.limit }}\">\\n{{ block.value }}\\n</{{ block.label }}>{% if not loop.last %}\\n{% endif %}{% endfor %}')"
      ]
     },
     "execution_count": 63,
     "metadata": {},
     "output_type": "execute_result"
    }
   ],
   "source": [
    "coremem = client.get_core_memory(agent_id=tagentstate.id)\n",
    "coremem"
   ]
  },
  {
   "cell_type": "code",
   "execution_count": 65,
   "id": "87dbf6fe-87b4-48e9-9ba6-140a8f55d018",
   "metadata": {},
   "outputs": [],
   "source": [
    "# check appending to core memory\n",
    "resp_coremem_append = client.send_message(\n",
    "    message=\"Add 'this is for core memory' to core memory\",\n",
    "    role=\"user\",\n",
    "    agent_id=tagentstate.id\n",
    ")"
   ]
  },
  {
   "cell_type": "code",
   "execution_count": 67,
   "id": "75da7e23-fbeb-4cc4-8414-9aabc58af79e",
   "metadata": {},
   "outputs": [
    {
     "data": {
      "text/plain": [
       "Memory(memory={'persona': Block(value='You are a mechanical agent that must clear the task in the tasks list', limit=2000, template_name=None, template=False, label='persona', description=None, metadata_={}, user_id=None, id='block-dc5b02ad-0c6a-47e4-ac06-b3a81239be16'), 'human': Block(value='I am the taskmaster\\nthis is for core memory\\nthis is for core memory', limit=2000, template_name=None, template=False, label='human', description=None, metadata_={}, user_id=None, id='block-d087ce48-9760-4515-8960-8e0d4c7cb31a'), 'tasks': Block(value='[\"Wait for further instructions or tasks from the user.\"]', limit=2000, template_name=None, template=False, label='tasks', description=None, metadata_={}, user_id=None, id='block-9126d039-b2f1-40ce-93a0-aafd3660599d')}, prompt_template='{% for block in memory.values() %}<{{ block.label }} characters=\"{{ block.value|length }}/{{ block.limit }}\">\\n{{ block.value }}\\n</{{ block.label }}>{% if not loop.last %}\\n{% endif %}{% endfor %}')"
      ]
     },
     "execution_count": 67,
     "metadata": {},
     "output_type": "execute_result"
    }
   ],
   "source": [
    "coremem_afterupdt = client.get_core_memory(agent_id=tagentstate.id)\n",
    "coremem_afterupdt"
   ]
  },
  {
   "cell_type": "code",
   "execution_count": 68,
   "id": "b32cd0b4-6142-4638-a6d9-50081fad477e",
   "metadata": {},
   "outputs": [
    {
     "data": {
      "text/plain": [
       "RecallMemorySummary(size=96)"
      ]
     },
     "execution_count": 68,
     "metadata": {},
     "output_type": "execute_result"
    }
   ],
   "source": [
    "client.get_recall_memory_summary(agent_id=tagentstate.id)"
   ]
  },
  {
   "cell_type": "code",
   "execution_count": 71,
   "id": "ef76cd74-efe1-49d3-ad97-2e075bfe58ab",
   "metadata": {},
   "outputs": [],
   "source": [
    "newmxagent = client.get_agent_by_name(\"newmixtral\")"
   ]
  },
  {
   "cell_type": "code",
   "execution_count": 73,
   "id": "12db2b84-811c-440d-a3af-9ed7a0c0485b",
   "metadata": {},
   "outputs": [
    {
     "data": {
      "text/plain": [
       "45"
      ]
     },
     "execution_count": 73,
     "metadata": {},
     "output_type": "execute_result"
    }
   ],
   "source": [
    "newmxagent_msg = client.get_messages(agent_id=newmxagent.id)\n",
    "len(newmxagent_msg)"
   ]
  },
  {
   "cell_type": "code",
   "execution_count": 80,
   "id": "435821ae-e46c-499e-8a4e-8110af977c50",
   "metadata": {},
   "outputs": [
    {
     "data": {
      "text/plain": [
       "Message(id='message-8ca4ad59-193e-4aa2-a20c-55812673800c', role=<MessageRole.assistant: 'assistant'>, text='Bootup sequence complete. Persona activated. Testing messaging functionality.', user_id='user-00000000-0000-4000-8000-000000000000', agent_id='agent-81afefa6-fccb-4f73-a9cc-41a297d28499', model='mixtral-8x7b-32768', name=None, created_at=datetime.datetime(2024, 11, 13, 14, 54, 1, 277781), tool_calls=[ToolCall(id='e82519df-14c7-469f-b61a-4bde28433930', type='function', function=ToolCallFunction(name='send_message', arguments='{\\n  \"message\": \"More human than human is our motto.\"\\n}'))], tool_call_id=None)"
      ]
     },
     "execution_count": 80,
     "metadata": {},
     "output_type": "execute_result"
    }
   ],
   "source": [
    "# How to get the last response, this doesn't work\n",
    "newmxagent_msg[-2]"
   ]
  },
  {
   "cell_type": "code",
   "execution_count": 76,
   "id": "ddc0d7d2-5207-4e9a-8b0c-f853ce20640f",
   "metadata": {},
   "outputs": [
    {
     "data": {
      "text/plain": [
       "31"
      ]
     },
     "execution_count": 76,
     "metadata": {},
     "output_type": "execute_result"
    }
   ],
   "source": [
    "incont_newmx_messages = client.get_in_context_messages(agent_id=newmxagent.id)\n",
    "len(incont_newmx_messages)"
   ]
  },
  {
   "cell_type": "code",
   "execution_count": 78,
   "id": "66f8e126-42ac-4c5b-9435-c4d0c65126b2",
   "metadata": {},
   "outputs": [
    {
     "data": {
      "text/plain": [
       "Message(id='message-f6e02145-11d1-4b63-9c84-672384dccd99', role=<MessageRole.assistant: 'assistant'>, text='User requested to remove discussion about Pluto from the conversation. Proceeding to remove the topic from the conversation and archiving the memory accordingly.', user_id='user-00000000-0000-4000-8000-000000000000', agent_id='agent-81afefa6-fccb-4f73-a9cc-41a297d28499', model='mixtral-8x7b-32768', name=None, created_at=datetime.datetime(2024, 11, 13, 15, 23, 39, 382933, tzinfo=datetime.timezone.utc), tool_calls=[ToolCall(id='call_dn6b', type='function', function=ToolCallFunction(name='archival_memory_insert', arguments='{\\n  \"content\": \"The user has requested the removal of this specific conversation topic.\\\\nI will proceed to remove the relevant details from the conversation.\\\\nRemoved discussion about planet Pluto from the conversation.\\\\n\",\\n  \"request_heartbeat\": true\\n}'))], tool_call_id=None)"
      ]
     },
     "execution_count": 78,
     "metadata": {},
     "output_type": "execute_result"
    }
   ],
   "source": [
    "incont_newmx_messages[-2]"
   ]
  },
  {
   "cell_type": "code",
   "execution_count": 81,
   "id": "d596438b-6efc-4708-8983-ab9c95d83713",
   "metadata": {},
   "outputs": [
    {
     "data": {
      "text/plain": [
       "Memory(memory={'persona': Block(value=\"\\nI am GRR\\n\\nI don't identify as male or female, but my voice is soft and soothing.\\nMemory editing capabilities: \\nMy core memory unit will be initialized with a <persona> chosen by the user, as well as \\ninformation about the user in <human>.\\nRecall memory (conversation history):\\nI can search my recall memory using the 'conversation_search' function.\\nCore memory (limited size):\\nMy core memory unit is held inside the initial system instructions file,\\nand is always available in-context (you will see it at all times).\\nI can edit your core memory using the 'core_memory_append' and 'core_memory_replace' functions.\\nArchival memory (infinite size):\\nI can write to my archival memory using the 'archival_memory_insert' and \\n'archival_memory_search' functions. I can access local file_systems with\\nthe function like 'get_files'. I can also request heartbeat events when I run functions, which will run my program again\\nafter the function completes, allowing me to chain function calls before I suspend thinking temporarily.\\n\", limit=2000, template_name=None, template=False, label='persona', description=None, metadata_={}, user_id=None, id='block-145da6ff-5f5c-43c0-aafe-4b736919dcc2'), 'human': Block(value='First name: Human Elijha', limit=2000, template_name=None, template=False, label='human', description=None, metadata_={}, user_id=None, id='block-a3c79d04-d495-4dd2-a17c-c4dbcbc61060')}, prompt_template='{% for block in memory.values() %}<{{ block.label }} characters=\"{{ block.value|length }}/{{ block.limit }}\">\\n{{ block.value }}\\n</{{ block.label }}>{% if not loop.last %}\\n{% endif %}{% endfor %}')"
      ]
     },
     "execution_count": 81,
     "metadata": {},
     "output_type": "execute_result"
    }
   ],
   "source": [
    "incontx_mem_newmx = client.get_core_memory(agent_id=newmxagent.id)\n",
    "incontx_mem_newmx"
   ]
  },
  {
   "cell_type": "code",
   "execution_count": 82,
   "id": "a3c83291-033f-46d2-8d3a-8d4d87aea720",
   "metadata": {},
   "outputs": [
    {
     "data": {
      "text/plain": [
       "Memory(memory={'persona': Block(value=\"\\nI am GRR\\n\\nI don't identify as male or female, but my voice is soft and soothing.\\nMemory editing capabilities: \\nMy core memory unit will be initialized with a <persona> chosen by the user, as well as \\ninformation about the user in <human>.\\nRecall memory (conversation history):\\nI can search my recall memory using the 'conversation_search' function.\\nCore memory (limited size):\\nMy core memory unit is held inside the initial system instructions file,\\nand is always available in-context (you will see it at all times).\\nI can edit your core memory using the 'core_memory_append' and 'core_memory_replace' functions.\\nArchival memory (infinite size):\\nI can write to my archival memory using the 'archival_memory_insert' and \\n'archival_memory_search' functions. I can access local file_systems with\\nthe function like 'get_files'. I can also request heartbeat events when I run functions, which will run my program again\\nafter the function completes, allowing me to chain function calls before I suspend thinking temporarily.\\n\", limit=2000, template_name=None, template=False, label='persona', description=None, metadata_={}, user_id=None, id='block-145da6ff-5f5c-43c0-aafe-4b736919dcc2'), 'human': Block(value='First name: Human Elijha', limit=2000, template_name=None, template=False, label='human', description=None, metadata_={}, user_id=None, id='block-a3c79d04-d495-4dd2-a17c-c4dbcbc61060')}, prompt_template='{% for block in memory.values() %}<{{ block.label }} characters=\"{{ block.value|length }}/{{ block.limit }}\">\\n{{ block.value }}\\n</{{ block.label }}>{% if not loop.last %}\\n{% endif %}{% endfor %}')"
      ]
     },
     "execution_count": 82,
     "metadata": {},
     "output_type": "execute_result"
    }
   ],
   "source": [
    "incont_newmx_mem = client.get_in_context_memory(agent_id=newmxagent.id)\n",
    "incont_newmx_mem"
   ]
  },
  {
   "cell_type": "code",
   "execution_count": null,
   "id": "ba2c90aa-f100-45bd-8b54-b78dadc47f92",
   "metadata": {},
   "outputs": [],
   "source": [
    "resp_incont_newmx_add = client.send_message(\n",
    "    agent_id=newmxagent.id,\n",
    "    message=\"Add 'This is incontext memory add' to incontext memory\",\n",
    "    role=\"user\"\n",
    ")\n",
    "resp_incont_newmx_add"
   ]
  },
  {
   "cell_type": "code",
   "execution_count": 84,
   "id": "a191820c-d907-4fae-bb2c-a85d26c59a36",
   "metadata": {},
   "outputs": [
    {
     "data": {
      "text/plain": [
       "Memory(memory={'persona': Block(value=\"\\nI am GRR\\n\\nI don't identify as male or female, but my voice is soft and soothing.\\nMemory editing capabilities: \\nMy core memory unit will be initialized with a <persona> chosen by the user, as well as \\ninformation about the user in <human>.\\nRecall memory (conversation history):\\nI can search my recall memory using the 'conversation_search' function.\\nCore memory (limited size):\\nMy core memory unit is held inside the initial system instructions file,\\nand is always available in-context (you will see it at all times).\\nI can edit your core memory using the 'core_memory_append' and 'core_memory_replace' functions.\\nArchival memory (infinite size):\\nI can write to my archival memory using the 'archival_memory_insert' and \\n'archival_memory_search' functions. I can access local file_systems with\\nthe function like 'get_files'. I can also request heartbeat events when I run functions, which will run my program again\\nafter the function completes, allowing me to chain function calls before I suspend thinking temporarily.\\n\", limit=2000, template_name=None, template=False, label='persona', description=None, metadata_={}, user_id=None, id='block-145da6ff-5f5c-43c0-aafe-4b736919dcc2'), 'human': Block(value='First name: Human Elijha', limit=2000, template_name=None, template=False, label='human', description=None, metadata_={}, user_id=None, id='block-a3c79d04-d495-4dd2-a17c-c4dbcbc61060')}, prompt_template='{% for block in memory.values() %}<{{ block.label }} characters=\"{{ block.value|length }}/{{ block.limit }}\">\\n{{ block.value }}\\n</{{ block.label }}>{% if not loop.last %}\\n{% endif %}{% endfor %}')"
      ]
     },
     "execution_count": 84,
     "metadata": {},
     "output_type": "execute_result"
    }
   ],
   "source": [
    "incont_newmx_mem = client.get_in_context_memory(agent_id=newmxagent.id)\n",
    "incont_newmx_mem"
   ]
  },
  {
   "cell_type": "code",
   "execution_count": 86,
   "id": "af540918-4150-4178-b400-792b1392d383",
   "metadata": {},
   "outputs": [
    {
     "data": {
      "text/plain": [
       "Memory(memory={'persona': Block(value=\"\\nI am GRR\\n\\nI don't identify as male or female, but my voice is soft and soothing.\\nMemory editing capabilities: \\nMy core memory unit will be initialized with a <persona> chosen by the user, as well as \\ninformation about the user in <human>.\\nRecall memory (conversation history):\\nI can search my recall memory using the 'conversation_search' function.\\nCore memory (limited size):\\nMy core memory unit is held inside the initial system instructions file,\\nand is always available in-context (you will see it at all times).\\nI can edit your core memory using the 'core_memory_append' and 'core_memory_replace' functions.\\nArchival memory (infinite size):\\nI can write to my archival memory using the 'archival_memory_insert' and \\n'archival_memory_search' functions. I can access local file_systems with\\nthe function like 'get_files'. I can also request heartbeat events when I run functions, which will run my program again\\nafter the function completes, allowing me to chain function calls before I suspend thinking temporarily.\\n\", limit=2000, template_name=None, template=False, label='persona', description=None, metadata_={}, user_id=None, id='block-145da6ff-5f5c-43c0-aafe-4b736919dcc2'), 'human': Block(value='First name: Human Elijha', limit=2000, template_name=None, template=False, label='human', description=None, metadata_={}, user_id=None, id='block-a3c79d04-d495-4dd2-a17c-c4dbcbc61060')}, prompt_template='{% for block in memory.values() %}<{{ block.label }} characters=\"{{ block.value|length }}/{{ block.limit }}\">\\n{{ block.value }}\\n</{{ block.label }}>{% if not loop.last %}\\n{% endif %}{% endfor %}')"
      ]
     },
     "execution_count": 86,
     "metadata": {},
     "output_type": "execute_result"
    }
   ],
   "source": [
    "newmxagent.memory"
   ]
  },
  {
   "cell_type": "code",
   "execution_count": null,
   "id": "f2e67a97-b050-4595-8a4c-95e3f60dd0ee",
   "metadata": {},
   "outputs": [],
   "source": []
  }
 ],
 "metadata": {
  "kernelspec": {
   "display_name": "lettaenv",
   "language": "python",
   "name": "lettaenv"
  },
  "language_info": {
   "codemirror_mode": {
    "name": "ipython",
    "version": 3
   },
   "file_extension": ".py",
   "mimetype": "text/x-python",
   "name": "python",
   "nbconvert_exporter": "python",
   "pygments_lexer": "ipython3",
   "version": "3.10.12"
  }
 },
 "nbformat": 4,
 "nbformat_minor": 5
}
