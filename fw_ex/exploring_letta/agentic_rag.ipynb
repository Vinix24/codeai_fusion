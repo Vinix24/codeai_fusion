{
 "cells": [
  {
   "cell_type": "code",
   "execution_count": 1,
   "id": "9343b34c-4cff-43c7-a060-53a1fa781ac3",
   "metadata": {},
   "outputs": [],
   "source": [
    "from letta import create_client\n",
    "\n",
    "client = create_client()"
   ]
  },
  {
   "cell_type": "code",
   "execution_count": 4,
   "id": "ce4f82df-d1e0-46b9-8008-dbbeb014bc2c",
   "metadata": {},
   "outputs": [
    {
     "data": {
      "text/plain": [
       "Source(description=None, embedding_config=EmbeddingConfig(embedding_endpoint_type='hugging-face', embedding_endpoint='https://embeddings.memgpt.ai', embedding_model='letta-free', embedding_dim=1024, embedding_chunk_size=300, azure_endpoint=None, azure_version=None, azure_deployment=None), metadata_=None, id='source-53b1b283-3d84-40de-b738-b81f96bce9e8', name='employee_hbook', created_at=datetime.datetime(2024, 11, 12, 15, 4, 24, 751073, tzinfo=datetime.timezone.utc), user_id='user-00000000-0000-4000-8000-000000000000')"
      ]
     },
     "execution_count": 4,
     "metadata": {},
     "output_type": "execute_result"
    }
   ],
   "source": [
    "source = client.create_source(\"employee_hbook\")\n",
    "source"
   ]
  },
  {
   "cell_type": "code",
   "execution_count": 5,
   "id": "27342568-fdd2-40e5-bef6-8b63dbe2f3d8",
   "metadata": {},
   "outputs": [
    {
     "data": {
      "text/plain": [
       "Job(metadata_={'type': 'embedding', 'filename': 'data/handbook.pdf', 'source_id': 'source-53b1b283-3d84-40de-b738-b81f96bce9e8'}, id='job-9878aafa-f8de-4321-a8a0-d452909775c7', status=<JobStatus.created: 'created'>, created_at=datetime.datetime(2024, 11, 12, 15, 8, 42, 740898, tzinfo=datetime.timezone.utc), completed_at=None, user_id='user-00000000-0000-4000-8000-000000000000')"
      ]
     },
     "execution_count": 5,
     "metadata": {},
     "output_type": "execute_result"
    }
   ],
   "source": [
    "client.load_file_to_source(\n",
    "    filename=\"data/handbook.pdf\",\n",
    "    source_id=source.id)"
   ]
  },
  {
   "cell_type": "code",
   "execution_count": 2,
   "id": "64765641-b0f5-4d36-86e5-ab23d5bf243b",
   "metadata": {},
   "outputs": [
    {
     "data": {
      "text/plain": [
       "'groqagent'"
      ]
     },
     "execution_count": 2,
     "metadata": {},
     "output_type": "execute_result"
    }
   ],
   "source": [
    "agent1 = client.list_agents()[1]\n",
    "agent1.name"
   ]
  },
  {
   "cell_type": "code",
   "execution_count": 7,
   "id": "5a8f5438-c087-4d42-9445-3bc981a1b4af",
   "metadata": {},
   "outputs": [
    {
     "name": "stderr",
     "output_type": "stream",
     "text": [
      "100%|██████████| 1/1 [00:00<00:00,  1.94it/s]\n"
     ]
    }
   ],
   "source": [
    "client.attach_source_to_agent(\n",
    "    agent_id=agent1.id,\n",
    "    source_id=source.id)"
   ]
  },
  {
   "cell_type": "code",
   "execution_count": 10,
   "id": "90e6cf5b-15ee-4584-a118-663a7130a7c4",
   "metadata": {},
   "outputs": [
    {
     "data": {
      "text/plain": [
       "{'description': None,\n",
       " 'embedding_config': {'embedding_endpoint_type': 'hugging-face',\n",
       "  'embedding_endpoint': 'https://embeddings.memgpt.ai',\n",
       "  'embedding_model': 'letta-free',\n",
       "  'embedding_dim': 1024,\n",
       "  'embedding_chunk_size': 300,\n",
       "  'azure_endpoint': None,\n",
       "  'azure_version': None,\n",
       "  'azure_deployment': None},\n",
       " 'metadata_': None,\n",
       " 'id': 'source-53b1b283-3d84-40de-b738-b81f96bce9e8',\n",
       " 'name': 'employee_hbook',\n",
       " 'created_at': datetime.datetime(2024, 11, 12, 15, 4, 24, 751073, tzinfo=datetime.timezone.utc),\n",
       " 'user_id': 'user-00000000-0000-4000-8000-000000000000'}"
      ]
     },
     "execution_count": 10,
     "metadata": {},
     "output_type": "execute_result"
    }
   ],
   "source": [
    "source.dict()"
   ]
  },
  {
   "cell_type": "code",
   "execution_count": 12,
   "id": "f221de33-7cdf-4dab-b55a-ac802b460cbe",
   "metadata": {},
   "outputs": [
    {
     "data": {
      "text/plain": [
       "[Source(description=None, embedding_config=EmbeddingConfig(embedding_endpoint_type='hugging-face', embedding_endpoint='https://embeddings.memgpt.ai', embedding_model='letta-free', embedding_dim=1024, embedding_chunk_size=300, azure_endpoint=None, azure_version=None, azure_deployment=None), metadata_=None, id='source-53b1b283-3d84-40de-b738-b81f96bce9e8', name='employee_hbook', created_at=datetime.datetime(2024, 11, 12, 15, 4, 24, 751073), user_id='user-00000000-0000-4000-8000-000000000000')]"
      ]
     },
     "execution_count": 12,
     "metadata": {},
     "output_type": "execute_result"
    }
   ],
   "source": [
    "client.list_attached_sources(agent_id=agent1.id)"
   ]
  },
  {
   "cell_type": "code",
   "execution_count": null,
   "id": "1ff645c0-05a4-4e4f-acea-0ba1460855c4",
   "metadata": {},
   "outputs": [],
   "source": [
    "resp = client.send_message(\n",
    "    agent_id=agent1.id,\n",
    "    message=\"Search archival for company vacation policies\",\n",
    "    role=\"user\"\n",
    ")"
   ]
  },
  {
   "cell_type": "code",
   "execution_count": 23,
   "id": "405115d9-ac62-4258-b49a-f18393c0518a",
   "metadata": {},
   "outputs": [],
   "source": [
    "from letta.schemas.llm_config import LLMConfig\n",
    "llm_lists = [LLMConfig(model='letta-free', model_endpoint_type='openai', model_endpoint='https://inference.memgpt.ai', model_wrapper=None, context_window=16384, put_inner_thoughts_in_kwargs=True), \n",
    "             LLMConfig(model='gpt-4o-mini-2024-07-18', model_endpoint_type='openai', model_endpoint='https://api.openai.com/v1', model_wrapper=None, context_window=128000, put_inner_thoughts_in_kwargs=True), \n",
    "             LLMConfig(model='gpt-4o-mini', model_endpoint_type='openai', model_endpoint='https://api.openai.com/v1', model_wrapper=None, context_window=128000, put_inner_thoughts_in_kwargs=True), LLMConfig(model='gpt-4o-2024-08-06', model_endpoint_type='openai', model_endpoint='https://api.openai.com/v1', model_wrapper=None, context_window=128000, put_inner_thoughts_in_kwargs=True), LLMConfig(model='gpt-4o-2024-05-13', model_endpoint_type='openai', model_endpoint='https://api.openai.com/v1', model_wrapper=None, context_window=128000, put_inner_thoughts_in_kwargs=True), LLMConfig(model='gpt-4o', model_endpoint_type='openai', model_endpoint='https://api.openai.com/v1', model_wrapper=None, context_window=128000, put_inner_thoughts_in_kwargs=True), LLMConfig(model='gpt-4-turbo-preview', model_endpoint_type='openai', model_endpoint='https://api.openai.com/v1', model_wrapper=None, context_window=128000, put_inner_thoughts_in_kwargs=True), LLMConfig(model='gpt-4-turbo-2024-04-09', model_endpoint_type='openai', model_endpoint='https://api.openai.com/v1', model_wrapper=None, context_window=128000, put_inner_thoughts_in_kwargs=True), LLMConfig(model='gpt-4-turbo', model_endpoint_type='openai', model_endpoint='https://api.openai.com/v1', model_wrapper=None, context_window=8192, put_inner_thoughts_in_kwargs=True), LLMConfig(model='gpt-4-1106-preview', model_endpoint_type='openai', model_endpoint='https://api.openai.com/v1', model_wrapper=None, context_window=128000, put_inner_thoughts_in_kwargs=True), LLMConfig(model='gpt-4-0613', model_endpoint_type='openai', model_endpoint='https://api.openai.com/v1', model_wrapper=None, context_window=8192, put_inner_thoughts_in_kwargs=True), LLMConfig(model='gpt-4-0125-preview', model_endpoint_type='openai', model_endpoint='https://api.openai.com/v1', model_wrapper=None, context_window=128000, put_inner_thoughts_in_kwargs=True), LLMConfig(model='gpt-4', model_endpoint_type='openai', model_endpoint='https://api.openai.com/v1', model_wrapper=None, context_window=8192, put_inner_thoughts_in_kwargs=False), LLMConfig(model='gpt-3.5-turbo-instruct', model_endpoint_type='openai', model_endpoint='https://api.openai.com/v1', model_wrapper=None, context_window=16385, put_inner_thoughts_in_kwargs=True), LLMConfig(model='gpt-3.5-turbo-16k', model_endpoint_type='openai', model_endpoint='https://api.openai.com/v1', model_wrapper=None, context_window=16385, put_inner_thoughts_in_kwargs=True), LLMConfig(model='gpt-3.5-turbo-1106', model_endpoint_type='openai', model_endpoint='https://api.openai.com/v1', model_wrapper=None, context_window=16385, put_inner_thoughts_in_kwargs=True), LLMConfig(model='gpt-3.5-turbo-0125', model_endpoint_type='openai', model_endpoint='https://api.openai.com/v1', model_wrapper=None, context_window=16385, put_inner_thoughts_in_kwargs=True), LLMConfig(model='gpt-3.5-turbo', model_endpoint_type='openai', model_endpoint='https://api.openai.com/v1', model_wrapper=None, context_window=4096, put_inner_thoughts_in_kwargs=True), LLMConfig(model='chatgpt-4o-latest', model_endpoint_type='openai', model_endpoint='https://api.openai.com/v1', model_wrapper=None, context_window=128000, put_inner_thoughts_in_kwargs=True), LLMConfig(model='llama-3.1-8b-instant', model_endpoint_type='groq', model_endpoint='https://api.groq.com/openai/v1', model_wrapper=None, context_window=131072, put_inner_thoughts_in_kwargs=True), LLMConfig(model='whisper-large-v3-turbo', model_endpoint_type='groq', model_endpoint='https://api.groq.com/openai/v1', model_wrapper=None, context_window=448, put_inner_thoughts_in_kwargs=True), LLMConfig(model='llama3-groq-8b-8192-tool-use-preview', model_endpoint_type='groq', model_endpoint='https://api.groq.com/openai/v1', model_wrapper=None, context_window=8192, put_inner_thoughts_in_kwargs=True), LLMConfig(model='llama-3.2-3b-preview', model_endpoint_type='groq', model_endpoint='https://api.groq.com/openai/v1', model_wrapper=None, context_window=8192, put_inner_thoughts_in_kwargs=True), LLMConfig(model='mixtral-8x7b-32768', model_endpoint_type='groq', model_endpoint='https://api.groq.com/openai/v1', model_wrapper=None, context_window=32768, put_inner_thoughts_in_kwargs=True), LLMConfig(model='llama3-groq-70b-8192-tool-use-preview', model_endpoint_type='groq', model_endpoint='https://api.groq.com/openai/v1', model_wrapper=None, context_window=8192, put_inner_thoughts_in_kwargs=True), LLMConfig(model='distil-whisper-large-v3-en', model_endpoint_type='groq', model_endpoint='https://api.groq.com/openai/v1', model_wrapper=None, context_window=448, put_inner_thoughts_in_kwargs=True), LLMConfig(model='llama-3.1-70b-versatile', model_endpoint_type='groq', model_endpoint='https://api.groq.com/openai/v1', model_wrapper=None, context_window=32768, put_inner_thoughts_in_kwargs=True), LLMConfig(model='llama3-70b-8192', model_endpoint_type='groq', model_endpoint='https://api.groq.com/openai/v1', model_wrapper=None, context_window=8192, put_inner_thoughts_in_kwargs=True), LLMConfig(model='llama-3.2-11b-vision-preview', model_endpoint_type='groq', model_endpoint='https://api.groq.com/openai/v1', model_wrapper=None, context_window=8192, put_inner_thoughts_in_kwargs=True), LLMConfig(model='llama3-8b-8192', model_endpoint_type='groq', model_endpoint='https://api.groq.com/openai/v1', model_wrapper=None, context_window=8192, put_inner_thoughts_in_kwargs=True), LLMConfig(model='llama-3.2-90b-vision-preview', model_endpoint_type='groq', model_endpoint='https://api.groq.com/openai/v1', model_wrapper=None, context_window=8192, put_inner_thoughts_in_kwargs=True), LLMConfig(model='llava-v1.5-7b-4096-preview', model_endpoint_type='groq', model_endpoint='https://api.groq.com/openai/v1', model_wrapper=None, context_window=4096, put_inner_thoughts_in_kwargs=True), LLMConfig(model='gemma2-9b-it', model_endpoint_type='groq', model_endpoint='https://api.groq.com/openai/v1', model_wrapper=None, context_window=8192, put_inner_thoughts_in_kwargs=True), LLMConfig(model='llama-3.2-11b-text-preview', model_endpoint_type='groq', model_endpoint='https://api.groq.com/openai/v1', model_wrapper=None, context_window=8192, put_inner_thoughts_in_kwargs=True), LLMConfig(model='llama-3.2-1b-preview', model_endpoint_type='groq', model_endpoint='https://api.groq.com/openai/v1', model_wrapper=None, context_window=8192, put_inner_thoughts_in_kwargs=True), LLMConfig(model='llama-guard-3-8b', model_endpoint_type='groq', model_endpoint='https://api.groq.com/openai/v1', model_wrapper=None, context_window=8192, put_inner_thoughts_in_kwargs=True), LLMConfig(model='whisper-large-v3', model_endpoint_type='groq', model_endpoint='https://api.groq.com/openai/v1', model_wrapper=None, context_window=448, put_inner_thoughts_in_kwargs=True), LLMConfig(model='gemma-7b-it', model_endpoint_type='groq', model_endpoint='https://api.groq.com/openai/v1', model_wrapper=None, context_window=8192, put_inner_thoughts_in_kwargs=True), LLMConfig(model='llama-3.2-90b-text-preview', model_endpoint_type='groq', model_endpoint='https://api.groq.com/openai/v1', model_wrapper=None, context_window=8192, put_inner_thoughts_in_kwargs=True)]"
   ]
  },
  {
   "cell_type": "code",
   "execution_count": null,
   "id": "3d5e33fd-d8cc-43a6-9858-ae6cac161c68",
   "metadata": {
    "scrolled": true
   },
   "outputs": [],
   "source": [
    "for idx, model in enumerate(llm_lists):\n",
    "    print(f\"{idx} : {model.model} : {model.model_endpoint_type}\")"
   ]
  },
  {
   "cell_type": "code",
   "execution_count": 24,
   "id": "b5fdab5b-b71d-40d4-b993-bc77bf881987",
   "metadata": {},
   "outputs": [],
   "source": [
    "from letta.schemas.embedding_config import EmbeddingConfig\n",
    "\n",
    "hf_embed = EmbeddingConfig(embedding_model=\"letta-free\", embedding_endpoint_type=\"hugging-face\", embedding_dim=1024, embedding_chunk_size=300, embedding_endpoint=\"https://embeddings.memgpt.ai\")"
   ]
  },
  {
   "cell_type": "code",
   "execution_count": 25,
   "id": "8820cf03-25a2-487e-94df-2732b3ea9f9b",
   "metadata": {},
   "outputs": [],
   "source": [
    "from letta.schemas.memory import ChatMemory\n",
    "\n",
    "names = [\n",
    "    \"Liam\", \"Mila\", \"Noah\", \"Lily\", \"Owen\", \"Luna\", \"Jack\", \n",
    "    \"Ella\", \"Evan\", \"Zara\", \"Mary\", \"Nora\", \"Leah\", \"Ruby\", \n",
    "    \"John\", \"Finn\", \"Alex\", \"Eli\", \"Abby\"\n",
    "]\n",
    "\n",
    "memory_chat_list = [ChatMemory(human=f\"My name is {n}\", \n",
    "                               persona=\"Understand the requirement from the user and provide assstance and support\") for n in names]\n",
    "                                        "
   ]
  },
  {
   "cell_type": "code",
   "execution_count": 30,
   "id": "8c10274a-6872-4fee-8d7e-958df43e5d4c",
   "metadata": {},
   "outputs": [
    {
     "data": {
      "text/plain": [
       "ChatMemory(memory={'persona': Block(value='Understand the requirement from the user and provide assstance and support', limit=2000, template_name=None, template=False, label='persona', description=None, metadata_={}, user_id=None, id='block-5dce8ffb-a555-4b0a-bf2c-47ea1cf7d030'), 'human': Block(value='My name is Abby', limit=2000, template_name=None, template=False, label='human', description=None, metadata_={}, user_id=None, id='block-1adfa992-64b7-4f69-a503-c39639d68f02')}, prompt_template='{% for block in memory.values() %}<{{ block.label }} characters=\"{{ block.value|length }}/{{ block.limit }}\">\\n{{ block.value }}\\n</{{ block.label }}>{% if not loop.last %}\\n{% endif %}{% endfor %}')"
      ]
     },
     "execution_count": 30,
     "metadata": {},
     "output_type": "execute_result"
    }
   ],
   "source": [
    "memory_chat_list[18]"
   ]
  },
  {
   "cell_type": "code",
   "execution_count": null,
   "id": "f3314737-c058-45bb-b296-58f6d3635c1e",
   "metadata": {},
   "outputs": [],
   "source": [
    "agent_created = []\n",
    "for idx in range(19, 39):\n",
    "    print(f\"Working on {names[idx-19]}\")\n",
    "    print(f\"Working with {llm_lists[idx]}\")\n",
    "    agent_created.append(client.create_agent(name=f\"{names[idx - 19]}\",\n",
    "                                            memory=memory_chat_list[idx - 19],\n",
    "                                            llm_config=llm_lists[idx],\n",
    "                                            embedding_config=hf_embed))"
   ]
  },
  {
   "cell_type": "code",
   "execution_count": 36,
   "id": "b3e41c48-0a92-4cb2-9ebf-140b7f362866",
   "metadata": {},
   "outputs": [],
   "source": [
    "your_source = client.list_sources()[1]"
   ]
  },
  {
   "cell_type": "code",
   "execution_count": null,
   "id": "8cce14b6-1e28-41d5-8c42-bbe0a6910ce8",
   "metadata": {},
   "outputs": [],
   "source": [
    "for agent in agent_created:\n",
    "    client.attach_source_to_agent(agent_id=agent.id, source_id=your_source.id)"
   ]
  },
  {
   "cell_type": "code",
   "execution_count": null,
   "id": "05ce8c7a-7745-429b-a812-e22109d33d43",
   "metadata": {},
   "outputs": [],
   "source": [
    "from time import sleep\n",
    "\n",
    "for agent in agent_created[3:]:\n",
    "    try:\n",
    "        print(f\"Asking {agent.name}\")\n",
    "        resp = client.send_message(\n",
    "            agent_id=agent.id,\n",
    "            message=\"Search archival for company vacation policies\",\n",
    "            role=\"user\"\n",
    "        )\n",
    "        sleep(5)\n",
    "    except Exception as e:\n",
    "        print(e)"
   ]
  },
  {
   "cell_type": "code",
   "execution_count": 5,
   "id": "cc14307b-7cc9-42ea-8216-a11f4454868c",
   "metadata": {},
   "outputs": [],
   "source": [
    "# all agents deleted\n",
    "all_agents = client.list_agents()\n",
    "for agent in all_agents[2:]:\n",
    "    client.delete_agent(agent_id=agent.id)"
   ]
  },
  {
   "cell_type": "code",
   "execution_count": null,
   "id": "52481811-2bc1-4d45-993d-29d35e0f8891",
   "metadata": {},
   "outputs": [],
   "source": []
  }
 ],
 "metadata": {
  "kernelspec": {
   "display_name": "lettaenv",
   "language": "python",
   "name": "lettaenv"
  },
  "language_info": {
   "codemirror_mode": {
    "name": "ipython",
    "version": 3
   },
   "file_extension": ".py",
   "mimetype": "text/x-python",
   "name": "python",
   "nbconvert_exporter": "python",
   "pygments_lexer": "ipython3",
   "version": "3.10.12"
  }
 },
 "nbformat": 4,
 "nbformat_minor": 5
}
