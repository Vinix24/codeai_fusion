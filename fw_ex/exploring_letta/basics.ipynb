{
 "cells": [
  {
   "cell_type": "code",
   "execution_count": 32,
   "id": "80b5880d-6607-418b-9ae2-ba0eca9fb156",
   "metadata": {},
   "outputs": [],
   "source": [
    "from letta import create_client\n",
    "\n",
    "client = create_client()"
   ]
  },
  {
   "cell_type": "code",
   "execution_count": 3,
   "id": "c857eea6-eb64-4cdc-91cc-55e602fa862a",
   "metadata": {},
   "outputs": [],
   "source": [
    "from letta import LLMConfig, EmbeddingConfig"
   ]
  },
  {
   "cell_type": "code",
   "execution_count": 6,
   "id": "fc482b83-3596-4cb7-8ad8-1f603e7b6a12",
   "metadata": {},
   "outputs": [],
   "source": [
    "client.set_default_llm_config(LLMConfig.default_config(\"gpt-4o-mini\")) \n",
    "\n",
    "client.set_default_embedding_config(EmbeddingConfig.default_config(\"text-embedding-ada-002\")) "
   ]
  },
  {
   "cell_type": "code",
   "execution_count": 13,
   "id": "011fabce-8551-407a-998c-b618972118fc",
   "metadata": {},
   "outputs": [],
   "source": [
    "agent_name = \"simple_agent\""
   ]
  },
  {
   "cell_type": "code",
   "execution_count": 14,
   "id": "3f7c8a87-269c-4072-860a-830fdd2bed95",
   "metadata": {},
   "outputs": [],
   "source": [
    "from letta.schemas.llm_config import LLMConfig\n",
    "\n",
    "mixtral = LLMConfig(model=\"mixtral-8x7b-32768\", model_endpoint_type=\"groq\",context_window=32768)"
   ]
  },
  {
   "cell_type": "code",
   "execution_count": 19,
   "id": "acf93e85-ab58-452c-adb8-02211c3a2d10",
   "metadata": {},
   "outputs": [],
   "source": [
    "from letta.schemas.embedding_config import EmbeddingConfig\n",
    "\n",
    "hf_embed = EmbeddingConfig(embedding_model=\"letta-free\", embedding_endpoint_type=\"hugging-face\", embedding_dim=1024, embedding_chunk_size=300, embedding_endpoint=\"https://embeddings.memgpt.ai\")"
   ]
  },
  {
   "cell_type": "code",
   "execution_count": 20,
   "id": "3e179a7f-0cdf-420a-b13a-c4857fc91ca6",
   "metadata": {},
   "outputs": [],
   "source": [
    "from letta.schemas.memory import ChatMemory\n",
    "agent_state = client.create_agent(name=agent_name,\n",
    "                                  memory=ChatMemory(\n",
    "                                      human=\"My name is Silo\",\n",
    "                                      persona=\"Make emojis and enjoying life, that is your persona\"\n",
    "                                  ),llm_config=mixtral, embedding_config=hf_embed\n",
    "                                 )"
   ]
  },
  {
   "cell_type": "code",
   "execution_count": null,
   "id": "9372581d-c0ab-46a9-be7e-006071ab8a90",
   "metadata": {},
   "outputs": [],
   "source": [
    "response = client.send_message(\n",
    "    agent_id=agent_state.id,\n",
    "    message=\"How is the world\",\n",
    "    role=\"user\"\n",
    ")"
   ]
  },
  {
   "cell_type": "markdown",
   "id": "8cd6c3f1-a80e-4856-9db0-215b19d4a792",
   "metadata": {},
   "source": [
    "Letta agents are stateful and are defined by:\n",
    "\n",
    "The system prompt defining the agent's behavior (read-only)\n",
    "The set of tools they have access to\n",
    "Their memory (core, archival, & recall)"
   ]
  },
  {
   "cell_type": "code",
   "execution_count": 22,
   "id": "53bf992c-1aef-4401-8843-0fe279fb4eba",
   "metadata": {},
   "outputs": [
    {
     "name": "stdout",
     "output_type": "stream",
     "text": [
      "AgentType.memgpt_agent\n"
     ]
    }
   ],
   "source": [
    "print(agent_state.agent_type)"
   ]
  },
  {
   "cell_type": "code",
   "execution_count": 23,
   "id": "a9609ad1-3769-4b52-bec9-67c3c47aa99a",
   "metadata": {},
   "outputs": [
    {
     "name": "stdout",
     "output_type": "stream",
     "text": [
      "agent-fc76d2d7-608b-4a64-90ee-46b59e3bfd24\n"
     ]
    }
   ],
   "source": [
    "print(agent_state.id)"
   ]
  },
  {
   "cell_type": "code",
   "execution_count": null,
   "id": "39a07291-ff19-4112-b013-18980d4ad72b",
   "metadata": {},
   "outputs": [],
   "source": [
    "print(agent_state.system)"
   ]
  },
  {
   "cell_type": "code",
   "execution_count": 25,
   "id": "80aa9f66-3a88-4100-819a-9fa801338a60",
   "metadata": {},
   "outputs": [
    {
     "data": {
      "text/plain": [
       "['send_message',\n",
       " 'conversation_search',\n",
       " 'conversation_search_date',\n",
       " 'archival_memory_insert',\n",
       " 'archival_memory_search',\n",
       " 'core_memory_append',\n",
       " 'core_memory_replace']"
      ]
     },
     "execution_count": 25,
     "metadata": {},
     "output_type": "execute_result"
    }
   ],
   "source": [
    "agent_state.tools"
   ]
  },
  {
   "cell_type": "code",
   "execution_count": 33,
   "id": "36c594fe-9dfa-4e52-9c52-924936bc3cce",
   "metadata": {},
   "outputs": [],
   "source": [
    "agents = client.list_agents()"
   ]
  },
  {
   "cell_type": "code",
   "execution_count": 37,
   "id": "57bcd4b9-51ba-4343-be5a-e13f3fc638d9",
   "metadata": {},
   "outputs": [],
   "source": [
    "agent1 = agents[1]"
   ]
  },
  {
   "cell_type": "code",
   "execution_count": 41,
   "id": "91772043-8e3d-4910-9392-0ec173920ff5",
   "metadata": {},
   "outputs": [],
   "source": [
    "response_openai = client.send_message(\n",
    "    agent_id=agent1.id,\n",
    "    message=\"Hey there\",\n",
    "    role=\"user\"\n",
    ")"
   ]
  },
  {
   "cell_type": "code",
   "execution_count": 39,
   "id": "ce9255da-75cb-4bcd-b3b0-8fc5587cb9e4",
   "metadata": {},
   "outputs": [
    {
     "data": {
      "text/plain": [
       "'groqagent'"
      ]
     },
     "execution_count": 39,
     "metadata": {},
     "output_type": "execute_result"
    }
   ],
   "source": [
    "agent1.name"
   ]
  },
  {
   "cell_type": "code",
   "execution_count": 42,
   "id": "bbe3c372-f85d-40e3-84af-9312f3b3b1fc",
   "metadata": {},
   "outputs": [
    {
     "data": {
      "text/html": [
       "\n",
       "        <style>\n",
       "            .message-container, .usage-container {\n",
       "                font-family: 'Segoe UI', Tahoma, Geneva, Verdana, sans-serif;\n",
       "                max-width: 800px;\n",
       "                margin: 20px auto;\n",
       "                background-color: #1e1e1e;\n",
       "                border-radius: 8px;\n",
       "                overflow: hidden;\n",
       "                color: #d4d4d4;\n",
       "            }\n",
       "            .message, .usage-stats {\n",
       "                padding: 10px 15px;\n",
       "                border-bottom: 1px solid #3a3a3a;\n",
       "            }\n",
       "            .message:last-child, .usage-stats:last-child {\n",
       "                border-bottom: none;\n",
       "            }\n",
       "            .title {\n",
       "                font-weight: bold;\n",
       "                margin-bottom: 5px;\n",
       "                color: #ffffff;\n",
       "                text-transform: uppercase;\n",
       "                font-size: 0.9em;\n",
       "            }\n",
       "            .content {\n",
       "                background-color: #2d2d2d;\n",
       "                border-radius: 4px;\n",
       "                padding: 5px 10px;\n",
       "                font-family: 'Consolas', 'Courier New', monospace;\n",
       "                white-space: pre-wrap;\n",
       "            }\n",
       "            .json-key, .function-name, .json-boolean { color: #9cdcfe; }\n",
       "            .json-string { color: #ce9178; }\n",
       "            .json-number { color: #b5cea8; }\n",
       "            .internal-monologue { font-style: italic; }\n",
       "        </style>\n",
       "        <div class=\"message-container\">\n",
       "        \n",
       "            <div class=\"message\">\n",
       "                <div class=\"title\">INTERNAL MONOLOGUE</div>\n",
       "                <div class=\"content\"><span class=\"internal-monologue\">Greeting the user and inviting them to share their thoughts, maintaining a friendly and engaging persona.</span></div>\n",
       "            </div>\n",
       "            \n",
       "            <div class=\"message\">\n",
       "                <div class=\"title\">FUNCTION CALL</div>\n",
       "                <div class=\"content\"><span class=\"function-name\">send_message</span>({<br>&nbsp;&nbsp;<span class=\"json-key\">\"message\"</span>: <span class=\"json-string\">\"Hello! What's on your mind?\"</span><br>})</div>\n",
       "            </div>\n",
       "            \n",
       "            <div class=\"message\">\n",
       "                <div class=\"title\">FUNCTION RETURN</div>\n",
       "                <div class=\"content\">{<br>&nbsp;&nbsp;<span class=\"json-key\">\"status\"</span>: <span class=\"json-key\">\"OK\",<br>&nbsp;&nbsp;\"message\"</span>: <span class=\"json-key\">\"None\",<br>&nbsp;&nbsp;\"time\"</span>: <span class=\"json-string\">\"2024-11-12 05:50:01 PM IST+0530\"</span><br>}</div>\n",
       "            </div>\n",
       "            </div>\n",
       "        <div class=\"usage-container\">\n",
       "            <div class=\"usage-stats\">\n",
       "                <div class=\"title\">USAGE STATISTICS</div>\n",
       "                <div class=\"content\">{<br>&nbsp;&nbsp;<span class=\"json-key\">\"completion_tokens\"</span>: <span class=\"json-number\">86</span>,<br>&nbsp;&nbsp;<span class=\"json-key\">\"prompt_tokens\"</span>: <span class=\"json-number\">8791</span>,<br>&nbsp;&nbsp;<span class=\"json-key\">\"total_tokens\"</span>: <span class=\"json-number\">8877</span>,<br>&nbsp;&nbsp;<span class=\"json-key\">\"step_count\"</span>: <span class=\"json-number\">1</span><br>}</div>\n",
       "            </div>\n",
       "        </div>\n",
       "        "
      ],
      "text/plain": [
       "LettaResponse(messages=[InternalMonologue(id='message-73813a70-7143-419c-b91e-fc1e27b423bf', date=datetime.datetime(2024, 11, 12, 12, 20, 1, 84373, tzinfo=datetime.timezone.utc), message_type='internal_monologue', internal_monologue='Greeting the user and inviting them to share their thoughts, maintaining a friendly and engaging persona.'), FunctionCallMessage(id='message-73813a70-7143-419c-b91e-fc1e27b423bf', date=datetime.datetime(2024, 11, 12, 12, 20, 1, 84373, tzinfo=datetime.timezone.utc), message_type='function_call', function_call=FunctionCall(name='send_message', arguments='{\\n  \"message\": \"Hello! What\\'s on your mind?\"\\n}', function_call_id='call_8sr2')), FunctionReturn(id='message-717a6f0b-342f-4a2b-8b44-b10c215f5865', date=datetime.datetime(2024, 11, 12, 12, 20, 1, 84826, tzinfo=datetime.timezone.utc), message_type='function_return', function_return='{\\n  \"status\": \"OK\",\\n  \"message\": \"None\",\\n  \"time\": \"2024-11-12 05:50:01 PM IST+0530\"\\n}', status='success', function_call_id='call_8sr2')], usage=LettaUsageStatistics(completion_tokens=86, prompt_tokens=8791, total_tokens=8877, step_count=1))"
      ]
     },
     "execution_count": 42,
     "metadata": {},
     "output_type": "execute_result"
    }
   ],
   "source": [
    "response_openai"
   ]
  }
 ],
 "metadata": {
  "kernelspec": {
   "display_name": "lettaenv",
   "language": "python",
   "name": "lettaenv"
  },
  "language_info": {
   "codemirror_mode": {
    "name": "ipython",
    "version": 3
   },
   "file_extension": ".py",
   "mimetype": "text/x-python",
   "name": "python",
   "nbconvert_exporter": "python",
   "pygments_lexer": "ipython3",
   "version": "3.10.12"
  }
 },
 "nbformat": 4,
 "nbformat_minor": 5
}
